{
 "cells": [
  {
   "cell_type": "markdown",
   "metadata": {},
   "source": [
    "# FP Notebook "
   ]
  },
  {
   "cell_type": "code",
   "execution_count": 5,
   "metadata": {
    "collapsed": true
   },
   "outputs": [],
   "source": [
    "import sys\n",
    "import os\n",
    "import pandas as pd\n",
    "import numpy as np\n",
    "import tensorflow as tf\n",
    "\n",
    "from fp_drc     import fpDataModel\n",
    "\n",
    "n_input     = 969   # data input: FRAL\n",
    "n_classes   = 100   # total classes \n",
    "batch_size  = 128\n"
   ]
  },
  {
   "cell_type": "markdown",
   "metadata": {},
   "source": [
    "## read data \n",
    "\n",
    "_I CAN'T DO BACK NAVIGATION IN JUPYTER!_"
   ]
  },
  {
   "cell_type": "code",
   "execution_count": 11,
   "metadata": {},
   "outputs": [],
   "source": [
    "\n",
    "ALL_DS      = \"../../knime-workspace/Data/FP/TFFRFL_ALSN.csv\"\n",
    "# dataClass = fpDataModel( path= ALL_DS, norm = '', batch_size = 128, dType=\"classN\", labelCol = 'FP_C', dataCol = 4,   nC=n_classes, nRange=3, toList = True )\n",
    "# dataTrain,  dataTest =  dataClass.get_data( ) \n",
    "# print(dataTest)\n",
    "\n"
   ]
  },
  {
   "cell_type": "code",
   "execution_count": 9,
   "metadata": {},
   "outputs": [
    {
     "name": "stdout",
     "output_type": "stream",
     "text": [
      "     30    4  setosa  versicolor  virginica\n",
      "0   5.9  3.0     4.2         1.5          1\n",
      "1   6.9  3.1     5.4         2.1          2\n",
      "2   5.1  3.3     1.7         0.5          0\n",
      "3   6.0  3.4     4.5         1.6          1\n",
      "4   5.5  2.5     4.0         1.3          1\n",
      "5   6.2  2.9     4.3         1.3          1\n",
      "6   5.5  4.2     1.4         0.2          0\n",
      "7   6.3  2.8     5.1         1.5          2\n",
      "8   5.6  3.0     4.1         1.3          1\n",
      "9   6.7  2.5     5.8         1.8          2\n",
      "10  7.1  3.0     5.9         2.1          2\n",
      "11  4.3  3.0     1.1         0.1          0\n",
      "12  5.6  2.8     4.9         2.0          2\n",
      "13  5.5  2.3     4.0         1.3          1\n",
      "14  6.0  2.2     4.0         1.0          1\n",
      "15  5.1  3.5     1.4         0.2          0\n",
      "16  5.7  2.6     3.5         1.0          1\n",
      "17  4.8  3.4     1.9         0.2          0\n",
      "18  5.1  3.4     1.5         0.2          0\n",
      "19  5.7  2.5     5.0         2.0          2\n",
      "20  5.4  3.4     1.7         0.2          0\n",
      "21  5.6  3.0     4.5         1.5          1\n",
      "22  6.3  2.9     5.6         1.8          2\n",
      "23  6.3  2.5     4.9         1.5          1\n",
      "24  5.8  2.7     3.9         1.2          1\n",
      "25  6.1  3.0     4.6         1.4          1\n",
      "26  5.2  4.1     1.5         0.1          0\n",
      "27  6.7  3.1     4.7         1.5          1\n",
      "28  6.7  3.3     5.7         2.5          2\n",
      "29  6.4  2.9     4.3         1.3          1\n"
     ]
    }
   ],
   "source": [
    "\n",
    "dst  =  pd.read_csv( tf.gfile.Open('./iris_test.csv'), sep=None, skipinitialspace=True,  engine=\"python\")\n",
    "print(dst)"
   ]
  },
  {
   "cell_type": "code",
   "execution_count": null,
   "metadata": {
    "collapsed": true
   },
   "outputs": [],
   "source": []
  }
 ],
 "metadata": {
  "kernelspec": {
   "display_name": "Python 3",
   "language": "python",
   "name": "python3"
  },
  "language_info": {
   "codemirror_mode": {
    "name": "ipython",
    "version": 3
   },
   "file_extension": ".py",
   "mimetype": "text/x-python",
   "name": "python",
   "nbconvert_exporter": "python",
   "pygments_lexer": "ipython3",
   "version": "3.5.2"
  }
 },
 "nbformat": 4,
 "nbformat_minor": 2
}
