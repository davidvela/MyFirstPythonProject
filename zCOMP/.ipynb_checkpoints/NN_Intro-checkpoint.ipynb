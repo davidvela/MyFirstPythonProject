{
 "cells": [
  {
   "cell_type": "markdown",
   "metadata": {},
   "source": [
    "# NN Introduction\n",
    "\n",
    "Index: \n",
    "* definition\n",
    "* [basic example - 1N](#basic_1N)\n",
    "* [Sensitive analysis](#sentiment)\n",
    "* Sym - case \n",
    "\n",
    "\n",
    "## Definition \n",
    "A **Neural Network** is a system composed of many simple processing elements operating in parallel which can acquire, store and utilize experimental knowledge. \n",
    "\n",
    "![nn](./assets/NN.PNG)\n"
   ]
  },
  {
   "cell_type": "code",
   "execution_count": 3,
   "metadata": {},
   "outputs": [],
   "source": [
    "from IPython.display import Image\n",
    "# Image(\"./assets/NN.PNG\")"
   ]
  },
  {
   "cell_type": "code",
   "execution_count": 2,
   "metadata": {
    "collapsed": true
   },
   "outputs": [],
   "source": [
    "import numpy as np \n",
    "import matplotlib.pyplot as plt \n",
    "import tensorflow as tf\n",
    "%matplotlib inline\n",
    "\n"
   ]
  },
  {
   "cell_type": "markdown",
   "metadata": {},
   "source": [
    "## basic example <a id='basic_1N'></a>"
   ]
  },
  {
   "cell_type": "code",
   "execution_count": 20,
   "metadata": {
    "collapsed": true
   },
   "outputs": [],
   "source": [
    "# generate data \n",
    "lr = 0.001\n",
    "n_samples = 99\n",
    "X_input = np.linspace(- 1 , 1 , 100)\n",
    "Y_input = X_input * 3 + np.random.randn( X_input.shape[ 0 ]) * 0.5\n",
    "\n",
    "# Enter one outlayer\n",
    "# X_input = np.append(X_input, 0.5)\n",
    "# Y_input = np.append(Y_input, 50)\n",
    "\n",
    "data = np.column_stack((X_input, Y_input))\n",
    "\n"
   ]
  },
  {
   "cell_type": "code",
   "execution_count": 21,
   "metadata": {
    "collapsed": true
   },
   "outputs": [],
   "source": [
    "X = tf.placeholder(tf.float32, name='X')\n",
    "Y = tf.placeholder(tf.float32, name='Y')\n",
    "w = tf.Variable(0.0, name='weights')\n",
    "b = tf.Variable(0.0, name='bias')\n",
    "Y_predicted = X * w + b \n",
    "\n",
    "loss = tf.square(Y - Y_predicted, name='loss')\n",
    "optimizer = tf.train.GradientDescentOptimizer(learning_rate=lr).minimize(loss)\n",
    "\n",
    "y_mean = tf.reduce_mean(Y)\n",
    "total_error = tf.reduce_sum(tf.square(tf.subtract(Y, tf.reduce_mean(Y))))\n",
    "unexplained_error = tf.reduce_sum(tf.square(tf.subtract(Y, Y_predicted)))\n",
    "R_squared = tf.subtract(tf.to_float(1), tf.div(total_error, unexplained_error))"
   ]
  },
  {
   "cell_type": "code",
   "execution_count": 25,
   "metadata": {},
   "outputs": [
    {
     "name": "stdout",
     "output_type": "stream",
     "text": [
      "m = 0.0 and b = 0.0\n",
      "Epoch: 0 = L: 3.3130181724544387\n",
      "Epoch: 10 = L: 1.0452124081138108\n",
      "Epoch: 20 = L: 0.46227008474384185\n",
      "Epoch: 30 = L: 0.3123000438744467\n",
      "Epoch: 40 = L: 0.2738122242890772\n",
      "Epoch: 50 = L: 0.26393643909571923\n",
      "Epoch: 60 = L: 0.261399502666026\n",
      "Epoch: 70 = L: 0.2607460001807781\n",
      "Epoch: 80 = L: 0.2605766333177414\n",
      "Epoch: 90 = L: 0.2605322977201605\n",
      "m = 3.0757975578308105 and b = 0.09573398530483246\n"
     ]
    }
   ],
   "source": [
    "# Prediction\n",
    "with tf.Session() as sess:\n",
    "    sess.run(tf.global_variables_initializer()) \n",
    "    w_value, b_value = sess.run([w, b]) \n",
    "    print('m = {} and b = {}' .format(w_value, b_value))\n",
    "    \n",
    "    for i in range(100):\n",
    "        total_loss = 0\n",
    "        for x, y in data:\n",
    "            _, l = sess.run([optimizer, loss ], feed_dict={X: x, Y:y}) \n",
    "            total_loss += l\n",
    "        if(i%10 == 0):\n",
    "            print('Epoch: {} = L: {}' .format(i, total_loss/n_samples) )\n",
    "        \n",
    "#         R2 = sess.run([R_squared], feed_dict={X: data[0], Y:data[1]}) \n",
    "#         print(R2 )\n",
    "    w_value, b_value = sess.run([w, b]) \n",
    "\n",
    "    print('m = {} and b = {}' .format(w_value, b_value))\n"
   ]
  },
  {
   "cell_type": "code",
   "execution_count": 27,
   "metadata": {},
   "outputs": [
    {
     "data": {
      "image/png": "[encoded data removed]",
      "text/plain": [
       "<matplotlib.figure.Figure at 0xa994a58>"
      ]
     },
     "metadata": {},
     "output_type": "display_data"
    }
   ],
   "source": [
    "X, Y = data.T[0], data.T[1]\n",
    "plt.plot(X, Y, 'bo', label='Real data')\n",
    "plt.plot(X, X * w_value + b_value, 'r', label='Predicted data')\n",
    "plt.legend()\n",
    "plt.show()\n"
   ]
  },
  {
   "cell_type": "markdown",
   "metadata": {
    "collapsed": true
   },
   "source": [
    "## Sentiment analysis <a id='sentiment'></a>"
   ]
  },
  {
   "cell_type": "markdown",
   "metadata": {
    "collapsed": true
   },
   "source": [
    "summary: \n",
    "1. theory validation - make sure that  the assumptions are correct \n",
    "2. transforming text to number - 1 input -> 1 word \n",
    "3. building NN \n",
    "4. Reducing noise by UNDERSTANDING Neural noise. \n",
    "5. Optimizing network \n",
    "6. Further noise reduction - reducing vocabulary\n",
    "\n",
    "\n",
    "\n"
   ]
  },
  {
   "cell_type": "code",
   "execution_count": null,
   "metadata": {
    "collapsed": true
   },
   "outputs": [],
   "source": []
  }
 ],
 "metadata": {
  "kernelspec": {
   "display_name": "Python 3",
   "language": "python",
   "name": "python3"
  },
  "language_info": {
   "codemirror_mode": {
    "name": "ipython",
    "version": 3
   },
   "file_extension": ".py",
   "mimetype": "text/x-python",
   "name": "python",
   "nbconvert_exporter": "python",
   "pygments_lexer": "ipython3",
   "version": "3.5.4"
  }
 },
 "nbformat": 4,
 "nbformat_minor": 2
}
