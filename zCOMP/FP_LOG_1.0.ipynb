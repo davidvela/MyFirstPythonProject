{
 "cells": [
  {
   "cell_type": "markdown",
   "metadata": {},
   "source": [
    "# FP\n",
    "Start writing all my logic in jupyter notebook in order to run them from anaconda! <br>\n",
    "** IMPORTANT ** <br>\n",
    "the network cell should only be intialize once! otherwise the program start creating indexes for the variables!!!! \n",
    "\n",
    "## index: \n",
    "<a id='index'/>\n",
    "\n",
    "1. READ DATA \n",
    "    * Class \n",
    "    * files \n",
    "2. [Model](#model)\n",
    "3. [Train](#tr) \n",
    "4. [Evaluate](#ev) \n",
    "5. [Test](#ts) \n",
    "6. [Other](#o)\n",
    "\n",
    "[go back](#index)\n"
   ]
  },
  {
   "cell_type": "code",
   "execution_count": 1,
   "metadata": {
    "collapsed": true
   },
   "outputs": [],
   "source": [
    "import pandas as pd \n",
    "import tensorflow as tf \n",
    "import numpy as np \n",
    "\n",
    "import requests\n",
    "import json\n",
    "import sys\n",
    "import os\n",
    "from types import *\n",
    "from collections import Counter"
   ]
  },
  {
   "cell_type": "markdown",
   "metadata": {},
   "source": [
    "# Read Data"
   ]
  },
  {
   "cell_type": "code",
   "execution_count": 3,
   "metadata": {
    "collapsed": true
   },
   "outputs": [],
   "source": [
    "#read data => class - COM or FP input // output - CAT 100 or 4! \n",
    "class fpDataModel:\n",
    "    def __init__(self, path, norm, batch_size, dType, labelCol, dataCol = 4, nC=100, nRange=1 , toList = True):\n",
    "        self.path           = path\n",
    "        self.norm           = norm\n",
    "        self.batch_size     = batch_size\n",
    "        self.dType          = dType\n",
    "        self.labelCol       = labelCol\n",
    "        self.dataCol        = dataCol\n",
    "        self.nC             = nC\n",
    "        self.nRange         = nRange\n",
    "        self.toList         = toList \n",
    "\n",
    "    def next_batch(self, num, data, labels):\n",
    "        idx = np.arange(0 , len(data))\n",
    "        np.random.shuffle(idx)\n",
    "        idx = idx[:num]\n",
    "        data_shuffle = [data[i] for i in idx]\n",
    "        labels_shuffle = [labels[i] for i in idx]\n",
    "\n",
    "        return np.asarray(data_shuffle), np.asarray(labels_shuffle)\n",
    "    \n",
    "    def classif(self, df):\n",
    "        if( df < 40 ): return [0,0,0,1] \n",
    "        elif( df >= 40 and df < 60 ): return [0,0,1,0]\n",
    "        elif( df >= 60 and df < 90 ): return [0,1,0,0] \n",
    "        elif( df >= 90 ): return [1,0,0,0] \n",
    "    def declassif(self, df): \n",
    "        if  ( df == [0,0,0,1] ):   return 1 \n",
    "        elif( df == [0,0,1,0] ):   return 2\n",
    "        elif( df == [0,1,0,0] ):   return 3  \n",
    "        elif( df == [1,0,0,0] ):   return 4      \n",
    "    def regress(self, df): #\n",
    "        return [df]\n",
    "    \n",
    "    def classifN(self, df):\n",
    "        listofzeros = [0] * self.nC\n",
    "        dfIndex = df//self.nRange\n",
    "        # print('{} and {}', (df,dfIndex))\n",
    "        if dfIndex < self.nC:\n",
    "            listofzeros[dfIndex] = 1 \n",
    "        return listofzeros\n",
    "    \n",
    "    def deClassifN(self, df, val = 1 ):\n",
    "        return df.index(val)\n",
    "    \n",
    "    def split_lab_dat(self, dst):\n",
    "        cat  = dst.loc[:, self.labelCol]\n",
    "        dat  = dst.iloc[:, self.dataCol:]\n",
    "        if (self.toList): \n",
    "            cat = cat.as_matrix().tolist()\n",
    "            dat = dat.as_matrix().tolist()\n",
    "        return {'label' : cat, 'data' : dat}\n",
    "    \n",
    "    #Get Data\n",
    "    def get_data(self, typeSep = True, pathA = \"\", filter = \"\"):\n",
    "        if pathA != \"\":\n",
    "            dst =  pd.read_csv( tf.gfile.Open(pathA), sep=None, skipinitialspace=True,  engine=\"python\")\n",
    "        else: \n",
    "            dst =  pd.read_csv( tf.gfile.Open(self.path), sep=None, skipinitialspace=True,  engine=\"python\")\n",
    "        \n",
    "        dst = dst.fillna(0)\n",
    "        \n",
    "        if filter == '>23':\n",
    "            dst = dst[dst[\"FP\"]>23]\n",
    "        elif filter == '>60':\n",
    "            dst = dst[dst[\"FP\"]>60]\n",
    "\n",
    "\n",
    "        if self.norm != \"\":\n",
    "            cat_n  = dst.loc[:,'FP'] \n",
    "            dst['FP'] = self.normalization( cat_n )\n",
    "\n",
    "        if   self.dType == 'class':       # Classification in 4 categories\n",
    "            dst.insert(2, 'FP_C', dst['FP'].map(lambda x: self.classif(x)))\n",
    "        elif self.dType == 'reg':       # Regression\n",
    "            dst.insert(2, 'FP_R', dst['FP'].map(lambda x: self.regress(x)))\n",
    "        elif self.dType == 'classN':    # Classification in N categories  \n",
    "            dst.insert(2, 'FP_C', dst['FP'].map(lambda x: self.classifN(x))) \n",
    "        \n",
    "        self.dst = dst\n",
    "\n",
    "        # 3 if no type and 4 if type\n",
    "        if typeSep == True:\n",
    "            dst_tmp = [rows for _, rows in dst.groupby('Type')]\n",
    "            data_e  = self.split_lab_dat(dst_tmp[0])\n",
    "            data_t  = self.split_lab_dat(dst_tmp[1])\n",
    "            return data_t, data_e\n",
    "        else :   return  self.split_lab_dat(dst_tmp[0])\n",
    "    \n",
    "    \n",
    "    \n",
    "    def get_data2(self, colu=\"\", datu=\"\"):\n",
    "        pass\n",
    "    \n",
    "    def set_columns(self, url ):        # set the main data frame from the class: \n",
    "        columns_path = url\n",
    "        self.col_df = pd.read_csv(columns_path, index_col=0, sep=',', usecols=[0,1,2,3])\n",
    "        return(len(self.col_df))\n",
    "        \n",
    "    def feed_data(self, url , type=\"\", d_st = False):\n",
    "        json_df = pd.DataFrame(columns=self.col_df.index) \n",
    "        df_entry = pd.Series(index=self.col_df.index)\n",
    "\n",
    "        df_entry = df_entry.fillna(0) \n",
    "        comp_out_count = Counter()\n",
    "        \n",
    "        if(isinstance(url, list)):json_data = url\n",
    "        else:   \n",
    "            json_str=open(url).read()\n",
    "            json_data = json.loads(json_str)\n",
    "\n",
    "        for i in range(len(json_data)):\n",
    "            df_entry *= 0\n",
    "            m = str(json_data[i][\"m\"])\n",
    "            df_entry.name = m\n",
    "            for key in json_data[i]:\n",
    "                if key == \"m\":  \n",
    "                    pass            \n",
    "                else: \n",
    "                    #key_wz = str(int(key)\n",
    "                    key_wz = key\n",
    "                    try:\n",
    "                        ds_col = self.col_df.loc[key_wz]\n",
    "                        #df_entry.loc[key_wz]\n",
    "                        df_entry[key_wz] =  np.float32(json_data[i][key])\n",
    "                    except: \n",
    "                        if d_st == True: \n",
    "                            print(\"column: {} not included in the input of: {}\" .format(key_wz, m))\n",
    "                        # comp_out_count[key_wz] +=1\n",
    "            json_df = json_df.append(df_entry,ignore_index=False)\n",
    "        # print(\"Counter of comp. not included :\")\n",
    "        # print(len(comp_out_count))\n",
    "        # return json_df  \n",
    "        return json_df.as_matrix().tolist()  \n",
    "\n",
    "\n",
    "    def check_perf(self, lA, lB):\n",
    "        assert(len(lA) == len(lB))\n",
    "        gt3  = 0\n",
    "        gtM = 0\n",
    "        num = 0\n",
    "        for i in range(len(lA)):\n",
    "            num = abs(lA[i]-lB[i])\n",
    "            if num > 3: gt3+=1\n",
    "            if num > 10: gtM+=1\n",
    "        return gt3, gtM\n",
    "    "
   ]
  },
  {
   "cell_type": "code",
   "execution_count": 4,
   "metadata": {
    "collapsed": true
   },
   "outputs": [],
   "source": [
    "#unit tests: \n",
    "ALL_DS     = \"../../_zfp/data/FRFLO/datac.csv\"\n",
    "LAB_DS     = \"../../_zfp/data/FRFLO/datal.csv\"\n",
    "COL_DS     = \"../../_zfp/data/FRFLO/colcom.csv\"\n",
    "\n",
    "col_df = pd.read_csv(COL_DS, index_col=0, sep=',', usecols=[0,1,2,3])\n",
    "# print(col_df)"
   ]
  },
  {
   "cell_type": "code",
   "execution_count": 5,
   "metadata": {
    "collapsed": true
   },
   "outputs": [],
   "source": [
    "# read files\n",
    "n_classes   = 100    \n",
    "\n",
    "xtp1        = []  \n",
    "ytp1        = []\n",
    "\n",
    "LOGDIR      = \"../../_zfp/data/my_graph/0F2CR2/\"\n",
    "ALL_DS     = \"../../_zfp/data/FRFLO/TFFRFLO_ALSN.csv\"\n",
    "\n",
    "model_path  = LOGDIR + \"model.ckpt\"\n",
    "dataClass = fpDataModel( path= ALL_DS, norm = '', batch_size = 128, dType=\"classN\", labelCol = 'FP_C', \n",
    "                         dataCol = 4,   nC=n_classes, nRange=1, toList = True )\n"
   ]
  },
  {
   "cell_type": "code",
   "execution_count": 6,
   "metadata": {},
   "outputs": [
    {
     "name": "stdout",
     "output_type": "stream",
     "text": [
      "data read - lenTrain=4804 - lenTests=4806\n"
     ]
    }
   ],
   "source": [
    "\n",
    "dataTrain,  dataEv =  dataClass.get_data( ) \n",
    "print(\"data read - lenTrain={} - lenTests={}\" .format(len(dataTrain[\"label\"]),len(dataEv[\"label\"]), ))\n"
   ]
  },
  {
   "cell_type": "markdown",
   "metadata": {},
   "source": [
    "# MODEL - NN <a id=\"model\"/>\n",
    "\n",
    "[go back](#index)"
   ]
  },
  {
   "cell_type": "code",
   "execution_count": 6,
   "metadata": {},
   "outputs": [
    {
     "name": "stdout",
     "output_type": "stream",
     "text": [
      "NETWORK\n",
      "done\n"
     ]
    }
   ],
   "source": [
    "print(\"NETWORK\")\n",
    "LOGDIR      = \"../../_zfp/data/my_graph/0F2CRB/\"\n",
    "\n",
    "# Parameters\n",
    "learning_rate = 0.001\n",
    "n_hidden_1  = 256   \n",
    "n_hidden_2  = 256   \n",
    "n_input     = 1814 #1221\n",
    "\n",
    "# cust - network \n",
    "x = tf.placeholder(tf.float32,   shape=[None, n_input],   name=\"x\")\n",
    "y = tf.placeholder(tf.int16,     shape=[None, n_classes], name=\"cat\")\n",
    "\n",
    "weights = {\n",
    "    'h1': tf.Variable(tf.random_normal([n_input, n_hidden_1]),    name=\"Weights_1\"),\n",
    "    'h2': tf.Variable(tf.random_normal([n_hidden_1, n_hidden_2]), name=\"Weights_2\"),\n",
    "    'out': tf.Variable(tf.random_normal([n_hidden_2, n_classes]), name=\"Weights_out\"),\n",
    "}\n",
    "biases = {\n",
    "    'b1': tf.Variable(tf.random_normal([n_hidden_1]), name=\"Bias_1\"),\n",
    "    'b2': tf.Variable(tf.random_normal([n_hidden_2]), name=\"Bias_2\"),\n",
    "    'out': tf.Variable(tf.random_normal([n_classes]), name=\"Bias_out\"),\n",
    "}\n",
    "\n",
    "# Hidden layer with RELU activation\n",
    "with tf.name_scope(\"fc_1\"):\n",
    "    layer_1 = tf.add(tf.matmul(x, weights['h1']), biases['b1'])\n",
    "    layer_1 = tf.nn.relu(layer_1)\n",
    "# Hidden layer with RELU activation\n",
    "with tf.name_scope(\"fc_2\"):\n",
    "    layer_2 = tf.add(tf.matmul(layer_1, weights['h2']), biases['b2'])\n",
    "    layer_2 = tf.nn.relu(layer_2)\n",
    "# Output layer with linear activation\n",
    "with tf.name_scope(\"fc_output\"):\n",
    "    pred = tf.matmul(layer_2, weights['out']) + biases['out']\n",
    "\n",
    "# - declaration of model and global attributes \n",
    "# pred = multilayer_perceptron(x, weights, biases)\n",
    "\n",
    "softmaxT = tf.nn.softmax(pred, )\n",
    "prediction=tf.reduce_max(y,1)\n",
    "\n",
    "with tf.name_scope(\"accuracy\"):\n",
    "    correct_prediction = tf.equal(tf.argmax(pred, 1), tf.argmax(y, 1))\n",
    "    accuracy = tf.reduce_mean(tf.cast(correct_prediction, tf.float32))\n",
    "    tf.summary.scalar(\"accuracy\", accuracy)\n",
    "\n",
    "with tf.name_scope(\"xent\"):\n",
    "    cost = tf.reduce_mean(tf.nn.softmax_cross_entropy_with_logits(logits=pred, labels=y))\n",
    "    tf.summary.scalar(\"xent\", cost)\n",
    "    \n",
    "with tf.name_scope(\"train\"):\n",
    "    optimizer = tf.train.AdamOptimizer(learning_rate=learning_rate).minimize(cost)\n",
    "summ = tf.summary.merge_all()\n",
    "init = tf.global_variables_initializer()\n",
    "print(\"done\")"
   ]
  },
  {
   "cell_type": "code",
   "execution_count": null,
   "metadata": {
    "collapsed": true
   },
   "outputs": [],
   "source": [
    "\n",
    "class fpModel:\n",
    "    def __init__(self, ):\n",
    "        self.path           = path\n",
    "        self.norm           = norm\n",
    "    \n",
    "        \n",
    "\n",
    "\n",
    "\n"
   ]
  },
  {
   "cell_type": "code",
   "execution_count": 7,
   "metadata": {
    "collapsed": true
   },
   "outputs": [],
   "source": [
    "\n",
    "def make_hparam_string(learning_rate, no_fc):\n",
    "    return \"lr_%.0E,fc=%d\" % (learning_rate, no_fc) \n",
    "\n",
    "hparam = make_hparam_string(learning_rate, 3)\n",
    "\n",
    "saver = tf.train.Saver()\n"
   ]
  },
  {
   "cell_type": "markdown",
   "metadata": {},
   "source": [
    "# TR <a id=\"tr\"/>\n",
    "\n",
    "[go back](#index)"
   ]
  },
  {
   "cell_type": "code",
   "execution_count": 33,
   "metadata": {},
   "outputs": [
    {
     "name": "stdout",
     "output_type": "stream",
     "text": [
      "TRAINING...\n",
      "step 0, training accracy 0 \n",
      "step 500, training accracy 0.078125 \n",
      "step 1000, training accracy 0.140625 \n",
      "step 1500, training accracy 0.328125 \n",
      "step 2000, training accracy 0.359375 \n",
      "step 2500, training accracy 0.390625 \n",
      "step 3000, training accracy 0.476562 \n",
      "step 3500, training accracy 0.5625 \n",
      "step 4000, training accracy 0.578125 \n",
      "step 4500, training accracy 0.703125 \n",
      "Optimization Finished!\n",
      "Model saved in file: ../../_zfp/data/my_graph/0F2CR2/model.ckpt\n",
      "Testing Accuracy: 0.0788598\n"
     ]
    }
   ],
   "source": [
    "# train\n",
    "print(\"TRAINING...\")\n",
    "def train_model(hparam): \n",
    "    batch_size = 128\n",
    "    training_iters = 5000 #200000\n",
    "    display_step = training_iters*0.1 #10%\n",
    "    record_step  = training_iters*0.05 \n",
    "\n",
    "    with tf.Session() as sess:\n",
    "        # Initialize variables\n",
    "        sess.run(init)\n",
    "#         writer = tf.summary.FileWriter(LOGDIR + hparam)\n",
    "#         writer.add_graph(sess.graph)\n",
    "\n",
    "        for i in range(training_iters): \n",
    "\n",
    "            xtb, ytb = dataClass.next_batch(batch_size, dataTrain['data'], dataTrain['label']) \n",
    "\n",
    "            if i % record_step == 0:\n",
    "                [train_accuracy] = sess.run([accuracy], feed_dict={x: xtb, y: ytb }) \n",
    "    #             writer.add_summary(s, i)\n",
    "\n",
    "            if i % display_step == 0:\n",
    "                print(\"step %d, training accracy %g \" %(i, train_accuracy))\n",
    "\n",
    "            sess.run(optimizer, feed_dict={x: xtb, y: ytb})\n",
    "\n",
    "        print(\"Optimization Finished!\")\n",
    "        save_path = saver.save(sess, model_path)\n",
    "        print(\"Model saved in file: %s\" % save_path)\n",
    "        print(\"Testing Accuracy:\", sess.run(accuracy, feed_dict={x: dataEv['data'], y: dataEv['label']}))\n",
    "\n",
    "train_model(hparam)"
   ]
  },
  {
   "cell_type": "markdown",
   "metadata": {},
   "source": [
    "# EV <a id=\"ev\"/>\n",
    "\n",
    "[go back](#index)"
   ]
  },
  {
   "cell_type": "code",
   "execution_count": 8,
   "metadata": {
    "collapsed": true
   },
   "outputs": [],
   "source": [
    "def restore_model(sess):\n",
    "    print(model_path)\n",
    "    saver.restore(sess, model_path)\n",
    "#     saver.restore(sess, \"../../_zfp/data/my_graph/0F2CR2/model.ckpt\")"
   ]
  },
  {
   "cell_type": "code",
   "execution_count": 9,
   "metadata": {},
   "outputs": [
    {
     "name": "stdout",
     "output_type": "stream",
     "text": [
      "EVALUATION...\n",
      "Model restored from file: ../../_zfp/data/my_graph/0F2CR2/model.ckpt\n",
      "../../_zfp/data/my_graph/0F2CR2/model.ckpt\n",
      "INFO:tensorflow:Restoring parameters from ../../_zfp/data/my_graph/0F2CR2/model.ckpt\n",
      "Training   Accuracy: 0.0101998\n",
      "Evaluation Accuracy: 0.0133167\n",
      "RealVal: 63  - PP value: 47\n",
      "RealVal: 93  - PP value: 47\n",
      "RealVal: 98  - PP value: 97\n",
      "RealVal: 79  - PP value: 81\n",
      "RealVal: 86  - PP value: 47\n",
      "RealVal: 99  - PP value: 47\n",
      "RealVal: 88  - PP value: 16\n",
      "RealVal: 91  - PP value: 47\n",
      "RealVal: 94  - PP value: 47\n",
      "RealVal: 93  - PP value: 47\n",
      "RealVal: 80  - PP value: 57\n",
      "RealVal: 89  - PP value: 16\n",
      "RealVal: 88  - PP value: 47\n",
      "RealVal: 99  - PP value: 97\n",
      "RealVal: 78  - PP value: 47\n",
      "RealVal: 89  - PP value: 47\n",
      "RealVal: 99  - PP value: 97\n",
      "RealVal: 98  - PP value: 47\n",
      "RealVal: 85  - PP value: 47\n",
      "RealVal: 89  - PP value: 47\n",
      "denormalization all Evaluation : 4806 = 4806\n",
      "0\n",
      "1000\n",
      "2000\n",
      "3000\n",
      "error: i=3515, pred=16, data=0 -- \n",
      "error: i=3798, pred=97, data=0 -- \n",
      "4000\n",
      "error: i=4542, pred=47, data=0 -- \n",
      "Total: 4803 GT3: 4363  GTM: 3811\n"
     ]
    }
   ],
   "source": [
    "def evaluate_model():\n",
    "    print(\"EVALUATION...\")\n",
    "#     return\n",
    "    with tf.Session() as sess:\n",
    "        print(\"Model restored from file: %s\" % model_path)\n",
    "\n",
    "        sess.run(init)\n",
    "        restore_model(sess)\n",
    "        \n",
    "\n",
    "        # test the model\n",
    "        print(\"Training   Accuracy:\", sess.run(accuracy, feed_dict={x: dataTrain['data'], y: dataTrain['label']}))\n",
    "        print(\"Evaluation Accuracy:\", sess.run(accuracy, feed_dict={x: dataEv['data'],    y: dataEv['label']}))\n",
    "\n",
    "        # xtp1.append(dataTest['data'][i]);    ytp1.append(dataTest['label'][i])\n",
    "        predv, softv = sess.run([pred, softmaxT], feed_dict={x: dataEv['data']}) \n",
    "        \n",
    "        for i in range(20):\n",
    "            print(\"RealVal: {}  - PP value: {}\".format( dataClass.deClassifN( dataEv['label'][i]), \n",
    "                                                       dataClass.deClassifN( predv.tolist()[i], np.max(predv[i]))  ))\n",
    "            # maxa = sess.run([prediction], feed_dict={y: predv })\n",
    "        pred_val = []\n",
    "        data_val = []\n",
    "        predvList = predv.tolist()\n",
    "        print(\"denormalization all Evaluation : {} = {}\" .format(len(predv), len(dataEv[\"label\"])))\n",
    "        for i in range(len(predv)):\n",
    "        #for i in range(100):\n",
    "            if (i % 1000==0): print(i)\n",
    "            pred_vali = 0; data_vali = 0;\n",
    "            try:\n",
    "                pred_vali = dataClass.deClassifN( predv.tolist()[i], np.max(predv[i]))\n",
    "                data_vali = dataClass.deClassifN( dataEv['label'][i])\n",
    "                # print(\"realVal: {} -- PP value: {}\".format(data_vali,pred_vali))\n",
    "                pred_val.append(pred_vali)\n",
    "                data_val.append(data_vali)\n",
    "            except:\n",
    "                print(\"error: i={}, pred={}, data={} -- \".format(i, pred_vali, data_vali))\n",
    "        l3, l15 = dataClass.check_perf(pred_val, data_val)  \n",
    "        print(\"Total: {} GT3: {}  GTM: {}\".format(len(pred_val), l3, l15))     \n",
    "\n",
    "evaluate_model()\n",
    "\n"
   ]
  },
  {
   "cell_type": "markdown",
   "metadata": {},
   "source": [
    "# TESTS! <a id=\"ts\"/>\n",
    "\n",
    "[go back](#index)"
   ]
  },
  {
   "cell_type": "code",
   "execution_count": 2,
   "metadata": {},
   "outputs": [
    {
     "name": "stdout",
     "output_type": "stream",
     "text": [
      "TESTS...\n"
     ]
    },
    {
     "ename": "NameError",
     "evalue": "name 'dataClass' is not defined",
     "output_type": "error",
     "traceback": [
      "\u001b[1;31m---------------------------------------------------------------------------\u001b[0m",
      "\u001b[1;31mNameError\u001b[0m                                 Traceback (most recent call last)",
      "\u001b[1;32m<ipython-input-2-4a9c992836f2>\u001b[0m in \u001b[0;36m<module>\u001b[1;34m()\u001b[0m\n\u001b[0;32m     27\u001b[0m                                                    dataClass.deClassifN( predv.tolist()[i], np.max(predv[i]))  ))    \n\u001b[0;32m     28\u001b[0m \u001b[1;33m\u001b[0m\u001b[0m\n\u001b[1;32m---> 29\u001b[1;33m \u001b[0mtest_model\u001b[0m\u001b[1;33m(\u001b[0m\u001b[1;33m)\u001b[0m\u001b[1;33m\u001b[0m\u001b[0m\n\u001b[0m\u001b[0;32m     30\u001b[0m \u001b[1;33m\u001b[0m\u001b[0m\n",
      "\u001b[1;32m<ipython-input-2-4a9c992836f2>\u001b[0m in \u001b[0;36mtest_model\u001b[1;34m()\u001b[0m\n\u001b[0;32m      7\u001b[0m     \u001b[0mLAB_DS\u001b[0m     \u001b[1;33m=\u001b[0m \u001b[1;34m\"../../_zfp/data/FRFLO/datal.csv\"\u001b[0m\u001b[1;33m\u001b[0m\u001b[0m\n\u001b[0;32m      8\u001b[0m     \u001b[0mCOL_DS\u001b[0m     \u001b[1;33m=\u001b[0m \u001b[1;34m\"../../_zfp/data/FRFLO/colcom.csv\"\u001b[0m\u001b[1;33m\u001b[0m\u001b[0m\n\u001b[1;32m----> 9\u001b[1;33m     \u001b[0mprint\u001b[0m\u001b[1;33m(\u001b[0m\u001b[1;34m\"input-no={}\"\u001b[0m\u001b[1;33m.\u001b[0m\u001b[0mformat\u001b[0m\u001b[1;33m(\u001b[0m\u001b[0mdataClass\u001b[0m\u001b[1;33m.\u001b[0m\u001b[0mset_columns\u001b[0m\u001b[1;33m(\u001b[0m\u001b[0mCOL_DS\u001b[0m\u001b[1;33m)\u001b[0m \u001b[1;33m)\u001b[0m\u001b[1;33m)\u001b[0m\u001b[1;33m\u001b[0m\u001b[0m\n\u001b[0m\u001b[0;32m     10\u001b[0m \u001b[1;33m\u001b[0m\u001b[0m\n\u001b[0;32m     11\u001b[0m     json_str = '''[{ \"m\":\"8989\", \"c1\" :0.5 },\n",
      "\u001b[1;31mNameError\u001b[0m: name 'dataClass' is not defined"
     ]
    }
   ],
   "source": [
    "def test_model():\n",
    "    print(\"TESTS...\")\n",
    "    \n",
    "    dataTest = {'label' : [] , 'data' :  [] }\n",
    "    pred_val = []\n",
    "\n",
    "    LAB_DS     = \"../../_zfp/data/FRFLO/datal.csv\"\n",
    "    COL_DS     = \"../../_zfp/data/FRFLO/colcom.csv\"\n",
    "    print(\"input-no={}\".format(dataClass.set_columns(COL_DS) ))\n",
    "        \n",
    "    json_str = '''[{ \"m\":\"8989\", \"c1\" :0.5 },\n",
    "    { \"m\":\"8988\", \"c3\" :0.5 , \"c4\" :0.5 }] '''\n",
    "    \n",
    "    json_data = json.loads(json_str)\n",
    "    dataTest['data'] = dataClass.feed_data(json_data) \n",
    "    dataTest['label'] = [88,99]\n",
    "    \n",
    "    with tf.Session() as sess:\n",
    "        print(\"Model restored from file: %s\" % model_path)\n",
    "\n",
    "        sess.run(init)\n",
    "        restore_model(sess)\n",
    "        predv = sess.run( pred , feed_dict={x: dataTest['data']}) \n",
    "    \n",
    "    for i in range(len(predv)):\n",
    "        print(\"RealVal: {}  - PP value: {}\".format( dataClass.deClassifN( dataEv['label'][i]), \n",
    "                                                   dataClass.deClassifN( predv.tolist()[i], np.max(predv[i]))  ))    \n",
    "    \n",
    "test_model()\n",
    "\n"
   ]
  },
  {
   "cell_type": "markdown",
   "metadata": {
    "collapsed": true
   },
   "source": [
    "# Other <a id=\"o\"/>\n",
    "\n",
    "[go back](#index)\n",
    "\n",
    "## Record logs automatically"
   ]
  },
  {
   "cell_type": "code",
   "execution_count": null,
   "metadata": {
    "collapsed": true
   },
   "outputs": [],
   "source": [
    "# variables\n",
    "\n"
   ]
  },
  {
   "cell_type": "code",
   "execution_count": null,
   "metadata": {
    "collapsed": true
   },
   "outputs": [],
   "source": []
  },
  {
   "cell_type": "code",
   "execution_count": null,
   "metadata": {
    "collapsed": true
   },
   "outputs": [],
   "source": []
  },
  {
   "cell_type": "code",
   "execution_count": null,
   "metadata": {
    "collapsed": true
   },
   "outputs": [],
   "source": []
  },
  {
   "cell_type": "code",
   "execution_count": null,
   "metadata": {
    "collapsed": true
   },
   "outputs": [],
   "source": []
  }
 ],
 "metadata": {
  "kernelspec": {
   "display_name": "Python 3",
   "language": "python",
   "name": "python3"
  },
  "language_info": {
   "codemirror_mode": {
    "name": "ipython",
    "version": 3
   },
   "file_extension": ".py",
   "mimetype": "text/x-python",
   "name": "python",
   "nbconvert_exporter": "python",
   "pygments_lexer": "ipython3",
   "version": "3.5.4"
  }
 },
 "nbformat": 4,
 "nbformat_minor": 2
}
