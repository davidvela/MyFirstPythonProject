{
 "cells": [
  {
   "cell_type": "markdown",
   "metadata": {
    "heading_collapsed": true
   },
   "source": [
    "# FP\n",
    "\n",
    "## v2 - softmax 2, pandas, \n",
    "## next v3 - GAN , embeddings and visualization:  tensorboard and ...matplot\n",
    "\n",
    "Start writing all my logic in jupyter notebook in order to run them from anaconda! <br>\n",
    "** IMPORTANT ** <br>\n",
    "the network cell should only be intialize once! otherwise the program start creating indexes for the variables!!!! \n",
    "\n",
    "tensorboard --logdir=.\\my_graph\t\n",
    "tensorboard => http://localhost:6006 <br>\n",
    "jupyter => http://localhost:8889\n",
    "\n",
    "## index: \n",
    "<a id='index'/>\n",
    "\n",
    "1. READ DATA \n",
    "    * Class \n",
    "    * files \n",
    "2. [Network](#model)\n",
    "3. [execution](#exec) \n",
    "4. [display](#disp)\n",
    "\n",
    "\n",
    "other: \n",
    "4. [Evaluate](#ev) \n",
    "5. [Test](#ts) \n",
    "6. [Other](#o)\n",
    "\n",
    "[go back](#index)"
   ]
  },
  {
   "cell_type": "code",
   "execution_count": 1,
   "metadata": {
    "hidden": true
   },
   "outputs": [],
   "source": [
    "import pandas as pd \n",
    "import tensorflow as tf \n",
    "import numpy as np \n",
    "\n",
    "import requests\n",
    "import json\n",
    "import sys\n",
    "import os\n",
    "import time\n",
    "from types import *\n",
    "from collections import Counter\n",
    "from datetime import datetime"
   ]
  },
  {
   "cell_type": "code",
   "execution_count": 2,
   "metadata": {
    "hidden": true
   },
   "outputs": [
    {
     "data": {
      "text/plain": [
       "1511132726.9796767"
      ]
     },
     "execution_count": 2,
     "metadata": {},
     "output_type": "execute_result"
    }
   ],
   "source": [
    "start = time.time()\n",
    "start"
   ]
  },
  {
   "cell_type": "code",
   "execution_count": 3,
   "metadata": {
    "hidden": true
   },
   "outputs": [
    {
     "data": {
      "text/plain": [
       "'00:05:27'"
      ]
     },
     "execution_count": 3,
     "metadata": {},
     "output_type": "execute_result"
    }
   ],
   "source": [
    "datetime.now().strftime('%H:%M:%S')"
   ]
  },
  {
   "cell_type": "code",
   "execution_count": 4,
   "metadata": {
    "hidden": true
   },
   "outputs": [],
   "source": [
    "# tensorboard --logdir=.\\mygraph"
   ]
  },
  {
   "cell_type": "code",
   "execution_count": 5,
   "metadata": {
    "hidden": true
   },
   "outputs": [
    {
     "name": "stdout",
     "output_type": "stream",
     "text": [
      "hello\n"
     ]
    }
   ],
   "source": [
    "print(\"hello\")"
   ]
  },
  {
   "cell_type": "code",
   "execution_count": null,
   "metadata": {
    "collapsed": true,
    "hidden": true
   },
   "outputs": [],
   "source": []
  },
  {
   "cell_type": "markdown",
   "metadata": {
    "heading_collapsed": true
   },
   "source": [
    "# Data Read"
   ]
  },
  {
   "cell_type": "code",
   "execution_count": 6,
   "metadata": {
    "hidden": true
   },
   "outputs": [
    {
     "name": "stdout",
     "output_type": "stream",
     "text": [
      "data manipulation\n"
     ]
    }
   ],
   "source": [
    "def des():  return DESC+'_'+dType #+\"_filt:\"+  filter[0]+str(filter[1])\n",
    "def c2(df, rv=1):\n",
    "    if rv == 1:\n",
    "        if( df < 60 ):                  return [1,0]  \n",
    "        elif( df >= 60 ):               return [0,1]      \n",
    "    elif rf==2: \n",
    "        if( df < 60 ):                  return 0\n",
    "        elif( df >= 60 ):               return 1\n",
    "def c4(df, rv=1):\n",
    "    if rv == 1:\n",
    "        if( df < 23 ):                  return [1,0,0,0]  #0\n",
    "        elif( df >= 23 and df < 60 ):   return [0,1,0,0]  #1\n",
    "        elif( df >= 60 and df < 93 ):   return [0,0,1,0]  #2\n",
    "        elif( df >= 93 ):               return [0,0,0,1]  #3    \n",
    "    elif rf==2: \n",
    "        if( df < 23 ):                  return 0\n",
    "        elif( df >= 23 and df < 60 ):   return 1\n",
    "        elif( df >= 60 and df < 93 ):   return 2\n",
    "        elif( df >= 93 ):               return 3\n",
    "    # elif rf==3: \n",
    "    #     if  ( df == [1,0,0,0] ):        return 0 \n",
    "    #     elif( df == [0,1,0,0] ):        return 1\n",
    "    #     elif( df == [0,0,1,0] ):        return 2  \n",
    "    #     elif( df == [0,0,0,1] ):        return 3  \n",
    "def cN(df):\n",
    "    global nout\n",
    "    listofzeros = [0] * nout\n",
    "    dfIndex = df #//nRange\n",
    "    # print('{} and {}', (df,dfIndex))\n",
    "    if    0 < dfIndex < nout:   listofzeros[dfIndex] = 1\n",
    "    elif  dfIndex < 0:          listofzeros[0]       = 1\n",
    "    elif  dfIndex >= nout:      listofzeros[nout-1]  = 1\n",
    "    \n",
    "    return listofzeros \n",
    "def cc(x, rv=1):\n",
    "    global nout\n",
    "    if   dType == 'C4':  return c4(x, rv);\n",
    "    elif dType == 'C1':  return cN(x); \n",
    "    elif dType == 'C2':  nout = 2;   return c2(x, rv);\n",
    "def dc(df, val = 1 ):    return df.index(val)  \n",
    "def normalize():     dst[:, 'FP_P'] = dst['FP'].map(lambda x: cc( x ))\n",
    "def mainRead2( path, part, batch_size , all = True, shuffle = True):  \n",
    "    # read by partitions!   \n",
    "    global  spn, dst;\n",
    "    start = time.time()\n",
    "    if all:  dst = pd.read_csv( tf.gfile.Open(path), sep=None, skipinitialspace=True,  engine=\"python\" )\n",
    "    else:     \n",
    "        columns = pd.read_csv( tf.gfile.Open(path), sep=None, skipinitialspace=True,  engine=\"python\" ,skiprows=0, nrows=1)\n",
    "        dst = pd.read_csv( tf.gfile.Open(path), sep=None, skipinitialspace=True,  engine=\"python\" ,skiprows=part*batch_size+1, \n",
    "                           nrows=batch_size, names = columns.columns)\n",
    "    \n",
    "    dst = dst.fillna(0)\n",
    "    if shuffle: dst = dst.sample(frac=1).reset_index(drop=True) \n",
    "    dst.insert(2, 'FP_P', dst['FP'] )  \n",
    "    elapsed_time = float(time.time() - start)\n",
    "    print(\"data read - {} - time:{}\" .format(len(dst), elapsed_time ))\n",
    "\n",
    "    # #dst.insert(2, 'FP_P', dst['FP'].map(lambda x: cc( x )))  \n",
    "    # if batch_size > spn: spn = -1\n",
    "    # dst = dst.sample(frac=1).reset_index(drop=True) \n",
    "    # dataT  = {'label' : dst.loc[spn:,'FP_P'] , 'data' :  dst.iloc[spn:, 3:] }\n",
    "    # dataE  = {'label' : dst.loc[:spn-1,'FP_P'] , 'data' :  dst.iloc[:spn, 3:] }\n",
    "    #print(\"data read - lenTrain={}-{} & lenEv={}-{} time:{}\" .format(len(dataT[\"data\"]), \n",
    "    #    len(dataT[\"label\"]),len(dataE[\"data\"]),len(dataE[\"label\"]), elapsed_time ))\n",
    "    # dataT= convert_2List(dataT)\n",
    "    # dataE= convert_2List(dataE)\n",
    "    \n",
    "def get_batches(batch_size):\n",
    "    n_batches = int(len( dst.loc[spn:]  ) // batch_size)\n",
    "    print(n_batches*batch_size)\n",
    "    # x,y = dataT[\"data\"][:n_batches*batch_size], dataT[\"label\"][:n_batches*batch_size]\n",
    "    for ii in range(0, len( dst.loc[spn:spn+n_batches*batch_size]) , batch_size ):\n",
    "        #convert to list! \n",
    "        yield dst.iloc[spn+ii: spn+ii+batch_size, 3:].as_matrix().tolist(), dst.loc[spn+ii: spn+ii+batch_size-1, 'FP_P' ].as_matrix().tolist() \n",
    "        \n",
    "def check_perf_CN(predv, dataEv, sk_ev=False ):\n",
    "    gt3 = 0; gtM = 0; \n",
    "    # predvList = predv.tolist()\n",
    "    # assert(len(predv) == len(dataEv['label']))\n",
    "    print(\"denormalization all Evaluation : {} = {}\" .format(len(predv[1]), len(dataEv)))\n",
    "    #for i in range(100):\n",
    "    for i in range(len(dataEv)):\n",
    "        if (i % 1000==0): print(str(i)) #, end=\"__\") \n",
    "        try:\n",
    "            # pred_v = dc( predv.tolist()[i], np.max(predv[i]))\n",
    "            pred_v = predv[1][i][0]\n",
    "            data_v = dataEv[i] if sk_ev  else dc( dataEv[i])\n",
    "            if   dType == 'C4' and pred_v != data_v:  gt3=gtM=gtM+1\n",
    "            elif dType == 'C2' and pred_v != data_v:  gt3=gtM=gtM+1\n",
    "            elif dType == 'C1':\n",
    "                num = abs(pred_v-data_v)\n",
    "                if num > 3: gt3+=1\n",
    "                if num > 10: gtM+=1\n",
    "        except: print(\"error: i={}, pred={}, data={} -- \".format(i, pred_v, data_v))\n",
    "    print(\"Total: {} GT3: {}  GTM: {}\".format(len(predv[1]), gt3, gtM)) \n",
    "    return gt3, gtM \n",
    "def feed_data(dataJJ, p_abs, d_st = False, p_exp=False, pand=False, p_col = False):\n",
    "    indx=[];   index_col=0 if p_abs else 2 #abs=F => 2 == 6D\n",
    " \n",
    "    # col_df = pd.read_csv(COL_DS, index_col=index_col, sep=',', usecols=[0,1,2,3])    \n",
    "    col_df = pd.read_csv(COL_DS, index_col=index_col, sep=',', usecols=[0,1,2,3])    \n",
    "    col_df = col_df.fillna(0)\n",
    "    print(\"input-no={}\".format( len(col_df )))\n",
    "    \n",
    "    if p_exp:   indx.append(i for i in range(103))\n",
    "    else:       indx = col_df.index\n",
    "    \n",
    "    if p_col: \n",
    "        dataTest_label = []\n",
    "        dataJJ = \"[\"\n",
    "        for i in range(len(col_df)): \n",
    "            dataTest_label.append( cc( int(  col_df.iloc[i][\"fp\"]  )  )) \n",
    "            dataJJ += '{\"m\":\"'+str(i)+'\",'+'\"'+str(col_df.iloc[i].name)+'\"'+\":1},\"\n",
    "        dataJJ += '{\"m\":\"0\"}]';  dataTest_label.append(cc(0))\n",
    "        # dataJJ += ']'\n",
    "        dataJJ = json.loads(dataJJ)\n",
    "\n",
    "    json_df  = pd.DataFrame(columns=indx); df_entry = pd.Series(index=indx)\n",
    "    df_entry = df_entry.fillna(0) \n",
    "   \n",
    "    ccount = Counter()\n",
    "    if(isinstance(dataJJ, list)):json_data = dataJJ\n",
    "    else: json_str=open(dataJJ).read();  json_data = json.loads(json_str)\n",
    "    # for i in range(20):\n",
    "    for i in range(len(json_data)): # print(i)\n",
    "        df_entry *= 0\n",
    "        m = str(json_data[i][\"m\"])\n",
    "        df_entry.name = m\n",
    "        for key in json_data[i]:\n",
    "            if key == \"m\": pass            \n",
    "            else: \n",
    "                key_wz = key if p_abs else (int(key))  #str(int(key)) FRFLO - int // FRALL str!\n",
    "                try: #filling of key - experimental or COMP \n",
    "                    ds_comp = col_df.loc[key_wz]\n",
    "                    if p_exp == True:  #fp key - 0-102   \n",
    "                        co = str(ds_comp['FP'])\n",
    "                        if co == 'nan':  col_key = 102\n",
    "                        else: \n",
    "                            col_key = int(ds_comp['FP'])\n",
    "                            if col_key>101: col_key = 101\n",
    "                            if col_key<0: col_key = 0\n",
    "                    else: col_key = key_wz      \n",
    "                    # df_entry.loc[col_key]\n",
    "                    df_entry[col_key] =  np.float32(json_data[i][key])\n",
    "                except: \n",
    "                    if d_st: print(\"m:{}-c:{} not included\" .format(m, key_wz)); ccount[key_wz] +=1\n",
    "\n",
    "        json_df = json_df.append(df_entry,ignore_index=False)\n",
    "        if i % 1000 == 0: print(\"cycle: {}\".format(i))\n",
    "    print(\"Counter of comp. not included :\"); print(ccount) # print(len(ccount))\n",
    "\n",
    "    if p_col: return json_df.as_matrix().tolist(), dataTest_label\n",
    "    else: \n",
    "        if pand:  return json_df  \n",
    "        else:     return json_df.as_matrix().tolist() \n",
    "#---------------------------------------------------------------------\n",
    "print(\"data manipulation\")"
   ]
  },
  {
   "cell_type": "code",
   "execution_count": 7,
   "metadata": {
    "hidden": true
   },
   "outputs": [],
   "source": [
    "# for ii, (xtb,ytb) in enumerate(get_batches(batch_size) ):\n",
    "#     print(ii)"
   ]
  },
  {
   "cell_type": "markdown",
   "metadata": {
    "collapsed": true,
    "heading_collapsed": true
   },
   "source": [
    "# Pandas tests"
   ]
  },
  {
   "cell_type": "code",
   "execution_count": 8,
   "metadata": {
    "hidden": true
   },
   "outputs": [],
   "source": [
    "LOG        = \"../../_zfp/LOG.txt\"\n",
    "LOGDIR     = \"../../_zfp/data/my_graph/\"\n",
    "LOGDAT     = \"../../_zfp/data/\"\n",
    "\n",
    "spn        = 5000  #5000 -1 = all for training \n",
    "\n",
    "DESC       = \"FRFLO\"\n",
    "# DESC       = \"FRALL1\"\n",
    "dType      = \"C4\" #C1 or C4\n",
    "MMF        = \"MODJJ1\" #2(1) OR 5 (4)\n",
    "\n",
    "#---------------------------------------------------------------------\n",
    "MODEL_DIR  = LOGDIR + DESC + '/' + DESC +  MMF +\"/\"  \n",
    "model_path = MODEL_DIR + \"model.ckpt\" \n",
    "DSJ        = \"/data_json.txt\"\n",
    "DSC        = \"/datasc.csv\"   \n",
    "DC         = \"/datac.csv\"\n",
    "DL         = \"/datal.csv\"\n",
    "LAB_DS     = LOGDAT + DESC + DL #\"../../_zfp/data/FRFLO/datal.csv\"\n",
    "COL_DS     = LOGDAT + DESC + DC \n",
    "ALL_DSJ    = LOGDAT + DESC + DSJ \n",
    "ALL_DS     = LOGDAT + DESC + DSC \n"
   ]
  },
  {
   "cell_type": "code",
   "execution_count": 9,
   "metadata": {
    "hidden": true
   },
   "outputs": [
    {
     "name": "stdout",
     "output_type": "stream",
     "text": [
      "data read - 9610 - time:5.330427169799805\n",
      "9610\n"
     ]
    }
   ],
   "source": [
    "mainRead2(ALL_DS, 1, 2, all = True, shuffle = True  ) \n",
    "print(len(dst))"
   ]
  },
  {
   "cell_type": "code",
   "execution_count": 10,
   "metadata": {
    "hidden": true
   },
   "outputs": [
    {
     "data": {
      "text/html": [
       "<div>\n",
       "<style>\n",
       "    .dataframe thead tr:only-child th {\n",
       "        text-align: right;\n",
       "    }\n",
       "\n",
       "    .dataframe thead th {\n",
       "        text-align: left;\n",
       "    }\n",
       "\n",
       "    .dataframe tbody tr th {\n",
       "        vertical-align: top;\n",
       "    }\n",
       "</style>\n",
       "<table border=\"1\" class=\"dataframe\">\n",
       "  <thead>\n",
       "    <tr style=\"text-align: right;\">\n",
       "      <th></th>\n",
       "      <th>M</th>\n",
       "      <th>FP</th>\n",
       "      <th>FP_P</th>\n",
       "      <th>100023</th>\n",
       "      <th>100025</th>\n",
       "      <th>100028</th>\n",
       "      <th>100034</th>\n",
       "      <th>100041</th>\n",
       "      <th>100060</th>\n",
       "      <th>100061</th>\n",
       "      <th>...</th>\n",
       "      <th>964392</th>\n",
       "      <th>972612</th>\n",
       "      <th>978488</th>\n",
       "      <th>982437</th>\n",
       "      <th>982440</th>\n",
       "      <th>983685</th>\n",
       "      <th>983686</th>\n",
       "      <th>996041</th>\n",
       "      <th>998063</th>\n",
       "      <th>998168</th>\n",
       "    </tr>\n",
       "  </thead>\n",
       "  <tbody>\n",
       "    <tr>\n",
       "      <th>count</th>\n",
       "      <td>9610.000000</td>\n",
       "      <td>9610.000000</td>\n",
       "      <td>9610.000000</td>\n",
       "      <td>9.610000e+03</td>\n",
       "      <td>9610.000000</td>\n",
       "      <td>9610.000000</td>\n",
       "      <td>9610.000000</td>\n",
       "      <td>9610.000000</td>\n",
       "      <td>9610.000000</td>\n",
       "      <td>9.610000e+03</td>\n",
       "      <td>...</td>\n",
       "      <td>9610.000000</td>\n",
       "      <td>9.610000e+03</td>\n",
       "      <td>9610.000000</td>\n",
       "      <td>9610.000000</td>\n",
       "      <td>9.610000e+03</td>\n",
       "      <td>9610.000000</td>\n",
       "      <td>9610.000000</td>\n",
       "      <td>9610.000000</td>\n",
       "      <td>9610.000000</td>\n",
       "      <td>9.610000e+03</td>\n",
       "    </tr>\n",
       "    <tr>\n",
       "      <th>mean</th>\n",
       "      <td>601962.775963</td>\n",
       "      <td>87.214256</td>\n",
       "      <td>87.214256</td>\n",
       "      <td>1.968887e-09</td>\n",
       "      <td>0.000001</td>\n",
       "      <td>0.000038</td>\n",
       "      <td>0.000011</td>\n",
       "      <td>0.000128</td>\n",
       "      <td>0.000003</td>\n",
       "      <td>1.974741e-07</td>\n",
       "      <td>...</td>\n",
       "      <td>0.000001</td>\n",
       "      <td>6.771072e-15</td>\n",
       "      <td>0.000008</td>\n",
       "      <td>0.007639</td>\n",
       "      <td>1.309067e-07</td>\n",
       "      <td>0.000020</td>\n",
       "      <td>0.000004</td>\n",
       "      <td>0.000008</td>\n",
       "      <td>0.000001</td>\n",
       "      <td>1.040583e-07</td>\n",
       "    </tr>\n",
       "    <tr>\n",
       "      <th>std</th>\n",
       "      <td>242149.031945</td>\n",
       "      <td>10.047519</td>\n",
       "      <td>10.047519</td>\n",
       "      <td>1.576348e-07</td>\n",
       "      <td>0.000037</td>\n",
       "      <td>0.000530</td>\n",
       "      <td>0.000354</td>\n",
       "      <td>0.001304</td>\n",
       "      <td>0.000066</td>\n",
       "      <td>9.868021e-06</td>\n",
       "      <td>...</td>\n",
       "      <td>0.000098</td>\n",
       "      <td>6.630585e-13</td>\n",
       "      <td>0.000272</td>\n",
       "      <td>0.058937</td>\n",
       "      <td>8.014352e-06</td>\n",
       "      <td>0.000921</td>\n",
       "      <td>0.000091</td>\n",
       "      <td>0.000765</td>\n",
       "      <td>0.000082</td>\n",
       "      <td>1.020090e-05</td>\n",
       "    </tr>\n",
       "    <tr>\n",
       "      <th>min</th>\n",
       "      <td>100456.000000</td>\n",
       "      <td>5.000000</td>\n",
       "      <td>5.000000</td>\n",
       "      <td>0.000000e+00</td>\n",
       "      <td>0.000000</td>\n",
       "      <td>0.000000</td>\n",
       "      <td>0.000000</td>\n",
       "      <td>0.000000</td>\n",
       "      <td>0.000000</td>\n",
       "      <td>0.000000e+00</td>\n",
       "      <td>...</td>\n",
       "      <td>0.000000</td>\n",
       "      <td>0.000000e+00</td>\n",
       "      <td>0.000000</td>\n",
       "      <td>0.000000</td>\n",
       "      <td>0.000000e+00</td>\n",
       "      <td>0.000000</td>\n",
       "      <td>0.000000</td>\n",
       "      <td>0.000000</td>\n",
       "      <td>0.000000</td>\n",
       "      <td>0.000000e+00</td>\n",
       "    </tr>\n",
       "    <tr>\n",
       "      <th>25%</th>\n",
       "      <td>394230.000000</td>\n",
       "      <td>82.000000</td>\n",
       "      <td>82.000000</td>\n",
       "      <td>0.000000e+00</td>\n",
       "      <td>0.000000</td>\n",
       "      <td>0.000000</td>\n",
       "      <td>0.000000</td>\n",
       "      <td>0.000000</td>\n",
       "      <td>0.000000</td>\n",
       "      <td>0.000000e+00</td>\n",
       "      <td>...</td>\n",
       "      <td>0.000000</td>\n",
       "      <td>0.000000e+00</td>\n",
       "      <td>0.000000</td>\n",
       "      <td>0.000000</td>\n",
       "      <td>0.000000e+00</td>\n",
       "      <td>0.000000</td>\n",
       "      <td>0.000000</td>\n",
       "      <td>0.000000</td>\n",
       "      <td>0.000000</td>\n",
       "      <td>0.000000e+00</td>\n",
       "    </tr>\n",
       "    <tr>\n",
       "      <th>50%</th>\n",
       "      <td>704052.000000</td>\n",
       "      <td>89.000000</td>\n",
       "      <td>89.000000</td>\n",
       "      <td>0.000000e+00</td>\n",
       "      <td>0.000000</td>\n",
       "      <td>0.000000</td>\n",
       "      <td>0.000000</td>\n",
       "      <td>0.000000</td>\n",
       "      <td>0.000000</td>\n",
       "      <td>0.000000e+00</td>\n",
       "      <td>...</td>\n",
       "      <td>0.000000</td>\n",
       "      <td>0.000000e+00</td>\n",
       "      <td>0.000000</td>\n",
       "      <td>0.000000</td>\n",
       "      <td>0.000000e+00</td>\n",
       "      <td>0.000000</td>\n",
       "      <td>0.000000</td>\n",
       "      <td>0.000000</td>\n",
       "      <td>0.000000</td>\n",
       "      <td>0.000000e+00</td>\n",
       "    </tr>\n",
       "    <tr>\n",
       "      <th>75%</th>\n",
       "      <td>777086.750000</td>\n",
       "      <td>95.000000</td>\n",
       "      <td>95.000000</td>\n",
       "      <td>0.000000e+00</td>\n",
       "      <td>0.000000</td>\n",
       "      <td>0.000000</td>\n",
       "      <td>0.000000</td>\n",
       "      <td>0.000000</td>\n",
       "      <td>0.000000</td>\n",
       "      <td>0.000000e+00</td>\n",
       "      <td>...</td>\n",
       "      <td>0.000000</td>\n",
       "      <td>0.000000e+00</td>\n",
       "      <td>0.000000</td>\n",
       "      <td>0.000000</td>\n",
       "      <td>0.000000e+00</td>\n",
       "      <td>0.000000</td>\n",
       "      <td>0.000000</td>\n",
       "      <td>0.000000</td>\n",
       "      <td>0.000000</td>\n",
       "      <td>0.000000e+00</td>\n",
       "    </tr>\n",
       "    <tr>\n",
       "      <th>max</th>\n",
       "      <td>963939.000000</td>\n",
       "      <td>101.000000</td>\n",
       "      <td>101.000000</td>\n",
       "      <td>1.500000e-05</td>\n",
       "      <td>0.001111</td>\n",
       "      <td>0.042857</td>\n",
       "      <td>0.030000</td>\n",
       "      <td>0.047059</td>\n",
       "      <td>0.002857</td>\n",
       "      <td>6.250000e-04</td>\n",
       "      <td>...</td>\n",
       "      <td>0.007273</td>\n",
       "      <td>6.500000e-11</td>\n",
       "      <td>0.015000</td>\n",
       "      <td>0.729500</td>\n",
       "      <td>6.640130e-04</td>\n",
       "      <td>0.088571</td>\n",
       "      <td>0.005000</td>\n",
       "      <td>0.075000</td>\n",
       "      <td>0.007002</td>\n",
       "      <td>1.000000e-03</td>\n",
       "    </tr>\n",
       "  </tbody>\n",
       "</table>\n",
       "<p>8 rows × 1817 columns</p>\n",
       "</div>"
      ],
      "text/plain": [
       "                   M           FP         FP_P        100023       100025  \\\n",
       "count    9610.000000  9610.000000  9610.000000  9.610000e+03  9610.000000   \n",
       "mean   601962.775963    87.214256    87.214256  1.968887e-09     0.000001   \n",
       "std    242149.031945    10.047519    10.047519  1.576348e-07     0.000037   \n",
       "min    100456.000000     5.000000     5.000000  0.000000e+00     0.000000   \n",
       "25%    394230.000000    82.000000    82.000000  0.000000e+00     0.000000   \n",
       "50%    704052.000000    89.000000    89.000000  0.000000e+00     0.000000   \n",
       "75%    777086.750000    95.000000    95.000000  0.000000e+00     0.000000   \n",
       "max    963939.000000   101.000000   101.000000  1.500000e-05     0.001111   \n",
       "\n",
       "            100028       100034       100041       100060        100061  \\\n",
       "count  9610.000000  9610.000000  9610.000000  9610.000000  9.610000e+03   \n",
       "mean      0.000038     0.000011     0.000128     0.000003  1.974741e-07   \n",
       "std       0.000530     0.000354     0.001304     0.000066  9.868021e-06   \n",
       "min       0.000000     0.000000     0.000000     0.000000  0.000000e+00   \n",
       "25%       0.000000     0.000000     0.000000     0.000000  0.000000e+00   \n",
       "50%       0.000000     0.000000     0.000000     0.000000  0.000000e+00   \n",
       "75%       0.000000     0.000000     0.000000     0.000000  0.000000e+00   \n",
       "max       0.042857     0.030000     0.047059     0.002857  6.250000e-04   \n",
       "\n",
       "           ...            964392        972612       978488       982437  \\\n",
       "count      ...       9610.000000  9.610000e+03  9610.000000  9610.000000   \n",
       "mean       ...          0.000001  6.771072e-15     0.000008     0.007639   \n",
       "std        ...          0.000098  6.630585e-13     0.000272     0.058937   \n",
       "min        ...          0.000000  0.000000e+00     0.000000     0.000000   \n",
       "25%        ...          0.000000  0.000000e+00     0.000000     0.000000   \n",
       "50%        ...          0.000000  0.000000e+00     0.000000     0.000000   \n",
       "75%        ...          0.000000  0.000000e+00     0.000000     0.000000   \n",
       "max        ...          0.007273  6.500000e-11     0.015000     0.729500   \n",
       "\n",
       "             982440       983685       983686       996041       998063  \\\n",
       "count  9.610000e+03  9610.000000  9610.000000  9610.000000  9610.000000   \n",
       "mean   1.309067e-07     0.000020     0.000004     0.000008     0.000001   \n",
       "std    8.014352e-06     0.000921     0.000091     0.000765     0.000082   \n",
       "min    0.000000e+00     0.000000     0.000000     0.000000     0.000000   \n",
       "25%    0.000000e+00     0.000000     0.000000     0.000000     0.000000   \n",
       "50%    0.000000e+00     0.000000     0.000000     0.000000     0.000000   \n",
       "75%    0.000000e+00     0.000000     0.000000     0.000000     0.000000   \n",
       "max    6.640130e-04     0.088571     0.005000     0.075000     0.007002   \n",
       "\n",
       "             998168  \n",
       "count  9.610000e+03  \n",
       "mean   1.040583e-07  \n",
       "std    1.020090e-05  \n",
       "min    0.000000e+00  \n",
       "25%    0.000000e+00  \n",
       "50%    0.000000e+00  \n",
       "75%    0.000000e+00  \n",
       "max    1.000000e-03  \n",
       "\n",
       "[8 rows x 1817 columns]"
      ]
     },
     "execution_count": 10,
     "metadata": {},
     "output_type": "execute_result"
    }
   ],
   "source": [
    "dst.describe()"
   ]
  },
  {
   "cell_type": "code",
   "execution_count": 11,
   "metadata": {
    "hidden": true
   },
   "outputs": [
    {
     "name": "stdout",
     "output_type": "stream",
     "text": [
      "69\n"
     ]
    }
   ],
   "source": [
    "# get the indices of the array where it is not zero\n",
    "dst.iloc[0].nonzero()\n",
    "ds =  dst.iloc[0]\n",
    "print(len(ds.iloc[ds.nonzero()]))\n",
    "ds.iloc[ds.nonzero()]\n",
    "\n",
    "# I will need this for the embedding - but this means I will not be able to use batch - 128; \n",
    "# I will have to process every input individually\n",
    "pass"
   ]
  },
  {
   "cell_type": "code",
   "execution_count": null,
   "metadata": {
    "collapsed": true,
    "hidden": true
   },
   "outputs": [],
   "source": []
  },
  {
   "cell_type": "code",
   "execution_count": null,
   "metadata": {
    "collapsed": true,
    "hidden": true
   },
   "outputs": [],
   "source": []
  },
  {
   "cell_type": "markdown",
   "metadata": {
    "collapsed": true
   },
   "source": [
    "# Network  <a id=\"model\"></a> \n",
    "[go back](#index)"
   ]
  },
  {
   "cell_type": "code",
   "execution_count": 12,
   "metadata": {},
   "outputs": [],
   "source": [
    "\n",
    "#---------------------------------------------------------------------\n",
    "def get_nns(): return str(ninp)+'*'+str(h[0])+'*'+str(h[1])+'*'+str(nout)\n",
    "def get_hpar(): return \"lr_%.0E_NN%s\" % (lr, get_nns())\n",
    "\n",
    "def logr(datep = '' , time='', it=1000, nn='', typ='TR', DS='', AC=0, num=0, AC3=0, AC10=0, desc='', startTime='', batch_size=128):\n",
    "    if desc == '': print(\"Log not recorded\"); return \n",
    "    LOG = \"../../_zfp/LOGT2.txt\"\n",
    "    f= open(LOG ,\"a+\") #w,a,\n",
    "    if datep != '':   dats = datep\n",
    "    else:             dats = datetime.now().strftime('%d.%m.%Y') \n",
    "    if time != '':    times = time\n",
    "    else:             times = datetime.now().strftime('%H:%M:%S') \n",
    "\n",
    "    line =  datetime.now().strftime('%d.%m.%Y') + '\\t' + times \n",
    "    line = line + '\\t' + str(it) + '\\t'+  get_nns() +  '\\t' + str(lr)\n",
    "    line = line + '\\t' + typ \n",
    "    line = line + '\\t' + str(DS) + '\\t' + str(AC) + '\\t' + str(num) + '\\t' + str(AC3) + '\\t' +  str(AC10) + '\\t' + desc \n",
    "    line = line + '\\t' + str(batch_size) + '\\t' +  startTime + '\\n' #new\n",
    "\n",
    "    f.write(line);  f.close()\n",
    "    print(\"___Log recorded\")    \n",
    "def restore_model(sess):   \n",
    "    saver= tf.train.Saver() \n",
    "    print(\"Model restored from file: %s\" % model_path)\n",
    "    saver.restore(sess, model_path)\n",
    "    \n",
    "# print(get_hpar())\n"
   ]
  },
  {
   "cell_type": "code",
   "execution_count": 13,
   "metadata": {},
   "outputs": [
    {
     "name": "stdout",
     "output_type": "stream",
     "text": [
      "0     [0, 0, 1, 0]\n",
      "1     [0, 0, 1, 0]\n",
      "2     [0, 0, 1, 0]\n",
      "3     [0, 0, 1, 0]\n",
      "4     [0, 0, 1, 0]\n",
      "5     [0, 0, 1, 0]\n",
      "6     [0, 0, 0, 1]\n",
      "7     [0, 0, 1, 0]\n",
      "8     [0, 0, 1, 0]\n",
      "9     [0, 0, 1, 0]\n",
      "10    [0, 0, 1, 0]\n",
      "Name: FP_P, dtype: object\n",
      "1814*100*40*4\n"
     ]
    }
   ],
   "source": [
    "\n",
    "epochs     = 10\n",
    "disp       = 5\n",
    "batch_s    = 64\n",
    "\n",
    "lr         = 0.01\n",
    "h          = [100 , 40]\n",
    "# h          = [40 , 10]\n",
    "\n",
    "ninp  = len(dst.columns) - 3 \n",
    "\n",
    "if   dType == 'C4':  nout = 4;   \n",
    "elif dType == 'C1': nout = 102;\n",
    "    \n",
    "#def convert_2List(dst): return {'label' : dst[\"label\"].as_matrix().tolist(), 'data' : dst[\"data\"].as_matrix().tolist()}\n",
    "# dst.insert(2, 'FP_P', dst['FP'].map(lambda x: cc( x )))  \n",
    "dst['FP_P'] = dst['FP'].map(lambda x: cc( x ))\n",
    "\n",
    "print(dst.loc[:10,'FP_P'])\n",
    "print( get_nns() )"
   ]
  },
  {
   "cell_type": "code",
   "execution_count": 39,
   "metadata": {},
   "outputs": [],
   "source": [
    "#---------------------------------------------------------------------\n",
    "def build_network2(is_train=False):     # Simple NN - with batch normalization (high level)\n",
    "    global ninp, nout\n",
    "    kp = 0.5; \n",
    "    \n",
    "    # h0 = tf.layers.dense( x, h[0], activation=tf.nn.relu,  name )\n",
    "    h0 = tf.layers.dense( x, h[0], use_bias=False, activation=None )\n",
    "    h0 = tf.layers.batch_normalization(h0, training=is_train)\n",
    "    h0 = tf.nn.relu(h0)\n",
    "    # h0 = tf.nn.dropout(h0, kp)\n",
    "    \n",
    "    h1 = tf.layers.dense( h0, h[1], use_bias=False, activation=None )\n",
    "    h1 = tf.layers.batch_normalization(h1, training=is_train)\n",
    "    h1 = tf.nn.relu(h1)\n",
    "    # h1 = tf.nn.dropout(h1, kp)\n",
    "    \n",
    "    out = tf.layers.dense( h1, nout, use_bias=False, activation=None )\n",
    "    #out = tf.layers.batch_normalization(out, training=is_train)\n",
    "    #out = tf.nn.relu(out)\n",
    "    # out = tf.nn.dropout(h0, kp)\n",
    "    \n",
    "    with tf.name_scope(\"accuracy\"):\n",
    "        # softmaxT = tf.nn.softmax(out)\n",
    "        softmaxT = tf.nn.top_k(tf.nn.softmax(out), 4)\n",
    "\n",
    "        prediction=tf.reduce_max(y,1)\n",
    "        correct_prediction = tf.equal(tf.argmax(out, 1), tf.argmax(y, 1))\n",
    "        accuracy = tf.reduce_mean(tf.cast(correct_prediction, tf.float32))\n",
    "        tf.summary.scalar(\"accuracy\", accuracy)\n",
    "\n",
    "    return out, accuracy, softmaxT "
   ]
  },
  {
   "cell_type": "code",
   "execution_count": 40,
   "metadata": {},
   "outputs": [
    {
     "name": "stdout",
     "output_type": "stream",
     "text": [
      "network built\n"
     ]
    }
   ],
   "source": [
    "x = tf.placeholder(tf.float32,   shape=[None, ninp], name=\"x\")\n",
    "y = tf.placeholder(tf.int16,     shape=[None, nout], name=\"y\")\n",
    "prediction, accuracy, softmaxT  = build_network2()\n",
    "print(\"network built\")\n",
    "\n",
    "with tf.name_scope(\"xent\"): #loss!\n",
    "    cost = tf.reduce_mean(tf.nn.softmax_cross_entropy_with_logits(logits=prediction, labels=y))\n",
    "    tf.summary.scalar(\"xent\", cost)\n",
    "\n",
    "with tf.name_scope(\"train\"): #opt!\n",
    "    optimizer = tf.train.AdamOptimizer(learning_rate=lr).minimize(cost)\n",
    "\n",
    "summ = tf.summary.merge_all()\n",
    "saver= tf.train.Saver()\n"
   ]
  },
  {
   "cell_type": "markdown",
   "metadata": {
    "heading_collapsed": true
   },
   "source": [
    "# RNN"
   ]
  },
  {
   "cell_type": "code",
   "execution_count": 14,
   "metadata": {
    "collapsed": true,
    "hidden": true
   },
   "outputs": [],
   "source": [
    "#---------------------------------------------------------------------\n",
    "def build_network3(is_train=False):     # RNN - embeddings\n",
    "    global ninp, nout\n",
    "    kp = 0.5; \n",
    "    \n",
    "    # I cannot use embeddings because they only allow int32 and int64\n",
    "    # but my data is in percentage - decimals ... - experiment \n",
    "    # embedding = tf.Variable(tf.random_uniform((ninp, h[0]), -1, 1))\n",
    "    # h0 = tf.nn.embedding_lookup(embedding, x)\n",
    "    # h0 = tf.gather(embedding, x)\n",
    "\n",
    "    #only solution: \n",
    "    # - Train: \n",
    "    #index = dst[i].nonzero()\n",
    "    #for j in index:\n",
    "    #    wtemp.append(w0[j]) \n",
    "    #    xtmp.append(dst[i].iloc[j])\n",
    "    #wtemp.dot(xtmp)  \n",
    "    #run optimize feed_dict h0: h0, y: y ... \n",
    "    \n",
    "    # h0 = tf.layers.dense( x, h[0], activation=tf.nn.relu,  name )\n",
    "    # h0 = tf.layers.dense( x, h[0], use_bias=False, activation=None )\n",
    "    # h0 = tf.layers.batch_normalization(h0, training=is_train)\n",
    "    # h0 = tf.nn.relu(h0)\n",
    "    # h0 = tf.nn.dropout(h0, kp)\n",
    "    \n",
    "    h1 = tf.layers.dense( h0, h[1], use_bias=False, activation=None )\n",
    "    h1 = tf.layers.batch_normalization(h1, training=is_train)\n",
    "    h1 = tf.nn.relu(h1)\n",
    "    # h1 = tf.nn.dropout(h1, kp)\n",
    "    \n",
    "    out = tf.layers.dense( h1, nout, use_bias=False, activation=None )\n",
    "    out = tf.layers.batch_normalization(out, training=is_train)\n",
    "    out = tf.nn.relu(out)\n",
    "    # out = tf.nn.dropout(h0, kp)\n",
    " \n",
    "    # softmaxT = tf.nn.softmax(out)\n",
    "    softmaxT = tf.nn.top_k(tf.nn.softmax(out), 4)\n",
    "            \n",
    "    prediction=tf.reduce_max(y,1)\n",
    "    correct_prediction = tf.equal(tf.argmax(out, 1), tf.argmax(y, 1))\n",
    "    accuracy = tf.reduce_mean(tf.cast(correct_prediction, tf.float32))\n",
    "\n",
    "    return out, accuracy, softmaxT "
   ]
  },
  {
   "cell_type": "markdown",
   "metadata": {},
   "source": [
    "# GAN"
   ]
  },
  {
   "cell_type": "code",
   "execution_count": null,
   "metadata": {
    "collapsed": true
   },
   "outputs": [],
   "source": [
    "#---------------------------------------------------------------------\n",
    "def generator(z, output_dim, reuse=False, alpha=0.2, training=True, size_mult=128):\n",
    "    with tf.variable_scope('generator', reuse=reuse):\n",
    "        # First fully connected layer\n",
    "        x1 = tf.layers.dense(z, h[0], use_bias=False, activation=None )\n",
    "        x1 = tf.layers.batch_normalization(x1, training=is_train)\n",
    "        x1 = tf.nn.relu(x1)\n",
    "        #x1 = tf.nn.dropout(x1, kp)\n",
    "        x2 = tf.layers.dense( x1, h[1], use_bias=False, activation=None )\n",
    "        x2 = tf.layers.batch_normalization(, training=is_train)\n",
    "        h1 = tf.nn.relu(x2)\n",
    "        # h1 = tf.nn.dropout(x2, kp)\n",
    "        out = tf.layers.dense( h1, nout, use_bias=False, activation=None )\n",
    "        out = tf.layers.batch_normalization(out, training=is_train)\n",
    "        out = tf.nn.relu(out)\n",
    "        # out = tf.nn.dropout(out, kp)\n",
    "        return out   \n",
    "    \n",
    "extra_class = 0        \n",
    "def discriminator(x, reuse=False, alpha=0.2, drop_rate=0., num_classes=10, size_mult=64):\n",
    "    with tf.variable_scope('discriminator', reuse=reuse):\n",
    "        # First fully connected layer\n",
    "        x1 = tf.layers.dense(x, h[0], use_bias=False, activation=None )\n",
    "        x1 = tf.layers.batch_normalization(x1, training=is_train)\n",
    "        x1 = tf.nn.relu(x1)\n",
    "        #x1 = tf.nn.dropout(x1, kp)\n",
    "        x2 = tf.layers.dense( x1, h[1], use_bias=False, activation=None )\n",
    "        x2 = tf.layers.batch_normalization(, training=is_train)\n",
    "        h1 = tf.nn.relu(x2)\n",
    "        # h1 = tf.nn.dropout(x2, kp)\n",
    "        out = tf.layers.dense( h1, nout+extra_class, use_bias=False, activation=None )\n",
    "#         out = tf.layers.batch_normalization(out, training=is_train)\n",
    "#         out = tf.nn.relu(out)\n",
    "        # out = tf.nn.dropout(out, kp)\n",
    "\n",
    "        if extra_class:\n",
    "            real_class_logits, fake_class_logits = tf.split(class_logits, [num_classes, 1], 1)\n",
    "            assert fake_class_logits.get_shape()[1] == 1, fake_class_logits.get_shape()\n",
    "            fake_class_logits = tf.squeeze(fake_class_logits)\n",
    "        else:\n",
    "            real_class_logits = class_logits\n",
    "            fake_class_logits = 0.\n",
    "            \n",
    "            \n",
    "        return out, class_logits, gan_logits, features\n",
    "        \n",
    "def model_loss(input_real, input_z, output_dim, y, num_classes, label_mask, alpha=0.2, drop_rate=0.):\n",
    "\n",
    "    return d_loss, g_loss, correct, masked_correct, g_model\n",
    "\n",
    "def model_opt(d_loss, g_loss, learning_rate, beta1):\n",
    "\n",
    "\n",
    "def build_network4(is_train=False):     # GAN\n",
    "    global ninp, nout\n",
    "    \n",
    "    \n",
    "    gen = tf.nn.dropout(h0, kp)\n",
    " \n",
    "    # softmaxT = tf.nn.softmax(out)\n",
    "    softmaxT = tf.nn.top_k(tf.nn.softmax(out), 4)\n",
    "            \n",
    "    prediction=tf.reduce_max(y,1)\n",
    "    correct_prediction = tf.equal(tf.argmax(out, 1), tf.argmax(y, 1))\n",
    "    accuracy = tf.reduce_mean(tf.cast(correct_prediction, tf.float32))\n",
    "\n",
    "    \n",
    "    \n",
    "        # softmaxT = tf.nn.softmax(out)\n",
    "    softmaxT = tf.nn.top_k(tf.nn.softmax(out), 4)\n",
    "\n",
    "    prediction=tf.reduce_max(y,1)\n",
    "    correct_prediction = tf.equal(tf.argmax(out, 1), tf.argmax(y, 1))\n",
    "    accuracy = tf.reduce_mean(tf.cast(correct_prediction, tf.float32))\n",
    "    \n",
    "    \n",
    "    return out, accuracy, softmaxT "
   ]
  },
  {
   "cell_type": "code",
   "execution_count": 16,
   "metadata": {},
   "outputs": [
    {
     "name": "stdout",
     "output_type": "stream",
     "text": [
      "network built\n"
     ]
    }
   ],
   "source": [
    "x = tf.placeholder(tf.float32,   shape=[None, ninp], name=\"x\")\n",
    "z = tf.placeholder(tf.float32,   shape=[None, ninp], name=\"z\")\n",
    "y = tf.placeholder(tf.int16,     shape=[None, nout], name=\"y\")\n",
    "lm= tf.placeholder(tf.int32, (None), name='label_mask')\n",
    "\n",
    "prediction, accuracy, softmaxT  = build_network2()\n",
    "print(\"GAN built\")"
   ]
  },
  {
   "cell_type": "code",
   "execution_count": null,
   "metadata": {
    "collapsed": true
   },
   "outputs": [],
   "source": []
  },
  {
   "cell_type": "markdown",
   "metadata": {},
   "source": [
    "# Network1 - TES"
   ]
  },
  {
   "cell_type": "code",
   "execution_count": 14,
   "metadata": {},
   "outputs": [
    {
     "data": {
      "text/plain": [
       "'../../_zfp/data/my_graph/FRFLO/FRFLOMODJJ1/'"
      ]
     },
     "execution_count": 14,
     "metadata": {},
     "output_type": "execute_result"
    }
   ],
   "source": [
    "MODEL_DIR"
   ]
  },
  {
   "cell_type": "markdown",
   "metadata": {},
   "source": [
    "# TR"
   ]
  },
  {
   "cell_type": "code",
   "execution_count": 42,
   "metadata": {},
   "outputs": [],
   "source": [
    "#---------------------------------------------------------------------\n",
    "def train(it = 100, disp=50, batch_size = 128):    \n",
    "    print(\"____TRAINING...\") #dst.loc[spn:,'FP_P'] dst.iloc[spn:, 3:]  \n",
    "    display_step =  disp \n",
    "\n",
    "    dataTest = {'label' : [] , 'data' :  [] };\n",
    "    #dataTest['data'], dataTest['label']  = feed_data(\"\", p_abs=False , d_st=True, p_col=True)   \n",
    "    \n",
    "    #dataT['data'].append(dataTest['data']) ;     md.dataT['label'].append(dataTest['label']) \n",
    "    print(\"data read - lenTrain={}-{} \" .format(len(dataTest[\"data\"]), len(dataTest[\"label\"]) ))\n",
    "\n",
    "    total_batch  = int(len(dst.loc[spn:]) / batch_size)\n",
    "    startTime = datetime.now().strftime('%H:%M:%S')\n",
    "\n",
    "    with tf.Session() as sess:\n",
    "        sess.run(tf.global_variables_initializer())\n",
    "        # restore_model(sess)  #Run if I want to retrain an existing model\n",
    "        writer = tf.summary.FileWriter(MODEL_DIR+\"tboard/\", sess.graph )\n",
    "        \n",
    "        start = time.time()\n",
    "        for i in range(it):            \n",
    "            for ii, (xtb,ytb) in enumerate(get_batches(batch_size) ):\n",
    "                # xtb, ytb = dc.next_batch(batch_size, dataT['data'], dataT['label'])\n",
    "                sess.run(optimizer, feed_dict={x: xtb, y: ytb})\n",
    "                if ii % display_step ==0: #record_step == 0:\n",
    "                    [train_accuracy] = sess.run([accuracy], feed_dict={x: xtb, y: ytb }) \n",
    "                    #s = sess.run(summ, feed_dict={x: xtb, y: ytb })\n",
    "                    #[train_accuracy, s] = sess.run([accuracy, summ], feed_dict={x: xtb, y: ytb }) \n",
    "                    #writer.add_summary(s, i)\n",
    "                    \n",
    "                    elapsed_time = float(time.time() - start)\n",
    "                    reviews_per_second = i / elapsed_time if elapsed_time > 0 else 0\n",
    "                    rp_s = str(reviews_per_second)[0:5]\n",
    "                    tr_ac = str(train_accuracy)[:5]  \n",
    "                    print('Epoch: {} batch: {} / {} - %Speed(it/disp_step): {} - tr_ac {}' .format(i, ii, total_batch, rp_s, tr_ac ))\n",
    "                    \n",
    "            #sess.run(optimizer, feed_dict={x: dataTest['data'], y: dataTest['label']})\n",
    "            #[train_accuracy] = sess.run([accuracy], feed_dict={x: dataTest['data'], y: dataTest['label']}) \n",
    "            #print(\"ColC-{}\".format(train_accuracy))\n",
    "            \n",
    "            ev_ac = str(sess.run( accuracy, feed_dict={ x: dst.iloc[:spn, 3:],  y: dst.loc[:spn-1,'FP_P'].as_matrix().tolist()  }))[:5]            \n",
    "            print(\"E Ac:\", ev_ac)\n",
    "        \n",
    "        # tr_ac = str(sess.run(accuracy, feed_dict={x: md.dataT['data'], y: md.dataT['label']}))[:5] \n",
    "        print(\"T Ac:\", tr_ac)\n",
    "        \n",
    "        save_path = saver.save(sess, model_path)\n",
    "        print(\"Model saved in file: %s\" % save_path) \n",
    "    print(\"Optimization Finished!\")\n",
    "\n",
    "    logr( it=it, typ='TR', DS=DESC, AC=tr_ac,num=len(dst)-spn, AC3=0, AC10=0, desc=des(), startTime=startTime, batch_size=batch_size )\n",
    "    logr( it=it, typ='EV', DS=DESC, AC=ev_ac,num=spn , AC3=0, AC10=0, desc=des() )\n",
    "#---------------------------------------------------------------------"
   ]
  },
  {
   "cell_type": "code",
   "execution_count": 37,
   "metadata": {},
   "outputs": [],
   "source": [
    "# print(type(dst.iloc[:spn-1,2:3]))\n",
    "# test = dst.loc[:2, 'FP_P']\n",
    "# print(type(test.tolist()))\n",
    "# test[0]"
   ]
  },
  {
   "cell_type": "markdown",
   "metadata": {
    "heading_collapsed": true
   },
   "source": [
    "# EV"
   ]
  },
  {
   "cell_type": "code",
   "execution_count": 18,
   "metadata": {
    "hidden": true
   },
   "outputs": [],
   "source": [
    "def evaluate( ): \n",
    "    print(\"_____EVALUATION...\")\n",
    "    startTime = datetime.now().strftime('%H:%M:%S')\n",
    "\n",
    "    with tf.Session() as sess:\n",
    "        sess.run(tf.global_variables_initializer())\n",
    "        restore_model(sess)\n",
    "        tr_ac = str(sess.run( accuracy, feed_dict={ x: dst.iloc[spn:, 3:],  y: dst.loc[spn:,'FP_P'].as_matrix().tolist()    }) )[:5]  \n",
    "        ev_ac = str(sess.run( accuracy, feed_dict={ x: dst.iloc[:spn, 3:],  y: dst.loc[:spn-1,'FP_P'].as_matrix().tolist()  }))[:5] \n",
    "        print(\"Training   Accuracy:\", tr_ac )\n",
    "        print(\"Evaluation Accuracy:\", ev_ac )\n",
    "        predv, softv = sess.run([prediction, softmaxT], feed_dict={x: dst.iloc[:spn, 3:]  }) # , y: md.dataE['label'] \n",
    "        # maxa = sess.run([prediction], feed_dict={y: predv })\n",
    "    print(\"Preview the first predictions:\")\n",
    "    for i in range(20):\n",
    "        print(\"RealVal: {}  - PP value: {}\".format( dc( dst.loc[:spn-1,'FP_P'][i])   , \n",
    "                                                    dc( predv.tolist()[i], np.max(predv[i]))  ))\n",
    "    gt3, gtM = check_perf_CN(softv, dst.loc[:spn-1,'FP_P'], False)\n",
    "    logr(  it=0, typ='EV', AC=ev_ac,DS=DESC, num=spn, AC3=gt3, AC10=gtM, desc=des(), startTime=startTime, batch_size=batch_s )"
   ]
  },
  {
   "cell_type": "markdown",
   "metadata": {
    "heading_collapsed": true
   },
   "source": [
    "# TS"
   ]
  },
  {
   "cell_type": "code",
   "execution_count": 19,
   "metadata": {
    "hidden": true
   },
   "outputs": [],
   "source": [
    "def tests(url_test = 'url', p_col=False):  \n",
    "    print(\"_____TESTS...\")    \n",
    "    global DESC\n",
    "    # Load test data \n",
    "    dataTest = {'label' : [] , 'data' :  [] }; pred_val = []\n",
    "    if p_col: dataTest['data'], dataTest['label']  = feed_data(\"\", p_abs=False , d_st=True, p_col=True)   \n",
    "    else: \n",
    "        if url_test != 'url':  \n",
    "            json_data = url_test + \"data_json6.txt\"\n",
    "            tmpLab = pd.read_csv(url_test + \"datal6.csv\", sep=',', usecols=[0,1])    \n",
    "            tmpLab = tmpLab.loc[:,'fp']\n",
    "            abstcc = False\n",
    "        else: \n",
    "            json_str, tmpLab = get_data_test(\"FRALL\")\n",
    "            json_data = json.loads(json_str)\n",
    "            abstcc = True\n",
    "            DESC =  'matnrList...'\n",
    "        \n",
    "        dataTest['data']  = feed_data(json_data, p_abs=abstcc , d_st=True)\n",
    "        \n",
    "        dataTest['label'] = []\n",
    "        [dataTest['label'].append( cc(x) ) for x in tmpLab ]\n",
    "    # Predict data \n",
    "    with tf.Session() as sess:\n",
    "        sess.run(tf.global_variables_initializer())\n",
    "        restore_model(sess)\n",
    "        # predv = sess.run( prediction, feed_dict={x: dataTest['data']}) \n",
    "        ts_acn = '0'\n",
    "        ts_acn, predv, sf = sess.run( [accuracy, prediction, softmaxT], feed_dict={x: dataTest['data'], y: dataTest['label']}) \n",
    "        ts_ac = str(ts_acn) \n",
    "        print(\"test ac = {}\".format(ts_ac))\n",
    "    # print(dataTest['label']);     print(sf)\n",
    "    range_ts = len(predv) if len(predv)<20 else 20\n",
    "    for i in range( range_ts ):\n",
    "        # print(\"RealVal: {}  - PP value: {}\".format( dc( dataTest['label'][i]), dc( predv.tolist()[i], np.max(predv[i]))  ))  \n",
    "        print(\"{} RealVal: {} - {} - PP: {} PR: {}\".format( i, dc( dataTest['label'][i]), sf[1][i][0],  sf[1][i], sf[0][i]   ))\n",
    "\n",
    "    # return\n",
    "    gt3, gtM = check_perf_CN(sf, dataTest[\"label\"], False)\n",
    "    logr( it=0, typ='TS', DS=DESC, AC=ts_acn ,num=len(dataTest[\"label\"]),  AC3=gt3, AC10=gtM, desc=des(), batch_size=batch_s )  \n",
    "\n",
    "    outfile = '../../_zfp/data/export2' \n",
    "    np.savetxt(outfile + '.csv', sf[1], delimiter=',')\n",
    "    np.savetxt(outfile + 'PRO.csv', sf[0], delimiter=',')"
   ]
  },
  {
   "cell_type": "code",
   "execution_count": null,
   "metadata": {
    "hidden": true
   },
   "outputs": [],
   "source": []
  },
  {
   "cell_type": "markdown",
   "metadata": {},
   "source": [
    "# EXECUTIONS <a id=\"exec\"/>\n",
    "[go back](#index)"
   ]
  },
  {
   "cell_type": "code",
   "execution_count": 18,
   "metadata": {
    "collapsed": true
   },
   "outputs": [],
   "source": [
    "# i = 18\n",
    "# print(\"  PP: {} PR: {} \". format(   sf[1][i], sf[0][i]    ))"
   ]
  },
  {
   "cell_type": "code",
   "execution_count": 43,
   "metadata": {},
   "outputs": [
    {
     "name": "stdout",
     "output_type": "stream",
     "text": [
      "____TRAINING...\n",
      "data read - lenTrain=0-0 \n",
      "4608\n",
      "Epoch: 0 batch: 0 / 72 - %Speed(it/disp_step): 0.0 - tr_ac 0.687\n",
      "Epoch: 0 batch: 5 / 72 - %Speed(it/disp_step): 0.0 - tr_ac 0.656\n",
      "Epoch: 0 batch: 10 / 72 - %Speed(it/disp_step): 0.0 - tr_ac 0.609\n",
      "Epoch: 0 batch: 15 / 72 - %Speed(it/disp_step): 0.0 - tr_ac 0.625\n",
      "Epoch: 0 batch: 20 / 72 - %Speed(it/disp_step): 0.0 - tr_ac 0.734\n",
      "Epoch: 0 batch: 25 / 72 - %Speed(it/disp_step): 0.0 - tr_ac 0.625\n",
      "Epoch: 0 batch: 30 / 72 - %Speed(it/disp_step): 0.0 - tr_ac 0.656\n",
      "Epoch: 0 batch: 35 / 72 - %Speed(it/disp_step): 0.0 - tr_ac 0.718\n",
      "Epoch: 0 batch: 40 / 72 - %Speed(it/disp_step): 0.0 - tr_ac 0.671\n",
      "Epoch: 0 batch: 45 / 72 - %Speed(it/disp_step): 0.0 - tr_ac 0.781\n",
      "Epoch: 0 batch: 50 / 72 - %Speed(it/disp_step): 0.0 - tr_ac 0.718\n",
      "Epoch: 0 batch: 55 / 72 - %Speed(it/disp_step): 0.0 - tr_ac 0.812\n",
      "Epoch: 0 batch: 60 / 72 - %Speed(it/disp_step): 0.0 - tr_ac 0.671\n",
      "Epoch: 0 batch: 65 / 72 - %Speed(it/disp_step): 0.0 - tr_ac 0.781\n",
      "Epoch: 0 batch: 70 / 72 - %Speed(it/disp_step): 0.0 - tr_ac 0.796\n",
      "E Ac: 0.743\n",
      "4608\n",
      "Epoch: 1 batch: 0 / 72 - %Speed(it/disp_step): 0.773 - tr_ac 0.734\n",
      "Epoch: 1 batch: 5 / 72 - %Speed(it/disp_step): 0.734 - tr_ac 0.781\n",
      "Epoch: 1 batch: 10 / 72 - %Speed(it/disp_step): 0.700 - tr_ac 0.671\n",
      "Epoch: 1 batch: 15 / 72 - %Speed(it/disp_step): 0.668 - tr_ac 0.812\n",
      "Epoch: 1 batch: 20 / 72 - %Speed(it/disp_step): 0.640 - tr_ac 0.781\n",
      "Epoch: 1 batch: 25 / 72 - %Speed(it/disp_step): 0.614 - tr_ac 0.796\n",
      "Epoch: 1 batch: 30 / 72 - %Speed(it/disp_step): 0.590 - tr_ac 0.75\n",
      "Epoch: 1 batch: 35 / 72 - %Speed(it/disp_step): 0.567 - tr_ac 0.843\n",
      "Epoch: 1 batch: 40 / 72 - %Speed(it/disp_step): 0.547 - tr_ac 0.765\n",
      "Epoch: 1 batch: 45 / 72 - %Speed(it/disp_step): 0.527 - tr_ac 0.843\n",
      "Epoch: 1 batch: 50 / 72 - %Speed(it/disp_step): 0.510 - tr_ac 0.765\n",
      "Epoch: 1 batch: 55 / 72 - %Speed(it/disp_step): 0.492 - tr_ac 0.812\n",
      "Epoch: 1 batch: 60 / 72 - %Speed(it/disp_step): 0.477 - tr_ac 0.718\n",
      "Epoch: 1 batch: 65 / 72 - %Speed(it/disp_step): 0.462 - tr_ac 0.765\n",
      "Epoch: 1 batch: 70 / 72 - %Speed(it/disp_step): 0.448 - tr_ac 0.812\n",
      "E Ac: 0.804\n",
      "4608\n",
      "Epoch: 2 batch: 0 / 72 - %Speed(it/disp_step): 0.814 - tr_ac 0.812\n",
      "Epoch: 2 batch: 5 / 72 - %Speed(it/disp_step): 0.792 - tr_ac 0.734\n",
      "Epoch: 2 batch: 10 / 72 - %Speed(it/disp_step): 0.772 - tr_ac 0.781\n",
      "Epoch: 2 batch: 15 / 72 - %Speed(it/disp_step): 0.752 - tr_ac 0.843\n",
      "Epoch: 2 batch: 20 / 72 - %Speed(it/disp_step): 0.733 - tr_ac 0.875\n",
      "Epoch: 2 batch: 25 / 72 - %Speed(it/disp_step): 0.715 - tr_ac 0.890\n",
      "Epoch: 2 batch: 30 / 72 - %Speed(it/disp_step): 0.699 - tr_ac 0.812\n",
      "Epoch: 2 batch: 35 / 72 - %Speed(it/disp_step): 0.682 - tr_ac 0.906\n",
      "Epoch: 2 batch: 40 / 72 - %Speed(it/disp_step): 0.666 - tr_ac 0.828\n",
      "Epoch: 2 batch: 45 / 72 - %Speed(it/disp_step): 0.652 - tr_ac 0.921\n",
      "Epoch: 2 batch: 50 / 72 - %Speed(it/disp_step): 0.637 - tr_ac 0.812\n",
      "Epoch: 2 batch: 55 / 72 - %Speed(it/disp_step): 0.624 - tr_ac 0.890\n",
      "Epoch: 2 batch: 60 / 72 - %Speed(it/disp_step): 0.611 - tr_ac 0.812\n",
      "Epoch: 2 batch: 65 / 72 - %Speed(it/disp_step): 0.599 - tr_ac 0.859\n",
      "Epoch: 2 batch: 70 / 72 - %Speed(it/disp_step): 0.587 - tr_ac 0.859\n",
      "E Ac: 0.829\n",
      "4608\n",
      "Epoch: 3 batch: 0 / 72 - %Speed(it/disp_step): 0.820 - tr_ac 0.812\n",
      "Epoch: 3 batch: 5 / 72 - %Speed(it/disp_step): 0.805 - tr_ac 0.765\n",
      "Epoch: 3 batch: 10 / 72 - %Speed(it/disp_step): 0.791 - tr_ac 0.859\n",
      "Epoch: 3 batch: 15 / 72 - %Speed(it/disp_step): 0.774 - tr_ac 0.828\n",
      "Epoch: 3 batch: 20 / 72 - %Speed(it/disp_step): 0.752 - tr_ac 0.859\n",
      "Epoch: 3 batch: 25 / 72 - %Speed(it/disp_step): 0.735 - tr_ac 0.890\n",
      "Epoch: 3 batch: 30 / 72 - %Speed(it/disp_step): 0.718 - tr_ac 0.859\n",
      "Epoch: 3 batch: 35 / 72 - %Speed(it/disp_step): 0.702 - tr_ac 0.906\n",
      "Epoch: 3 batch: 40 / 72 - %Speed(it/disp_step): 0.689 - tr_ac 0.828\n",
      "Epoch: 3 batch: 45 / 72 - %Speed(it/disp_step): 0.677 - tr_ac 0.921\n",
      "Epoch: 3 batch: 50 / 72 - %Speed(it/disp_step): 0.663 - tr_ac 0.890\n",
      "Epoch: 3 batch: 55 / 72 - %Speed(it/disp_step): 0.652 - tr_ac 0.937\n",
      "Epoch: 3 batch: 60 / 72 - %Speed(it/disp_step): 0.640 - tr_ac 0.859\n",
      "Epoch: 3 batch: 65 / 72 - %Speed(it/disp_step): 0.629 - tr_ac 0.796\n",
      "Epoch: 3 batch: 70 / 72 - %Speed(it/disp_step): 0.618 - tr_ac 0.937\n",
      "E Ac: 0.790\n",
      "4608\n",
      "Epoch: 4 batch: 0 / 72 - %Speed(it/disp_step): 0.776 - tr_ac 0.812\n",
      "Epoch: 4 batch: 5 / 72 - %Speed(it/disp_step): 0.764 - tr_ac 0.812\n",
      "Epoch: 4 batch: 10 / 72 - %Speed(it/disp_step): 0.751 - tr_ac 0.875\n",
      "Epoch: 4 batch: 15 / 72 - %Speed(it/disp_step): 0.740 - tr_ac 0.843\n",
      "Epoch: 4 batch: 20 / 72 - %Speed(it/disp_step): 0.729 - tr_ac 0.890\n",
      "Epoch: 4 batch: 25 / 72 - %Speed(it/disp_step): 0.718 - tr_ac 0.890\n",
      "Epoch: 4 batch: 30 / 72 - %Speed(it/disp_step): 0.707 - tr_ac 0.875\n",
      "Epoch: 4 batch: 35 / 72 - %Speed(it/disp_step): 0.697 - tr_ac 0.906\n",
      "Epoch: 4 batch: 40 / 72 - %Speed(it/disp_step): 0.687 - tr_ac 0.859\n",
      "Epoch: 4 batch: 45 / 72 - %Speed(it/disp_step): 0.677 - tr_ac 0.968\n",
      "Epoch: 4 batch: 50 / 72 - %Speed(it/disp_step): 0.667 - tr_ac 0.921\n",
      "Epoch: 4 batch: 55 / 72 - %Speed(it/disp_step): 0.657 - tr_ac 0.968\n",
      "Epoch: 4 batch: 60 / 72 - %Speed(it/disp_step): 0.644 - tr_ac 0.921\n",
      "Epoch: 4 batch: 65 / 72 - %Speed(it/disp_step): 0.634 - tr_ac 0.906\n",
      "Epoch: 4 batch: 70 / 72 - %Speed(it/disp_step): 0.624 - tr_ac 0.968\n",
      "E Ac: 0.835\n",
      "4608\n",
      "Epoch: 5 batch: 0 / 72 - %Speed(it/disp_step): 0.741 - tr_ac 0.828\n",
      "Epoch: 5 batch: 5 / 72 - %Speed(it/disp_step): 0.731 - tr_ac 0.843\n",
      "Epoch: 5 batch: 10 / 72 - %Speed(it/disp_step): 0.722 - tr_ac 0.875\n",
      "Epoch: 5 batch: 15 / 72 - %Speed(it/disp_step): 0.712 - tr_ac 0.859\n",
      "Epoch: 5 batch: 20 / 72 - %Speed(it/disp_step): 0.704 - tr_ac 0.906\n",
      "Epoch: 5 batch: 25 / 72 - %Speed(it/disp_step): 0.696 - tr_ac 0.906\n",
      "Epoch: 5 batch: 30 / 72 - %Speed(it/disp_step): 0.687 - tr_ac 0.890\n",
      "Epoch: 5 batch: 35 / 72 - %Speed(it/disp_step): 0.679 - tr_ac 0.937\n",
      "Epoch: 5 batch: 40 / 72 - %Speed(it/disp_step): 0.671 - tr_ac 0.890\n",
      "Epoch: 5 batch: 45 / 72 - %Speed(it/disp_step): 0.662 - tr_ac 0.968\n",
      "Epoch: 5 batch: 50 / 72 - %Speed(it/disp_step): 0.651 - tr_ac 0.906\n",
      "Epoch: 5 batch: 55 / 72 - %Speed(it/disp_step): 0.642 - tr_ac 0.968\n",
      "Epoch: 5 batch: 60 / 72 - %Speed(it/disp_step): 0.635 - tr_ac 0.921\n",
      "Epoch: 5 batch: 65 / 72 - %Speed(it/disp_step): 0.627 - tr_ac 0.953\n",
      "Epoch: 5 batch: 70 / 72 - %Speed(it/disp_step): 0.620 - tr_ac 0.968\n",
      "E Ac: 0.844\n",
      "4608\n",
      "Epoch: 6 batch: 0 / 72 - %Speed(it/disp_step): 0.717 - tr_ac 0.875\n",
      "Epoch: 6 batch: 5 / 72 - %Speed(it/disp_step): 0.710 - tr_ac 0.859\n",
      "Epoch: 6 batch: 10 / 72 - %Speed(it/disp_step): 0.704 - tr_ac 0.921\n",
      "Epoch: 6 batch: 15 / 72 - %Speed(it/disp_step): 0.697 - tr_ac 0.875\n",
      "Epoch: 6 batch: 20 / 72 - %Speed(it/disp_step): 0.691 - tr_ac 0.921\n",
      "Epoch: 6 batch: 25 / 72 - %Speed(it/disp_step): 0.684 - tr_ac 0.859\n",
      "Epoch: 6 batch: 30 / 72 - %Speed(it/disp_step): 0.676 - tr_ac 0.921\n",
      "Epoch: 6 batch: 35 / 72 - %Speed(it/disp_step): 0.670 - tr_ac 0.968\n",
      "Epoch: 6 batch: 40 / 72 - %Speed(it/disp_step): 0.664 - tr_ac 0.890\n",
      "Epoch: 6 batch: 45 / 72 - %Speed(it/disp_step): 0.657 - tr_ac 0.968\n",
      "Epoch: 6 batch: 50 / 72 - %Speed(it/disp_step): 0.650 - tr_ac 0.921\n",
      "Epoch: 6 batch: 55 / 72 - %Speed(it/disp_step): 0.644 - tr_ac 0.953\n",
      "Epoch: 6 batch: 60 / 72 - %Speed(it/disp_step): 0.639 - tr_ac 0.921\n",
      "Epoch: 6 batch: 65 / 72 - %Speed(it/disp_step): 0.633 - tr_ac 0.953\n",
      "Epoch: 6 batch: 70 / 72 - %Speed(it/disp_step): 0.628 - tr_ac 0.968\n",
      "E Ac: 0.844\n",
      "4608\n",
      "Epoch: 7 batch: 0 / 72 - %Speed(it/disp_step): 0.712 - tr_ac 0.875\n",
      "Epoch: 7 batch: 5 / 72 - %Speed(it/disp_step): 0.705 - tr_ac 0.859\n",
      "Epoch: 7 batch: 10 / 72 - %Speed(it/disp_step): 0.700 - tr_ac 0.937\n",
      "Epoch: 7 batch: 15 / 72 - %Speed(it/disp_step): 0.694 - tr_ac 0.875\n",
      "Epoch: 7 batch: 20 / 72 - %Speed(it/disp_step): 0.688 - tr_ac 0.921\n",
      "Epoch: 7 batch: 25 / 72 - %Speed(it/disp_step): 0.682 - tr_ac 0.906\n",
      "Epoch: 7 batch: 30 / 72 - %Speed(it/disp_step): 0.677 - tr_ac 0.921\n",
      "Epoch: 7 batch: 35 / 72 - %Speed(it/disp_step): 0.673 - tr_ac 0.968\n",
      "Epoch: 7 batch: 40 / 72 - %Speed(it/disp_step): 0.668 - tr_ac 0.906\n",
      "Epoch: 7 batch: 45 / 72 - %Speed(it/disp_step): 0.664 - tr_ac 0.984\n",
      "Epoch: 7 batch: 50 / 72 - %Speed(it/disp_step): 0.659 - tr_ac 0.921\n",
      "Epoch: 7 batch: 55 / 72 - %Speed(it/disp_step): 0.655 - tr_ac 0.968\n",
      "Epoch: 7 batch: 60 / 72 - %Speed(it/disp_step): 0.651 - tr_ac 0.937\n",
      "Epoch: 7 batch: 65 / 72 - %Speed(it/disp_step): 0.647 - tr_ac 0.937\n",
      "Epoch: 7 batch: 70 / 72 - %Speed(it/disp_step): 0.643 - tr_ac 1.0\n"
     ]
    },
    {
     "name": "stdout",
     "output_type": "stream",
     "text": [
      "E Ac: 0.851\n",
      "4608\n",
      "Epoch: 8 batch: 0 / 72 - %Speed(it/disp_step): 0.717 - tr_ac 0.890\n",
      "Epoch: 8 batch: 5 / 72 - %Speed(it/disp_step): 0.712 - tr_ac 0.921\n",
      "Epoch: 8 batch: 10 / 72 - %Speed(it/disp_step): 0.706 - tr_ac 0.921\n",
      "Epoch: 8 batch: 15 / 72 - %Speed(it/disp_step): 0.700 - tr_ac 0.890\n",
      "Epoch: 8 batch: 20 / 72 - %Speed(it/disp_step): 0.694 - tr_ac 0.937\n",
      "Epoch: 8 batch: 25 / 72 - %Speed(it/disp_step): 0.689 - tr_ac 0.890\n",
      "Epoch: 8 batch: 30 / 72 - %Speed(it/disp_step): 0.683 - tr_ac 0.968\n",
      "Epoch: 8 batch: 35 / 72 - %Speed(it/disp_step): 0.678 - tr_ac 0.953\n",
      "Epoch: 8 batch: 40 / 72 - %Speed(it/disp_step): 0.673 - tr_ac 0.906\n",
      "Epoch: 8 batch: 45 / 72 - %Speed(it/disp_step): 0.668 - tr_ac 1.0\n",
      "Epoch: 8 batch: 50 / 72 - %Speed(it/disp_step): 0.662 - tr_ac 0.937\n",
      "Epoch: 8 batch: 55 / 72 - %Speed(it/disp_step): 0.658 - tr_ac 0.984\n",
      "Epoch: 8 batch: 60 / 72 - %Speed(it/disp_step): 0.653 - tr_ac 0.953\n",
      "Epoch: 8 batch: 65 / 72 - %Speed(it/disp_step): 0.648 - tr_ac 0.953\n",
      "Epoch: 8 batch: 70 / 72 - %Speed(it/disp_step): 0.643 - tr_ac 0.984\n",
      "E Ac: 0.857\n",
      "4608\n",
      "Epoch: 9 batch: 0 / 72 - %Speed(it/disp_step): 0.706 - tr_ac 0.906\n",
      "Epoch: 9 batch: 5 / 72 - %Speed(it/disp_step): 0.701 - tr_ac 0.968\n",
      "Epoch: 9 batch: 10 / 72 - %Speed(it/disp_step): 0.696 - tr_ac 0.953\n",
      "Epoch: 9 batch: 15 / 72 - %Speed(it/disp_step): 0.691 - tr_ac 0.890\n",
      "Epoch: 9 batch: 20 / 72 - %Speed(it/disp_step): 0.686 - tr_ac 0.906\n",
      "Epoch: 9 batch: 25 / 72 - %Speed(it/disp_step): 0.681 - tr_ac 0.875\n",
      "Epoch: 9 batch: 30 / 72 - %Speed(it/disp_step): 0.676 - tr_ac 0.984\n",
      "Epoch: 9 batch: 35 / 72 - %Speed(it/disp_step): 0.671 - tr_ac 0.937\n",
      "Epoch: 9 batch: 40 / 72 - %Speed(it/disp_step): 0.667 - tr_ac 0.921\n",
      "Epoch: 9 batch: 45 / 72 - %Speed(it/disp_step): 0.663 - tr_ac 0.984\n",
      "Epoch: 9 batch: 50 / 72 - %Speed(it/disp_step): 0.658 - tr_ac 0.937\n",
      "Epoch: 9 batch: 55 / 72 - %Speed(it/disp_step): 0.654 - tr_ac 0.968\n",
      "Epoch: 9 batch: 60 / 72 - %Speed(it/disp_step): 0.650 - tr_ac 0.953\n",
      "Epoch: 9 batch: 65 / 72 - %Speed(it/disp_step): 0.645 - tr_ac 0.953\n",
      "Epoch: 9 batch: 70 / 72 - %Speed(it/disp_step): 0.640 - tr_ac 1.0\n",
      "E Ac: 0.854\n",
      "T Ac: 1.0\n",
      "Model saved in file: ../../_zfp/data/my_graph/FRFLO/FRFLOMODJJ1/model.ckpt\n",
      "Optimization Finished!\n",
      "___Log recorded\n",
      "___Log recorded\n"
     ]
    }
   ],
   "source": [
    "DESC       = \"FRFLO\"\n",
    "train(epochs, disp, batch_s)"
   ]
  },
  {
   "cell_type": "code",
   "execution_count": 44,
   "metadata": {},
   "outputs": [
    {
     "name": "stdout",
     "output_type": "stream",
     "text": [
      "_____EVALUATION...\n",
      "Model restored from file: ../../_zfp/data/my_graph/FRFLO/FRFLOMODJJ1/model.ckpt\n",
      "INFO:tensorflow:Restoring parameters from ../../_zfp/data/my_graph/FRFLO/FRFLOMODJJ1/model.ckpt\n",
      "Training   Accuracy: 0.954\n",
      "Evaluation Accuracy: 0.854\n",
      "Preview the first predictions:\n",
      "RealVal: 2  - PP value: 2\n",
      "RealVal: 2  - PP value: 2\n",
      "RealVal: 2  - PP value: 2\n",
      "RealVal: 2  - PP value: 2\n",
      "RealVal: 2  - PP value: 2\n",
      "RealVal: 2  - PP value: 2\n",
      "RealVal: 3  - PP value: 3\n",
      "RealVal: 2  - PP value: 2\n",
      "RealVal: 2  - PP value: 2\n",
      "RealVal: 2  - PP value: 2\n",
      "RealVal: 2  - PP value: 2\n",
      "RealVal: 3  - PP value: 3\n",
      "RealVal: 2  - PP value: 2\n",
      "RealVal: 3  - PP value: 3\n",
      "RealVal: 3  - PP value: 3\n",
      "RealVal: 2  - PP value: 2\n",
      "RealVal: 3  - PP value: 2\n",
      "RealVal: 2  - PP value: 2\n",
      "RealVal: 3  - PP value: 3\n",
      "RealVal: 2  - PP value: 2\n",
      "denormalization all Evaluation : 5000 = 5000\n",
      "0\n",
      "1000\n",
      "2000\n",
      "3000\n",
      "4000\n",
      "Total: 5000 GT3: 729  GTM: 729\n",
      "___Log recorded\n"
     ]
    }
   ],
   "source": [
    "DESC       = \"FRFLO\"\n",
    "evaluate( )\n"
   ]
  },
  {
   "cell_type": "code",
   "execution_count": 45,
   "metadata": {},
   "outputs": [
    {
     "name": "stdout",
     "output_type": "stream",
     "text": [
      "_____TESTS...\n",
      "input-no=1814\n",
      "cycle: 0\n",
      "m:308210-c:657716 not included\n",
      "m:607654-c:659609 not included\n",
      "m:632416-c:100182 not included\n",
      "m:632416-c:131026 not included\n",
      "m:632416-c:600247 not included\n",
      "m:632416-c:107714 not included\n",
      "m:632416-c:104774 not included\n",
      "m:632416-c:614552 not included\n",
      "m:632416-c:600236 not included\n",
      "m:632416-c:105671 not included\n",
      "m:632416-c:131306 not included\n",
      "m:632416-c:107353 not included\n",
      "m:632416-c:600180 not included\n",
      "m:632416-c:131305 not included\n",
      "m:632416-c:600224 not included\n",
      "m:632416-c:192114 not included\n",
      "m:632416-c:600338 not included\n",
      "m:632416-c:106148 not included\n",
      "m:632416-c:600227 not included\n",
      "m:632416-c:614235 not included\n",
      "m:632416-c:131303 not included\n",
      "m:632416-c:600256 not included\n",
      "m:632416-c:131357 not included\n",
      "m:632416-c:181023 not included\n",
      "m:632416-c:131341 not included\n",
      "m:632416-c:600252 not included\n",
      "m:632416-c:600229 not included\n",
      "m:632416-c:107159 not included\n",
      "m:632416-c:192002 not included\n",
      "m:632416-c:600237 not included\n",
      "m:632416-c:104814 not included\n",
      "m:632416-c:104557 not included\n",
      "m:632632-c:906246 not included\n",
      "m:632632-c:906228 not included\n",
      "m:632632-c:906195 not included\n",
      "m:632632-c:900081 not included\n",
      "m:632632-c:643368 not included\n",
      "m:632632-c:906234 not included\n",
      "m:632632-c:905210 not included\n",
      "m:632632-c:178713 not included\n",
      "m:632632-c:104241 not included\n",
      "m:632632-c:904987 not included\n",
      "m:633650-c:178429 not included\n",
      "m:633652-c:178429 not included\n",
      "m:634190-c:160065 not included\n",
      "m:634190-c:657531 not included\n",
      "m:634190-c:172585 not included\n",
      "m:634190-c:656991 not included\n",
      "m:634190-c:116216 not included\n",
      "m:634190-c:613113 not included\n",
      "m:634190-c:164136 not included\n",
      "m:634330-c:600283 not included\n",
      "m:634330-c:903936 not included\n",
      "m:634330-c:131168 not included\n",
      "m:634832-c:100954 not included\n",
      "m:634832-c:613373 not included\n",
      "m:634832-c:100985 not included\n",
      "m:635055-c:192517 not included\n",
      "m:635056-c:173437 not included\n",
      "m:635056-c:192517 not included\n",
      "m:635059-c:173437 not included\n",
      "m:635059-c:192161 not included\n",
      "m:635059-c:107854 not included\n",
      "m:635059-c:192517 not included\n",
      "m:635955-c:178429 not included\n",
      "m:637117-c:100013 not included\n",
      "m:640737-c:903656 not included\n",
      "m:640744-c:131460 not included\n",
      "m:640745-c:131460 not included\n",
      "m:641547-c:131357 not included\n",
      "m:641547-c:602537 not included\n",
      "m:641547-c:659973 not included\n",
      "m:641547-c:106929 not included\n",
      "m:641547-c:657707 not included\n",
      "m:641547-c:192002 not included\n",
      "m:641547-c:107353 not included\n",
      "m:641547-c:115614 not included\n",
      "m:641547-c:657856 not included\n",
      "m:641547-c:600324 not included\n",
      "m:641547-c:181204 not included\n",
      "m:641547-c:106148 not included\n",
      "m:641547-c:614235 not included\n",
      "m:641547-c:657858 not included\n",
      "m:642045-c:131460 not included\n",
      "m:642045-c:903656 not included\n",
      "m:642077-c:903656 not included\n",
      "m:642078-c:903656 not included\n",
      "m:642410-c:105370 not included\n",
      "m:642584-c:900175 not included\n",
      "m:642584-c:100103 not included\n",
      "m:642904-c:904694 not included\n",
      "m:648652-c:173462 not included\n",
      "m:648652-c:621180 not included\n",
      "m:648652-c:656153 not included\n",
      "m:648652-c:111545 not included\n",
      "m:648652-c:106234 not included\n",
      "m:648652-c:621270 not included\n",
      "m:648652-c:128713 not included\n",
      "m:648652-c:115121 not included\n",
      "m:648652-c:657014 not included\n",
      "m:648652-c:660450 not included\n",
      "m:648652-c:172904 not included\n",
      "m:648652-c:106233 not included\n",
      "m:648652-c:128714 not included\n",
      "m:648652-c:660472 not included\n",
      "m:648652-c:613621 not included\n",
      "m:649248-c:172381 not included\n",
      "m:649248-c:621329 not included\n",
      "m:654512-c:188069 not included\n",
      "m:654512-c:657280 not included\n",
      "m:654512-c:107544 not included\n",
      "m:654512-c:173483 not included\n",
      "m:657282-c:619724 not included\n",
      "m:657282-c:660551 not included\n",
      "m:668545-c:996058 not included\n",
      "m:668545-c:906371 not included\n",
      "m:668545-c:106229 not included\n",
      "m:668545-c:600324 not included\n",
      "m:668545-c:906339 not included\n",
      "m:668545-c:192002 not included\n",
      "m:668545-c:106228 not included\n",
      "m:668545-c:906342 not included\n",
      "m:669362-c:762238 not included\n",
      "m:671711-c:100984 not included\n",
      "m:671711-c:100954 not included\n",
      "m:672522-c:100509 not included\n",
      "m:728171-c:903016 not included\n",
      "m:942926-c:100264 not included\n",
      "m:942926-c:182161 not included\n",
      "m:942926-c:164401 not included\n",
      "m:942926-c:130180 not included\n",
      "m:942926-c:110098 not included\n",
      "m:942926-c:131137 not included\n",
      "m:942926-c:131320 not included\n",
      "m:942926-c:131186 not included\n",
      "m:942926-c:690957 not included\n",
      "m:942926-c:131359 not included\n",
      "m:942926-c:114089 not included\n",
      "m:942926-c:131217 not included\n",
      "Counter of comp. not included :\n",
      "Counter({903656: 4, 192002: 3, 192517: 3, 131460: 3, 178429: 3, 600324: 2, 131357: 2, 107353: 2, 100954: 2, 614235: 2, 173437: 2, 106148: 2, 903936: 1, 906246: 1, 100103: 1, 131341: 1, 600237: 1, 621329: 1, 600338: 1, 107544: 1, 656153: 1, 904987: 1, 181023: 1, 106929: 1, 643368: 1, 172585: 1, 657707: 1, 659973: 1, 104241: 1, 657716: 1, 160065: 1, 104774: 1, 660551: 1, 107854: 1, 900175: 1, 100182: 1, 172381: 1, 656991: 1, 131168: 1, 130180: 1, 906339: 1, 131186: 1, 906342: 1, 131217: 1, 172904: 1, 104557: 1, 104814: 1, 903016: 1, 192114: 1, 600180: 1, 657014: 1, 100984: 1, 100985: 1, 657531: 1, 621180: 1, 762238: 1, 657280: 1, 600256: 1, 906371: 1, 131137: 1, 107714: 1, 182161: 1, 110098: 1, 106228: 1, 173462: 1, 107159: 1, 614552: 1, 659609: 1, 105370: 1, 100509: 1, 115614: 1, 600224: 1, 192161: 1, 600227: 1, 600229: 1, 900081: 1, 100264: 1, 602537: 1, 173483: 1, 600236: 1, 100013: 1, 115121: 1, 660472: 1, 600247: 1, 111545: 1, 131359: 1, 600252: 1, 106229: 1, 657856: 1, 657858: 1, 178713: 1, 105671: 1, 128713: 1, 128714: 1, 619724: 1, 905210: 1, 131026: 1, 906195: 1, 181204: 1, 164401: 1, 621270: 1, 106233: 1, 996058: 1, 600283: 1, 131320: 1, 906234: 1, 188069: 1, 660450: 1, 690957: 1, 131303: 1, 131305: 1, 131306: 1, 164136: 1, 906228: 1, 613621: 1, 904694: 1, 114089: 1, 116216: 1, 613113: 1, 106234: 1, 613373: 1})\n",
      "Model restored from file: ../../_zfp/data/my_graph/FRFLO/FRFLOMODJJ1/model.ckpt\n",
      "INFO:tensorflow:Restoring parameters from ../../_zfp/data/my_graph/FRFLO/FRFLOMODJJ1/model.ckpt\n",
      "test ac = 0.863821\n",
      "0 RealVal: 1 - 2 - PP: [2 1 3 0] PR: [  1.00000000e+00   7.32787164e-09   2.78263008e-13   4.62253594e-14]\n",
      "1 RealVal: 3 - 3 - PP: [3 2 1 0] PR: [  8.54485571e-01   1.22337334e-01   2.31660847e-02   1.10127303e-05]\n",
      "2 RealVal: 2 - 2 - PP: [2 1 3 0] PR: [  9.99999762e-01   2.69267417e-07   4.75805839e-10   5.33658881e-12]\n",
      "3 RealVal: 2 - 2 - PP: [2 3 1 0] PR: [  9.70701158e-01   2.79200487e-02   1.36153935e-03   1.72610289e-05]\n",
      "4 RealVal: 2 - 2 - PP: [2 1 3 0] PR: [  1.00000000e+00   3.94594331e-08   1.21685384e-10   3.38141320e-12]\n",
      "5 RealVal: 3 - 3 - PP: [3 2 1 0] PR: [  9.35286522e-01   6.45302907e-02   1.82593882e-04   6.03824219e-07]\n",
      "6 RealVal: 3 - 3 - PP: [3 2 1 0] PR: [  8.25562775e-01   1.73840895e-01   5.94793586e-04   1.45941806e-06]\n",
      "7 RealVal: 2 - 3 - PP: [3 2 1 0] PR: [  7.12804615e-01   2.87071764e-01   1.23126811e-04   5.61312277e-07]\n",
      "8 RealVal: 3 - 3 - PP: [3 2 1 0] PR: [  9.16708291e-01   8.28469396e-02   4.41988639e-04   2.76330229e-06]\n",
      "9 RealVal: 2 - 2 - PP: [2 1 3 0] PR: [  1.00000000e+00   4.19246060e-09   8.20199880e-11   3.68572326e-14]\n",
      "10 RealVal: 3 - 3 - PP: [3 2 1 0] PR: [  9.78307843e-01   2.16747429e-02   1.74213928e-05   1.77058421e-08]\n",
      "11 RealVal: 3 - 3 - PP: [3 2 1 0] PR: [  7.39393413e-01   2.58444339e-01   2.16135150e-03   9.54968073e-07]\n",
      "12 RealVal: 2 - 2 - PP: [2 1 3 0] PR: [  9.99995589e-01   3.61604725e-06   8.00513703e-07   2.38946507e-09]\n",
      "13 RealVal: 3 - 3 - PP: [3 2 1 0] PR: [  9.44140911e-01   5.58332875e-02   2.57139800e-05   3.11414787e-08]\n",
      "14 RealVal: 2 - 2 - PP: [2 1 0 3] PR: [  9.97345150e-01   2.65484676e-03   4.80047460e-11   9.02620483e-28]\n",
      "15 RealVal: 3 - 2 - PP: [2 1 0 3] PR: [  9.99999762e-01   1.80776382e-07   1.44947476e-13   9.09504551e-21]\n",
      "16 RealVal: 3 - 2 - PP: [2 1 3 0] PR: [  1.00000000e+00   7.98824917e-09   1.60445511e-11   4.52384271e-14]\n",
      "17 RealVal: 2 - 2 - PP: [2 1 0 3] PR: [  1.00000000e+00   3.26021277e-09   6.34921667e-15   1.55375303e-16]\n",
      "18 RealVal: 2 - 2 - PP: [2 3 1 0] PR: [  9.99999881e-01   1.05568496e-07   5.11957552e-08   1.04028125e-12]\n",
      "19 RealVal: 3 - 3 - PP: [3 2 1 0] PR: [  9.75659907e-01   2.43396480e-02   4.01118143e-07   4.28370672e-11]\n",
      "denormalization all Evaluation : 984 = 984\n",
      "0\n",
      "Total: 984 GT3: 134  GTM: 134\n",
      "___Log recorded\n"
     ]
    }
   ],
   "source": [
    "url_test = \"../../_zfp/data/FREXP1/\" ; DESC     = \"FREXP1_6\"\n",
    "tests(url_test, p_col=False  )"
   ]
  },
  {
   "cell_type": "code",
   "execution_count": null,
   "metadata": {
    "collapsed": true
   },
   "outputs": [],
   "source": []
  },
  {
   "cell_type": "code",
   "execution_count": null,
   "metadata": {
    "collapsed": true
   },
   "outputs": [],
   "source": []
  },
  {
   "cell_type": "code",
   "execution_count": null,
   "metadata": {
    "collapsed": true
   },
   "outputs": [],
   "source": []
  },
  {
   "cell_type": "code",
   "execution_count": null,
   "metadata": {
    "collapsed": true
   },
   "outputs": [],
   "source": [
    "\n"
   ]
  },
  {
   "cell_type": "code",
   "execution_count": null,
   "metadata": {
    "collapsed": true
   },
   "outputs": [],
   "source": []
  },
  {
   "cell_type": "markdown",
   "metadata": {},
   "source": [
    "# Read components"
   ]
  },
  {
   "cell_type": "code",
   "execution_count": null,
   "metadata": {
    "collapsed": true
   },
   "outputs": [],
   "source": []
  },
  {
   "cell_type": "code",
   "execution_count": null,
   "metadata": {
    "collapsed": true
   },
   "outputs": [],
   "source": []
  },
  {
   "cell_type": "code",
   "execution_count": null,
   "metadata": {
    "collapsed": true
   },
   "outputs": [],
   "source": []
  },
  {
   "cell_type": "code",
   "execution_count": null,
   "metadata": {
    "collapsed": true
   },
   "outputs": [],
   "source": []
  },
  {
   "cell_type": "markdown",
   "metadata": {},
   "source": [
    "# WRITE EXCEL"
   ]
  },
  {
   "cell_type": "code",
   "execution_count": 54,
   "metadata": {
    "collapsed": true
   },
   "outputs": [],
   "source": [
    "# import xlsxwriter\n",
    "# outfile = '../../_zfp/data/export.xlsx' \n",
    "\n",
    "# workbook   = xlsxwriter.Workbook(outfile)\n",
    "# worksheet1 = workbook.add_worksheet()\n",
    "# worksheet1.write('A1', 'M')\n",
    "# worksheet1.write(0, 0, 'Hello')  \n",
    "# for i in range(len(sf[0])):\n",
    "#     worksheet1.write(0, i , sf[0][i])  \n",
    "#     worksheet1.write(1, i , sf[1][i]) "
   ]
  },
  {
   "cell_type": "code",
   "execution_count": 55,
   "metadata": {
    "collapsed": true
   },
   "outputs": [],
   "source": [
    "# import csv\n",
    "# outfile = '../../_zfp/data/export.csv' \n",
    "# f2= open(outfile,\"a+\")\n",
    "# output_writer = csv.writer(f2, delimiter=\"\\t\")\n",
    "# output_writer.writerows(sf)\n",
    "# f2.close()"
   ]
  },
  {
   "cell_type": "code",
   "execution_count": 57,
   "metadata": {
    "collapsed": true
   },
   "outputs": [],
   "source": [
    "# outfile = '../../_zfp/data/export2' \n",
    "# np.savetxt(outfile + '.csv', sf[1], delimiter=',')\n",
    "# np.savetxt(outfile + 'PRO.csv', sf[0], delimiter=',')"
   ]
  },
  {
   "cell_type": "markdown",
   "metadata": {},
   "source": [
    "# Display visualizations <a id=\"disp\"/>\n",
    "[go back](#index)"
   ]
  },
  {
   "cell_type": "code",
   "execution_count": 58,
   "metadata": {
    "collapsed": true
   },
   "outputs": [],
   "source": [
    "path = outfile = '../../_zfp/data/FRFLO/datasc.csv' \n",
    "dst  =  pd.read_csv( tf.gfile.Open(path), sep=None, skipinitialspace=True,  engine=\"python\")\n",
    "Y  = dst.loc[:,'FP'].as_matrix().tolist()\n",
    "X  = dst.loc[:, 'M'].as_matrix().tolist()"
   ]
  },
  {
   "cell_type": "code",
   "execution_count": 82,
   "metadata": {},
   "outputs": [
    {
     "data": {
      "image/png": "[encoded data removed]",
      "text/plain": [
       "<matplotlib.figure.Figure at 0x2279db38>"
      ]
     },
     "metadata": {},
     "output_type": "display_data"
    }
   ],
   "source": [
    "import matplotlib.pyplot as plt\n",
    "# 2 - Create plot. \n",
    "a = 1\n",
    "if a == 0: \n",
    "    plt.hist(Y)\n",
    "else: \n",
    "    plt.xlabel('M')\n",
    "    plt.ylabel('FP')\n",
    "    plt.grid(True)\n",
    "    N = 2 #50\n",
    "    colors = np.random.rand(N)\n",
    "    area = 1 #np.pi * (15 * np.random.rand(N))**2  # 0 to 15 point radii\n",
    "\n",
    "    #plt.plot(X, Y, color='blue', marker='o', label='FP Comp')\n",
    "    #plt.plot(X, Y, 'bo', label='FP Comp')\n",
    "    plt.scatter(X,Y, s=6, c='b', marker='o', cmap=None, norm=None, vmin=60, vmax=101, alpha=None,  label='FP Comp')\n",
    "    # plt.plot(X, Y,  s=area, c=colors, alpha=0.5) #'bo', label='FP Comp',\n",
    "    plt.legend()\n",
    "\n",
    "# 3 - Display plot. \n",
    "\n",
    "plt.show()"
   ]
  },
  {
   "cell_type": "code",
   "execution_count": null,
   "metadata": {
    "collapsed": true
   },
   "outputs": [],
   "source": []
  }
 ],
 "metadata": {
  "kernelspec": {
   "display_name": "Python 3",
   "language": "python",
   "name": "python3"
  },
  "language_info": {
   "codemirror_mode": {
    "name": "ipython",
    "version": 3
   },
   "file_extension": ".py",
   "mimetype": "text/x-python",
   "name": "python",
   "nbconvert_exporter": "python",
   "pygments_lexer": "ipython3",
   "version": "3.5.2"
  }
 },
 "nbformat": 4,
 "nbformat_minor": 2
}
