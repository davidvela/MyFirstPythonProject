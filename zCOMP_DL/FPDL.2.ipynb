{
 "cells": [
  {
   "cell_type": "markdown",
   "metadata": {},
   "source": [
    "# FP\n",
    "\n",
    "## v2 - softmax 2, pandas, \n",
    "## next v3 - GAN , embeddings and visualization:  tensorboard and ...matplot\n",
    "\n",
    "Start writing all my logic in jupyter notebook in order to run them from anaconda! <br>\n",
    "** IMPORTANT ** <br>\n",
    "the network cell should only be intialize once! otherwise the program start creating indexes for the variables!!!! \n",
    "\n",
    "tensorboard --logdir=.\\my_graph\t\n",
    "tensorboard => http://localhost:6006 <br>\n",
    "jupyter => http://localhost:8889\n",
    "\n",
    "## index: \n",
    "<a id='index'/>\n",
    "\n",
    "1. READ DATA \n",
    "    * Class \n",
    "    * files \n",
    "2. [Network](#model)\n",
    "3. [execution](#exec) \n",
    "4. [display](#disp)\n",
    "\n",
    "\n",
    "other: \n",
    "4. [Evaluate](#ev) \n",
    "5. [Test](#ts) \n",
    "6. [Other](#o)\n",
    "\n",
    "[go back](#index)"
   ]
  },
  {
   "cell_type": "code",
   "execution_count": 138,
   "metadata": {},
   "outputs": [],
   "source": [
    "import pandas as pd \n",
    "import tensorflow as tf \n",
    "import numpy as np \n",
    "import matplotlib.pyplot as plt\n",
    "\n",
    "import requests\n",
    "import json\n",
    "import sys\n",
    "import os\n",
    "import time\n",
    "from types import *\n",
    "from collections import Counter\n",
    "from datetime import datetime"
   ]
  },
  {
   "cell_type": "code",
   "execution_count": 2,
   "metadata": {},
   "outputs": [
    {
     "data": {
      "text/plain": [
       "1511533785.84954"
      ]
     },
     "execution_count": 2,
     "metadata": {},
     "output_type": "execute_result"
    }
   ],
   "source": [
    "start = time.time()\n",
    "start"
   ]
  },
  {
   "cell_type": "code",
   "execution_count": 3,
   "metadata": {},
   "outputs": [
    {
     "data": {
      "text/plain": [
       "'15:29:45'"
      ]
     },
     "execution_count": 3,
     "metadata": {},
     "output_type": "execute_result"
    }
   ],
   "source": [
    "datetime.now().strftime('%H:%M:%S')"
   ]
  },
  {
   "cell_type": "code",
   "execution_count": 4,
   "metadata": {},
   "outputs": [],
   "source": [
    "# tensorboard --logdir=.\\mygraph"
   ]
  },
  {
   "cell_type": "code",
   "execution_count": 5,
   "metadata": {},
   "outputs": [
    {
     "name": "stdout",
     "output_type": "stream",
     "text": [
      "hello\n"
     ]
    }
   ],
   "source": [
    "print(\"hello\")"
   ]
  },
  {
   "cell_type": "code",
   "execution_count": null,
   "metadata": {},
   "outputs": [],
   "source": []
  },
  {
   "cell_type": "markdown",
   "metadata": {
    "heading_collapsed": true
   },
   "source": [
    "# Data Read"
   ]
  },
  {
   "cell_type": "code",
   "execution_count": 6,
   "metadata": {
    "hidden": true
   },
   "outputs": [
    {
     "name": "stdout",
     "output_type": "stream",
     "text": [
      "data manipulation\n"
     ]
    }
   ],
   "source": [
    "def des():  return DESC+'_'+dType #+\"_filt:\"+  filter[0]+str(filter[1])\n",
    "def c2(df, rv=1):\n",
    "    if rv == 1:\n",
    "        if( df < 60 ):                  return [1,0]  \n",
    "        elif( df >= 60 ):               return [0,1]      \n",
    "    elif rf==2: \n",
    "        if( df < 60 ):                  return 0\n",
    "        elif( df >= 60 ):               return 1\n",
    "def c4(df, rv=1):\n",
    "    if rv == 1:\n",
    "        if( df < 23 ):                  return [1,0,0,0]  #0\n",
    "        elif( df >= 23 and df < 60 ):   return [0,1,0,0]  #1\n",
    "        elif( df >= 60 and df < 93 ):   return [0,0,1,0]  #2\n",
    "        elif( df >= 93 ):               return [0,0,0,1]  #3    \n",
    "    elif rf==2: \n",
    "        if( df < 23 ):                  return 0\n",
    "        elif( df >= 23 and df < 60 ):   return 1\n",
    "        elif( df >= 60 and df < 93 ):   return 2\n",
    "        elif( df >= 93 ):               return 3\n",
    "    # elif rf==3: \n",
    "    #     if  ( df == [1,0,0,0] ):        return 0 \n",
    "    #     elif( df == [0,1,0,0] ):        return 1\n",
    "    #     elif( df == [0,0,1,0] ):        return 2  \n",
    "    #     elif( df == [0,0,0,1] ):        return 3  \n",
    "def cN(df):\n",
    "    global nout\n",
    "    listofzeros = [0] * nout\n",
    "    dfIndex = df #//nRange\n",
    "    # print('{} and {}', (df,dfIndex))\n",
    "    if    0 < dfIndex < nout:   listofzeros[dfIndex] = 1\n",
    "    elif  dfIndex < 0:          listofzeros[0]       = 1\n",
    "    elif  dfIndex >= nout:      listofzeros[nout-1]  = 1\n",
    "    \n",
    "    return listofzeros \n",
    "def cc(x, rv=1):\n",
    "    global nout\n",
    "    if   dType == 'C4':  return c4(x, rv);\n",
    "    elif dType == 'C1':  return cN(x); \n",
    "    elif dType == 'C2':  nout = 2;   return c2(x, rv);\n",
    "def dc(df, val = 1 ):    return df.index(val)  \n",
    "def normalize():     dst[:, 'FP_P'] = dst['FP'].map(lambda x: cc( x ))\n",
    "def mainRead2( path, part, batch_size , all = True, shuffle = True):  \n",
    "    # read by partitions!   \n",
    "    global  spn, dst;\n",
    "    start = time.time()\n",
    "    if all:  dst = pd.read_csv( tf.gfile.Open(path), sep=None, skipinitialspace=True,  engine=\"python\" )\n",
    "    else:     \n",
    "        columns = pd.read_csv( tf.gfile.Open(path), sep=None, skipinitialspace=True,  engine=\"python\" ,skiprows=0, nrows=1)\n",
    "        dst = pd.read_csv( tf.gfile.Open(path), sep=None, skipinitialspace=True,  engine=\"python\" ,skiprows=part*batch_size+1, \n",
    "                           nrows=batch_size, names = columns.columns)\n",
    "    \n",
    "    dst = dst.fillna(0)\n",
    "    if shuffle: dst = dst.sample(frac=1).reset_index(drop=True) \n",
    "    dst.insert(2, 'FP_P', dst['FP'] )  \n",
    "    elapsed_time = float(time.time() - start)\n",
    "    print(\"data read - {} - time:{}\" .format(len(dst), elapsed_time ))\n",
    "\n",
    "    # #dst.insert(2, 'FP_P', dst['FP'].map(lambda x: cc( x )))  \n",
    "    # if batch_size > spn: spn = -1\n",
    "    # dst = dst.sample(frac=1).reset_index(drop=True) \n",
    "    # dataT  = {'label' : dst.loc[spn:,'FP_P'] , 'data' :  dst.iloc[spn:, 3:] }\n",
    "    # dataE  = {'label' : dst.loc[:spn-1,'FP_P'] , 'data' :  dst.iloc[:spn, 3:] }\n",
    "    #print(\"data read - lenTrain={}-{} & lenEv={}-{} time:{}\" .format(len(dataT[\"data\"]), \n",
    "    #    len(dataT[\"label\"]),len(dataE[\"data\"]),len(dataE[\"label\"]), elapsed_time ))\n",
    "    # dataT= convert_2List(dataT)\n",
    "    # dataE= convert_2List(dataE)\n",
    "    \n",
    "def get_batches(batch_size):\n",
    "    n_batches = int(len( dst.loc[spn:]  ) // batch_size)\n",
    "    print(n_batches*batch_size)\n",
    "    # x,y = dataT[\"data\"][:n_batches*batch_size], dataT[\"label\"][:n_batches*batch_size]\n",
    "    for ii in range(0, len( dst.loc[spn:spn+n_batches*batch_size]) , batch_size ):\n",
    "        #convert to list! \n",
    "        yield dst.iloc[spn+ii: spn+ii+batch_size, 3:].as_matrix().tolist(), dst.loc[spn+ii: spn+ii+batch_size-1, 'FP_P' ].as_matrix().tolist() \n",
    "        \n",
    "def check_perf_CN(predv, dataEv, sk_ev=False ):\n",
    "    gt3 = 0; gtM = 0; \n",
    "    # predvList = predv.tolist()\n",
    "    # assert(len(predv) == len(dataEv['label']))\n",
    "    print(\"denormalization all Evaluation : {} = {}\" .format(len(predv[1]), len(dataEv)))\n",
    "    #for i in range(100):\n",
    "    for i in range(len(dataEv)):\n",
    "        if (i % 1000==0): print(str(i)) #, end=\"__\") \n",
    "        try:\n",
    "            # pred_v = dc( predv.tolist()[i], np.max(predv[i]))\n",
    "            pred_v = predv[1][i][0]\n",
    "            data_v = dataEv[i] if sk_ev  else dc( dataEv[i])\n",
    "            if   dType == 'C4' and pred_v != data_v:  gt3=gtM=gtM+1\n",
    "            elif dType == 'C2' and pred_v != data_v:  gt3=gtM=gtM+1\n",
    "            elif dType == 'C1':\n",
    "                num = abs(pred_v-data_v)\n",
    "                if num > 3: gt3+=1\n",
    "                if num > 10: gtM+=1\n",
    "        except: print(\"error: i={}, pred={}, data={} -- \".format(i, pred_v, data_v))\n",
    "    print(\"Total: {} GT3: {}  GTM: {}\".format(len(predv[1]), gt3, gtM)) \n",
    "    return gt3, gtM \n",
    "def feed_data(dataJJ, p_abs, d_st = False, p_exp=False, pand=False, p_col = False):\n",
    "    indx=[];   index_col=0 if p_abs else 2 #abs=F => 2 == 6D\n",
    " \n",
    "    # col_df = pd.read_csv(COL_DS, index_col=index_col, sep=',', usecols=[0,1,2,3])    \n",
    "    col_df = pd.read_csv(COL_DS, index_col=index_col, sep=',', usecols=[0,1,2,3])    \n",
    "    col_df = col_df.fillna(0)\n",
    "    print(\"input-no={}\".format( len(col_df )))\n",
    "    \n",
    "    if p_exp:   indx.append(i for i in range(103))\n",
    "    else:       indx = col_df.index\n",
    "    \n",
    "    if p_col: \n",
    "        dataTest_label = []\n",
    "        dataJJ = \"[\"\n",
    "        for i in range(len(col_df)): \n",
    "            dataTest_label.append( cc( int(  col_df.iloc[i][\"fp\"]  )  )) \n",
    "            dataJJ += '{\"m\":\"'+str(i)+'\",'+'\"'+str(col_df.iloc[i].name)+'\"'+\":1},\"\n",
    "        dataJJ += '{\"m\":\"0\"}]';  dataTest_label.append(cc(0))\n",
    "        # dataJJ += ']'\n",
    "        dataJJ = json.loads(dataJJ)\n",
    "\n",
    "    json_df  = pd.DataFrame(columns=indx); df_entry = pd.Series(index=indx)\n",
    "    df_entry = df_entry.fillna(0) \n",
    "   \n",
    "    ccount = Counter()\n",
    "    if(isinstance(dataJJ, list)):json_data = dataJJ\n",
    "    else: json_str=open(dataJJ).read();  json_data = json.loads(json_str)\n",
    "    # for i in range(20):\n",
    "    for i in range(len(json_data)): # print(i)\n",
    "        df_entry *= 0\n",
    "        m = str(json_data[i][\"m\"])\n",
    "        df_entry.name = m\n",
    "        for key in json_data[i]:\n",
    "            if key == \"m\": pass            \n",
    "            else: \n",
    "                key_wz = key if p_abs else (int(key))  #str(int(key)) FRFLO - int // FRALL str!\n",
    "                try: #filling of key - experimental or COMP \n",
    "                    ds_comp = col_df.loc[key_wz]\n",
    "                    if p_exp == True:  #fp key - 0-102   \n",
    "                        co = str(ds_comp['FP'])\n",
    "                        if co == 'nan':  col_key = 102\n",
    "                        else: \n",
    "                            col_key = int(ds_comp['FP'])\n",
    "                            if col_key>101: col_key = 101\n",
    "                            if col_key<0: col_key = 0\n",
    "                    else: col_key = key_wz      \n",
    "                    # df_entry.loc[col_key]\n",
    "                    df_entry[col_key] =  np.float32(json_data[i][key])\n",
    "                except: \n",
    "                    if d_st: print(\"m:{}-c:{} not included\" .format(m, key_wz)); ccount[key_wz] +=1\n",
    "\n",
    "        json_df = json_df.append(df_entry,ignore_index=False)\n",
    "        if i % 1000 == 0: print(\"cycle: {}\".format(i))\n",
    "    print(\"Counter of comp. not included :\"); print(ccount) # print(len(ccount))\n",
    "\n",
    "    if p_col: return json_df.as_matrix().tolist(), dataTest_label\n",
    "    else: \n",
    "        if pand:  return json_df  \n",
    "        else:     return json_df.as_matrix().tolist() \n",
    "#---------------------------------------------------------------------\n",
    "print(\"data manipulation\")"
   ]
  },
  {
   "cell_type": "code",
   "execution_count": 7,
   "metadata": {
    "hidden": true
   },
   "outputs": [],
   "source": [
    "# for ii, (xtb,ytb) in enumerate(get_batches(batch_size) ):\n",
    "#     print(ii)"
   ]
  },
  {
   "cell_type": "markdown",
   "metadata": {
    "collapsed": true
   },
   "source": [
    "# Pandas tests"
   ]
  },
  {
   "cell_type": "code",
   "execution_count": 234,
   "metadata": {},
   "outputs": [],
   "source": [
    "LOG        = \"../../_zfp/LOG.txt\"\n",
    "LOGDIR     = \"../../_zfp/data/my_graph/\"\n",
    "LOGDAT     = \"../../_zfp/data/\"\n",
    "\n",
    "# spn        = 5000  #5000 -1 = all for training \n",
    "spn = 1\n",
    "# DESC       = \"ZTEST\"\n",
    "DESC       = \"FRFLO\"\n",
    "# DESC       = \"FRALL1\"\n",
    "dType      = \"C1\" #C1 or C4\n",
    "MMF        = \"MODJJ1\" #2(1) OR 5 (4)\n",
    "\n",
    "#---------------------------------------------------------------------\n",
    "MODEL_DIR  = LOGDIR + DESC + '/' + DESC + dType +  MMF +\"/\"  \n",
    "model_path = MODEL_DIR + \"model.ckpt\" \n",
    "DSJ        = \"/data_json.txt\"\n",
    "DSC        = \"/datasc.csv\"   \n",
    "DC         = \"/datac.csv\"\n",
    "DL         = \"/datal.csv\"\n",
    "LAB_DS     = LOGDAT + DESC + DL #\"../../_zfp/data/FRFLO/datal.csv\"\n",
    "COL_DS     = LOGDAT + DESC + DC \n",
    "ALL_DSJ    = LOGDAT + DESC + DSJ \n",
    "ALL_DS     = LOGDAT + DESC + DSC \n"
   ]
  },
  {
   "cell_type": "code",
   "execution_count": 235,
   "metadata": {},
   "outputs": [
    {
     "name": "stdout",
     "output_type": "stream",
     "text": [
      "data read - 9610 - time:5.398799896240234\n",
      "9610\n"
     ]
    }
   ],
   "source": [
    "mainRead2(ALL_DS, 1, 2, all = True, shuffle = True  ) \n",
    "print(len(dst))"
   ]
  },
  {
   "cell_type": "code",
   "execution_count": 239,
   "metadata": {},
   "outputs": [],
   "source": [
    "# dst.describe()\n",
    "# dst"
   ]
  },
  {
   "cell_type": "code",
   "execution_count": 241,
   "metadata": {},
   "outputs": [
    {
     "name": "stdout",
     "output_type": "stream",
     "text": [
      "81\n"
     ]
    }
   ],
   "source": [
    "# get the indices of the array where it is not zero\n",
    "dst.iloc[0].nonzero()\n",
    "ds =  dst.iloc[0]\n",
    "# print(ds)\n",
    "print(len(ds.iloc[ds.nonzero()]))\n",
    "ds.iloc[ds.nonzero()]\n",
    "\n",
    "# I will need this for the embedding - but this means I will not be able to use batch - 128; \n",
    "# I will have to process every input individually\n",
    "pass"
   ]
  },
  {
   "cell_type": "code",
   "execution_count": null,
   "metadata": {},
   "outputs": [],
   "source": []
  },
  {
   "cell_type": "code",
   "execution_count": null,
   "metadata": {},
   "outputs": [],
   "source": []
  },
  {
   "cell_type": "markdown",
   "metadata": {
    "collapsed": true
   },
   "source": [
    "# Network  <a id=\"model\"></a> \n",
    "[go back](#index)"
   ]
  },
  {
   "cell_type": "code",
   "execution_count": 226,
   "metadata": {},
   "outputs": [],
   "source": [
    "\n",
    "#---------------------------------------------------------------------\n",
    "def get_nns(): \n",
    "    #nns =  str(ninp)+'*'+str(h[0])+'*'+str(h[1])+'*'+str(nout)\n",
    "    nns =  str(ninp)+'*' \n",
    "    for i in range(len(h)):\n",
    "        nns = nns +str(h[i])+'*'\n",
    "    return nns +str(nout)\n",
    "def get_hpar(): return \"lr_%.0E_NN%s\" % (lr, get_nns())\n",
    "\n",
    "def logr(datep = '' , time='', it=1000, nn='', typ='TR', DS='', AC=0, num=0, AC3=0, AC10=0, desc='', startTime='', batch_size=128):\n",
    "    if desc == '': print(\"Log not recorded\"); return \n",
    "    LOG = \"../../_zfp/LOGT2.txt\"\n",
    "    f= open(LOG ,\"a+\") #w,a,\n",
    "    if datep != '':   dats = datep\n",
    "    else:             dats = datetime.now().strftime('%d.%m.%Y') \n",
    "    if time != '':    times = time\n",
    "    else:             times = datetime.now().strftime('%H:%M:%S') \n",
    "\n",
    "    line =  datetime.now().strftime('%d.%m.%Y') + '\\t' + times \n",
    "    line = line + '\\t' + str(it) + '\\t'+  get_nns() +  '\\t' + str(lr)\n",
    "    line = line + '\\t' + typ \n",
    "    line = line + '\\t' + str(DS) + '\\t' + str(AC) + '\\t' + str(num) + '\\t' + str(AC3) + '\\t' +  str(AC10) + '\\t' + desc \n",
    "    line = line + '\\t' + str(batch_size) + '\\t' +  startTime + '\\n' #new\n",
    "\n",
    "    f.write(line);  f.close()\n",
    "    print(\"___Log recorded\")    \n",
    "def restore_model(sess):   \n",
    "    saver= tf.train.Saver() \n",
    "    print(\"Model restored from file: %s\" % model_path)\n",
    "    saver.restore(sess, model_path)\n",
    "    \n",
    "# print(get_hpar())\n"
   ]
  },
  {
   "cell_type": "code",
   "execution_count": 227,
   "metadata": {},
   "outputs": [
    {
     "name": "stdout",
     "output_type": "stream",
     "text": [
      "0    [0, 0, 0, 0, 0, 0, 0, 0, 0, 0, 0, 0, 0, 0, 0, ...\n",
      "1    [0, 0, 0, 0, 0, 0, 0, 0, 0, 0, 0, 0, 0, 0, 0, ...\n",
      "2    [0, 0, 0, 0, 0, 0, 0, 0, 0, 0, 0, 0, 0, 0, 0, ...\n",
      "3    [0, 0, 0, 0, 0, 0, 0, 0, 0, 0, 0, 0, 0, 0, 0, ...\n",
      "Name: FP_P, dtype: object\n",
      "4*50*102\n"
     ]
    }
   ],
   "source": [
    "\n",
    "epochs     = 10\n",
    "disp       = 5\n",
    "batch_s    = 64\n",
    "\n",
    "lr         = 0.001\n",
    "# h        = [50]\n",
    "h          = [100 , 40]\n",
    "# h          = [40 , 10]\n",
    "# h = [1000, 500, 250, 125]\n",
    "\n",
    "ninp  = len(dst.columns) - 3 \n",
    "\n",
    "if   dType == 'C4':  nout = 4;   \n",
    "elif dType == 'C1': nout = 102;\n",
    "    \n",
    "#def convert_2List(dst): return {'label' : dst[\"label\"].as_matrix().tolist(), 'data' : dst[\"data\"].as_matrix().tolist()}\n",
    "# dst.insert(2, 'FP_P', dst['FP'].map(lambda x: cc( x )))  \n",
    "dst['FP_P'] = dst['FP'].map(lambda x: cc( x ))\n",
    "\n",
    "print(dst.loc[:10,'FP_P'])\n",
    "print( get_nns() )"
   ]
  },
  {
   "cell_type": "code",
   "execution_count": 228,
   "metadata": {},
   "outputs": [],
   "source": [
    "def fc(inp, nodes, kp, is_train):\n",
    "    # h = tf.layers.dense( x, h[0], activation=tf.nn.relu,  name )\n",
    "    h = tf.layers.dense( inp, nodes, use_bias=False, activation=None )\n",
    "    h = tf.layers.batch_normalization(h, training=is_train)\n",
    "    h = tf.nn.relu(h)\n",
    "    h = tf.nn.dropout(h, kp)\n",
    "    return h\n",
    "\n",
    "#---------------------------------------------------------------------\n",
    "def build_network2(is_train=False):     # Simple NN - with batch normalization (high level)\n",
    "    global ninp, nout\n",
    "    kp = 0.5; \n",
    "    tf.reset_default_graph()\n",
    "    x = tf.placeholder(tf.float32,   shape=[None, ninp], name=\"x\")\n",
    "    y = tf.placeholder(tf.int16,     shape=[None, nout], name=\"y\")\n",
    "    inp = x \n",
    "    for i in range(len(h)): \n",
    "        hx = fc(inp,  h[i], kp, is_train)\n",
    "        inp = hx \n",
    "#     h0  = fc(x,  h[0], kp, is_train)\n",
    "#     h1  = fc(h0, h[1], kp, is_train)\n",
    "    out = tf.layers.dense( hx, nout, use_bias=False, activation=None )\n",
    "    #out = tf.layers.batch_normalization(out, training=is_train)\n",
    "    #out = tf.nn.relu(out)\n",
    "    # out = tf.nn.dropout(h0, kp)\n",
    "    \n",
    "    with tf.name_scope(\"accuracy\"):\n",
    "        # softmaxT = tf.nn.softmax(out)\n",
    "        softmaxT = tf.nn.top_k(tf.nn.softmax(out), 4)\n",
    "\n",
    "        prediction=tf.reduce_max(y,1)\n",
    "        correct_prediction = tf.equal(tf.argmax(out, 1), tf.argmax(y, 1))\n",
    "        accuracy = tf.reduce_mean(tf.cast(correct_prediction, tf.float32))\n",
    "        tf.summary.scalar(\"accuracy\", accuracy)\n",
    "\n",
    "    with tf.name_scope(\"xent\"): #loss!\n",
    "        cost = tf.reduce_mean(tf.nn.softmax_cross_entropy_with_logits(logits=out, labels=y))\n",
    "        tf.summary.scalar(\"xent\", cost)\n",
    "    with tf.name_scope(\"train\"): #opt!\n",
    "        optimizer = tf.train.AdamOptimizer(learning_rate=lr).minimize(cost)\n",
    "\n",
    "    summ = tf.summary.merge_all()   \n",
    "    \n",
    "    return out, accuracy, softmaxT, x, y, optimizer, summ"
   ]
  },
  {
   "cell_type": "code",
   "execution_count": 229,
   "metadata": {},
   "outputs": [
    {
     "name": "stdout",
     "output_type": "stream",
     "text": [
      "network built\n"
     ]
    }
   ],
   "source": [
    "\n",
    "prediction, accuracy, softmaxT, x, y, optimizer, summ  = build_network2()\n",
    "print(\"network built\")\n",
    "\n",
    "\n",
    "saver= tf.train.Saver()\n"
   ]
  },
  {
   "cell_type": "markdown",
   "metadata": {
    "heading_collapsed": true
   },
   "source": [
    "# RNN"
   ]
  },
  {
   "cell_type": "code",
   "execution_count": 16,
   "metadata": {
    "hidden": true
   },
   "outputs": [],
   "source": [
    "#---------------------------------------------------------------------\n",
    "def build_network3(is_train=False):     # RNN - embeddings\n",
    "    global ninp, nout\n",
    "    kp = 0.5; \n",
    "    \n",
    "    # I cannot use embeddings because they only allow int32 and int64\n",
    "    # but my data is in percentage - decimals ... - experiment \n",
    "    # embedding = tf.Variable(tf.random_uniform((ninp, h[0]), -1, 1))\n",
    "    # h0 = tf.nn.embedding_lookup(embedding, x)\n",
    "    # h0 = tf.gather(embedding, x)\n",
    "\n",
    "    #only solution: \n",
    "    # - Train: \n",
    "    #index = dst[i].nonzero()\n",
    "    #for j in index:\n",
    "    #    wtemp.append(w0[j]) \n",
    "    #    xtmp.append(dst[i].iloc[j])\n",
    "    #wtemp.dot(xtmp)  \n",
    "    #run optimize feed_dict h0: h0, y: y ... \n",
    "    \n",
    "    # h0 = tf.layers.dense( x, h[0], activation=tf.nn.relu,  name )\n",
    "    # h0 = tf.layers.dense( x, h[0], use_bias=False, activation=None )\n",
    "    # h0 = tf.layers.batch_normalization(h0, training=is_train)\n",
    "    # h0 = tf.nn.relu(h0)\n",
    "    # h0 = tf.nn.dropout(h0, kp)\n",
    "    \n",
    "    h1 = tf.layers.dense( h0, h[1], use_bias=False, activation=None )\n",
    "    h1 = tf.layers.batch_normalization(h1, training=is_train)\n",
    "    h1 = tf.nn.relu(h1)\n",
    "    # h1 = tf.nn.dropout(h1, kp)\n",
    "    \n",
    "    out = tf.layers.dense( h1, nout, use_bias=False, activation=None )\n",
    "    out = tf.layers.batch_normalization(out, training=is_train)\n",
    "    out = tf.nn.relu(out)\n",
    "    # out = tf.nn.dropout(h0, kp)\n",
    " \n",
    "    # softmaxT = tf.nn.softmax(out)\n",
    "    softmaxT = tf.nn.top_k(tf.nn.softmax(out), 4)\n",
    "            \n",
    "    prediction=tf.reduce_max(y,1)\n",
    "    correct_prediction = tf.equal(tf.argmax(out, 1), tf.argmax(y, 1))\n",
    "    accuracy = tf.reduce_mean(tf.cast(correct_prediction, tf.float32))\n",
    "\n",
    "    return out, accuracy, softmaxT "
   ]
  },
  {
   "cell_type": "markdown",
   "metadata": {
    "heading_collapsed": true
   },
   "source": [
    "# GAN"
   ]
  },
  {
   "cell_type": "code",
   "execution_count": 17,
   "metadata": {
    "hidden": true
   },
   "outputs": [
    {
     "name": "stdout",
     "output_type": "stream",
     "text": [
      "GAN built\n"
     ]
    }
   ],
   "source": [
    "#---------------------------------------------------------------------\n",
    "def generator(z, output_dim, reuse=False, alpha=0.2, training=True, size_mult=128):\n",
    "    with tf.variable_scope('generator', reuse=reuse):\n",
    "        # First fully connected layer\n",
    "        x1 = tf.layers.dense(z, h[0], use_bias=False, activation=None )\n",
    "        x1 = tf.layers.batch_normalization(x1, training=is_train)\n",
    "        x1 = tf.nn.relu(x1)\n",
    "        #x1 = tf.nn.dropout(x1, kp)\n",
    "        x2 = tf.layers.dense( x1, h[1], use_bias=False, activation=None )\n",
    "        x2 = tf.layers.batch_normalization(x2, training=is_train)\n",
    "        h1 = tf.nn.relu(x2)\n",
    "        # h1 = tf.nn.dropout(x2, kp)\n",
    "        out = tf.layers.dense( h1, nout, use_bias=False, activation=None )\n",
    "        return out   \n",
    "    \n",
    "extra_class = 0        \n",
    "def discriminator(x, reuse=False, alpha=0.2, drop_rate=0., num_classes=10, size_mult=64):\n",
    "    with tf.variable_scope('discriminator', reuse=reuse):\n",
    "        # First fully connected layer\n",
    "        x1 = tf.layers.dense(x, h[0], use_bias=False, activation=None )\n",
    "        x1 = tf.layers.batch_normalization(x1, training=is_train)\n",
    "        x1 = tf.nn.relu(x1)\n",
    "        #x1 = tf.nn.dropout(x1, kp)\n",
    "        x2 = tf.layers.dense( x1, h[1], use_bias=False, activation=None )\n",
    "        x2 = tf.layers.batch_normalization(x2, training=is_train)\n",
    "        h1 = tf.nn.relu(x2)\n",
    "        # h1 = tf.nn.dropout(x2, kp)\n",
    "        class_logits  = tf.layers.dense( h1, nout+extra_class, use_bias=False, activation=None )\n",
    "        # out = tf.layers.batch_normalization(out, training=is_train)\n",
    "        # out = tf.nn.relu(out)\n",
    "        # out = tf.nn.dropout(out, kp)\n",
    "\n",
    "        if extra_class:\n",
    "            real_class_logits, fake_class_logits = tf.split(class_logits, [num_classes, 1], 1)\n",
    "            assert fake_class_logits.get_shape()[1] == 1, fake_class_logits.get_shape()\n",
    "            fake_class_logits = tf.squeeze(fake_class_logits)\n",
    "        else:\n",
    "            real_class_logits = class_logits\n",
    "            fake_class_logits = 0.\n",
    "            \n",
    "        mx = tf.reduce_max(real_class_logits, 1, keep_dims=True)\n",
    "        stable_real_class_logits = real_class_logits - mx\n",
    "        gan_logits = tf.log(tf.reduce_sum(tf.exp(stable_real_class_logits), 1)) + tf.squeeze(mx) - fake_class_logits\n",
    "        out = tf.nn.softmax(class_logits)\n",
    "        return out, class_logits, gan_logits, features\n",
    "        \n",
    "def model_loss(input_real, input_z, output_dim, y, num_classes, label_mask, alpha=0.2, drop_rate=0.):\n",
    "    g_size_mult = 32\n",
    "    d_size_mult = 64\n",
    "    \n",
    "    g_model = generator(input_z, output_dim, alpha=alpha, size_mult=g_size_mult)\n",
    "    d_on_data = discriminator(input_real, alpha=alpha, drop_rate=drop_rate, size_mult=d_size_mult)\n",
    "    d_model_real, class_logits_on_data, gan_logits_on_data, data_features = d_on_data\n",
    "    d_on_samples = discriminator(g_model, reuse=True, alpha=alpha, drop_rate=drop_rate, size_mult=d_size_mult)\n",
    "    d_model_fake, class_logits_on_samples, gan_logits_on_samples, sample_features = d_on_samples\n",
    "    \n",
    "    \n",
    "    \n",
    "    \n",
    "    \n",
    "    return d_loss, g_loss, correct, masked_correct, g_model\n",
    "\n",
    "def model_opt(d_loss, g_loss, learning_rate, beta1):\n",
    "    t_vars = tf.trainable_variables()\n",
    "    d_vars = [var for var in t_vars if var.name.startswith('discriminator')]\n",
    "    g_vars = [var for var in t_vars if var.name.startswith('generator')]\n",
    "    for t in t_vars:\n",
    "        assert t in d_vars or t in g_vars\n",
    "    d_train_opt = tf.train.AdamOptimizer(learning_rate, beta1=beta1).minimize(d_loss, var_list=d_vars)\n",
    "    g_train_opt = tf.train.AdamOptimizer(learning_rate, beta1=beta1).minimize(g_loss, var_list=g_vars)\n",
    "    shrink_lr = tf.assign(learning_rate, learning_rate * 0.9)\n",
    "    return d_train_opt, g_train_opt, shrink_lr\n",
    "\n",
    "class GAN:\n",
    "    def __init__(self, real_size, z_size, learning_rate, num_classes=10, alpha=0.2, beta1=0.5):\n",
    "        tf.reset_default_graph()\n",
    "        \n",
    "        self.learning_rate = tf.Variable(learning_rate, trainable=False)\n",
    "        self.input_real, self.input_z, self.y, self.label_mask = model_inputs(real_size, z_size)\n",
    "        self.drop_rate = tf.placeholder_with_default(.5, (), \"drop_rate\")\n",
    "        \n",
    "        loss_results = model_loss(self.input_real, self.input_z,\n",
    "                                    real_size[2], self.y, num_classes, label_mask=self.label_mask, alpha=0.2,\n",
    "                                    drop_rate=self.drop_rate) \n",
    "        \n",
    "        self.d_loss, self.g_loss, self.correct, self.masked_correct, self.samples = loss_results       \n",
    "        \n",
    "        self.d_opt, self.g_opt, self.shrink_lr = model_opt(self.d_loss, self.g_loss, self.learning_rate, beta1)\n",
    "        \n",
    "\n",
    "# real_size = (32,32,3)\n",
    "# z_size = 100\n",
    "# learning_rate = 0.0003\n",
    "\n",
    "# # net = GAN(real_size, z_size, learning_rate)\n",
    "\n",
    "# x = tf.placeholder(tf.float32,   shape=[None, ninp], name=\"x\")\n",
    "# z = tf.placeholder(tf.float32,   shape=[None, ninp], name=\"z\")\n",
    "# y = tf.placeholder(tf.int16,     shape=[None, nout], name=\"y\")\n",
    "# lm= tf.placeholder(tf.int32, (None), name='label_mask')\n",
    "print(\"GAN built\")"
   ]
  },
  {
   "cell_type": "code",
   "execution_count": null,
   "metadata": {
    "hidden": true
   },
   "outputs": [],
   "source": []
  },
  {
   "cell_type": "code",
   "execution_count": null,
   "metadata": {
    "hidden": true
   },
   "outputs": [],
   "source": []
  },
  {
   "cell_type": "markdown",
   "metadata": {},
   "source": [
    "# Network1 - TES"
   ]
  },
  {
   "cell_type": "code",
   "execution_count": 222,
   "metadata": {},
   "outputs": [
    {
     "data": {
      "text/plain": [
       "'../../_zfp/data/my_graph/ZTEST/ZTESTC1MODJJ1/'"
      ]
     },
     "execution_count": 222,
     "metadata": {},
     "output_type": "execute_result"
    }
   ],
   "source": [
    "MODEL_DIR"
   ]
  },
  {
   "cell_type": "markdown",
   "metadata": {
    "heading_collapsed": true
   },
   "source": [
    "# TR"
   ]
  },
  {
   "cell_type": "code",
   "execution_count": 28,
   "metadata": {
    "hidden": true
   },
   "outputs": [],
   "source": [
    "#---------------------------------------------------------------------\n",
    "def train(it = 100, disp=50, batch_size = 128):    \n",
    "    print(\"____TRAINING...\") #dst.loc[spn:,'FP_P'] dst.iloc[spn:, 3:]  \n",
    "    display_step =  disp \n",
    "\n",
    "    dataTest = {'label' : [] , 'data' :  [] };\n",
    "    #dataTest['data'], dataTest['label']  = feed_data(\"\", p_abs=False , d_st=True, p_col=True)   \n",
    "    \n",
    "    #dataT['data'].append(dataTest['data']) ;     md.dataT['label'].append(dataTest['label']) \n",
    "    print(\"data read - lenTrain={}-{} \" .format(len(dataTest[\"data\"]), len(dataTest[\"label\"]) ))\n",
    "\n",
    "    total_batch  = int(len(dst.loc[spn:]) / batch_size)\n",
    "    startTime = datetime.now().strftime('%H:%M:%S')\n",
    "\n",
    "    with tf.Session() as sess:\n",
    "        sess.run(tf.global_variables_initializer())\n",
    "        # restore_model(sess)  #Run if I want to retrain an existing model\n",
    "        writer = tf.summary.FileWriter(MODEL_DIR+\"tboard/\", sess.graph )\n",
    "        \n",
    "        start = time.time()\n",
    "        for i in range(it):            \n",
    "            for ii, (xtb,ytb) in enumerate(get_batches(batch_size) ):\n",
    "                # xtb, ytb = dc.next_batch(batch_size, dataT['data'], dataT['label'])\n",
    "                sess.run(optimizer, feed_dict={x: xtb, y: ytb})\n",
    "                if ii % display_step ==0: #record_step == 0:\n",
    "                    [train_accuracy] = sess.run([accuracy], feed_dict={x: xtb, y: ytb }) \n",
    "                    #s = sess.run(summ, feed_dict={x: xtb, y: ytb })\n",
    "                    #[train_accuracy, s] = sess.run([accuracy, summ], feed_dict={x: xtb, y: ytb }) \n",
    "                    #writer.add_summary(s, i)\n",
    "                    \n",
    "                    elapsed_time = float(time.time() - start)\n",
    "                    reviews_per_second = i / elapsed_time if elapsed_time > 0 else 0\n",
    "                    rp_s = str(reviews_per_second)[0:5]\n",
    "                    tr_ac = str(train_accuracy)[:5]  \n",
    "                    print('Epoch: {} batch: {} / {} - %Speed(it/disp_step): {} - tr_ac {}' .format(i, ii, total_batch, rp_s, tr_ac ))\n",
    "                    \n",
    "            #sess.run(optimizer, feed_dict={x: dataTest['data'], y: dataTest['label']})\n",
    "            #[train_accuracy] = sess.run([accuracy], feed_dict={x: dataTest['data'], y: dataTest['label']}) \n",
    "            #print(\"ColC-{}\".format(train_accuracy))\n",
    "            \n",
    "            #ev_ac = str(sess.run( accuracy, feed_dict={ x: dst.iloc[:spn, 3:],  y: dst.loc[:spn-1,'FP_P'].as_matrix().tolist()  }))[:5]            \n",
    "            test_accuracy = sess.run( accuracy, feed_dict={ x: dst.iloc[:spn, 3:],  y: dst.loc[:spn-1,'FP_P'].as_matrix().tolist()  })\n",
    "            ev_ac = str(test_accuracy)[:5]            \n",
    "            print(\"E Ac:\", ev_ac)\n",
    "\n",
    "            #tr_ac = str(sess.run( accuracy, feed_dict={ x: dst.iloc[spn:, 3:],  y: dst.loc[spn:,'FP_P'].as_matrix().tolist()   }) )[:5]  \n",
    "            train_accuracy = sess.run( accuracy, feed_dict={ x: dst.iloc[spn:, 3:],  y: dst.loc[spn:,'FP_P'].as_matrix().tolist()   })\n",
    "            tr_ac = str( train_accuracy )[:5] \n",
    "            print(\"T Ac:\", tr_ac)\n",
    "        \n",
    "            train_accuracies.append(train_accuracy)\n",
    "            test_accuracies.append(test_accuracy)\n",
    "        \n",
    "        \n",
    "        save_path = saver.save(sess, model_path)\n",
    "        print(\"Model saved in file: %s\" % save_path) \n",
    "    print(\"Optimization Finished!\")\n",
    "\n",
    "    logr( it=it, typ='TR', DS=DESC, AC=tr_ac,num=len(dst)-spn, AC3=0, AC10=0, desc=des(), startTime=startTime, batch_size=batch_size )\n",
    "    logr( it=it, typ='EV', DS=DESC, AC=ev_ac,num=spn , AC3=0, AC10=0, desc=des() )\n",
    "#---------------------------------------------------------------------"
   ]
  },
  {
   "cell_type": "code",
   "execution_count": 29,
   "metadata": {
    "hidden": true
   },
   "outputs": [],
   "source": [
    "# print(type(dst.iloc[:spn-1,2:3]))\n",
    "# test = dst.loc[:2, 'FP_P']\n",
    "# print(type(test.tolist()))\n",
    "# test[0]"
   ]
  },
  {
   "cell_type": "markdown",
   "metadata": {
    "heading_collapsed": true
   },
   "source": [
    "# EV"
   ]
  },
  {
   "cell_type": "code",
   "execution_count": 30,
   "metadata": {
    "hidden": true
   },
   "outputs": [],
   "source": [
    "def evaluate( ): \n",
    "    print(\"_____EVALUATION...\")\n",
    "    startTime = datetime.now().strftime('%H:%M:%S')\n",
    "\n",
    "    with tf.Session() as sess:\n",
    "        sess.run(tf.global_variables_initializer())\n",
    "        restore_model(sess)\n",
    "        tr_ac = str(sess.run( accuracy, feed_dict={ x: dst.iloc[spn:, 3:],  y: dst.loc[spn:,'FP_P'].as_matrix().tolist()    }) )[:5]  \n",
    "        ev_ac = str(sess.run( accuracy, feed_dict={ x: dst.iloc[:spn, 3:],  y: dst.loc[:spn-1,'FP_P'].as_matrix().tolist()  }))[:5] \n",
    "        print(\"Training   Accuracy:\", tr_ac )\n",
    "        print(\"Evaluation Accuracy:\", ev_ac )\n",
    "        predv, softv = sess.run([prediction, softmaxT], feed_dict={x: dst.iloc[:spn, 3:]  }) # , y: md.dataE['label'] \n",
    "        # maxa = sess.run([prediction], feed_dict={y: predv })\n",
    "    print(\"Preview the first predictions:\")\n",
    "    for i in range(20):\n",
    "        print(\"RealVal: {}  - PP value: {}\".format( dc( dst.loc[:spn-1,'FP_P'][i])   , \n",
    "                                                    dc( predv.tolist()[i], np.max(predv[i]))  ))\n",
    "    gt3, gtM = check_perf_CN(softv, dst.loc[:spn-1,'FP_P'], False)\n",
    "    logr(  it=0, typ='EV', AC=ev_ac,DS=DESC, num=spn, AC3=gt3, AC10=gtM, desc=des(), startTime=startTime, batch_size=batch_s )"
   ]
  },
  {
   "cell_type": "markdown",
   "metadata": {},
   "source": [
    "# TS"
   ]
  },
  {
   "cell_type": "code",
   "execution_count": 212,
   "metadata": {},
   "outputs": [],
   "source": [
    "def tests(url_test = 'url', p_col=False):  \n",
    "    print(\"_____TESTS...\")    \n",
    "    global DESC\n",
    "    # Load test data \n",
    "    dataTest = {'label' : [] , 'data' :  [] }; pred_val = []\n",
    "    if p_col: dataTest['data'], dataTest['label']  = feed_data(\"\", p_abs=False , d_st=True, p_col=True)   \n",
    "    else: \n",
    "        if url_test != 'url':  \n",
    "            json_data = url_test + \"data_json6.txt\"\n",
    "            tmpLab = pd.read_csv(url_test + \"datal6.csv\", sep=',', usecols=[0,1])    \n",
    "            tmpLab = tmpLab.loc[:,'fp']\n",
    "            abstcc = False\n",
    "        else: \n",
    "            #json_str, tmpLab = get_data_test(\"FRALL\")\n",
    "            json_str = '''[\n",
    "                        { \"m\":\"z\", \"c1\" :0.25, \"c2\" :0.25, \"c3\" :0.25, \"c4\" :0.25 }] '''\n",
    "            tmpLab = [1]\n",
    "            json_data = json.loads(json_str)\n",
    "            abstcc = True\n",
    "            DESC =  'matnrList...'\n",
    "        \n",
    "        dataTest['data']  = feed_data(json_data, p_abs=abstcc , d_st=True)\n",
    "        \n",
    "        dataTest['label'] = []\n",
    "        [dataTest['label'].append( cc(x) ) for x in tmpLab ]\n",
    "    # Predict data \n",
    "    with tf.Session() as sess:\n",
    "        sess.run(tf.global_variables_initializer())\n",
    "        restore_model(sess)\n",
    "        # predv = sess.run( prediction, feed_dict={x: dataTest['data']}) \n",
    "        ts_acn = '0'\n",
    "        ts_acn, predv, sf = sess.run( [accuracy, prediction, softmaxT], feed_dict={x: dataTest['data'], y: dataTest['label']}) \n",
    "        ts_ac = str(ts_acn) \n",
    "        print(\"test ac = {}\".format(ts_ac))\n",
    "    # print(dataTest['label']);     print(sf)\n",
    "    range_ts = len(predv) if len(predv)<20 else 20\n",
    "    for i in range( range_ts ):\n",
    "        # print(\"RealVal: {}  - PP value: {}\".format( dc( dataTest['label'][i]), dc( predv.tolist()[i], np.max(predv[i]))  ))  \n",
    "        print(\"{} RealVal: {} - {} - PP: {} PR: {}\".format( i, dc( dataTest['label'][i]), sf[1][i][0],  sf[1][i], sf[0][i]   ))\n",
    "\n",
    "    # return\n",
    "    gt3, gtM = check_perf_CN(sf, dataTest[\"label\"], False)\n",
    "    logr( it=0, typ='TS', DS=DESC, AC=ts_acn ,num=len(dataTest[\"label\"]),  AC3=gt3, AC10=gtM, desc=des(), batch_size=batch_s )  \n",
    "\n",
    "    outfile = '../../_zfp/data/export2' \n",
    "    np.savetxt(outfile + '.csv', sf[1], delimiter=',')\n",
    "    np.savetxt(outfile + 'PRO.csv', sf[0], delimiter=',')"
   ]
  },
  {
   "cell_type": "code",
   "execution_count": null,
   "metadata": {},
   "outputs": [],
   "source": []
  },
  {
   "cell_type": "markdown",
   "metadata": {},
   "source": [
    "# EXECUTIONS <a id=\"exec\"/>\n",
    "[go back](#index)"
   ]
  },
  {
   "cell_type": "code",
   "execution_count": 23,
   "metadata": {},
   "outputs": [],
   "source": [
    "# i = 18\n",
    "# print(\"  PP: {} PR: {} \". format(   sf[1][i], sf[0][i]    ))"
   ]
  },
  {
   "cell_type": "code",
   "execution_count": 230,
   "metadata": {},
   "outputs": [
    {
     "name": "stdout",
     "output_type": "stream",
     "text": [
      "____TRAINING...\n",
      "data read - lenTrain=0-0 \n",
      "0\n",
      "Epoch: 0 batch: 0 / 0 - %Speed(it/disp_step): 0.0 - tr_ac 1.0\n",
      "E Ac: 1.0\n",
      "T Ac: 1.0\n",
      "0\n",
      "Epoch: 1 batch: 0 / 0 - %Speed(it/disp_step): 35.71 - tr_ac 1.0\n",
      "E Ac: 1.0\n",
      "T Ac: 1.0\n",
      "0\n",
      "Epoch: 2 batch: 0 / 0 - %Speed(it/disp_step): 55.55 - tr_ac 1.0\n",
      "E Ac: 1.0\n",
      "T Ac: 1.0\n",
      "0\n",
      "Epoch: 3 batch: 0 / 0 - %Speed(it/disp_step): 69.76 - tr_ac 1.0\n",
      "E Ac: 1.0\n",
      "T Ac: 1.0\n",
      "0\n",
      "Epoch: 4 batch: 0 / 0 - %Speed(it/disp_step): 78.43 - tr_ac 1.0\n",
      "E Ac: 1.0\n",
      "T Ac: 1.0\n",
      "0\n",
      "Epoch: 5 batch: 0 / 0 - %Speed(it/disp_step): 84.74 - tr_ac 1.0\n",
      "E Ac: 1.0\n",
      "T Ac: 1.0\n",
      "0\n",
      "Epoch: 6 batch: 0 / 0 - %Speed(it/disp_step): 84.50 - tr_ac 1.0\n",
      "E Ac: 1.0\n",
      "T Ac: 1.0\n",
      "0\n",
      "Epoch: 7 batch: 0 / 0 - %Speed(it/disp_step): 88.60 - tr_ac 1.0\n",
      "E Ac: 1.0\n",
      "T Ac: 1.0\n",
      "0\n",
      "Epoch: 8 batch: 0 / 0 - %Speed(it/disp_step): 91.95 - tr_ac 1.0\n",
      "E Ac: 1.0\n",
      "T Ac: 1.0\n",
      "0\n",
      "Epoch: 9 batch: 0 / 0 - %Speed(it/disp_step): 95.74 - tr_ac 1.0\n",
      "E Ac: 1.0\n",
      "T Ac: 1.0\n",
      "0\n",
      "Epoch: 10 batch: 0 / 0 - %Speed(it/disp_step): 99.00 - tr_ac 1.0\n",
      "E Ac: 1.0\n",
      "T Ac: 1.0\n",
      "0\n",
      "Epoch: 11 batch: 0 / 0 - %Speed(it/disp_step): 101.8 - tr_ac 1.0\n",
      "E Ac: 1.0\n",
      "T Ac: 1.0\n",
      "0\n",
      "Epoch: 12 batch: 0 / 0 - %Speed(it/disp_step): 104.3 - tr_ac 1.0\n",
      "E Ac: 1.0\n",
      "T Ac: 1.0\n",
      "0\n",
      "Epoch: 13 batch: 0 / 0 - %Speed(it/disp_step): 106.5 - tr_ac 1.0\n",
      "E Ac: 1.0\n",
      "T Ac: 1.0\n",
      "0\n",
      "Epoch: 14 batch: 0 / 0 - %Speed(it/disp_step): 107.6 - tr_ac 1.0\n",
      "E Ac: 1.0\n",
      "T Ac: 1.0\n",
      "0\n",
      "Epoch: 15 batch: 0 / 0 - %Speed(it/disp_step): 110.2 - tr_ac 1.0\n",
      "E Ac: 1.0\n",
      "T Ac: 1.0\n",
      "0\n",
      "Epoch: 16 batch: 0 / 0 - %Speed(it/disp_step): 111.8 - tr_ac 1.0\n",
      "E Ac: 1.0\n",
      "T Ac: 1.0\n",
      "0\n",
      "Epoch: 17 batch: 0 / 0 - %Speed(it/disp_step): 112.5 - tr_ac 1.0\n",
      "E Ac: 1.0\n",
      "T Ac: 1.0\n",
      "0\n",
      "Epoch: 18 batch: 0 / 0 - %Speed(it/disp_step): 113.9 - tr_ac 1.0\n",
      "E Ac: 1.0\n",
      "T Ac: 1.0\n",
      "0\n",
      "Epoch: 19 batch: 0 / 0 - %Speed(it/disp_step): 114.4 - tr_ac 1.0\n",
      "E Ac: 1.0\n",
      "T Ac: 1.0\n",
      "0\n",
      "Epoch: 20 batch: 0 / 0 - %Speed(it/disp_step): 115.6 - tr_ac 1.0\n",
      "E Ac: 1.0\n",
      "T Ac: 1.0\n",
      "0\n",
      "Epoch: 21 batch: 0 / 0 - %Speed(it/disp_step): 116.6 - tr_ac 1.0\n",
      "E Ac: 1.0\n",
      "T Ac: 1.0\n",
      "0\n",
      "Epoch: 22 batch: 0 / 0 - %Speed(it/disp_step): 117.0 - tr_ac 1.0\n",
      "E Ac: 1.0\n",
      "T Ac: 1.0\n",
      "0\n",
      "Epoch: 23 batch: 0 / 0 - %Speed(it/disp_step): 117.9 - tr_ac 1.0\n",
      "E Ac: 1.0\n",
      "T Ac: 1.0\n",
      "0\n",
      "Epoch: 24 batch: 0 / 0 - %Speed(it/disp_step): 118.8 - tr_ac 1.0\n",
      "E Ac: 1.0\n",
      "T Ac: 1.0\n",
      "0\n",
      "Epoch: 25 batch: 0 / 0 - %Speed(it/disp_step): 117.9 - tr_ac 1.0\n",
      "E Ac: 1.0\n",
      "T Ac: 1.0\n",
      "0\n",
      "Epoch: 26 batch: 0 / 0 - %Speed(it/disp_step): 118.1 - tr_ac 1.0\n",
      "E Ac: 1.0\n",
      "T Ac: 1.0\n",
      "0\n",
      "Epoch: 27 batch: 0 / 0 - %Speed(it/disp_step): 118.9 - tr_ac 1.0\n",
      "E Ac: 1.0\n",
      "T Ac: 1.0\n",
      "0\n",
      "Epoch: 28 batch: 0 / 0 - %Speed(it/disp_step): 118.6 - tr_ac 1.0\n",
      "E Ac: 1.0\n",
      "T Ac: 1.0\n",
      "0\n",
      "Epoch: 29 batch: 0 / 0 - %Speed(it/disp_step): 116.9 - tr_ac 1.0\n",
      "E Ac: 1.0\n",
      "T Ac: 1.0\n",
      "0\n",
      "Epoch: 30 batch: 0 / 0 - %Speed(it/disp_step): 117.6 - tr_ac 1.0\n",
      "E Ac: 1.0\n",
      "T Ac: 1.0\n",
      "0\n",
      "Epoch: 31 batch: 0 / 0 - %Speed(it/disp_step): 118.3 - tr_ac 1.0\n",
      "E Ac: 1.0\n",
      "T Ac: 1.0\n",
      "0\n",
      "Epoch: 32 batch: 0 / 0 - %Speed(it/disp_step): 118.9 - tr_ac 1.0\n",
      "E Ac: 1.0\n",
      "T Ac: 1.0\n",
      "0\n",
      "Epoch: 33 batch: 0 / 0 - %Speed(it/disp_step): 119.5 - tr_ac 1.0\n",
      "E Ac: 1.0\n",
      "T Ac: 1.0\n",
      "0\n",
      "Epoch: 34 batch: 0 / 0 - %Speed(it/disp_step): 120.1 - tr_ac 1.0\n",
      "E Ac: 1.0\n",
      "T Ac: 1.0\n",
      "0\n",
      "Epoch: 35 batch: 0 / 0 - %Speed(it/disp_step): 120.2 - tr_ac 1.0\n",
      "E Ac: 1.0\n",
      "T Ac: 1.0\n",
      "0\n",
      "Epoch: 36 batch: 0 / 0 - %Speed(it/disp_step): 121.2 - tr_ac 1.0\n",
      "E Ac: 1.0\n",
      "T Ac: 1.0\n",
      "0\n",
      "Epoch: 37 batch: 0 / 0 - %Speed(it/disp_step): 120.9 - tr_ac 1.0\n",
      "E Ac: 1.0\n",
      "T Ac: 1.0\n",
      "0\n",
      "Epoch: 38 batch: 0 / 0 - %Speed(it/disp_step): 120.6 - tr_ac 1.0\n",
      "E Ac: 1.0\n",
      "T Ac: 1.0\n",
      "0\n",
      "Epoch: 39 batch: 0 / 0 - %Speed(it/disp_step): 120.7 - tr_ac 1.0\n",
      "E Ac: 1.0\n",
      "T Ac: 1.0\n",
      "0\n",
      "Epoch: 40 batch: 0 / 0 - %Speed(it/disp_step): 121.5 - tr_ac 1.0\n",
      "E Ac: 1.0\n",
      "T Ac: 1.0\n",
      "0\n",
      "Epoch: 41 batch: 0 / 0 - %Speed(it/disp_step): 121.6 - tr_ac 1.0\n",
      "E Ac: 1.0\n",
      "T Ac: 1.0\n",
      "0\n",
      "Epoch: 42 batch: 0 / 0 - %Speed(it/disp_step): 122.4 - tr_ac 1.0\n",
      "E Ac: 1.0\n",
      "T Ac: 1.0\n",
      "0\n",
      "Epoch: 43 batch: 0 / 0 - %Speed(it/disp_step): 122.8 - tr_ac 1.0\n",
      "E Ac: 1.0\n",
      "T Ac: 1.0\n",
      "0\n",
      "Epoch: 44 batch: 0 / 0 - %Speed(it/disp_step): 123.2 - tr_ac 1.0\n",
      "E Ac: 1.0\n",
      "T Ac: 1.0\n",
      "0\n",
      "Epoch: 45 batch: 0 / 0 - %Speed(it/disp_step): 123.6 - tr_ac 1.0\n",
      "E Ac: 1.0\n",
      "T Ac: 1.0\n",
      "0\n",
      "Epoch: 46 batch: 0 / 0 - %Speed(it/disp_step): 123.9 - tr_ac 1.0\n",
      "E Ac: 1.0\n",
      "T Ac: 1.0\n",
      "0\n",
      "Epoch: 47 batch: 0 / 0 - %Speed(it/disp_step): 124.0 - tr_ac 1.0\n",
      "E Ac: 1.0\n",
      "T Ac: 1.0\n",
      "0\n",
      "Epoch: 48 batch: 0 / 0 - %Speed(it/disp_step): 124.6 - tr_ac 1.0\n",
      "E Ac: 1.0\n",
      "T Ac: 1.0\n",
      "0\n",
      "Epoch: 49 batch: 0 / 0 - %Speed(it/disp_step): 125.0 - tr_ac 1.0\n",
      "E Ac: 1.0\n",
      "T Ac: 1.0\n",
      "0\n",
      "Epoch: 50 batch: 0 / 0 - %Speed(it/disp_step): 125.0 - tr_ac 1.0\n",
      "E Ac: 1.0\n",
      "T Ac: 1.0\n",
      "0\n",
      "Epoch: 51 batch: 0 / 0 - %Speed(it/disp_step): 125.3 - tr_ac 1.0\n",
      "E Ac: 1.0\n",
      "T Ac: 1.0\n",
      "0\n",
      "Epoch: 52 batch: 0 / 0 - %Speed(it/disp_step): 125.0 - tr_ac 1.0\n",
      "E Ac: 1.0\n",
      "T Ac: 1.0\n",
      "0\n",
      "Epoch: 53 batch: 0 / 0 - %Speed(it/disp_step): 124.7 - tr_ac 1.0\n",
      "E Ac: 1.0\n",
      "T Ac: 1.0\n",
      "0\n",
      "Epoch: 54 batch: 0 / 0 - %Speed(it/disp_step): 124.1 - tr_ac 1.0\n",
      "E Ac: 1.0\n",
      "T Ac: 1.0\n",
      "0\n",
      "Epoch: 55 batch: 0 / 0 - %Speed(it/disp_step): 123.8 - tr_ac 1.0\n",
      "E Ac: 1.0\n",
      "T Ac: 1.0\n",
      "0\n",
      "Epoch: 56 batch: 0 / 0 - %Speed(it/disp_step): 122.8 - tr_ac 1.0\n",
      "E Ac: 1.0\n",
      "T Ac: 1.0\n",
      "0\n",
      "Epoch: 57 batch: 0 / 0 - %Speed(it/disp_step): 122.8 - tr_ac 1.0\n",
      "E Ac: 1.0\n",
      "T Ac: 1.0\n",
      "0\n",
      "Epoch: 58 batch: 0 / 0 - %Speed(it/disp_step): 123.1 - tr_ac 1.0\n",
      "E Ac: 1.0\n",
      "T Ac: 1.0\n",
      "0\n",
      "Epoch: 59 batch: 0 / 0 - %Speed(it/disp_step): 123.1 - tr_ac 1.0\n",
      "E Ac: 1.0\n",
      "T Ac: 1.0\n",
      "0\n",
      "Epoch: 60 batch: 0 / 0 - %Speed(it/disp_step): 121.9 - tr_ac 1.0\n",
      "E Ac: 1.0\n",
      "T Ac: 1.0\n",
      "0\n",
      "Epoch: 61 batch: 0 / 0 - %Speed(it/disp_step): 122.0 - tr_ac 1.0\n",
      "E Ac: 1.0\n",
      "T Ac: 1.0\n",
      "0\n",
      "Epoch: 62 batch: 0 / 0 - %Speed(it/disp_step): 122.2 - tr_ac 1.0\n",
      "E Ac: 1.0\n",
      "T Ac: 1.0\n",
      "0\n",
      "Epoch: 63 batch: 0 / 0 - %Speed(it/disp_step): 122.3 - tr_ac 1.0\n",
      "E Ac: 1.0\n",
      "T Ac: 1.0\n",
      "0\n",
      "Epoch: 64 batch: 0 / 0 - %Speed(it/disp_step): 122.3 - tr_ac 1.0\n",
      "E Ac: 1.0\n",
      "T Ac: 1.0\n",
      "0\n",
      "Epoch: 65 batch: 0 / 0 - %Speed(it/disp_step): 122.4 - tr_ac 1.0\n",
      "E Ac: 1.0\n",
      "T Ac: 1.0\n",
      "0\n",
      "Epoch: 66 batch: 0 / 0 - %Speed(it/disp_step): 122.9 - tr_ac 1.0\n",
      "E Ac: 1.0\n",
      "T Ac: 1.0\n",
      "0\n",
      "Epoch: 67 batch: 0 / 0 - %Speed(it/disp_step): 123.1 - tr_ac 1.0\n",
      "E Ac: 1.0\n",
      "T Ac: 1.0\n",
      "0\n",
      "Epoch: 68 batch: 0 / 0 - %Speed(it/disp_step): 123.4 - tr_ac 1.0\n",
      "E Ac: 1.0\n",
      "T Ac: 1.0\n",
      "0\n",
      "Epoch: 69 batch: 0 / 0 - %Speed(it/disp_step): 123.8 - tr_ac 1.0\n",
      "E Ac: 1.0\n",
      "T Ac: 1.0\n",
      "0\n",
      "Epoch: 70 batch: 0 / 0 - %Speed(it/disp_step): 124.1 - tr_ac 1.0\n",
      "E Ac: 1.0\n",
      "T Ac: 1.0\n",
      "0\n",
      "Epoch: 71 batch: 0 / 0 - %Speed(it/disp_step): 124.3 - tr_ac 1.0\n",
      "E Ac: 1.0\n",
      "T Ac: 1.0\n",
      "0\n",
      "Epoch: 72 batch: 0 / 0 - %Speed(it/disp_step): 124.5 - tr_ac 1.0\n",
      "E Ac: 1.0\n",
      "T Ac: 1.0\n",
      "0\n",
      "Epoch: 73 batch: 0 / 0 - %Speed(it/disp_step): 124.7 - tr_ac 1.0\n",
      "E Ac: 1.0\n",
      "T Ac: 1.0\n",
      "0\n",
      "Epoch: 74 batch: 0 / 0 - %Speed(it/disp_step): 124.9 - tr_ac 1.0\n",
      "E Ac: 1.0\n",
      "T Ac: 1.0\n",
      "0\n",
      "Epoch: 75 batch: 0 / 0 - %Speed(it/disp_step): 125.2 - tr_ac 1.0\n",
      "E Ac: 1.0\n",
      "T Ac: 1.0\n",
      "0\n",
      "Epoch: 76 batch: 0 / 0 - %Speed(it/disp_step): 125.4 - tr_ac 1.0\n",
      "E Ac: 1.0\n",
      "T Ac: 1.0\n",
      "0\n",
      "Epoch: 77 batch: 0 / 0 - %Speed(it/disp_step): 125.6 - tr_ac 1.0\n",
      "E Ac: 1.0\n",
      "T Ac: 1.0\n",
      "0\n",
      "Epoch: 78 batch: 0 / 0 - %Speed(it/disp_step): 125.4 - tr_ac 1.0\n",
      "E Ac: 1.0\n",
      "T Ac: 1.0\n",
      "0\n",
      "Epoch: 79 batch: 0 / 0 - %Speed(it/disp_step): 125.3 - tr_ac 1.0\n",
      "E Ac: 1.0\n",
      "T Ac: 1.0\n",
      "0\n",
      "Epoch: 80 batch: 0 / 0 - %Speed(it/disp_step): 125.5 - tr_ac 1.0\n",
      "E Ac: 1.0\n",
      "T Ac: 1.0\n",
      "0\n",
      "Epoch: 81 batch: 0 / 0 - %Speed(it/disp_step): 125.1 - tr_ac 1.0\n",
      "E Ac: 1.0\n",
      "T Ac: 1.0\n",
      "0\n",
      "Epoch: 82 batch: 0 / 0 - %Speed(it/disp_step): 125.5 - tr_ac 1.0\n",
      "E Ac: 1.0\n",
      "T Ac: 1.0\n",
      "0\n",
      "Epoch: 83 batch: 0 / 0 - %Speed(it/disp_step): 125.7 - tr_ac 1.0\n",
      "E Ac: 1.0\n",
      "T Ac: 1.0\n",
      "0\n",
      "Epoch: 84 batch: 0 / 0 - %Speed(it/disp_step): 125.7 - tr_ac 1.0\n",
      "E Ac: 1.0\n",
      "T Ac: 1.0\n",
      "0\n",
      "Epoch: 85 batch: 0 / 0 - %Speed(it/disp_step): 126.1 - tr_ac 1.0\n",
      "E Ac: 1.0\n",
      "T Ac: 1.0\n",
      "0\n",
      "Epoch: 86 batch: 0 / 0 - %Speed(it/disp_step): 126.2 - tr_ac 1.0\n",
      "E Ac: 1.0\n",
      "T Ac: 1.0\n",
      "0\n",
      "Epoch: 87 batch: 0 / 0 - %Speed(it/disp_step): 126.4 - tr_ac 1.0\n",
      "E Ac: 1.0\n",
      "T Ac: 1.0\n",
      "0\n",
      "Epoch: 88 batch: 0 / 0 - %Speed(it/disp_step): 126.8 - tr_ac 1.0\n",
      "E Ac: 1.0\n",
      "T Ac: 1.0\n",
      "0\n",
      "Epoch: 89 batch: 0 / 0 - %Speed(it/disp_step): 126.9 - tr_ac 1.0\n",
      "E Ac: 1.0\n",
      "T Ac: 1.0\n",
      "0\n",
      "Epoch: 90 batch: 0 / 0 - %Speed(it/disp_step): 127.1 - tr_ac 1.0\n",
      "E Ac: 1.0\n",
      "T Ac: 1.0\n",
      "0\n",
      "Epoch: 91 batch: 0 / 0 - %Speed(it/disp_step): 127.2 - tr_ac 1.0\n",
      "E Ac: 1.0\n",
      "T Ac: 1.0\n",
      "0\n",
      "Epoch: 92 batch: 0 / 0 - %Speed(it/disp_step): 127.6 - tr_ac 1.0\n",
      "E Ac: 1.0\n",
      "T Ac: 1.0\n",
      "0\n",
      "Epoch: 93 batch: 0 / 0 - %Speed(it/disp_step): 127.7 - tr_ac 1.0\n",
      "E Ac: 1.0\n",
      "T Ac: 1.0\n",
      "0\n",
      "Epoch: 94 batch: 0 / 0 - %Speed(it/disp_step): 128.0 - tr_ac 1.0\n",
      "E Ac: 1.0\n",
      "T Ac: 1.0\n",
      "0\n",
      "Epoch: 95 batch: 0 / 0 - %Speed(it/disp_step): 128.0 - tr_ac 1.0\n",
      "E Ac: 1.0\n",
      "T Ac: 1.0\n",
      "0\n",
      "Epoch: 96 batch: 0 / 0 - %Speed(it/disp_step): 128.1 - tr_ac 1.0\n",
      "E Ac: 1.0\n",
      "T Ac: 1.0\n",
      "0\n",
      "Epoch: 97 batch: 0 / 0 - %Speed(it/disp_step): 128.3 - tr_ac 1.0\n",
      "E Ac: 1.0\n",
      "T Ac: 1.0\n",
      "0\n",
      "Epoch: 98 batch: 0 / 0 - %Speed(it/disp_step): 128.4 - tr_ac 1.0\n",
      "E Ac: 1.0\n",
      "T Ac: 1.0\n",
      "0\n",
      "Epoch: 99 batch: 0 / 0 - %Speed(it/disp_step): 128.5 - tr_ac 1.0\n",
      "E Ac: 1.0\n",
      "T Ac: 1.0\n"
     ]
    },
    {
     "name": "stdout",
     "output_type": "stream",
     "text": [
      "Model saved in file: ../../_zfp/data/my_graph/ZTEST/ZTESTC1MODJJ1/model.ckpt\n",
      "Optimization Finished!\n",
      "___Log recorded\n",
      "___Log recorded\n"
     ]
    }
   ],
   "source": [
    "DESC       = \"FRFLO\"\n",
    "epochs     = 100\n",
    "train_accuracies, test_accuracies = [], []\n",
    "train(epochs, disp, batch_s)"
   ]
  },
  {
   "cell_type": "code",
   "execution_count": 231,
   "metadata": {},
   "outputs": [
    {
     "name": "stdout",
     "output_type": "stream",
     "text": [
      "_____EVALUATION...\n",
      "Model restored from file: ../../_zfp/data/my_graph/ZTEST/ZTESTC1MODJJ1/model.ckpt\n",
      "INFO:tensorflow:Restoring parameters from ../../_zfp/data/my_graph/ZTEST/ZTESTC1MODJJ1/model.ckpt\n",
      "Training   Accuracy: 1.0\n",
      "Evaluation Accuracy: 1.0\n",
      "Preview the first predictions:\n",
      "RealVal: 75  - PP value: 75\n"
     ]
    },
    {
     "ename": "KeyError",
     "evalue": "1",
     "output_type": "error",
     "traceback": [
      "\u001b[1;31m---------------------------------------------------------------------------\u001b[0m",
      "\u001b[1;31mKeyError\u001b[0m                                  Traceback (most recent call last)",
      "\u001b[1;32m<ipython-input-231-19bf740bcbf0>\u001b[0m in \u001b[0;36m<module>\u001b[1;34m()\u001b[0m\n\u001b[0;32m      1\u001b[0m \u001b[0mDESC\u001b[0m       \u001b[1;33m=\u001b[0m \u001b[1;34m\"FRFLO\"\u001b[0m\u001b[1;33m\u001b[0m\u001b[0m\n\u001b[1;32m----> 2\u001b[1;33m \u001b[0mevaluate\u001b[0m\u001b[1;33m(\u001b[0m \u001b[1;33m)\u001b[0m\u001b[1;33m\u001b[0m\u001b[0m\n\u001b[0m",
      "\u001b[1;32m<ipython-input-30-560edd8b76d8>\u001b[0m in \u001b[0;36mevaluate\u001b[1;34m()\u001b[0m\n\u001b[0;32m     14\u001b[0m     \u001b[0mprint\u001b[0m\u001b[1;33m(\u001b[0m\u001b[1;34m\"Preview the first predictions:\"\u001b[0m\u001b[1;33m)\u001b[0m\u001b[1;33m\u001b[0m\u001b[0m\n\u001b[0;32m     15\u001b[0m     \u001b[1;32mfor\u001b[0m \u001b[0mi\u001b[0m \u001b[1;32min\u001b[0m \u001b[0mrange\u001b[0m\u001b[1;33m(\u001b[0m\u001b[1;36m20\u001b[0m\u001b[1;33m)\u001b[0m\u001b[1;33m:\u001b[0m\u001b[1;33m\u001b[0m\u001b[0m\n\u001b[1;32m---> 16\u001b[1;33m         print(\"RealVal: {}  - PP value: {}\".format( dc( dst.loc[:spn-1,'FP_P'][i])   , \n\u001b[0m\u001b[0;32m     17\u001b[0m                                                     dc( predv.tolist()[i], np.max(predv[i]))  ))\n\u001b[0;32m     18\u001b[0m     \u001b[0mgt3\u001b[0m\u001b[1;33m,\u001b[0m \u001b[0mgtM\u001b[0m \u001b[1;33m=\u001b[0m \u001b[0mcheck_perf_CN\u001b[0m\u001b[1;33m(\u001b[0m\u001b[0msoftv\u001b[0m\u001b[1;33m,\u001b[0m \u001b[0mdst\u001b[0m\u001b[1;33m.\u001b[0m\u001b[0mloc\u001b[0m\u001b[1;33m[\u001b[0m\u001b[1;33m:\u001b[0m\u001b[0mspn\u001b[0m\u001b[1;33m-\u001b[0m\u001b[1;36m1\u001b[0m\u001b[1;33m,\u001b[0m\u001b[1;34m'FP_P'\u001b[0m\u001b[1;33m]\u001b[0m\u001b[1;33m,\u001b[0m \u001b[1;32mFalse\u001b[0m\u001b[1;33m)\u001b[0m\u001b[1;33m\u001b[0m\u001b[0m\n",
      "\u001b[1;32mc:\\users\\a604080\\appdata\\local\\programs\\python\\python35\\lib\\site-packages\\pandas\\core\\series.py\u001b[0m in \u001b[0;36m__getitem__\u001b[1;34m(self, key)\u001b[0m\n\u001b[0;32m    599\u001b[0m         \u001b[0mkey\u001b[0m \u001b[1;33m=\u001b[0m \u001b[0mcom\u001b[0m\u001b[1;33m.\u001b[0m\u001b[0m_apply_if_callable\u001b[0m\u001b[1;33m(\u001b[0m\u001b[0mkey\u001b[0m\u001b[1;33m,\u001b[0m \u001b[0mself\u001b[0m\u001b[1;33m)\u001b[0m\u001b[1;33m\u001b[0m\u001b[0m\n\u001b[0;32m    600\u001b[0m         \u001b[1;32mtry\u001b[0m\u001b[1;33m:\u001b[0m\u001b[1;33m\u001b[0m\u001b[0m\n\u001b[1;32m--> 601\u001b[1;33m             \u001b[0mresult\u001b[0m \u001b[1;33m=\u001b[0m \u001b[0mself\u001b[0m\u001b[1;33m.\u001b[0m\u001b[0mindex\u001b[0m\u001b[1;33m.\u001b[0m\u001b[0mget_value\u001b[0m\u001b[1;33m(\u001b[0m\u001b[0mself\u001b[0m\u001b[1;33m,\u001b[0m \u001b[0mkey\u001b[0m\u001b[1;33m)\u001b[0m\u001b[1;33m\u001b[0m\u001b[0m\n\u001b[0m\u001b[0;32m    602\u001b[0m \u001b[1;33m\u001b[0m\u001b[0m\n\u001b[0;32m    603\u001b[0m             \u001b[1;32mif\u001b[0m \u001b[1;32mnot\u001b[0m \u001b[0mis_scalar\u001b[0m\u001b[1;33m(\u001b[0m\u001b[0mresult\u001b[0m\u001b[1;33m)\u001b[0m\u001b[1;33m:\u001b[0m\u001b[1;33m\u001b[0m\u001b[0m\n",
      "\u001b[1;32mc:\\users\\a604080\\appdata\\local\\programs\\python\\python35\\lib\\site-packages\\pandas\\core\\indexes\\base.py\u001b[0m in \u001b[0;36mget_value\u001b[1;34m(self, series, key)\u001b[0m\n\u001b[0;32m   2475\u001b[0m         \u001b[1;32mtry\u001b[0m\u001b[1;33m:\u001b[0m\u001b[1;33m\u001b[0m\u001b[0m\n\u001b[0;32m   2476\u001b[0m             return self._engine.get_value(s, k,\n\u001b[1;32m-> 2477\u001b[1;33m                                           tz=getattr(series.dtype, 'tz', None))\n\u001b[0m\u001b[0;32m   2478\u001b[0m         \u001b[1;32mexcept\u001b[0m \u001b[0mKeyError\u001b[0m \u001b[1;32mas\u001b[0m \u001b[0me1\u001b[0m\u001b[1;33m:\u001b[0m\u001b[1;33m\u001b[0m\u001b[0m\n\u001b[0;32m   2479\u001b[0m             \u001b[1;32mif\u001b[0m \u001b[0mlen\u001b[0m\u001b[1;33m(\u001b[0m\u001b[0mself\u001b[0m\u001b[1;33m)\u001b[0m \u001b[1;33m>\u001b[0m \u001b[1;36m0\u001b[0m \u001b[1;32mand\u001b[0m \u001b[0mself\u001b[0m\u001b[1;33m.\u001b[0m\u001b[0minferred_type\u001b[0m \u001b[1;32min\u001b[0m \u001b[1;33m[\u001b[0m\u001b[1;34m'integer'\u001b[0m\u001b[1;33m,\u001b[0m \u001b[1;34m'boolean'\u001b[0m\u001b[1;33m]\u001b[0m\u001b[1;33m:\u001b[0m\u001b[1;33m\u001b[0m\u001b[0m\n",
      "\u001b[1;32mpandas\\_libs\\index.pyx\u001b[0m in \u001b[0;36mpandas._libs.index.IndexEngine.get_value (pandas\\_libs\\index.c:4404)\u001b[1;34m()\u001b[0m\n",
      "\u001b[1;32mpandas\\_libs\\index.pyx\u001b[0m in \u001b[0;36mpandas._libs.index.IndexEngine.get_value (pandas\\_libs\\index.c:4087)\u001b[1;34m()\u001b[0m\n",
      "\u001b[1;32mpandas\\_libs\\index.pyx\u001b[0m in \u001b[0;36mpandas._libs.index.IndexEngine.get_loc (pandas\\_libs\\index.c:5126)\u001b[1;34m()\u001b[0m\n",
      "\u001b[1;32mpandas\\_libs\\hashtable_class_helper.pxi\u001b[0m in \u001b[0;36mpandas._libs.hashtable.Int64HashTable.get_item (pandas\\_libs\\hashtable.c:14031)\u001b[1;34m()\u001b[0m\n",
      "\u001b[1;32mpandas\\_libs\\hashtable_class_helper.pxi\u001b[0m in \u001b[0;36mpandas._libs.hashtable.Int64HashTable.get_item (pandas\\_libs\\hashtable.c:13975)\u001b[1;34m()\u001b[0m\n",
      "\u001b[1;31mKeyError\u001b[0m: 1"
     ]
    }
   ],
   "source": [
    "DESC       = \"FRFLO\"\n",
    "evaluate( )\n"
   ]
  },
  {
   "cell_type": "code",
   "execution_count": 232,
   "metadata": {},
   "outputs": [
    {
     "name": "stdout",
     "output_type": "stream",
     "text": [
      "_____TESTS...\n",
      "input-no=4\n",
      "cycle: 0\n",
      "Counter of comp. not included :\n",
      "Counter()\n",
      "Model restored from file: ../../_zfp/data/my_graph/ZTEST/ZTESTC1MODJJ1/model.ckpt\n",
      "INFO:tensorflow:Restoring parameters from ../../_zfp/data/my_graph/ZTEST/ZTESTC1MODJJ1/model.ckpt\n",
      "test ac = 0.0\n",
      "0 RealVal: 1 - 75 - PP: [75 20 25 52] PR: [  1.00000000e+00   7.28385341e-31   2.50849013e-31   1.70492173e-31]\n",
      "denormalization all Evaluation : 1 = 1\n",
      "0\n",
      "Total: 1 GT3: 1  GTM: 1\n",
      "___Log recorded\n"
     ]
    }
   ],
   "source": [
    "url_test = \"../../_zfp/data/FREXP1/\" ; DESC     = \"FREXP1_6\"\n",
    "\n",
    "url_test = \"url\"\n",
    "tests(url_test, p_col=False  )"
   ]
  },
  {
   "cell_type": "code",
   "execution_count": 233,
   "metadata": {},
   "outputs": [
    {
     "data": {
      "image/png": "[encoded data removed]",
      "text/plain": [
       "<matplotlib.figure.Figure at 0x1a2dc588>"
      ]
     },
     "metadata": {},
     "output_type": "display_data"
    }
   ],
   "source": [
    "fig, ax = plt.subplots()\n",
    "plt.plot(train_accuracies, label='Train', alpha=0.5)\n",
    "plt.plot(test_accuracies, label='Test', alpha=0.5)\n",
    "plt.title(\"Accuracy\")\n",
    "plt.legend()\n",
    "plt.show()\n"
   ]
  },
  {
   "cell_type": "code",
   "execution_count": null,
   "metadata": {},
   "outputs": [],
   "source": []
  },
  {
   "cell_type": "code",
   "execution_count": null,
   "metadata": {},
   "outputs": [],
   "source": []
  },
  {
   "cell_type": "code",
   "execution_count": null,
   "metadata": {},
   "outputs": [],
   "source": [
    "\n"
   ]
  },
  {
   "cell_type": "code",
   "execution_count": null,
   "metadata": {},
   "outputs": [],
   "source": []
  },
  {
   "cell_type": "markdown",
   "metadata": {},
   "source": [
    "# Embedding by FAM\n",
    "get data / get FAM <br>\n",
    "if am > 0 => 1; lookup tab.  => visualization embeddings in script. \n"
   ]
  },
  {
   "cell_type": "code",
   "execution_count": 66,
   "metadata": {},
   "outputs": [],
   "source": [
    "#logic... \n",
    "\n",
    "\n"
   ]
  },
  {
   "cell_type": "code",
   "execution_count": null,
   "metadata": {},
   "outputs": [],
   "source": []
  },
  {
   "cell_type": "code",
   "execution_count": null,
   "metadata": {},
   "outputs": [],
   "source": []
  },
  {
   "cell_type": "code",
   "execution_count": null,
   "metadata": {},
   "outputs": [],
   "source": []
  },
  {
   "cell_type": "markdown",
   "metadata": {},
   "source": [
    "# WRITE EXCEL"
   ]
  },
  {
   "cell_type": "code",
   "execution_count": 27,
   "metadata": {},
   "outputs": [],
   "source": [
    "# import xlsxwriter\n",
    "# outfile = '../../_zfp/data/export.xlsx' \n",
    "\n",
    "# workbook   = xlsxwriter.Workbook(outfile)\n",
    "# worksheet1 = workbook.add_worksheet()\n",
    "# worksheet1.write('A1', 'M')\n",
    "# worksheet1.write(0, 0, 'Hello')  \n",
    "# for i in range(len(sf[0])):\n",
    "#     worksheet1.write(0, i , sf[0][i])  \n",
    "#     worksheet1.write(1, i , sf[1][i]) "
   ]
  },
  {
   "cell_type": "code",
   "execution_count": 28,
   "metadata": {},
   "outputs": [],
   "source": [
    "# import csv\n",
    "# outfile = '../../_zfp/data/export.csv' \n",
    "# f2= open(outfile,\"a+\")\n",
    "# output_writer = csv.writer(f2, delimiter=\"\\t\")\n",
    "# output_writer.writerows(sf)\n",
    "# f2.close()"
   ]
  },
  {
   "cell_type": "code",
   "execution_count": 29,
   "metadata": {},
   "outputs": [],
   "source": [
    "# outfile = '../../_zfp/data/export2' \n",
    "# np.savetxt(outfile + '.csv', sf[1], delimiter=',')\n",
    "# np.savetxt(outfile + 'PRO.csv', sf[0], delimiter=',')"
   ]
  },
  {
   "cell_type": "markdown",
   "metadata": {},
   "source": [
    "# Display visualizations <a id=\"disp\"/>\n",
    "[go back](#index)"
   ]
  },
  {
   "cell_type": "code",
   "execution_count": 30,
   "metadata": {},
   "outputs": [],
   "source": [
    "# path = outfile = '../../_zfp/data/FRFLO/datasc.csv' \n",
    "# dst  =  pd.read_csv( tf.gfile.Open(path), sep=None, skipinitialspace=True,  engine=\"python\")\n",
    "Y  = dst.loc[:,'FP'].as_matrix().tolist()\n",
    "X  = dst.loc[:, 'M'].as_matrix().tolist()"
   ]
  },
  {
   "cell_type": "code",
   "execution_count": 31,
   "metadata": {},
   "outputs": [
    {
     "data": {
      "image/png": "[encoded data removed]",
      "text/plain": [
       "<matplotlib.figure.Figure at 0x1423b5f8>"
      ]
     },
     "metadata": {},
     "output_type": "display_data"
    }
   ],
   "source": [
    "# 2 - Create plot. \n",
    "a = 1\n",
    "if a == 0: \n",
    "    plt.hist(Y)\n",
    "else: \n",
    "    plt.xlabel('M')\n",
    "    plt.ylabel('FP')\n",
    "    plt.grid(True)\n",
    "    N = 2 #50\n",
    "    colors = np.random.rand(N)\n",
    "    area = 1 #np.pi * (15 * np.random.rand(N))**2  # 0 to 15 point radii\n",
    "\n",
    "    #plt.plot(X, Y, color='blue', marker='o', label='FP Comp')\n",
    "    #plt.plot(X, Y, 'bo', label='FP Comp')\n",
    "    plt.scatter(X,Y, s=6, c='b', marker='o', cmap=None, norm=None, vmin=60, vmax=101, alpha=None,  label='FP Comp')\n",
    "    # plt.plot(X, Y,  s=area, c=colors, alpha=0.5) #'bo', label='FP Comp',\n",
    "    plt.legend()\n",
    "\n",
    "# 3 - Display plot. \n",
    "\n",
    "plt.show()"
   ]
  },
  {
   "cell_type": "code",
   "execution_count": null,
   "metadata": {},
   "outputs": [],
   "source": []
  }
 ],
 "metadata": {
  "kernelspec": {
   "display_name": "Python 3",
   "language": "python",
   "name": "python3"
  },
  "language_info": {
   "codemirror_mode": {
    "name": "ipython",
    "version": 3
   },
   "file_extension": ".py",
   "mimetype": "text/x-python",
   "name": "python",
   "nbconvert_exporter": "python",
   "pygments_lexer": "ipython3",
   "version": "3.5.2"
  }
 },
 "nbformat": 4,
 "nbformat_minor": 2
}
