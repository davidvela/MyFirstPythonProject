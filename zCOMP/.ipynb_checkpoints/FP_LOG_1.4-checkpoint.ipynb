{
 "cells": [
  {
   "cell_type": "markdown",
   "metadata": {},
   "source": [
    "# FP\n",
    "Start writing all my logic in jupyter notebook in order to run them from anaconda! <br>\n",
    "** IMPORTANT ** <br>\n",
    "the network cell should only be intialize once! otherwise the program start creating indexes for the variables!!!! \n",
    "\n",
    "## index: \n",
    "<a id='index'/>\n",
    "\n",
    "1. READ DATA \n",
    "    * Class \n",
    "    * files \n",
    "2. [Model](#model)\n",
    "3. [Train](#tr) \n",
    "4. [Evaluate](#ev) \n",
    "5. [Test](#ts) \n",
    "6. [Other](#o)\n",
    "\n",
    "[go back](#index)\n"
   ]
  },
  {
   "cell_type": "markdown",
   "metadata": {},
   "source": [
    "to do:\n",
    "* make work the classes   - DECLARED! I NEED TO TEST IT; NEW FILE! \n",
    "* implement the reporting logic \n",
    "* idea: counting the number of elements - new column in pandas\n",
    "\n",
    "target: \n",
    "* testing filters < 93, < 60,  NF (input) - cat100  (output)<br>  (input) - cat4    (output) <br>\n",
    "* cat101FP (input) - output cat4, cat100 <br>\n",
    "* TRY FLAVOURS! LESS No of COMPONENTS!\n",
    "\n",
    "after many trials - the dataset FRAFLO didn't really give any good results... \n",
    "Nerxt: let's try to execute the program with all my data  -> problem: my computer gets too slow and I can't work     "
   ]
  },
  {
   "cell_type": "code",
   "execution_count": 1,
   "metadata": {
    "collapsed": true
   },
   "outputs": [],
   "source": [
    "import pandas as pd \n",
    "import tensorflow as tf \n",
    "import numpy as np \n",
    "\n",
    "import requests\n",
    "import json\n",
    "import sys\n",
    "import os\n",
    "import time\n",
    "from types import *\n",
    "from collections import Counter\n",
    "from datetime import datetime\n"
   ]
  },
  {
   "cell_type": "markdown",
   "metadata": {},
   "source": [
    "# Data Class"
   ]
  },
  {
   "cell_type": "code",
   "execution_count": 2,
   "metadata": {},
   "outputs": [],
   "source": [
    "from fp_drc2     import fpDataModel\n"
   ]
  },
  {
   "cell_type": "markdown",
   "metadata": {},
   "source": [
    "# Network Class"
   ]
  },
  {
   "cell_type": "code",
   "execution_count": 3,
   "metadata": {},
   "outputs": [
    {
     "name": "stdout",
     "output_type": "stream",
     "text": [
      "network built\n"
     ]
    }
   ],
   "source": [
    "#version 1 - network + model \n",
    "class fpNN:\n",
    "    def __init__(self, n_input, layers=2, hidden_nodes = [256 , 256], \n",
    "                 lr = 0.1, min_count = 10, polarity_cutoff = 0.1, output = 100   ):\n",
    "        self.init_network(n_input, layers, output, lr, hidden_nodes)\n",
    "    \n",
    "    def init_network(self, n_input, layers, n_classes, learning_rate,  hidden_nodes):\n",
    "        self.learning_rate = learning_rate # 0.001\n",
    "        self.n_input     = n_input #1814 #1221\n",
    "        self.n_classes   = n_classes \n",
    "        self.n_h1 = hidden_nodes[0]\n",
    "        self.n_h2 = hidden_nodes[1]\n",
    "        \n",
    "        # cust - network \n",
    "        self.x = tf.placeholder(tf.float32,   shape=[None, n_input],   name=\"x\")\n",
    "        self.y = tf.placeholder(tf.int16,     shape=[None, n_classes], name=\"cat\")\n",
    "        self.biases = {\n",
    "            'b1': tf.Variable(tf.random_normal( [ self.n_h1 ]), name=\"Bias_1\"),\n",
    "            'b2': tf.Variable(tf.random_normal( [ self.n_h2 ]), name=\"Bias_2\"),\n",
    "            'out': tf.Variable(tf.random_normal( [n_classes] ), name=\"Bias_out\"),\n",
    "        }\n",
    "        self.weights = {\n",
    "            'h1': tf.Variable(tf.random_normal([n_input, self.n_h1 ]),    name=\"Weights_1\"),\n",
    "            'h2': tf.Variable(tf.random_normal([ self.n_h1, self.n_h2 ]), name=\"Weights_2\"),\n",
    "            'out': tf.Variable(tf.random_normal([self.n_h2, n_classes]),  name=\"Weights_out\"),\n",
    "        }\n",
    "        \n",
    "        #hidden_nodes = [1221,256,256,100]\n",
    "        #self.weights = {} \n",
    "        #self.biases = {}\n",
    "        #for (i in range(layers)):\n",
    "        #self.weights[\"h\"+string(i)] = tf.Variable(tf.random_normal([n_input, hidden_nodes[0] ]),name=\"Weights_1\"\n",
    "                \n",
    "        # Hidden layer with RELU activation\n",
    "        with tf.name_scope(\"fc_1\"):\n",
    "            self.layer_1 = tf.add(tf.matmul(self.x, self.weights['h1']), self.biases['b1'])\n",
    "            self.layer_1 = tf.nn.relu(self.layer_1)\n",
    "        # Hidden layer with RELU activation\n",
    "        with tf.name_scope(\"fc_2\"):\n",
    "            self.layer_2 = tf.add(tf.matmul(self.layer_1, self.weights['h2']), self.biases['b2'])\n",
    "            self.layer_2 = tf.nn.relu(self.layer_2)\n",
    "        # Output layer with linear activation\n",
    "        with tf.name_scope(\"fc_output\"):\n",
    "            self.pred = tf.matmul(self.layer_2, self.weights['out']) + self.biases['out']\n",
    "\n",
    "        self.softmaxT = tf.nn.softmax(self.pred, )\n",
    "        self.prediction=tf.reduce_max(self.y,1)\n",
    "\n",
    "        with tf.name_scope(\"accuracy\"):\n",
    "            self.correct_prediction = tf.equal(tf.argmax(self.pred, 1), tf.argmax(self.y, 1))\n",
    "            self.accuracy = tf.reduce_mean(tf.cast(self.correct_prediction, tf.float32))\n",
    "            tf.summary.scalar(\"accuracy\", self.accuracy)\n",
    "\n",
    "        with tf.name_scope(\"xent\"):\n",
    "            self.cost = tf.reduce_mean(tf.nn.softmax_cross_entropy_with_logits(logits=self.pred, labels=self.y))\n",
    "            tf.summary.scalar(\"xent\", self.cost)\n",
    "\n",
    "        with tf.name_scope(\"train\"):\n",
    "            self.optimizer = tf.train.AdamOptimizer(learning_rate=self.learning_rate).minimize(self.cost)\n",
    "        \n",
    "        self.summ = tf.summary.merge_all()\n",
    "        self.init = tf.global_variables_initializer()\n",
    "        self.saver= tf.train.Saver()\n",
    "        \n",
    "print(\"network built\")"
   ]
  },
  {
   "cell_type": "markdown",
   "metadata": {},
   "source": [
    "# MODEL - CLASS!  <a id=\"model\"/>\n",
    "\n",
    "[go back](#index)\n",
    "\n",
    "create my network class and don't initialize it ... only 1"
   ]
  },
  {
   "cell_type": "code",
   "execution_count": 4,
   "metadata": {},
   "outputs": [
    {
     "name": "stdout",
     "output_type": "stream",
     "text": [
      "model class build\n"
     ]
    }
   ],
   "source": [
    "\n",
    "class fpModel:\n",
    "    def __init__(self, nn, dataClass, model_path ):\n",
    "        self.nn = nn\n",
    "        self.dc = dataClass\n",
    "        self.model_path = model_path \n",
    "        self.l3 = 0; self.l15 = 0; \n",
    "        # self.rp_s = '';  self.tr_ac = ''; self.ev_ac = ''; self.ts_ac = ''; self.start=0; self.elapsed_time=0;\n",
    "    def ini():\n",
    "        # self.rp_s = '';  self.tr_ac = ''; self.ev_ac = ''; self.ts_ac = ''; self.start=0; self.elapsed_time=0;\n",
    "        pass\n",
    "    def logr(self, datep = '' , time='', it=1000, nn='', typ='TR', DS='', AC=0, num=0, AC3=0, AC10=0, desc=''):\n",
    "        if desc == '': print(\"Log not recorded\"); return \n",
    "        LOG = \"../../_zfp/LOGT2.txt\"\n",
    "        f= open(LOG ,\"a+\") #w,a,\n",
    "        \n",
    "        if datep != '':\n",
    "            dats = datep\n",
    "        else: \n",
    "            dats = datetime.now().strftime('%d.%m.%Y') \n",
    "\n",
    "        if time != '':\n",
    "            times = time\n",
    "        else: times = datetime.now().strftime('%H:%M:%S') \n",
    "\n",
    "        line =  datetime.now().strftime('%d.%m.%Y') + '\\t' + times\n",
    "        line = line + '\\t' + str(it) + '\\t'+ self.get_nns() +  '\\t' + str(self.nn.learning_rate,)\n",
    "        line = line + '\\t' + typ \n",
    "        line = line + '\\t' + str(DS) + '\\t' + str(AC) + '\\t' + str(num) + '\\t' + str(AC3) + '\\t' +  str(AC10) + '\\t' + desc + '\\n'\n",
    "\n",
    "        f.write(line)\n",
    "        f.close()\n",
    "        print(\"___Log recorded\")\n",
    "    def get_nns(self):\n",
    "        ns = \"n:\" + str(self.nn.n_input) + \"*\"\n",
    "        #for(i in range(self.layers) )                \n",
    "        ns = ns + str(self.nn.n_h1) + \"*\" + str(self.nn.n_h2) + \"*\"\n",
    "        ns = ns + str(self.nn.n_classes)\n",
    "        return ns \n",
    "    def dummy(self):\n",
    "        print(\"hello\") \n",
    "    def restore_model(self, sess):\n",
    "        print(\"Model restored from file: %s\" % self.model_path)\n",
    "        self.nn.saver.restore(sess, self.model_path)\n",
    "    def check_perf(self, lA, lB):\n",
    "        assert(len(lA) == len(lB))\n",
    "        gt3  = 0\n",
    "        gtM = 0\n",
    "        num = 0\n",
    "        if self.dc.dType == 'class': \n",
    "            for i in range(len(lA)):\n",
    "                # print( \"comp {} and {}\" .format(lA[i], lB[i]))\n",
    "                if lA[i] != lB[i]: gt3+=1; gtM+=1\n",
    "        else:\n",
    "            for i in range(len(lA)):\n",
    "                num = abs(lA[i]-lB[i])\n",
    "                if num > 3: gt3+=1\n",
    "                if num > 10: gtM+=1\n",
    "        return gt3, gtM    \n",
    "    def check_perf_CN(self, predv, dataEv, sk_ev=False ):\n",
    "        pred_val = []; data_val = []; self.l3 = 0; self.l15 = 0; \n",
    "        predvList = predv.tolist()\n",
    "        print(\"denormalization all Evaluation : {} = {}\" .format(len(predv), len(dataEv[\"label\"])))\n",
    "        #for i in range(100):\n",
    "        for i in range(len(predv)):\n",
    "            if (i % 1000==0): print('i='+str(i), end=\"\")\n",
    "            pred_vali = 0; data_vali = 0;\n",
    "            try:\n",
    "                pred_vali = self.dc.deClassifN( predv.tolist()[i], np.max(predv[i]))\n",
    "                if sk_ev == True:\n",
    "                    data_vali = dataEv['label'][i]\n",
    "                else: data_vali = self.dc.deClassifN( dataEv['label'][i])\n",
    "                # print(\"realVal: {} -- PP value: {}\".format(data_vali,pred_vali))\n",
    "                pred_val.append(pred_vali)\n",
    "                data_val.append(data_vali)\n",
    "            except:\n",
    "                print(\"error: i={}, pred={}, data={} -- \".format(i, pred_vali, data_vali))\n",
    "\n",
    "        self.l3, self.l15 = self.check_perf(pred_val, data_val)  \n",
    "        print(\"Total: {} GT3: {}  GTM: {}\".format(len(pred_val), self.l3, self.l15)) \n",
    "\n",
    "    def train(self, dataTrain, dataEv, it = 10000, disp=0.1, desc=''):\n",
    "        it = it # = 10000 #200000\n",
    "        batch_size = 128\n",
    "        display_step =  it*disp #10%\n",
    "        record_step  =  it*(disp/2) \n",
    "        with tf.Session() as sess:\n",
    "            sess.run(self.nn.init)\n",
    "            start = time.time()\n",
    "            for i in range(it):  \n",
    "                xtb, ytb = self.dc.next_batch(batch_size, dataTrain['data'], dataTrain['label']) \n",
    "                elapsed_time = float(time.time() - start)\n",
    "                reviews_per_second = i / elapsed_time if elapsed_time > 0 else 0\n",
    "                if i % record_step == 0:\n",
    "                    [train_accuracy] = sess.run([self.nn.accuracy], feed_dict={self.nn.x: xtb, self.nn.y: ytb }) \n",
    "                    #writer.add_summary(s, i)\n",
    "                if i % display_step == 0:\n",
    "                    #print(\"step %d, training accracy %g \" %(i, train_accuracy))\n",
    "                    elapsed_time = float(time.time() - start)\n",
    "                    reviews_per_second = i / elapsed_time if elapsed_time > 0 else 0\n",
    "                    rp_s = str(reviews_per_second)[0:5]\n",
    "                    tr_ac = str(train_accuracy)[:5]  \n",
    "                    print('step {} - %Speed(it/disp_step): {} - tr_ac {}' .format(i, rp_s, tr_ac ))\n",
    "                    ev_ac = str(sess.run(self.nn.accuracy, feed_dict={self.nn.x: dataEv['data'],    self.nn.y: dataEv['label']}))[:5] \n",
    "                    print(\"Eval Accuracy:\", ev_ac)\n",
    "                sess.run(self.nn.optimizer, feed_dict={self.nn.x: xtb, self.nn.y: ytb})\n",
    "            print(\"Optimization Finished!\")\n",
    "            save_path = self.nn.saver.save(sess, self.model_path)\n",
    "            print(\"Model saved in file: %s\" % save_path) \n",
    "            # ev_ac = str(sess.run(self.nn.accuracy, feed_dict={self.nn.x: dataEv['data'], self.nn.y: dataEv['label']}))[:5] \n",
    "            # print(\"Eval Accuracy:\", ev_ac)\n",
    "            # def logr(self, datep = '' , time='', it=1000, nn='', lr=0.01, typ='TR', DS='', AC=0, num=0, AC3=0, AC10=0, desc=''):\n",
    "            self.logr( it=it, typ='TR', DS=self.dc.DSC, AC=tr_ac,num=len(dataTrain[\"label\"]), AC3=0, AC10=0, desc=desc)\n",
    "            self.logr( it=it, typ='EV', DS=self.dc.DSC, AC=ev_ac,num=len(dataEv[\"label\"]),    AC3=0, AC10=0, desc=desc)\n",
    "    def evaluate(self, dataTrain, dataEv,  desc='' ):\n",
    "        print(\"EVALUATION...\")\n",
    "        with tf.Session() as sess:\n",
    "            sess.run(self.nn.init)\n",
    "            self.restore_model(sess)\n",
    "            # test the model\n",
    "            tr_ac = str(sess.run(self.nn.accuracy, feed_dict={self.nn.x: dataTrain['data'], self.nn.y: dataTrain['label']}) )[:5]  \n",
    "            ev_ac = str(sess.run(self.nn.accuracy, feed_dict={self.nn.x: dataEv['data'],    self.nn.y: dataEv['label']}))[:5] \n",
    "            print(\"Training   Accuracy:\", tr_ac )\n",
    "            print(\"Evaluation Accuracy:\", ev_ac )\n",
    "            # xtp1.append(dataTest['data'][i]);    ytp1.append(dataTest['label'][i])\n",
    "            predv, softv = sess.run([self.nn.pred, self.nn.softmaxT], feed_dict={self.nn.x: dataEv['data']}) \n",
    "            print(\"Preview the first predictions:\")\n",
    "            for i in range(20):\n",
    "                print(\"RealVal: {}  - PP value: {}\".format( self.dc.deClassifN( dataEv['label'][i]), \n",
    "                                                            self.dc.deClassifN( predv.tolist()[i], np.max(predv[i]))  ))\n",
    "            # maxa = sess.run([prediction], feed_dict={y: predv })\n",
    "        self.check_perf_CN(predv, dataEv , False)\n",
    "        self.logr(  it=0, typ='EV', AC=ev_ac,DS=self.dc.DSC, num=len(dataEv[\"label\"]), AC3=self.l3, AC10=self.l15, desc=desc)\n",
    "    def test(self, col, p_abs, p_json_str=0, p_label=0, desc=''):\n",
    "        print(\"TESTS...\")    \n",
    "        dataTest = {'label' : [] , 'data' :  [] }\n",
    "        pred_val = []\n",
    "        print(\"input-no={}\".format(self.dc.set_columns(col) ))\n",
    "        \n",
    "        if p_json_str != 0: json_str = p_json_str\n",
    "        else: \n",
    "            json_str = '''[{ \"m\":\"8989\", \"c1\" :0.5 },\n",
    "            { \"m\":\"8988\", \"c3\" :0.5 , \"c4\" :0.5 }] '''\n",
    "\n",
    "        if p_label != 0:  tmpLab= p_label\n",
    "        else: tmpLab = [59,99]\n",
    "        \n",
    "        json_data = json.loads(json_str)\n",
    "        dataTest['data']  = self.dc.feed_data(json_data, abstract = p_abs) \n",
    "        # dataTest['label'] = tmpLab.map( lambda x: self.dc.classify(x)) \n",
    "        for x in tmpLab:\n",
    "            dataTest['label'].append(self.dc.classify(x))\n",
    "\n",
    "        with tf.Session() as sess:\n",
    "            sess.run(self.nn.init)\n",
    "            self.restore_model(sess)\n",
    "            predv = sess.run( self.nn.pred, feed_dict={self.nn.x: dataTest['data']}) \n",
    "            #ts_acn= sess.run( [self.nn.pred], feed_dict={self.nn.x: dataTest['data'], self.nn.y: dataTest['label']}) \n",
    "            #ts_ac = str(ts_acn)[:5]  \n",
    "            #print(\"test ac = {}\".format(ts_ac))\n",
    "        # print(dataTest['label'])\n",
    "        for i in range(len(predv)):\n",
    "            print(\"RealVal: {}  - PP value: {}\".format( self.dc.deClassifN( dataTest['label'][i] ), #self.dctmpLab[i], \n",
    "                                                        self.dc.deClassifN( predv.tolist()[i], np.max(predv[i]))  ))  \n",
    "        self.check_perf_CN(predv, dataTest, False )\n",
    "        self.logr( it=0, typ='TS', \n",
    "                         DS='matnrList...', AC='0',num=len(dataTest[\"label\"]),  AC3=self.l3, AC10=self.l15, desc=desc)      \n",
    "    def dummy3(self): \n",
    "        self.logr( it=1000, nn='200*200', typ='TR', DS='FRALL', AC=0.99, num=400, AC3=4, AC10=3, desc='test fclass')\n",
    "    def train2(self, dataTrain, dataEv, it = 100, disp=50, desc='', batch_size = 128):\n",
    "        display_step =  disp\n",
    "        total_batch  = len(dataTrain['label']) / batch_size\n",
    "        \n",
    "        with tf.Session() as sess:\n",
    "            sess.run(self.nn.init)\n",
    "            start = time.time()\n",
    "            for i in range(it):            \n",
    "                for ii, (xtb,ytb) in enumerate(self.dc.get_batches(dataTrain['data'], dataTrain['label'],batch_size)):\n",
    "                    # xtb, ytb = self.dc.next_batch(batch_size, dataTrain['data'], dataTrain['label']) \n",
    "                    sess.run(self.nn.optimizer, feed_dict={self.nn.x: xtb, self.nn.y: ytb})\n",
    "                    if ii % display_step ==0: \n",
    "                        [train_accuracy] = sess.run([self.nn.accuracy], feed_dict={self.nn.x: xtb, self.nn.y: ytb }) \n",
    "                        elapsed_time = float(time.time() - start)\n",
    "                        reviews_per_second = i / elapsed_time if elapsed_time > 0 else 0\n",
    "                        rp_s = str(reviews_per_second)[0:5]\n",
    "                        tr_ac = str(train_accuracy)[:5]  \n",
    "                        print('Epoch: {} batch: {} / {} - %Speed(it/disp_step): {} - tr_ac {}' .format(i, ii, total_batch, rp_s, tr_ac ))\n",
    "                        #writer.add_summary(s, i)\n",
    "                ev_ac = str(sess.run(self.nn.accuracy, feed_dict={self.nn.x: dataEv['data'],    self.nn.y: dataEv['label']}))[:5] \n",
    "                print(\"Eval Accuracy:\", ev_ac)\n",
    "\n",
    "            print(\"Optimization Finished!\")\n",
    "            save_path = self.nn.saver.save(sess, self.model_path)\n",
    "            print(\"Model saved in file: %s\" % save_path) \n",
    "            # ev_ac = str(sess.run(self.nn.accuracy, feed_dict={self.nn.x: dataEv['data'], self.nn.y: dataEv['label']}))[:5] \n",
    "            # print(\"Eval Accuracy:\", ev_ac)\n",
    "            # def logr(self, datep = '' , time='', it=1000, nn='', lr=0.01, typ='TR', DS='', AC=0, num=0, AC3=0, AC10=0, desc=''):\n",
    "            self.logr( it=it, typ='TR', DS=self.dc.DSC, AC=tr_ac,num=len(dataTrain[\"label\"]), AC3=0, AC10=0, desc=desc)\n",
    "            self.logr( it=it, typ='EV', DS=self.dc.DSC, AC=ev_ac,num=len(dataEv[\"label\"]),    AC3=0, AC10=0, desc=desc)\n",
    "print(\"model class build\")"
   ]
  },
  {
   "cell_type": "code",
   "execution_count": 10,
   "metadata": {
    "collapsed": true
   },
   "outputs": [],
   "source": [
    "def tests_json(excel, ex):\n",
    "    print(\"tests JSON\");     n_classes   = 100  ; print(ALL_DSJ)  \n",
    "    # col_df = pd.read_csv(COL_DS, index_col=0, sep=',', usecols=[0,1,2,3])  #; print(col_df)\n",
    "    dataClass = fpDataModel( path= ALL_DS, norm = '', batch_size = 128, dType=\"classN\", labelCol = 'FP_P', \n",
    "                            dataCol = 4,   nC=n_classes, nRange=1, toList = True )\n",
    "    # get data from type = T, E \n",
    "    # print(\"start reading...\")\n",
    "    # start = time.time()\n",
    "    # dataTrain,  dataEv =  dataClass.get_data(pathA=ALL_DS ) \n",
    "    # elapsed_time = float(time.time() - start)\n",
    "    # print(\"data read - lenTrain={} - lenTests={} - time:{}\" .format(len(dataTrain[\"label\"]),len(dataEv[\"label\"]),elapsed_time ))\n",
    "    n_input2 = dataClass.set_columns(COL_DS, p_abs = False)\n",
    "    print(\"input-no={}\".format( n_input2))\n",
    "    dataAll     = {'label' : [] , 'data' :  [] }\n",
    "    # json_str = '''[{ \"m\":\"8989\", \"c1\" :0.5, \"c3\" :0.5  },\n",
    "    #             { \"m\":\"8988\", \"c3\" :0.5 , \"c4\" :0.5 }] '''\n",
    "    # json_data = json.loads(json_str)  #;print(json_data[0]['m'])\n",
    "    start = time.time()\n",
    "    dataAll['data'] = dataClass.feed_data(ALL_DSJ, pand=ex['returnPandas'], d_st=ex['display_status'],  p_exp=ex['experimental']);\n",
    "    elapsed_time = float(time.time() - start)\n",
    "    # TO DO: separate between training and evaluation! \n",
    "\n",
    "\n",
    "    print(\"data read - time:{}\" .format(elapsed_time ))\n",
    "    if excel == True:# Create the excel with the new layout!  \n",
    "        writer = pd.ExcelWriter(LOGDAT+'pandas.xlsx')\n",
    "        dataAll['data'].to_excel(writer, sheet_name='Sheet1')\n",
    "        writer.save()\n",
    "        print(\"JSON downloaded into excel! \")\n",
    "    return dataClass\n",
    "def tests_classif(filt=[\"\", 0]):\n",
    "    print(\"tests C4 - filter:\" + filt[0] + str(filt[1]) );   n_classes   = 4    \n",
    "    # filt = [\"<\", 80] \n",
    "    dataClass = fpDataModel( path= ALL_DS, norm = '', batch_size = 128, dType='class', labelCol = 'FP_P', \n",
    "                             dataCol = 4,   nC=n_classes, nRange=1, toList = False, pathFile= ex['path'] )\n",
    "    start = time.time()\n",
    "    if ex['typeSep'] == True: \n",
    "        dataTrain,  dataEv =  dataClass.get_data( typeSep = True, filt=filt[0], filtn=filt[1] ) \n",
    "    else: \n",
    "        dataAll =  dataClass.get_data( typeSep = False, filt=filt[0], filtn=filt[1] ) \n",
    "        spn = 5000\n",
    "        dataTrain  = {'label' : dataAll['label'][spn:] , 'data' :  dataAll['data'][spn:] }\n",
    "        dataEv     = {'label' : dataAll['label'][:spn] , 'data' :  dataAll['data'][:spn]  }\n",
    "        print(\"data all-{}: {}\".format(ALL_DS, len(dataAll['label'])))\n",
    "    elapsed_time = float(time.time() - start)\n",
    "    print(\"data read - lenTrain={} - lenTests={} - time:{}\" .format(len(dataTrain[\"label\"]),len(dataEv[\"label\"]),elapsed_time ))\n",
    "    return dataClass, dataTrain,  dataEv\n",
    "def tests_classifN_100(filt=[\"\", 0]):\n",
    "    print(\"tests C100 - filter:\" + filt[0] + str(filt[1]) );   n_classes   = 100   \n",
    "    filt = filt \n",
    "    dataClass = fpDataModel( path= ALL_DS, norm = '', batch_size = 128, dType=\"classN\", labelCol = 'FP_P', \n",
    "                             dataCol = 4,   nC=n_classes, nRange=1, toList = False, pathFile= ex['path']  )\n",
    "    # get data from type = T, E \n",
    "    print(\"start reading...\")\n",
    "    start = time.time()\n",
    "    # def get_data(self, typeSep = True, pathA = \"\", filter = \"\"):\n",
    "\n",
    "    if ex['typeSep'] == True: \n",
    "        dataTrain,  dataEv =  dataClass.get_data(pathA=ALL_DS, typeSep = True, filt=filt[0], filtn=filt[1] ) \n",
    "    else: \n",
    "        dataAll    =  dataClass.get_data( typeSep = False, filt=filt[0], filtn=filt[1] ) \n",
    "        spn = 5000\n",
    "        dataTrain  = {'label' : dataAll['label'][spn:] , 'data' :  dataAll['data'][spn:] }\n",
    "        dataEv     = {'label' : dataAll['label'][:spn] , 'data' :  dataAll['data'][:spn]  }\n",
    "        print(\"data all-{}: {}\".format(ALL_DS, len(dataAll['label'])))\n",
    "    elapsed_time = float(time.time() - start)\n",
    "    print(\"data read - lenTrain={} - lenTests={} - time:{}\" .format(len(dataTrain[\"label\"]),len(dataEv[\"label\"]),elapsed_time ))\n",
    "    return dataClass, dataTrain,  dataEv\n",
    "#\n",
    "def build_desc(ex):\n",
    "    return  ex['des'] + \"_\" +  ex['path'] + \"_filt:\"+  ex['filter'][0][0]+str(ex['filter'][0][1])"
   ]
  },
  {
   "cell_type": "markdown",
   "metadata": {
    "collapsed": true
   },
   "source": [
    "\n",
    "# ___ <a id=\"o\"/>\n",
    "\n",
    "[go back](#index)\n",
    "\n"
   ]
  },
  {
   "cell_type": "code",
   "execution_count": 6,
   "metadata": {
    "collapsed": true
   },
   "outputs": [],
   "source": [
    "LOG        = \"../../_zfp/LOG.txt\"\n",
    "LOGDIR     = \"../../_zfp/data/my_graph/\"\n",
    "LOGDAT     = \"../../_zfp/data/\"\n",
    "DSJ        = \"/data_json.txt\"\n",
    "DSC        = \"/datasc.csv\"   \n",
    "DC         = \"/datac.csv\"\n",
    "DL         = \"/datal.csv\"\n",
    "\n",
    "ex2 =   {   'dType':'classN',    'des':'C100','path':'FLALL' , 'it':1000, 'dispIt':0.025,\n",
    "           'filter' :[[\"\", 0]], 'n_i':0, '    batch_size':128,'n_o':100, 'typeSep':False,\n",
    "            'lr':0.1, 'model': \"0F2C10\" }\n",
    "\n",
    "ex =  {   'dType':'class',    'des':'C4','path':'FRALL' , 'it':100, 'dispIt':0.025,\n",
    "           'filter' :[[\"\", 0]], 'n_i':0, '    batch_size':128,'n_o':4, 'typeSep':False,\n",
    "            'lr':0.1, 'model': \"0F2C20\" }\n",
    "\n",
    "DESC       = ex['path']\n",
    "MMF        = ex['model']\n",
    "\n",
    "LAB_DS     = LOGDAT + DESC + DL #\"../../_zfp/data/FRFLO/datal.csv\"\n",
    "COL_DS     = LOGDAT + DESC + DC \n",
    "ALL_DSJ    = LOGDAT + DESC + DSJ \n",
    "ALL_DS     = LOGDAT + DESC + DSC \n",
    "MODEL_P    = LOGDIR + DESC + '/' + DESC +  MMF +\"/model.ckpt\"  \n",
    "\n",
    "\n"
   ]
  },
  {
   "cell_type": "code",
   "execution_count": 38,
   "metadata": {},
   "outputs": [
    {
     "name": "stdout",
     "output_type": "stream",
     "text": [
      "../../_zfp/data/FLALL/datac.csv\n"
     ]
    }
   ],
   "source": [
    "print(COL_DS)\n",
    "# col_df = pd.read_csv(COL_DS, index_col=0, sep=',', usecols=[0,1,2])  # COL_DS ALL_DS\n",
    "# print(col_df)"
   ]
  },
  {
   "cell_type": "code",
   "execution_count": 39,
   "metadata": {
    "collapsed": true
   },
   "outputs": [],
   "source": [
    "# dst2.index\n",
    "# indx = []\n",
    "# for i in range(102): \n",
    "#     indx.append(i)\n",
    "# print(indx)\n",
    "\n",
    "\n",
    "# ALL_DS     = \"../../_zfp/data/FRFLO/datasc.csv\"\n",
    "# ALL_DS2     = \"../../_zfp/data/FLALL/datasc.csv\"\n",
    "# dctt = fpDataModel( path= ALL_DS2, norm = '', batch_size = 128, dType=\"classN\", labelCol = 'FP_P', \n",
    "#                          dataCol = 3,   nC=101, nRange=1, toList = False, pathFile= 'FRFLO'  )\n",
    "# # dst = dctt.read_dst()\n",
    "# da =  dctt.get_data(pathA=ALL_DS2, typeSep = False ) "
   ]
  },
  {
   "cell_type": "code",
   "execution_count": 40,
   "metadata": {
    "collapsed": true
   },
   "outputs": [],
   "source": [
    "# print(dctt.read_dst())\n",
    "# da[\"data\"].columns"
   ]
  },
  {
   "cell_type": "code",
   "execution_count": 41,
   "metadata": {
    "collapsed": true
   },
   "outputs": [],
   "source": [
    "# print(dctt.read_dst().sample(frac=1).reset_index(drop=True) )"
   ]
  },
  {
   "cell_type": "code",
   "execution_count": 42,
   "metadata": {
    "collapsed": true
   },
   "outputs": [],
   "source": [
    "# da[\"data\"].columns"
   ]
  },
  {
   "cell_type": "code",
   "execution_count": 43,
   "metadata": {},
   "outputs": [
    {
     "name": "stdout",
     "output_type": "stream",
     "text": [
      "0\n",
      "tests C100 - filter:0\n",
      "start reading...\n",
      "data all-../../_zfp/data/FLALL/datasc.csv: 34647\n",
      "data read - lenTrain=29647 - lenTests=5000 - time:33.552817583084106\n"
     ]
    }
   ],
   "source": [
    "if ex['dType'] == 'json':       #JSON\n",
    "    global ALL_DSJ; ALL_DSJ  = LOGDAT + ex['path'] + ex['jsonFile']\n",
    "    dc = tests_json(ex['downExcel'], ex); \n",
    "if ex['dType'] == 'classN':     #C100\n",
    "    #filters = [ [\"\", 0], ['>', 60], ['<', 93]]\n",
    "    filters = ex['filter']\n",
    "    for i in range(len(filters)):\n",
    "        print(str(i))\n",
    "        dc, dt, de  = tests_classifN_100(filters[i])\n",
    "if ex['dType'] == 'class':      # C4\n",
    "        dc, dt, de = tests_classif(ex['filter'][0] )"
   ]
  },
  {
   "cell_type": "markdown",
   "metadata": {},
   "source": [
    "# ANALYSIS "
   ]
  },
  {
   "cell_type": "code",
   "execution_count": 64,
   "metadata": {},
   "outputs": [
    {
     "name": "stdout",
     "output_type": "stream",
     "text": [
      "Analysis of the data!\n",
      "counters \n",
      "34647\n",
      "17312\n",
      "24393\n"
     ]
    }
   ],
   "source": [
    "print(\"Analysis of the data!\")\n",
    "# print(dc.read_dst())\n",
    "print(\"counters \")\n",
    "dst_an = dc.read_dst()\n",
    "# dst_an.columns\n",
    "ic  = \"c\" + str(1)\n",
    "icm = 3025\n",
    "\n",
    "dst_an60 = dst_an[dst_an[\"FP\"]>60]\n",
    "dst_an93 = dst_an[dst_an[\"FP\"]<93]\n",
    "\n",
    "print(len(dst_an))\n",
    "print(len(dst_an60))\n",
    "print(len(dst_an93))\n",
    "\n",
    "# print(\"LOOP \")\n",
    "# for index, row in dst_an.iterrows():\n",
    "#      for i=1 in range()\n",
    "#         ic  = \"c\" + str(1)\n",
    "#         print(row['M'], row[ic])\n"
   ]
  },
  {
   "cell_type": "code",
   "execution_count": 45,
   "metadata": {
    "collapsed": true
   },
   "outputs": [],
   "source": [
    "# print(de)"
   ]
  },
  {
   "cell_type": "code",
   "execution_count": 46,
   "metadata": {},
   "outputs": [
    {
     "name": "stdout",
     "output_type": "stream",
     "text": [
      "3025\n"
     ]
    }
   ],
   "source": [
    "dt_l = dc.convert_2List(dt)  # dt.as_matrix().tolist()\n",
    "de_l = dc.convert_2List(de)\n",
    "ex['n_i'] = len(dt[\"data\"].columns)\n",
    "print(ex['n_i'])"
   ]
  },
  {
   "cell_type": "markdown",
   "metadata": {},
   "source": [
    "\n",
    "# ___NN <a id=\"o2\"/>\n",
    "\n",
    "[go back](#index)"
   ]
  },
  {
   "cell_type": "code",
   "execution_count": 47,
   "metadata": {},
   "outputs": [
    {
     "name": "stdout",
     "output_type": "stream",
     "text": [
      "network built\n",
      "n:3025*40*10*100\n"
     ]
    }
   ],
   "source": [
    "ex['n_i'] = len(dt[\"data\"].columns)\n",
    "print(ex['n_i'])\n",
    "\n",
    "nc  = fpNN(n_input=ex['n_i'], layers=2, hidden_nodes = [100 , 50] ,lr = 0.0001 , min_count = 10, polarity_cutoff = 0.1, output=ex['n_o'] )\n",
    "print(\"network built\") \n",
    "\n",
    "mlp =  fpModel(nc, dc, MODEL_P)\n",
    "print(mlp.get_nns())"
   ]
  },
  {
   "cell_type": "markdown",
   "metadata": {},
   "source": [
    "# TR <a id=\"tr\"/>\n",
    "\n",
    "[go back](#index)"
   ]
  },
  {
   "cell_type": "code",
   "execution_count": 48,
   "metadata": {},
   "outputs": [
    {
     "name": "stdout",
     "output_type": "stream",
     "text": [
      "step 0 - %Speed(it/disp_step): 0.0 - tr_ac 0.242\n",
      "Eval Accuracy: 0.288\n"
     ]
    },
    {
     "ename": "KeyboardInterrupt",
     "evalue": "",
     "output_type": "error",
     "traceback": [
      "\u001b[1;31m---------------------------------------------------------------------------\u001b[0m",
      "\u001b[1;31mKeyboardInterrupt\u001b[0m                         Traceback (most recent call last)",
      "\u001b[1;32m<ipython-input-48-cea8b839b80a>\u001b[0m in \u001b[0;36m<module>\u001b[1;34m()\u001b[0m\n\u001b[0;32m      1\u001b[0m \u001b[1;31m# _______DEFINITION train(self, dataClass, dataTrain, dataEv, it = 10000, desc=''):\u001b[0m\u001b[1;33m\u001b[0m\u001b[1;33m\u001b[0m\u001b[0m\n\u001b[1;32m----> 2\u001b[1;33m \u001b[0mmlp\u001b[0m\u001b[1;33m.\u001b[0m\u001b[0mtrain2\u001b[0m\u001b[1;33m(\u001b[0m\u001b[0mdataTrain\u001b[0m\u001b[1;33m=\u001b[0m\u001b[0mdt_l\u001b[0m\u001b[1;33m,\u001b[0m \u001b[0mdataEv\u001b[0m \u001b[1;33m=\u001b[0m \u001b[0mde_l\u001b[0m\u001b[1;33m,\u001b[0m \u001b[0mit\u001b[0m\u001b[1;33m=\u001b[0m\u001b[0mex\u001b[0m\u001b[1;33m[\u001b[0m\u001b[1;34m'it'\u001b[0m\u001b[1;33m]\u001b[0m\u001b[1;33m,\u001b[0m \u001b[0mdisp\u001b[0m\u001b[1;33m=\u001b[0m\u001b[0mex\u001b[0m\u001b[1;33m[\u001b[0m\u001b[1;34m'dispIt'\u001b[0m\u001b[1;33m]\u001b[0m\u001b[1;33m,\u001b[0m \u001b[0mdesc\u001b[0m\u001b[1;33m=\u001b[0m\u001b[0mex\u001b[0m\u001b[1;33m[\u001b[0m\u001b[1;34m'des'\u001b[0m\u001b[1;33m]\u001b[0m\u001b[1;33m)\u001b[0m\u001b[1;33m\u001b[0m\u001b[0m\n\u001b[0m",
      "\u001b[1;32m<ipython-input-4-6d35cd6842ca>\u001b[0m in \u001b[0;36mtrain2\u001b[1;34m(self, dataTrain, dataEv, it, disp, desc)\u001b[0m\n\u001b[0;32m    180\u001b[0m                 \u001b[1;32mfor\u001b[0m \u001b[0mii\u001b[0m\u001b[1;33m,\u001b[0m \u001b[1;33m(\u001b[0m\u001b[0mxtb\u001b[0m\u001b[1;33m,\u001b[0m\u001b[0mytb\u001b[0m\u001b[1;33m)\u001b[0m \u001b[1;32min\u001b[0m \u001b[0menumerate\u001b[0m\u001b[1;33m(\u001b[0m\u001b[0mself\u001b[0m\u001b[1;33m.\u001b[0m\u001b[0mdc\u001b[0m\u001b[1;33m.\u001b[0m\u001b[0mget_batches\u001b[0m\u001b[1;33m(\u001b[0m\u001b[0mdataTrain\u001b[0m\u001b[1;33m[\u001b[0m\u001b[1;34m'data'\u001b[0m\u001b[1;33m]\u001b[0m\u001b[1;33m,\u001b[0m \u001b[0mdataTrain\u001b[0m\u001b[1;33m[\u001b[0m\u001b[1;34m'label'\u001b[0m\u001b[1;33m]\u001b[0m\u001b[1;33m,\u001b[0m\u001b[0mbatch_size\u001b[0m\u001b[1;33m)\u001b[0m\u001b[1;33m)\u001b[0m\u001b[1;33m:\u001b[0m\u001b[1;33m\u001b[0m\u001b[0m\n\u001b[0;32m    181\u001b[0m                     \u001b[1;31m# xtb, ytb = self.dc.next_batch(batch_size, dataTrain['data'], dataTrain['label'])\u001b[0m\u001b[1;33m\u001b[0m\u001b[1;33m\u001b[0m\u001b[0m\n\u001b[1;32m--> 182\u001b[1;33m                     \u001b[0msess\u001b[0m\u001b[1;33m.\u001b[0m\u001b[0mrun\u001b[0m\u001b[1;33m(\u001b[0m\u001b[0mself\u001b[0m\u001b[1;33m.\u001b[0m\u001b[0mnn\u001b[0m\u001b[1;33m.\u001b[0m\u001b[0moptimizer\u001b[0m\u001b[1;33m,\u001b[0m \u001b[0mfeed_dict\u001b[0m\u001b[1;33m=\u001b[0m\u001b[1;33m{\u001b[0m\u001b[0mself\u001b[0m\u001b[1;33m.\u001b[0m\u001b[0mnn\u001b[0m\u001b[1;33m.\u001b[0m\u001b[0mx\u001b[0m\u001b[1;33m:\u001b[0m \u001b[0mxtb\u001b[0m\u001b[1;33m,\u001b[0m \u001b[0mself\u001b[0m\u001b[1;33m.\u001b[0m\u001b[0mnn\u001b[0m\u001b[1;33m.\u001b[0m\u001b[0my\u001b[0m\u001b[1;33m:\u001b[0m \u001b[0mytb\u001b[0m\u001b[1;33m}\u001b[0m\u001b[1;33m)\u001b[0m\u001b[1;33m\u001b[0m\u001b[0m\n\u001b[0m\u001b[0;32m    183\u001b[0m \u001b[1;33m\u001b[0m\u001b[0m\n\u001b[0;32m    184\u001b[0m                 \u001b[0melapsed_time\u001b[0m \u001b[1;33m=\u001b[0m \u001b[0mfloat\u001b[0m\u001b[1;33m(\u001b[0m\u001b[0mtime\u001b[0m\u001b[1;33m.\u001b[0m\u001b[0mtime\u001b[0m\u001b[1;33m(\u001b[0m\u001b[1;33m)\u001b[0m \u001b[1;33m-\u001b[0m \u001b[0mstart\u001b[0m\u001b[1;33m)\u001b[0m\u001b[1;33m\u001b[0m\u001b[0m\n",
      "\u001b[1;32mc:\\users\\a604080\\appdata\\local\\programs\\python\\python35\\lib\\site-packages\\tensorflow\\python\\client\\session.py\u001b[0m in \u001b[0;36mrun\u001b[1;34m(self, fetches, feed_dict, options, run_metadata)\u001b[0m\n\u001b[0;32m    787\u001b[0m     \u001b[1;32mtry\u001b[0m\u001b[1;33m:\u001b[0m\u001b[1;33m\u001b[0m\u001b[0m\n\u001b[0;32m    788\u001b[0m       result = self._run(None, fetches, feed_dict, options_ptr,\n\u001b[1;32m--> 789\u001b[1;33m                          run_metadata_ptr)\n\u001b[0m\u001b[0;32m    790\u001b[0m       \u001b[1;32mif\u001b[0m \u001b[0mrun_metadata\u001b[0m\u001b[1;33m:\u001b[0m\u001b[1;33m\u001b[0m\u001b[0m\n\u001b[0;32m    791\u001b[0m         \u001b[0mproto_data\u001b[0m \u001b[1;33m=\u001b[0m \u001b[0mtf_session\u001b[0m\u001b[1;33m.\u001b[0m\u001b[0mTF_GetBuffer\u001b[0m\u001b[1;33m(\u001b[0m\u001b[0mrun_metadata_ptr\u001b[0m\u001b[1;33m)\u001b[0m\u001b[1;33m\u001b[0m\u001b[0m\n",
      "\u001b[1;32mc:\\users\\a604080\\appdata\\local\\programs\\python\\python35\\lib\\site-packages\\tensorflow\\python\\client\\session.py\u001b[0m in \u001b[0;36m_run\u001b[1;34m(self, handle, fetches, feed_dict, options, run_metadata)\u001b[0m\n\u001b[0;32m    995\u001b[0m     \u001b[1;32mif\u001b[0m \u001b[0mfinal_fetches\u001b[0m \u001b[1;32mor\u001b[0m \u001b[0mfinal_targets\u001b[0m\u001b[1;33m:\u001b[0m\u001b[1;33m\u001b[0m\u001b[0m\n\u001b[0;32m    996\u001b[0m       results = self._do_run(handle, final_targets, final_fetches,\n\u001b[1;32m--> 997\u001b[1;33m                              feed_dict_string, options, run_metadata)\n\u001b[0m\u001b[0;32m    998\u001b[0m     \u001b[1;32melse\u001b[0m\u001b[1;33m:\u001b[0m\u001b[1;33m\u001b[0m\u001b[0m\n\u001b[0;32m    999\u001b[0m       \u001b[0mresults\u001b[0m \u001b[1;33m=\u001b[0m \u001b[1;33m[\u001b[0m\u001b[1;33m]\u001b[0m\u001b[1;33m\u001b[0m\u001b[0m\n",
      "\u001b[1;32mc:\\users\\a604080\\appdata\\local\\programs\\python\\python35\\lib\\site-packages\\tensorflow\\python\\client\\session.py\u001b[0m in \u001b[0;36m_do_run\u001b[1;34m(self, handle, target_list, fetch_list, feed_dict, options, run_metadata)\u001b[0m\n\u001b[0;32m   1130\u001b[0m     \u001b[1;32mif\u001b[0m \u001b[0mhandle\u001b[0m \u001b[1;32mis\u001b[0m \u001b[1;32mNone\u001b[0m\u001b[1;33m:\u001b[0m\u001b[1;33m\u001b[0m\u001b[0m\n\u001b[0;32m   1131\u001b[0m       return self._do_call(_run_fn, self._session, feed_dict, fetch_list,\n\u001b[1;32m-> 1132\u001b[1;33m                            target_list, options, run_metadata)\n\u001b[0m\u001b[0;32m   1133\u001b[0m     \u001b[1;32melse\u001b[0m\u001b[1;33m:\u001b[0m\u001b[1;33m\u001b[0m\u001b[0m\n\u001b[0;32m   1134\u001b[0m       return self._do_call(_prun_fn, self._session, handle, feed_dict,\n",
      "\u001b[1;32mc:\\users\\a604080\\appdata\\local\\programs\\python\\python35\\lib\\site-packages\\tensorflow\\python\\client\\session.py\u001b[0m in \u001b[0;36m_do_call\u001b[1;34m(self, fn, *args)\u001b[0m\n\u001b[0;32m   1137\u001b[0m   \u001b[1;32mdef\u001b[0m \u001b[0m_do_call\u001b[0m\u001b[1;33m(\u001b[0m\u001b[0mself\u001b[0m\u001b[1;33m,\u001b[0m \u001b[0mfn\u001b[0m\u001b[1;33m,\u001b[0m \u001b[1;33m*\u001b[0m\u001b[0margs\u001b[0m\u001b[1;33m)\u001b[0m\u001b[1;33m:\u001b[0m\u001b[1;33m\u001b[0m\u001b[0m\n\u001b[0;32m   1138\u001b[0m     \u001b[1;32mtry\u001b[0m\u001b[1;33m:\u001b[0m\u001b[1;33m\u001b[0m\u001b[0m\n\u001b[1;32m-> 1139\u001b[1;33m       \u001b[1;32mreturn\u001b[0m \u001b[0mfn\u001b[0m\u001b[1;33m(\u001b[0m\u001b[1;33m*\u001b[0m\u001b[0margs\u001b[0m\u001b[1;33m)\u001b[0m\u001b[1;33m\u001b[0m\u001b[0m\n\u001b[0m\u001b[0;32m   1140\u001b[0m     \u001b[1;32mexcept\u001b[0m \u001b[0merrors\u001b[0m\u001b[1;33m.\u001b[0m\u001b[0mOpError\u001b[0m \u001b[1;32mas\u001b[0m \u001b[0me\u001b[0m\u001b[1;33m:\u001b[0m\u001b[1;33m\u001b[0m\u001b[0m\n\u001b[0;32m   1141\u001b[0m       \u001b[0mmessage\u001b[0m \u001b[1;33m=\u001b[0m \u001b[0mcompat\u001b[0m\u001b[1;33m.\u001b[0m\u001b[0mas_text\u001b[0m\u001b[1;33m(\u001b[0m\u001b[0me\u001b[0m\u001b[1;33m.\u001b[0m\u001b[0mmessage\u001b[0m\u001b[1;33m)\u001b[0m\u001b[1;33m\u001b[0m\u001b[0m\n",
      "\u001b[1;32mc:\\users\\a604080\\appdata\\local\\programs\\python\\python35\\lib\\site-packages\\tensorflow\\python\\client\\session.py\u001b[0m in \u001b[0;36m_run_fn\u001b[1;34m(session, feed_dict, fetch_list, target_list, options, run_metadata)\u001b[0m\n\u001b[0;32m   1119\u001b[0m         return tf_session.TF_Run(session, options,\n\u001b[0;32m   1120\u001b[0m                                  \u001b[0mfeed_dict\u001b[0m\u001b[1;33m,\u001b[0m \u001b[0mfetch_list\u001b[0m\u001b[1;33m,\u001b[0m \u001b[0mtarget_list\u001b[0m\u001b[1;33m,\u001b[0m\u001b[1;33m\u001b[0m\u001b[0m\n\u001b[1;32m-> 1121\u001b[1;33m                                  status, run_metadata)\n\u001b[0m\u001b[0;32m   1122\u001b[0m \u001b[1;33m\u001b[0m\u001b[0m\n\u001b[0;32m   1123\u001b[0m     \u001b[1;32mdef\u001b[0m \u001b[0m_prun_fn\u001b[0m\u001b[1;33m(\u001b[0m\u001b[0msession\u001b[0m\u001b[1;33m,\u001b[0m \u001b[0mhandle\u001b[0m\u001b[1;33m,\u001b[0m \u001b[0mfeed_dict\u001b[0m\u001b[1;33m,\u001b[0m \u001b[0mfetch_list\u001b[0m\u001b[1;33m)\u001b[0m\u001b[1;33m:\u001b[0m\u001b[1;33m\u001b[0m\u001b[0m\n",
      "\u001b[1;31mKeyboardInterrupt\u001b[0m: "
     ]
    }
   ],
   "source": [
    "# _______DEFINITION train(self, dataClass, dataTrain, dataEv, it = 10000, desc=''):\n",
    "mlp.train2(dataTrain=dt_l, dataEv = de_l, it=100, disp=50, desc=ex['des'], batch_size = 64)"
   ]
  },
  {
   "cell_type": "markdown",
   "metadata": {},
   "source": [
    "# EV <a id=\"ev\"/>\n",
    "\n",
    "[go back](#index)"
   ]
  },
  {
   "cell_type": "code",
   "execution_count": 8,
   "metadata": {
    "collapsed": true
   },
   "outputs": [],
   "source": [
    "#_______DEFINITION def evaluate(self, dataTrain, dataEv,  desc='' )\n",
    "# mlp.evaluate(dataTrain=dt_l, dataEv = de_l, desc=ex['des'])"
   ]
  },
  {
   "cell_type": "markdown",
   "metadata": {},
   "source": [
    "# TESTS! <a id=\"ts\"/>\n",
    "\n",
    "[go back](#index)"
   ]
  },
  {
   "cell_type": "code",
   "execution_count": 9,
   "metadata": {
    "collapsed": true
   },
   "outputs": [],
   "source": [
    "json_str = '''[{ \"m\":\"8989\", \"c1\" :0.5 }, { \"m\":\"8988\", \"c3\" :0.5 , \"c4\" :0.5 }] '''\n",
    "label = [99, 60]\n",
    "desc='json-desc'  \n",
    "# mlp.test(COL_DS, True, json_str, label, ex['des'] ) #'C100 FRAFLO - c1; c3c4')  "
   ]
  },
  {
   "cell_type": "code",
   "execution_count": null,
   "metadata": {
    "collapsed": true
   },
   "outputs": [],
   "source": []
  },
  {
   "cell_type": "code",
   "execution_count": null,
   "metadata": {
    "collapsed": true
   },
   "outputs": [],
   "source": []
  },
  {
   "cell_type": "code",
   "execution_count": null,
   "metadata": {
    "collapsed": true
   },
   "outputs": [],
   "source": []
  },
  {
   "cell_type": "code",
   "execution_count": null,
   "metadata": {
    "collapsed": true
   },
   "outputs": [],
   "source": []
  },
  {
   "cell_type": "code",
   "execution_count": null,
   "metadata": {
    "collapsed": true
   },
   "outputs": [],
   "source": []
  }
 ],
 "metadata": {
  "kernelspec": {
   "display_name": "Python 3",
   "language": "python",
   "name": "python3"
  },
  "language_info": {
   "codemirror_mode": {
    "name": "ipython",
    "version": 3
   },
   "file_extension": ".py",
   "mimetype": "text/x-python",
   "name": "python",
   "nbconvert_exporter": "python",
   "pygments_lexer": "ipython3",
   "version": "3.5.2"
  }
 },
 "nbformat": 4,
 "nbformat_minor": 2
}
