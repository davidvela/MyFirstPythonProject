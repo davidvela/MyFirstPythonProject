{
 "cells": [
  {
   "cell_type": "markdown",
   "metadata": {},
   "source": [
    "# FP\n",
    "Start writing all my logic in jupyter notebook in order to run them from anaconda! <br>\n",
    "** IMPORTANT ** <br>\n",
    "the network cell should only be intialize once! otherwise the program start creating indexes for the variables!!!! \n",
    "\n",
    "## index: \n",
    "<a id='index'/>\n",
    "\n",
    "1. READ DATA \n",
    "    * Class \n",
    "    * files \n",
    "2. [Model](#model)\n",
    "3. [Train](#tr) \n",
    "4. [Evaluate](#ev) \n",
    "5. [Test](#ts) \n",
    "6. [Other](#o)\n",
    "\n",
    "[go back](#index)\n"
   ]
  },
  {
   "cell_type": "markdown",
   "metadata": {},
   "source": [
    "to do:\n",
    "* make work the classes   - DECLARED! I NEED TO TEST IT; NEW FILE! \n",
    "* implement the reporting logic \n",
    "* idea: counting the number of elements - new column in pandas\n",
    "* one drive not working\n"
   ]
  },
  {
   "cell_type": "code",
   "execution_count": 1,
   "metadata": {
    "collapsed": true
   },
   "outputs": [],
   "source": [
    "import pandas as pd \n",
    "import tensorflow as tf \n",
    "import numpy as np \n",
    "\n",
    "import requests\n",
    "import json\n",
    "import sys\n",
    "import os\n",
    "import time\n",
    "from types import *\n",
    "from collections import Counter\n",
    "from datetime import datetime\n"
   ]
  },
  {
   "cell_type": "code",
   "execution_count": 2,
   "metadata": {
    "collapsed": true
   },
   "outputs": [],
   "source": [
    "LOG        = \"../../_zfp/LOG.txt\"\n",
    "LOGDIR     = \"../../_zfp/data/my_graph/\"\n",
    "LOGDAT     = \"../../_zfp/data/\"\n",
    "\n",
    "DESC       = \"FRFLO\"\n",
    "\n",
    "DSJ_T      = \"/data_jsont.txt\"\n",
    "DSJ        = \"/data_json.txt\"\n",
    "DSC        = \"/TFFRFLO_ALSN.csv\"   \n",
    "DC         = \"/colcom.csv\"\n",
    "DL         = \"/datal.csv\"\n",
    "\n",
    "LAB_DS     = LOGDAT + DESC + DL  #\"../../_zfp/data/FRFLO/datal.csv\"\n",
    "COL_DS     = LOGDAT + DESC + DC  #\"../../_zfp/data/FRFLO/colcom.csv\"\n",
    "ALL_DSJ    = LOGDAT + DESC + DSJ #\"../../_zfp/data/FRFLO/dataXX.csv\"\n",
    "\n",
    "ALL_DSJ    = LOGDAT + DESC + DSJ_T\n",
    "\n",
    "ALL_DS     = LOGDAT + DESC + DSC #\"../../_zfp/data/FRFLO/TFFRFLO_ALSN.csv\""
   ]
  },
  {
   "cell_type": "markdown",
   "metadata": {},
   "source": [
    "# Read Data"
   ]
  },
  {
   "cell_type": "code",
   "execution_count": 3,
   "metadata": {
    "collapsed": true
   },
   "outputs": [],
   "source": [
    "#read data => class - COM or FP input // output - CAT 100 or 4! \n",
    "class fpDataModel:\n",
    "    def __init__(self, path, norm, batch_size, dType, labelCol, dataCol = 4, nC=100, nRange=1 , toList = True):\n",
    "        self.path           = path\n",
    "        self.norm           = norm\n",
    "        self.batch_size     = batch_size\n",
    "        self.dType          = dType\n",
    "        self.labelCol       = labelCol\n",
    "        self.dataCol        = dataCol\n",
    "        self.nC             = nC\n",
    "        self.nRange         = nRange\n",
    "        self.toList         = toList \n",
    "\n",
    "    def next_batch(self, num, data, labels):\n",
    "        idx = np.arange(0 , len(data))\n",
    "        np.random.shuffle(idx)\n",
    "        idx = idx[:num]\n",
    "        data_shuffle = [data[i] for i in idx]\n",
    "        labels_shuffle = [labels[i] for i in idx]\n",
    "\n",
    "        return np.asarray(data_shuffle), np.asarray(labels_shuffle)\n",
    "    \n",
    "    def classif(self, df):\n",
    "        if( df < 40 ): return [0,0,0,1] \n",
    "        elif( df >= 40 and df < 60 ): return [0,0,1,0]\n",
    "        elif( df >= 60 and df < 90 ): return [0,1,0,0] \n",
    "        elif( df >= 90 ): return [1,0,0,0] \n",
    "    def declassif(self, df): \n",
    "        if  ( df == [0,0,0,1] ):   return 1 \n",
    "        elif( df == [0,0,1,0] ):   return 2\n",
    "        elif( df == [0,1,0,0] ):   return 3  \n",
    "        elif( df == [1,0,0,0] ):   return 4      \n",
    "    def regress(self, df): #\n",
    "        return [df]\n",
    "    \n",
    "    def classifN(self, df):\n",
    "        listofzeros = [0] * self.nC\n",
    "        dfIndex = df//self.nRange\n",
    "        # print('{} and {}', (df,dfIndex))\n",
    "        if dfIndex < self.nC:\n",
    "            listofzeros[dfIndex] = 1 \n",
    "        return listofzeros\n",
    "    \n",
    "    def deClassifN(self, df, val = 1 ):\n",
    "        return df.index(val)\n",
    "    \n",
    "    def split_lab_dat(self, dst):\n",
    "        cat  = dst.loc[:, self.labelCol]\n",
    "        dat  = dst.iloc[:, self.dataCol:]\n",
    "        if (self.toList): \n",
    "            cat = cat.as_matrix().tolist()\n",
    "            dat = dat.as_matrix().tolist()\n",
    "        return {'label' : cat, 'data' : dat}\n",
    "    \n",
    "    #Get Data\n",
    "    def get_data(self, typeSep = True, pathA = \"\", filter = \"\"):\n",
    "        if pathA != \"\":\n",
    "            dst =  pd.read_csv( tf.gfile.Open(pathA), sep=None, skipinitialspace=True,  engine=\"python\")\n",
    "        else: \n",
    "            dst =  pd.read_csv( tf.gfile.Open(self.path), sep=None, skipinitialspace=True,  engine=\"python\")\n",
    "        \n",
    "        dst = dst.fillna(0)\n",
    "        \n",
    "        if filter == '>23':\n",
    "            dst = dst[dst[\"FP\"]>23]\n",
    "        elif filter == '>60':\n",
    "            dst = dst[dst[\"FP\"]>60]\n",
    "\n",
    "\n",
    "        if self.norm != \"\":\n",
    "            cat_n  = dst.loc[:,'FP'] \n",
    "            dst['FP'] = self.normalization( cat_n )\n",
    "\n",
    "        if   self.dType == 'class':       # Classification in 4 categories\n",
    "            dst.insert(2, 'FP_C', dst['FP'].map(lambda x: self.classif(x)))\n",
    "        elif self.dType == 'reg':       # Regression\n",
    "            dst.insert(2, 'FP_R', dst['FP'].map(lambda x: self.regress(x)))\n",
    "        elif self.dType == 'classN':    # Classification in N categories  \n",
    "            dst.insert(2, 'FP_C', dst['FP'].map(lambda x: self.classifN(x))) \n",
    "        \n",
    "        self.dst = dst\n",
    "\n",
    "        # 3 if no type and 4 if type\n",
    "        if typeSep == True:\n",
    "            dst_tmp = [rows for _, rows in dst.groupby('Type')]\n",
    "            data_e  = self.split_lab_dat(dst_tmp[0])\n",
    "            data_t  = self.split_lab_dat(dst_tmp[1])\n",
    "            return data_t, data_e\n",
    "        else :   return  self.split_lab_dat(dst_tmp[0])\n",
    "    \n",
    "    \n",
    "    \n",
    "    def get_data2(self, colu=\"\", datu=\"\"):\n",
    "        pass\n",
    "    \n",
    "    def set_columns(self, url ):        # set the main data frame from the class: \n",
    "        columns_path = url\n",
    "        self.col_df = pd.read_csv(columns_path, index_col=0, sep=',', usecols=[0,1,2,3])\n",
    "        return(len(self.col_df))\n",
    "        \n",
    "    def feed_data(self, url , type=\"\", d_st = False):\n",
    "        json_df = pd.DataFrame(columns=self.col_df.index) \n",
    "        df_entry = pd.Series(index=self.col_df.index)\n",
    "\n",
    "        df_entry = df_entry.fillna(0) \n",
    "        comp_out_count = Counter()\n",
    "        \n",
    "        if(isinstance(url, list)):json_data = url\n",
    "        else:   \n",
    "            json_str=open(url).read()\n",
    "            json_data = json.loads(json_str)\n",
    "\n",
    "        for i in range(len(json_data)):\n",
    "            if i%500 == 0: print(i)\n",
    "            df_entry *= 0\n",
    "            m = str(json_data[i][\"m\"])\n",
    "            df_entry.name = m\n",
    "            for key in json_data[i]:\n",
    "                if key == \"m\":  \n",
    "                    pass            \n",
    "                else: \n",
    "                    #key_wz = str(int(key)\n",
    "                    key_wz = key\n",
    "                    try:\n",
    "                        ds_col = self.col_df.loc[key_wz]\n",
    "                        #df_entry.loc[key_wz]\n",
    "                        df_entry[key_wz] =  np.float32(json_data[i][key])\n",
    "                    except: \n",
    "                        if d_st == True: \n",
    "                            print(\"column: {} not included in the input of: {}\" .format(key_wz, m))\n",
    "                        # comp_out_count[key_wz] +=1\n",
    "            json_df = json_df.append(df_entry,ignore_index=False)\n",
    "        # print(\"Counter of comp. not included :\")\n",
    "        # print(len(comp_out_count))\n",
    "        # return json_df  \n",
    "        return json_df.as_matrix().tolist()  \n",
    "\n",
    "\n",
    "    def check_perf(self, lA, lB):\n",
    "        assert(len(lA) == len(lB))\n",
    "        gt3  = 0\n",
    "        gtM = 0\n",
    "        num = 0\n",
    "        for i in range(len(lA)):\n",
    "            num = abs(lA[i]-lB[i])\n",
    "            if num > 3: gt3+=1\n",
    "            if num > 10: gtM+=1\n",
    "        return gt3, gtM\n",
    "    "
   ]
  },
  {
   "cell_type": "markdown",
   "metadata": {},
   "source": [
    "# DECLARATIONS"
   ]
  },
  {
   "cell_type": "code",
   "execution_count": 4,
   "metadata": {},
   "outputs": [
    {
     "name": "stdout",
     "output_type": "stream",
     "text": [
      "data declared\n"
     ]
    }
   ],
   "source": [
    "# Declarations\n",
    "learning_rate = 0.001\n",
    "n_classes   = 100    \n",
    "n_input     = 1814 #1221\n",
    "n_hidden_1  = 256   \n",
    "n_hidden_2  = 256   \n",
    "xtp1        = []  \n",
    "ytp1        = []\n",
    "\n",
    "l3 = 0; l15 = 0; start=0; elapsed_time=0;\n",
    "rp_s = '';  tr_ac = ''; ev_ac = '';\n",
    "\n",
    "def init():\n",
    "    l3 = 0; l15 = 0; start=0; elapsed_time=0;\n",
    "    rp_s = '';  tr_ac = ''; \n",
    "\n",
    "# col_df = pd.read_csv(COL_DS, index_col=0, sep=',', usecols=[0,1,2,3])\n",
    "# print(col_df)\n",
    "\n",
    "dataClass = fpDataModel( path= ALL_DS, norm = '', batch_size = 128, dType=\"classN\", labelCol = 'FP_C', \n",
    "                         dataCol = 4,   nC=n_classes, nRange=1, toList = True )\n",
    "print(\"data declared\")"
   ]
  },
  {
   "cell_type": "code",
   "execution_count": 5,
   "metadata": {},
   "outputs": [
    {
     "name": "stdout",
     "output_type": "stream",
     "text": [
      "start reading...\n",
      "data read - lenTrain=4804 - lenTests=4806 - time:6.865105628967285\n"
     ]
    }
   ],
   "source": [
    "# get data from type = T, E \n",
    "print(\"start reading...\")\n",
    "start = time.time()\n",
    "dataTrain,  dataEv =  dataClass.get_data(pathA=ALL_DS ) \n",
    "elapsed_time = float(time.time() - start)\n",
    "print(\"data read - lenTrain={} - lenTests={} - time:{}\" .format(len(dataTrain[\"label\"]),len(dataEv[\"label\"]),elapsed_time ))\n"
   ]
  },
  {
   "cell_type": "markdown",
   "metadata": {},
   "source": [
    "# <font color=red> JSON Reading is very SLOW!!! - only for go live not for training </font>\n",
    "in order to create the new input format I need to read every single material and create the nes layout ... therefore it will take me 702seconds = 11min for 9.600 matnr ... <br> \n",
    "An alternative would be to create another program and generate the new excel in columns! "
   ]
  },
  {
   "cell_type": "code",
   "execution_count": 6,
   "metadata": {},
   "outputs": [
    {
     "name": "stdout",
     "output_type": "stream",
     "text": [
      "input-no=1814\n",
      "data read - lenTrain=4804 - lenTests=4806 - time:0.0\n"
     ]
    }
   ],
   "source": [
    "# get data from json \n",
    "\n",
    "dataAll  = {'label' : [] , 'data' :  [] }\n",
    "n_input2 = dataClass.set_columns(COL_DS)\n",
    "print(\"input-no={}\".format( n_input2))\n",
    "json_str = '''[{ \"m\":\"8989\", \"c1\" :0.5 },\n",
    "               { \"m\":\"8988\", \"c3\" :0.5 , \"c4\" :0.5 }] '''\n",
    "json_data = json.loads(json_str)  #;print(json_data[0]['m'])\n",
    "start = time.time()\n",
    "dataAll['data'] = [555] #dataClass.feed_data(ALL_DSJ); print(dataAll['data'])\n",
    "elapsed_time = float(time.time() - start)\n",
    "print(\"data read - lenTrain={} - lenTests={} - time:{}\" .format(len(dataTrain[\"label\"]),len(dataEv[\"label\"]),elapsed_time ))\n",
    "\n",
    "# dataAll['label'] = [88,99]\n",
    "    \n",
    "# dataTest['data'] = dataAll['data']\n",
    "# dataTest['data'] = dataAll['data']\n"
   ]
  },
  {
   "cell_type": "markdown",
   "metadata": {},
   "source": [
    "# NEXT DATA\n",
    "the next that I should do regarding data handling is recording the type of data I am getting!<br>\n",
    "Also - Functions to convert data into standard excel - matnr per column... "
   ]
  },
  {
   "cell_type": "code",
   "execution_count": null,
   "metadata": {
    "collapsed": true
   },
   "outputs": [],
   "source": []
  },
  {
   "cell_type": "markdown",
   "metadata": {},
   "source": [
    "# MODEL - CLASS!  <a id=\"model\"/>\n",
    "\n",
    "[go back](#index)\n",
    "\n",
    "create my network class and don't initialize it ... only 1"
   ]
  },
  {
   "cell_type": "code",
   "execution_count": 49,
   "metadata": {
    "collapsed": true
   },
   "outputs": [],
   "source": [
    "class fpNN:\n",
    "    def __init__(self, ncol, layers=2, hidden_nodes = [256 , 256], \n",
    "                 learning_rate = 0.1, min_count = 10, polarity_cutoff = 0.1       ):\n",
    "        \n",
    "        output = 100\n",
    "        self.init_network(ncol, layers, hidden_nodes, output, learning_rate)\n",
    "    \n",
    "    def init_network(self, n_input, layers, hidden_nodes, n_classes, learning_rate):\n",
    "        self.learning_rate = learning_rate # 0.001\n",
    "        self.hidden_nodes = hidden_nodes\n",
    "        self.n_input     = n_input #1814 #1221\n",
    "        self.n_classes   = n_classes \n",
    "\n",
    "        # cust - network \n",
    "        self.x = tf.placeholder(tf.float32,   shape=[None, n_input],   name=\"x\")\n",
    "        self.y = tf.placeholder(tf.int16,     shape=[None, n_classes], name=\"cat\")\n",
    "\n",
    "        self.weights = {\n",
    "            'h1': tf.Variable(tf.random_normal([n_input, hidden_nodes[0] ]),    name=\"Weights_1\"),\n",
    "            'h2': tf.Variable(tf.random_normal([ hidden_nodes[0], hidden_nodes[1]]), name=\"Weights_2\"),\n",
    "            'out': tf.Variable(tf.random_normal([n_hidden_2, n_classes]), name=\"Weights_out\"),\n",
    "        }\n",
    "        self.biases = {\n",
    "            'b1': tf.Variable(tf.random_normal([hidden_nodes[0]]), name=\"Bias_1\"),\n",
    "            'b2': tf.Variable(tf.random_normal([hidden_nodes[1]]), name=\"Bias_2\"),\n",
    "            'out': tf.Variable(tf.random_normal([n_classes]), name=\"Bias_out\"),\n",
    "        }\n",
    "        \n",
    "#         hidden_nodes = [1221,256,256,100]\n",
    "#         self.weights = {} \n",
    "#         self.biases = {}\n",
    "#         for (i in range(layers)):\n",
    "#             self.weights[\"h\"+string(i)] = tf.Variable(tf.random_normal([n_input, hidden_nodes[0] ]),name=\"Weights_1\"\n",
    "                \n",
    "        # Hidden layer with RELU activation\n",
    "        with tf.name_scope(\"fc_1\"):\n",
    "            self.layer_1 = tf.add(tf.matmul(self.x, self.weights['h1']), self.biases['b1'])\n",
    "            self.layer_1 = tf.nn.relu(self.layer_1)\n",
    "        # Hidden layer with RELU activation\n",
    "        with tf.name_scope(\"fc_2\"):\n",
    "            self.layer_2 = tf.add(tf.matmul(self.layer_1, self.weights['h2']), self.biases['b2'])\n",
    "            self.layer_2 = tf.nn.relu(self.layer_2)\n",
    "        # Output layer with linear activation\n",
    "        with tf.name_scope(\"fc_output\"):\n",
    "            self.pred = tf.matmul(self.layer_2, self.weights['out']) + self.biases['out']\n",
    "\n",
    "        self.softmaxT = tf.nn.softmax(self.pred, )\n",
    "        self.prediction=tf.reduce_max(self.y,1)\n",
    "\n",
    "        with tf.name_scope(\"accuracy\"):\n",
    "            self.correct_prediction = tf.equal(tf.argmax(self.pred, 1), tf.argmax(self.y, 1))\n",
    "            self.accuracy = tf.reduce_mean(tf.cast(self.correct_prediction, tf.float32))\n",
    "            tf.summary.scalar(\"accuracy\", self.accuracy)\n",
    "\n",
    "        with tf.name_scope(\"xent\"):\n",
    "            self.cost = tf.reduce_mean(tf.nn.softmax_cross_entropy_with_logits(logits=self.pred, labels=self.y))\n",
    "            tf.summary.scalar(\"xent\", self.cost)\n",
    "\n",
    "        with tf.name_scope(\"train\"):\n",
    "            self.optimizer = tf.train.AdamOptimizer(learning_rate=self.learning_rate).minimize(self.cost)\n",
    "        \n",
    "        self.summ = tf.summary.merge_all()\n",
    "        self.init = tf.global_variables_initializer()\n",
    "        self.saver= tf.train.Saver()\n",
    "        \n",
    "nc = fpModel(1, 2, 1814, learning_rate = 0.01)\n"
   ]
  },
  {
   "cell_type": "code",
   "execution_count": 61,
   "metadata": {},
   "outputs": [],
   "source": [
    "\n",
    "class fpModel:\n",
    "    def __init__(self, nn, model_path ):\n",
    "        self.nn = nn\n",
    "        self.model_path = model_path\n",
    "    \n",
    "    def get_nns(self):\n",
    "        ns = \"n:\" + str(self.nn.n_input) + \"*\"\n",
    "#       for(i in range(self.layers) )                \n",
    "        ns = ns + str(self.nn.hidden_nodes[0]) + \"*\" + str(self.nn.hidden_nodes[1]) + \"*\"\n",
    "        ns = ns + str(self.nn.n_classes)\n",
    "        return ns \n",
    "    \n",
    "    def dummy(self):\n",
    "        print(\"hello\")\n",
    "        \n",
    "    def restore_model(self, sess):\n",
    "        print(\"Model restored from file: %s\" % self.model_path)\n",
    "        self.saver.restore(sess, self.model_path)\n",
    "        \n",
    "    def check_perf_CN(self, predv, dataEv ):\n",
    "        pred_val = []\n",
    "        data_val = []\n",
    "        predvList = predv.tolist()\n",
    "        print(\"denormalization all Evaluation : {} = {}\" .format(len(predv), len(dataEv[\"label\"])))\n",
    "        for i in range(len(predv)):\n",
    "        #for i in range(100):\n",
    "            if (i % 1000==0): print(i , end=\"\")\n",
    "            pred_vali = 0; data_vali = 0;\n",
    "            try:\n",
    "                pred_vali = dataClass.deClassifN( predv.tolist()[i], np.max(predv[i]))\n",
    "                data_vali = dataClass.deClassifN( dataEv['label'][i])\n",
    "                # print(\"realVal: {} -- PP value: {}\".format(data_vali,pred_vali))\n",
    "                pred_val.append(pred_vali)\n",
    "                data_val.append(data_vali)\n",
    "            except:\n",
    "                print(\"error: i={}, pred={}, data={} -- \".format(i, pred_vali, data_vali))\n",
    "\n",
    "        l3, l15 = dataClass.check_perf(pred_val, data_val)  \n",
    "        print(\"Total: {} GT3: {}  GTM: {}\".format(len(pred_val), l3, l15)) \n",
    "\n",
    "    def train(self, dataTrain):\n",
    "        training_iters = 10000 #200000\n",
    "        batch_size = 128\n",
    "        display_step = training_iters*0.1 #10%\n",
    "        record_step  = training_iters*0.05 \n",
    "\n",
    "        with tf.Session() as sess:\n",
    "            sess.run(self.nn.init)\n",
    "            start = time.time()\n",
    "            \n",
    "            for i in range(training_iters): \n",
    "                xtb, ytb = dataClass.next_batch(batch_size, dataTrain['data'], dataTrain['label']) \n",
    "                elapsed_time = float(time.time() - start)\n",
    "                reviews_per_second = i / elapsed_time if elapsed_time > 0 else 0\n",
    "\n",
    "                if i % record_step == 0:\n",
    "                    [train_accuracy] = sess.run([self.nn.accuracy], feed_dict={self.nn.x: xtb, self.nn.y: ytb }) \n",
    "        #             writer.add_summary(s, i)\n",
    "\n",
    "                if i % display_step == 0:\n",
    "                    print(\"step %d, training accracy %g \" %(i, train_accuracy))\n",
    "\n",
    "                sess.run(self.nn.optimizer, feed_dict={self.nn.x: xtb, self.nn.y: ytb})\n",
    "\n",
    "            print(\"Optimization Finished!\")\n",
    "            save_path = self.nn.saver.save(sess, self.model_path)\n",
    "            print(\"Model saved in file: %s\" % save_path)\n",
    "            print(\"Testing Accuracy:\", sess.run(self.nn.accuracy, feed_dict={self.nn.x: dataEv['data'], \n",
    "                                                                             self.nn.y: dataEv['label']}))\n",
    "    \n",
    "    def evaluate(self, dataTrain, dataEv ):\n",
    "        print(\"EVALUATION...\")\n",
    "        with tf.Session() as sess:\n",
    "            sess.run(self.init)\n",
    "            self.restore_model(sess)\n",
    "            # test the model\n",
    "            print(\"Training   Accuracy:\", sess.run(self.nn.accuracy, feed_dict={self.x: dataTrain['data'], \n",
    "                                                                             self.y: dataTrain['label']}))\n",
    "            print(\"Evaluation Accuracy:\", sess.run(self.nn.accuracy, feed_dict={self.x: dataEv['data'],    \n",
    "                                                                             self.y: dataEv['label']}))\n",
    "\n",
    "            # xtp1.append(dataTest['data'][i]);    ytp1.append(dataTest['label'][i])\n",
    "            predv, softv = sess.run([self.nn.pred, self.nn.softmaxT], feed_dict={x: dataEv['data']}) \n",
    "\n",
    "            print(\"Preview the first predictions:\")\n",
    "            for i in range(20):\n",
    "                print(\"RealVal: {}  - PP value: {}\".format( dataClass.deClassifN( dataEv['label'][i]), \n",
    "                                                           dataClass.deClassifN( predv.tolist()[i], np.max(predv[i]))  ))\n",
    "                # maxa = sess.run([prediction], feed_dict={y: predv })\n",
    "\n",
    "            self.check_perf_CN(predv, dataEv )\n",
    "        \n",
    "    def test(self, p_json_str=0, p_label=0):\n",
    "        print(\"TESTS...\")    \n",
    "        dataTest = {'label' : [] , 'data' :  [] }\n",
    "        pred_val = []\n",
    "        print(\"input-no={}\".format(dataClass.set_columns(COL_DS) ))\n",
    "        \n",
    "        if p_json_str != 0: json_str = p_json_str\n",
    "        else: \n",
    "            json_str = '''[{ \"m\":\"8989\", \"c1\" :0.5 },\n",
    "            { \"m\":\"8988\", \"c3\" :0.5 , \"c4\" :0.5 }] '''\n",
    "\n",
    "        if p_json_str != 0: dataTest['label'] = p_label\n",
    "        else: \n",
    "            dataTest['label'] = [88,99]\n",
    "        \n",
    "        json_data = json.loads(json_str)\n",
    "        dataTest['data'] = dataClass.feed_data(json_data) \n",
    "        \n",
    "        with tf.Session() as sess:\n",
    "            sess.run(self.nn.init)\n",
    "            self.restore_model(sess, model_path)\n",
    "            predv = sess.run( self.nn.pred , feed_dict={x: dataTest['data']}) \n",
    "\n",
    "        for i in range(len(predv)):\n",
    "            print(\"RealVal: {}  - PP value: {}\".format( dataClass.deClassifN( dataEv['label'][i]), \n",
    "                                                       dataClass.deClassifN( predv.tolist()[i], np.max(predv[i]))  ))   "
   ]
  },
  {
   "cell_type": "code",
   "execution_count": 62,
   "metadata": {},
   "outputs": [
    {
     "name": "stdout",
     "output_type": "stream",
     "text": [
      "n:1814*256*256*100\n"
     ]
    }
   ],
   "source": [
    "    def dummy2(self): # I CANT DECLARE METHODS FOR A CLASS IN DIFFERENT CELLS! \n",
    "        print(\"hello2\")\n",
    "        \n",
    "model_path  = LOGDIR + \"0F2CR3/model.ckpt\"      \n",
    "mlp =  fpModel(nc, model_path)\n",
    "print(mlp.get_nns())\n",
    "# mlp.dummy2()"
   ]
  },
  {
   "cell_type": "markdown",
   "metadata": {},
   "source": [
    "#### testing!!!!"
   ]
  },
  {
   "cell_type": "code",
   "execution_count": null,
   "metadata": {},
   "outputs": [
    {
     "name": "stdout",
     "output_type": "stream",
     "text": [
      "step 0, training accracy 0 \n"
     ]
    }
   ],
   "source": [
    "# mlp.model_path = LOGDIR + \"0F2CR3/model.ckpt\"  \n",
    "mlp.train(dataTrain=dataTrain)"
   ]
  },
  {
   "cell_type": "code",
   "execution_count": 48,
   "metadata": {},
   "outputs": [
    {
     "name": "stdout",
     "output_type": "stream",
     "text": [
      "EVALUATION...\n",
      "Model restored from file: ../../_zfp/data/my_graph/0F2CR3/model.ckpt\n",
      "INFO:tensorflow:Restoring parameters from ../../_zfp/data/my_graph/0F2CR3/model.ckpt\n"
     ]
    },
    {
     "ename": "NotFoundError",
     "evalue": "Key Weights_out_14/Adam not found in checkpoint\n\t [[Node: save_13/RestoreV2_244 = RestoreV2[dtypes=[DT_FLOAT], _device=\"/job:localhost/replica:0/task:0/cpu:0\"](_arg_save_13/Const_0_0, save_13/RestoreV2_244/tensor_names, save_13/RestoreV2_244/shape_and_slices)]]\n\nCaused by op 'save_13/RestoreV2_244', defined at:\n  File \"c:\\users\\extig\\appdata\\local\\continuum\\anaconda3\\envs\\udacity\\lib\\runpy.py\", line 193, in _run_module_as_main\n    \"__main__\", mod_spec)\n  File \"c:\\users\\extig\\appdata\\local\\continuum\\anaconda3\\envs\\udacity\\lib\\runpy.py\", line 85, in _run_code\n    exec(code, run_globals)\n  File \"c:\\users\\extig\\appdata\\local\\continuum\\anaconda3\\envs\\udacity\\lib\\site-packages\\ipykernel_launcher.py\", line 16, in <module>\n    app.launch_new_instance()\n  File \"c:\\users\\extig\\appdata\\local\\continuum\\anaconda3\\envs\\udacity\\lib\\site-packages\\traitlets\\config\\application.py\", line 658, in launch_instance\n    app.start()\n  File \"c:\\users\\extig\\appdata\\local\\continuum\\anaconda3\\envs\\udacity\\lib\\site-packages\\ipykernel\\kernelapp.py\", line 477, in start\n    ioloop.IOLoop.instance().start()\n  File \"c:\\users\\extig\\appdata\\local\\continuum\\anaconda3\\envs\\udacity\\lib\\site-packages\\zmq\\eventloop\\ioloop.py\", line 177, in start\n    super(ZMQIOLoop, self).start()\n  File \"c:\\users\\extig\\appdata\\local\\continuum\\anaconda3\\envs\\udacity\\lib\\site-packages\\tornado\\ioloop.py\", line 888, in start\n    handler_func(fd_obj, events)\n  File \"c:\\users\\extig\\appdata\\local\\continuum\\anaconda3\\envs\\udacity\\lib\\site-packages\\tornado\\stack_context.py\", line 277, in null_wrapper\n    return fn(*args, **kwargs)\n  File \"c:\\users\\extig\\appdata\\local\\continuum\\anaconda3\\envs\\udacity\\lib\\site-packages\\zmq\\eventloop\\zmqstream.py\", line 440, in _handle_events\n    self._handle_recv()\n  File \"c:\\users\\extig\\appdata\\local\\continuum\\anaconda3\\envs\\udacity\\lib\\site-packages\\zmq\\eventloop\\zmqstream.py\", line 472, in _handle_recv\n    self._run_callback(callback, msg)\n  File \"c:\\users\\extig\\appdata\\local\\continuum\\anaconda3\\envs\\udacity\\lib\\site-packages\\zmq\\eventloop\\zmqstream.py\", line 414, in _run_callback\n    callback(*args, **kwargs)\n  File \"c:\\users\\extig\\appdata\\local\\continuum\\anaconda3\\envs\\udacity\\lib\\site-packages\\tornado\\stack_context.py\", line 277, in null_wrapper\n    return fn(*args, **kwargs)\n  File \"c:\\users\\extig\\appdata\\local\\continuum\\anaconda3\\envs\\udacity\\lib\\site-packages\\ipykernel\\kernelbase.py\", line 283, in dispatcher\n    return self.dispatch_shell(stream, msg)\n  File \"c:\\users\\extig\\appdata\\local\\continuum\\anaconda3\\envs\\udacity\\lib\\site-packages\\ipykernel\\kernelbase.py\", line 235, in dispatch_shell\n    handler(stream, idents, msg)\n  File \"c:\\users\\extig\\appdata\\local\\continuum\\anaconda3\\envs\\udacity\\lib\\site-packages\\ipykernel\\kernelbase.py\", line 399, in execute_request\n    user_expressions, allow_stdin)\n  File \"c:\\users\\extig\\appdata\\local\\continuum\\anaconda3\\envs\\udacity\\lib\\site-packages\\ipykernel\\ipkernel.py\", line 196, in do_execute\n    res = shell.run_cell(code, store_history=store_history, silent=silent)\n  File \"c:\\users\\extig\\appdata\\local\\continuum\\anaconda3\\envs\\udacity\\lib\\site-packages\\ipykernel\\zmqshell.py\", line 533, in run_cell\n    return super(ZMQInteractiveShell, self).run_cell(*args, **kwargs)\n  File \"c:\\users\\extig\\appdata\\local\\continuum\\anaconda3\\envs\\udacity\\lib\\site-packages\\IPython\\core\\interactiveshell.py\", line 2698, in run_cell\n    interactivity=interactivity, compiler=compiler, result=result)\n  File \"c:\\users\\extig\\appdata\\local\\continuum\\anaconda3\\envs\\udacity\\lib\\site-packages\\IPython\\core\\interactiveshell.py\", line 2802, in run_ast_nodes\n    if self.run_code(code, result):\n  File \"c:\\users\\extig\\appdata\\local\\continuum\\anaconda3\\envs\\udacity\\lib\\site-packages\\IPython\\core\\interactiveshell.py\", line 2862, in run_code\n    exec(code_obj, self.user_global_ns, self.user_ns)\n  File \"<ipython-input-47-459b1c5327b9>\", line 5, in <module>\n    mlp =  fpModel(1, 2, 1814, learning_rate = 0.01)\n  File \"<ipython-input-46-010c21d9c55d>\", line 7, in __init__\n    self.init_network(ncol, layers, hidden_nodes, output, learning_rate)\n  File \"<ipython-input-46-010c21d9c55d>\", line 65, in init_network\n    self.saver= tf.train.Saver()\n  File \"c:\\users\\extig\\appdata\\local\\continuum\\anaconda3\\envs\\udacity\\lib\\site-packages\\tensorflow\\python\\training\\saver.py\", line 1140, in __init__\n    self.build()\n  File \"c:\\users\\extig\\appdata\\local\\continuum\\anaconda3\\envs\\udacity\\lib\\site-packages\\tensorflow\\python\\training\\saver.py\", line 1172, in build\n    filename=self._filename)\n  File \"c:\\users\\extig\\appdata\\local\\continuum\\anaconda3\\envs\\udacity\\lib\\site-packages\\tensorflow\\python\\training\\saver.py\", line 688, in build\n    restore_sequentially, reshape)\n  File \"c:\\users\\extig\\appdata\\local\\continuum\\anaconda3\\envs\\udacity\\lib\\site-packages\\tensorflow\\python\\training\\saver.py\", line 407, in _AddRestoreOps\n    tensors = self.restore_op(filename_tensor, saveable, preferred_shard)\n  File \"c:\\users\\extig\\appdata\\local\\continuum\\anaconda3\\envs\\udacity\\lib\\site-packages\\tensorflow\\python\\training\\saver.py\", line 247, in restore_op\n    [spec.tensor.dtype])[0])\n  File \"c:\\users\\extig\\appdata\\local\\continuum\\anaconda3\\envs\\udacity\\lib\\site-packages\\tensorflow\\python\\ops\\gen_io_ops.py\", line 663, in restore_v2\n    dtypes=dtypes, name=name)\n  File \"c:\\users\\extig\\appdata\\local\\continuum\\anaconda3\\envs\\udacity\\lib\\site-packages\\tensorflow\\python\\framework\\op_def_library.py\", line 767, in apply_op\n    op_def=op_def)\n  File \"c:\\users\\extig\\appdata\\local\\continuum\\anaconda3\\envs\\udacity\\lib\\site-packages\\tensorflow\\python\\framework\\ops.py\", line 2630, in create_op\n    original_op=self._default_original_op, op_def=op_def)\n  File \"c:\\users\\extig\\appdata\\local\\continuum\\anaconda3\\envs\\udacity\\lib\\site-packages\\tensorflow\\python\\framework\\ops.py\", line 1204, in __init__\n    self._traceback = self._graph._extract_stack()  # pylint: disable=protected-access\n\nNotFoundError (see above for traceback): Key Weights_out_14/Adam not found in checkpoint\n\t [[Node: save_13/RestoreV2_244 = RestoreV2[dtypes=[DT_FLOAT], _device=\"/job:localhost/replica:0/task:0/cpu:0\"](_arg_save_13/Const_0_0, save_13/RestoreV2_244/tensor_names, save_13/RestoreV2_244/shape_and_slices)]]\n",
     "output_type": "error",
     "traceback": [
      "\u001b[1;31m---------------------------------------------------------------------------\u001b[0m",
      "\u001b[1;31mNotFoundError\u001b[0m                             Traceback (most recent call last)",
      "\u001b[1;32mc:\\users\\extig\\appdata\\local\\continuum\\anaconda3\\envs\\udacity\\lib\\site-packages\\tensorflow\\python\\client\\session.py\u001b[0m in \u001b[0;36m_do_call\u001b[1;34m(self, fn, *args)\u001b[0m\n\u001b[0;32m   1326\u001b[0m     \u001b[1;32mtry\u001b[0m\u001b[1;33m:\u001b[0m\u001b[1;33m\u001b[0m\u001b[0m\n\u001b[1;32m-> 1327\u001b[1;33m       \u001b[1;32mreturn\u001b[0m \u001b[0mfn\u001b[0m\u001b[1;33m(\u001b[0m\u001b[1;33m*\u001b[0m\u001b[0margs\u001b[0m\u001b[1;33m)\u001b[0m\u001b[1;33m\u001b[0m\u001b[0m\n\u001b[0m\u001b[0;32m   1328\u001b[0m     \u001b[1;32mexcept\u001b[0m \u001b[0merrors\u001b[0m\u001b[1;33m.\u001b[0m\u001b[0mOpError\u001b[0m \u001b[1;32mas\u001b[0m \u001b[0me\u001b[0m\u001b[1;33m:\u001b[0m\u001b[1;33m\u001b[0m\u001b[0m\n",
      "\u001b[1;32mc:\\users\\extig\\appdata\\local\\continuum\\anaconda3\\envs\\udacity\\lib\\site-packages\\tensorflow\\python\\client\\session.py\u001b[0m in \u001b[0;36m_run_fn\u001b[1;34m(session, feed_dict, fetch_list, target_list, options, run_metadata)\u001b[0m\n\u001b[0;32m   1305\u001b[0m                                    \u001b[0mfeed_dict\u001b[0m\u001b[1;33m,\u001b[0m \u001b[0mfetch_list\u001b[0m\u001b[1;33m,\u001b[0m \u001b[0mtarget_list\u001b[0m\u001b[1;33m,\u001b[0m\u001b[1;33m\u001b[0m\u001b[0m\n\u001b[1;32m-> 1306\u001b[1;33m                                    status, run_metadata)\n\u001b[0m\u001b[0;32m   1307\u001b[0m \u001b[1;33m\u001b[0m\u001b[0m\n",
      "\u001b[1;32mc:\\users\\extig\\appdata\\local\\continuum\\anaconda3\\envs\\udacity\\lib\\contextlib.py\u001b[0m in \u001b[0;36m__exit__\u001b[1;34m(self, type, value, traceback)\u001b[0m\n\u001b[0;32m     65\u001b[0m             \u001b[1;32mtry\u001b[0m\u001b[1;33m:\u001b[0m\u001b[1;33m\u001b[0m\u001b[0m\n\u001b[1;32m---> 66\u001b[1;33m                 \u001b[0mnext\u001b[0m\u001b[1;33m(\u001b[0m\u001b[0mself\u001b[0m\u001b[1;33m.\u001b[0m\u001b[0mgen\u001b[0m\u001b[1;33m)\u001b[0m\u001b[1;33m\u001b[0m\u001b[0m\n\u001b[0m\u001b[0;32m     67\u001b[0m             \u001b[1;32mexcept\u001b[0m \u001b[0mStopIteration\u001b[0m\u001b[1;33m:\u001b[0m\u001b[1;33m\u001b[0m\u001b[0m\n",
      "\u001b[1;32mc:\\users\\extig\\appdata\\local\\continuum\\anaconda3\\envs\\udacity\\lib\\site-packages\\tensorflow\\python\\framework\\errors_impl.py\u001b[0m in \u001b[0;36mraise_exception_on_not_ok_status\u001b[1;34m()\u001b[0m\n\u001b[0;32m    465\u001b[0m           \u001b[0mcompat\u001b[0m\u001b[1;33m.\u001b[0m\u001b[0mas_text\u001b[0m\u001b[1;33m(\u001b[0m\u001b[0mpywrap_tensorflow\u001b[0m\u001b[1;33m.\u001b[0m\u001b[0mTF_Message\u001b[0m\u001b[1;33m(\u001b[0m\u001b[0mstatus\u001b[0m\u001b[1;33m)\u001b[0m\u001b[1;33m)\u001b[0m\u001b[1;33m,\u001b[0m\u001b[1;33m\u001b[0m\u001b[0m\n\u001b[1;32m--> 466\u001b[1;33m           pywrap_tensorflow.TF_GetCode(status))\n\u001b[0m\u001b[0;32m    467\u001b[0m   \u001b[1;32mfinally\u001b[0m\u001b[1;33m:\u001b[0m\u001b[1;33m\u001b[0m\u001b[0m\n",
      "\u001b[1;31mNotFoundError\u001b[0m: Key Weights_out_14/Adam not found in checkpoint\n\t [[Node: save_13/RestoreV2_244 = RestoreV2[dtypes=[DT_FLOAT], _device=\"/job:localhost/replica:0/task:0/cpu:0\"](_arg_save_13/Const_0_0, save_13/RestoreV2_244/tensor_names, save_13/RestoreV2_244/shape_and_slices)]]",
      "\nDuring handling of the above exception, another exception occurred:\n",
      "\u001b[1;31mNotFoundError\u001b[0m                             Traceback (most recent call last)",
      "\u001b[1;32m<ipython-input-48-b439661e2805>\u001b[0m in \u001b[0;36m<module>\u001b[1;34m()\u001b[0m\n\u001b[0;32m      1\u001b[0m \u001b[1;31m# evaluate\u001b[0m\u001b[1;33m\u001b[0m\u001b[1;33m\u001b[0m\u001b[0m\n\u001b[1;32m----> 2\u001b[1;33m \u001b[0mmlp\u001b[0m\u001b[1;33m.\u001b[0m\u001b[0mevaluate\u001b[0m\u001b[1;33m(\u001b[0m\u001b[0mdataTrain\u001b[0m\u001b[1;33m,\u001b[0m \u001b[0mdataEv\u001b[0m \u001b[1;33m)\u001b[0m\u001b[1;33m\u001b[0m\u001b[0m\n\u001b[0m",
      "\u001b[1;32m<ipython-input-46-010c21d9c55d>\u001b[0m in \u001b[0;36mevaluate\u001b[1;34m(self, dataTrain, dataEv)\u001b[0m\n\u001b[0;32m    135\u001b[0m             \u001b[0mprint\u001b[0m\u001b[1;33m(\u001b[0m\u001b[1;34m\"Model restored from file: %s\"\u001b[0m \u001b[1;33m%\u001b[0m \u001b[0mmodel_path\u001b[0m\u001b[1;33m)\u001b[0m\u001b[1;33m\u001b[0m\u001b[0m\n\u001b[0;32m    136\u001b[0m             \u001b[0msess\u001b[0m\u001b[1;33m.\u001b[0m\u001b[0mrun\u001b[0m\u001b[1;33m(\u001b[0m\u001b[0mself\u001b[0m\u001b[1;33m.\u001b[0m\u001b[0minit\u001b[0m\u001b[1;33m)\u001b[0m\u001b[1;33m\u001b[0m\u001b[0m\n\u001b[1;32m--> 137\u001b[1;33m             \u001b[0mself\u001b[0m\u001b[1;33m.\u001b[0m\u001b[0mrestore_model\u001b[0m\u001b[1;33m(\u001b[0m\u001b[0msess\u001b[0m\u001b[1;33m,\u001b[0m \u001b[0mmodel_path\u001b[0m\u001b[1;33m)\u001b[0m\u001b[1;33m\u001b[0m\u001b[0m\n\u001b[0m\u001b[0;32m    138\u001b[0m             \u001b[1;31m# test the model\u001b[0m\u001b[1;33m\u001b[0m\u001b[1;33m\u001b[0m\u001b[0m\n\u001b[0;32m    139\u001b[0m             print(\"Training   Accuracy:\", sess.run(self.accuracy, feed_dict={self.x: dataTrain['data'], \n",
      "\u001b[1;32m<ipython-input-46-010c21d9c55d>\u001b[0m in \u001b[0;36mrestore_model\u001b[1;34m(self, sess, model_path)\u001b[0m\n\u001b[0;32m     75\u001b[0m         \u001b[0mprint\u001b[0m\u001b[1;33m(\u001b[0m\u001b[1;34m\"hello\"\u001b[0m\u001b[1;33m)\u001b[0m\u001b[1;33m\u001b[0m\u001b[0m\n\u001b[0;32m     76\u001b[0m     \u001b[1;32mdef\u001b[0m \u001b[0mrestore_model\u001b[0m\u001b[1;33m(\u001b[0m\u001b[0mself\u001b[0m\u001b[1;33m,\u001b[0m \u001b[0msess\u001b[0m\u001b[1;33m,\u001b[0m \u001b[0mmodel_path\u001b[0m\u001b[1;33m)\u001b[0m\u001b[1;33m:\u001b[0m\u001b[1;33m\u001b[0m\u001b[0m\n\u001b[1;32m---> 77\u001b[1;33m         \u001b[0mself\u001b[0m\u001b[1;33m.\u001b[0m\u001b[0msaver\u001b[0m\u001b[1;33m.\u001b[0m\u001b[0mrestore\u001b[0m\u001b[1;33m(\u001b[0m\u001b[0msess\u001b[0m\u001b[1;33m,\u001b[0m \u001b[0mmodel_path\u001b[0m\u001b[1;33m)\u001b[0m\u001b[1;33m\u001b[0m\u001b[0m\n\u001b[0m\u001b[0;32m     78\u001b[0m \u001b[1;33m\u001b[0m\u001b[0m\n\u001b[0;32m     79\u001b[0m     \u001b[1;32mdef\u001b[0m \u001b[0mcheck_perf_CN\u001b[0m\u001b[1;33m(\u001b[0m\u001b[0mself\u001b[0m\u001b[1;33m,\u001b[0m \u001b[0mpredv\u001b[0m\u001b[1;33m,\u001b[0m \u001b[0mdataEv\u001b[0m \u001b[1;33m)\u001b[0m\u001b[1;33m:\u001b[0m\u001b[1;33m\u001b[0m\u001b[0m\n",
      "\u001b[1;32mc:\\users\\extig\\appdata\\local\\continuum\\anaconda3\\envs\\udacity\\lib\\site-packages\\tensorflow\\python\\training\\saver.py\u001b[0m in \u001b[0;36mrestore\u001b[1;34m(self, sess, save_path)\u001b[0m\n\u001b[0;32m   1558\u001b[0m     \u001b[0mlogging\u001b[0m\u001b[1;33m.\u001b[0m\u001b[0minfo\u001b[0m\u001b[1;33m(\u001b[0m\u001b[1;34m\"Restoring parameters from %s\"\u001b[0m\u001b[1;33m,\u001b[0m \u001b[0msave_path\u001b[0m\u001b[1;33m)\u001b[0m\u001b[1;33m\u001b[0m\u001b[0m\n\u001b[0;32m   1559\u001b[0m     sess.run(self.saver_def.restore_op_name,\n\u001b[1;32m-> 1560\u001b[1;33m              {self.saver_def.filename_tensor_name: save_path})\n\u001b[0m\u001b[0;32m   1561\u001b[0m \u001b[1;33m\u001b[0m\u001b[0m\n\u001b[0;32m   1562\u001b[0m   \u001b[1;33m@\u001b[0m\u001b[0mstaticmethod\u001b[0m\u001b[1;33m\u001b[0m\u001b[0m\n",
      "\u001b[1;32mc:\\users\\extig\\appdata\\local\\continuum\\anaconda3\\envs\\udacity\\lib\\site-packages\\tensorflow\\python\\client\\session.py\u001b[0m in \u001b[0;36mrun\u001b[1;34m(self, fetches, feed_dict, options, run_metadata)\u001b[0m\n\u001b[0;32m    893\u001b[0m     \u001b[1;32mtry\u001b[0m\u001b[1;33m:\u001b[0m\u001b[1;33m\u001b[0m\u001b[0m\n\u001b[0;32m    894\u001b[0m       result = self._run(None, fetches, feed_dict, options_ptr,\n\u001b[1;32m--> 895\u001b[1;33m                          run_metadata_ptr)\n\u001b[0m\u001b[0;32m    896\u001b[0m       \u001b[1;32mif\u001b[0m \u001b[0mrun_metadata\u001b[0m\u001b[1;33m:\u001b[0m\u001b[1;33m\u001b[0m\u001b[0m\n\u001b[0;32m    897\u001b[0m         \u001b[0mproto_data\u001b[0m \u001b[1;33m=\u001b[0m \u001b[0mtf_session\u001b[0m\u001b[1;33m.\u001b[0m\u001b[0mTF_GetBuffer\u001b[0m\u001b[1;33m(\u001b[0m\u001b[0mrun_metadata_ptr\u001b[0m\u001b[1;33m)\u001b[0m\u001b[1;33m\u001b[0m\u001b[0m\n",
      "\u001b[1;32mc:\\users\\extig\\appdata\\local\\continuum\\anaconda3\\envs\\udacity\\lib\\site-packages\\tensorflow\\python\\client\\session.py\u001b[0m in \u001b[0;36m_run\u001b[1;34m(self, handle, fetches, feed_dict, options, run_metadata)\u001b[0m\n\u001b[0;32m   1122\u001b[0m     \u001b[1;32mif\u001b[0m \u001b[0mfinal_fetches\u001b[0m \u001b[1;32mor\u001b[0m \u001b[0mfinal_targets\u001b[0m \u001b[1;32mor\u001b[0m \u001b[1;33m(\u001b[0m\u001b[0mhandle\u001b[0m \u001b[1;32mand\u001b[0m \u001b[0mfeed_dict_tensor\u001b[0m\u001b[1;33m)\u001b[0m\u001b[1;33m:\u001b[0m\u001b[1;33m\u001b[0m\u001b[0m\n\u001b[0;32m   1123\u001b[0m       results = self._do_run(handle, final_targets, final_fetches,\n\u001b[1;32m-> 1124\u001b[1;33m                              feed_dict_tensor, options, run_metadata)\n\u001b[0m\u001b[0;32m   1125\u001b[0m     \u001b[1;32melse\u001b[0m\u001b[1;33m:\u001b[0m\u001b[1;33m\u001b[0m\u001b[0m\n\u001b[0;32m   1126\u001b[0m       \u001b[0mresults\u001b[0m \u001b[1;33m=\u001b[0m \u001b[1;33m[\u001b[0m\u001b[1;33m]\u001b[0m\u001b[1;33m\u001b[0m\u001b[0m\n",
      "\u001b[1;32mc:\\users\\extig\\appdata\\local\\continuum\\anaconda3\\envs\\udacity\\lib\\site-packages\\tensorflow\\python\\client\\session.py\u001b[0m in \u001b[0;36m_do_run\u001b[1;34m(self, handle, target_list, fetch_list, feed_dict, options, run_metadata)\u001b[0m\n\u001b[0;32m   1319\u001b[0m     \u001b[1;32mif\u001b[0m \u001b[0mhandle\u001b[0m \u001b[1;32mis\u001b[0m \u001b[1;32mNone\u001b[0m\u001b[1;33m:\u001b[0m\u001b[1;33m\u001b[0m\u001b[0m\n\u001b[0;32m   1320\u001b[0m       return self._do_call(_run_fn, self._session, feeds, fetches, targets,\n\u001b[1;32m-> 1321\u001b[1;33m                            options, run_metadata)\n\u001b[0m\u001b[0;32m   1322\u001b[0m     \u001b[1;32melse\u001b[0m\u001b[1;33m:\u001b[0m\u001b[1;33m\u001b[0m\u001b[0m\n\u001b[0;32m   1323\u001b[0m       \u001b[1;32mreturn\u001b[0m \u001b[0mself\u001b[0m\u001b[1;33m.\u001b[0m\u001b[0m_do_call\u001b[0m\u001b[1;33m(\u001b[0m\u001b[0m_prun_fn\u001b[0m\u001b[1;33m,\u001b[0m \u001b[0mself\u001b[0m\u001b[1;33m.\u001b[0m\u001b[0m_session\u001b[0m\u001b[1;33m,\u001b[0m \u001b[0mhandle\u001b[0m\u001b[1;33m,\u001b[0m \u001b[0mfeeds\u001b[0m\u001b[1;33m,\u001b[0m \u001b[0mfetches\u001b[0m\u001b[1;33m)\u001b[0m\u001b[1;33m\u001b[0m\u001b[0m\n",
      "\u001b[1;32mc:\\users\\extig\\appdata\\local\\continuum\\anaconda3\\envs\\udacity\\lib\\site-packages\\tensorflow\\python\\client\\session.py\u001b[0m in \u001b[0;36m_do_call\u001b[1;34m(self, fn, *args)\u001b[0m\n\u001b[0;32m   1338\u001b[0m         \u001b[1;32mexcept\u001b[0m \u001b[0mKeyError\u001b[0m\u001b[1;33m:\u001b[0m\u001b[1;33m\u001b[0m\u001b[0m\n\u001b[0;32m   1339\u001b[0m           \u001b[1;32mpass\u001b[0m\u001b[1;33m\u001b[0m\u001b[0m\n\u001b[1;32m-> 1340\u001b[1;33m       \u001b[1;32mraise\u001b[0m \u001b[0mtype\u001b[0m\u001b[1;33m(\u001b[0m\u001b[0me\u001b[0m\u001b[1;33m)\u001b[0m\u001b[1;33m(\u001b[0m\u001b[0mnode_def\u001b[0m\u001b[1;33m,\u001b[0m \u001b[0mop\u001b[0m\u001b[1;33m,\u001b[0m \u001b[0mmessage\u001b[0m\u001b[1;33m)\u001b[0m\u001b[1;33m\u001b[0m\u001b[0m\n\u001b[0m\u001b[0;32m   1341\u001b[0m \u001b[1;33m\u001b[0m\u001b[0m\n\u001b[0;32m   1342\u001b[0m   \u001b[1;32mdef\u001b[0m \u001b[0m_extend_graph\u001b[0m\u001b[1;33m(\u001b[0m\u001b[0mself\u001b[0m\u001b[1;33m)\u001b[0m\u001b[1;33m:\u001b[0m\u001b[1;33m\u001b[0m\u001b[0m\n",
      "\u001b[1;31mNotFoundError\u001b[0m: Key Weights_out_14/Adam not found in checkpoint\n\t [[Node: save_13/RestoreV2_244 = RestoreV2[dtypes=[DT_FLOAT], _device=\"/job:localhost/replica:0/task:0/cpu:0\"](_arg_save_13/Const_0_0, save_13/RestoreV2_244/tensor_names, save_13/RestoreV2_244/shape_and_slices)]]\n\nCaused by op 'save_13/RestoreV2_244', defined at:\n  File \"c:\\users\\extig\\appdata\\local\\continuum\\anaconda3\\envs\\udacity\\lib\\runpy.py\", line 193, in _run_module_as_main\n    \"__main__\", mod_spec)\n  File \"c:\\users\\extig\\appdata\\local\\continuum\\anaconda3\\envs\\udacity\\lib\\runpy.py\", line 85, in _run_code\n    exec(code, run_globals)\n  File \"c:\\users\\extig\\appdata\\local\\continuum\\anaconda3\\envs\\udacity\\lib\\site-packages\\ipykernel_launcher.py\", line 16, in <module>\n    app.launch_new_instance()\n  File \"c:\\users\\extig\\appdata\\local\\continuum\\anaconda3\\envs\\udacity\\lib\\site-packages\\traitlets\\config\\application.py\", line 658, in launch_instance\n    app.start()\n  File \"c:\\users\\extig\\appdata\\local\\continuum\\anaconda3\\envs\\udacity\\lib\\site-packages\\ipykernel\\kernelapp.py\", line 477, in start\n    ioloop.IOLoop.instance().start()\n  File \"c:\\users\\extig\\appdata\\local\\continuum\\anaconda3\\envs\\udacity\\lib\\site-packages\\zmq\\eventloop\\ioloop.py\", line 177, in start\n    super(ZMQIOLoop, self).start()\n  File \"c:\\users\\extig\\appdata\\local\\continuum\\anaconda3\\envs\\udacity\\lib\\site-packages\\tornado\\ioloop.py\", line 888, in start\n    handler_func(fd_obj, events)\n  File \"c:\\users\\extig\\appdata\\local\\continuum\\anaconda3\\envs\\udacity\\lib\\site-packages\\tornado\\stack_context.py\", line 277, in null_wrapper\n    return fn(*args, **kwargs)\n  File \"c:\\users\\extig\\appdata\\local\\continuum\\anaconda3\\envs\\udacity\\lib\\site-packages\\zmq\\eventloop\\zmqstream.py\", line 440, in _handle_events\n    self._handle_recv()\n  File \"c:\\users\\extig\\appdata\\local\\continuum\\anaconda3\\envs\\udacity\\lib\\site-packages\\zmq\\eventloop\\zmqstream.py\", line 472, in _handle_recv\n    self._run_callback(callback, msg)\n  File \"c:\\users\\extig\\appdata\\local\\continuum\\anaconda3\\envs\\udacity\\lib\\site-packages\\zmq\\eventloop\\zmqstream.py\", line 414, in _run_callback\n    callback(*args, **kwargs)\n  File \"c:\\users\\extig\\appdata\\local\\continuum\\anaconda3\\envs\\udacity\\lib\\site-packages\\tornado\\stack_context.py\", line 277, in null_wrapper\n    return fn(*args, **kwargs)\n  File \"c:\\users\\extig\\appdata\\local\\continuum\\anaconda3\\envs\\udacity\\lib\\site-packages\\ipykernel\\kernelbase.py\", line 283, in dispatcher\n    return self.dispatch_shell(stream, msg)\n  File \"c:\\users\\extig\\appdata\\local\\continuum\\anaconda3\\envs\\udacity\\lib\\site-packages\\ipykernel\\kernelbase.py\", line 235, in dispatch_shell\n    handler(stream, idents, msg)\n  File \"c:\\users\\extig\\appdata\\local\\continuum\\anaconda3\\envs\\udacity\\lib\\site-packages\\ipykernel\\kernelbase.py\", line 399, in execute_request\n    user_expressions, allow_stdin)\n  File \"c:\\users\\extig\\appdata\\local\\continuum\\anaconda3\\envs\\udacity\\lib\\site-packages\\ipykernel\\ipkernel.py\", line 196, in do_execute\n    res = shell.run_cell(code, store_history=store_history, silent=silent)\n  File \"c:\\users\\extig\\appdata\\local\\continuum\\anaconda3\\envs\\udacity\\lib\\site-packages\\ipykernel\\zmqshell.py\", line 533, in run_cell\n    return super(ZMQInteractiveShell, self).run_cell(*args, **kwargs)\n  File \"c:\\users\\extig\\appdata\\local\\continuum\\anaconda3\\envs\\udacity\\lib\\site-packages\\IPython\\core\\interactiveshell.py\", line 2698, in run_cell\n    interactivity=interactivity, compiler=compiler, result=result)\n  File \"c:\\users\\extig\\appdata\\local\\continuum\\anaconda3\\envs\\udacity\\lib\\site-packages\\IPython\\core\\interactiveshell.py\", line 2802, in run_ast_nodes\n    if self.run_code(code, result):\n  File \"c:\\users\\extig\\appdata\\local\\continuum\\anaconda3\\envs\\udacity\\lib\\site-packages\\IPython\\core\\interactiveshell.py\", line 2862, in run_code\n    exec(code_obj, self.user_global_ns, self.user_ns)\n  File \"<ipython-input-47-459b1c5327b9>\", line 5, in <module>\n    mlp =  fpModel(1, 2, 1814, learning_rate = 0.01)\n  File \"<ipython-input-46-010c21d9c55d>\", line 7, in __init__\n    self.init_network(ncol, layers, hidden_nodes, output, learning_rate)\n  File \"<ipython-input-46-010c21d9c55d>\", line 65, in init_network\n    self.saver= tf.train.Saver()\n  File \"c:\\users\\extig\\appdata\\local\\continuum\\anaconda3\\envs\\udacity\\lib\\site-packages\\tensorflow\\python\\training\\saver.py\", line 1140, in __init__\n    self.build()\n  File \"c:\\users\\extig\\appdata\\local\\continuum\\anaconda3\\envs\\udacity\\lib\\site-packages\\tensorflow\\python\\training\\saver.py\", line 1172, in build\n    filename=self._filename)\n  File \"c:\\users\\extig\\appdata\\local\\continuum\\anaconda3\\envs\\udacity\\lib\\site-packages\\tensorflow\\python\\training\\saver.py\", line 688, in build\n    restore_sequentially, reshape)\n  File \"c:\\users\\extig\\appdata\\local\\continuum\\anaconda3\\envs\\udacity\\lib\\site-packages\\tensorflow\\python\\training\\saver.py\", line 407, in _AddRestoreOps\n    tensors = self.restore_op(filename_tensor, saveable, preferred_shard)\n  File \"c:\\users\\extig\\appdata\\local\\continuum\\anaconda3\\envs\\udacity\\lib\\site-packages\\tensorflow\\python\\training\\saver.py\", line 247, in restore_op\n    [spec.tensor.dtype])[0])\n  File \"c:\\users\\extig\\appdata\\local\\continuum\\anaconda3\\envs\\udacity\\lib\\site-packages\\tensorflow\\python\\ops\\gen_io_ops.py\", line 663, in restore_v2\n    dtypes=dtypes, name=name)\n  File \"c:\\users\\extig\\appdata\\local\\continuum\\anaconda3\\envs\\udacity\\lib\\site-packages\\tensorflow\\python\\framework\\op_def_library.py\", line 767, in apply_op\n    op_def=op_def)\n  File \"c:\\users\\extig\\appdata\\local\\continuum\\anaconda3\\envs\\udacity\\lib\\site-packages\\tensorflow\\python\\framework\\ops.py\", line 2630, in create_op\n    original_op=self._default_original_op, op_def=op_def)\n  File \"c:\\users\\extig\\appdata\\local\\continuum\\anaconda3\\envs\\udacity\\lib\\site-packages\\tensorflow\\python\\framework\\ops.py\", line 1204, in __init__\n    self._traceback = self._graph._extract_stack()  # pylint: disable=protected-access\n\nNotFoundError (see above for traceback): Key Weights_out_14/Adam not found in checkpoint\n\t [[Node: save_13/RestoreV2_244 = RestoreV2[dtypes=[DT_FLOAT], _device=\"/job:localhost/replica:0/task:0/cpu:0\"](_arg_save_13/Const_0_0, save_13/RestoreV2_244/tensor_names, save_13/RestoreV2_244/shape_and_slices)]]\n"
     ]
    }
   ],
   "source": [
    "# evaluate \n",
    "mlp.evaluate(dataTrain, dataEv )"
   ]
  },
  {
   "cell_type": "code",
   "execution_count": 44,
   "metadata": {},
   "outputs": [
    {
     "name": "stdout",
     "output_type": "stream",
     "text": [
      "TESTS...\n",
      "input-no=1814\n",
      "0\n",
      "Model restored from file: ../../_zfp/data/my_graph/0F2CR3/model.ckpt\n",
      "INFO:tensorflow:Restoring parameters from ../../_zfp/data/my_graph/0F2CR3/model.ckpt\n"
     ]
    },
    {
     "ename": "NameError",
     "evalue": "name 'pred' is not defined",
     "output_type": "error",
     "traceback": [
      "\u001b[1;31m---------------------------------------------------------------------------\u001b[0m",
      "\u001b[1;31mNameError\u001b[0m                                 Traceback (most recent call last)",
      "\u001b[1;32m<ipython-input-44-151c62ef16e7>\u001b[0m in \u001b[0;36m<module>\u001b[1;34m()\u001b[0m\n\u001b[1;32m----> 1\u001b[1;33m \u001b[0mmlp\u001b[0m\u001b[1;33m.\u001b[0m\u001b[0mtest\u001b[0m\u001b[1;33m(\u001b[0m\u001b[1;33m)\u001b[0m\u001b[1;33m\u001b[0m\u001b[0m\n\u001b[0m",
      "\u001b[1;32m<ipython-input-41-ee7745268dfe>\u001b[0m in \u001b[0;36mtest\u001b[1;34m(self, p_json_str, p_label)\u001b[0m\n\u001b[0;32m    177\u001b[0m             \u001b[0msess\u001b[0m\u001b[1;33m.\u001b[0m\u001b[0mrun\u001b[0m\u001b[1;33m(\u001b[0m\u001b[0mself\u001b[0m\u001b[1;33m.\u001b[0m\u001b[0minit\u001b[0m\u001b[1;33m)\u001b[0m\u001b[1;33m\u001b[0m\u001b[0m\n\u001b[0;32m    178\u001b[0m             \u001b[0mself\u001b[0m\u001b[1;33m.\u001b[0m\u001b[0mrestore_model\u001b[0m\u001b[1;33m(\u001b[0m\u001b[0msess\u001b[0m\u001b[1;33m,\u001b[0m \u001b[0mmodel_path\u001b[0m\u001b[1;33m)\u001b[0m\u001b[1;33m\u001b[0m\u001b[0m\n\u001b[1;32m--> 179\u001b[1;33m             \u001b[0mpredv\u001b[0m \u001b[1;33m=\u001b[0m \u001b[0msess\u001b[0m\u001b[1;33m.\u001b[0m\u001b[0mrun\u001b[0m\u001b[1;33m(\u001b[0m \u001b[0mpred\u001b[0m \u001b[1;33m,\u001b[0m \u001b[0mfeed_dict\u001b[0m\u001b[1;33m=\u001b[0m\u001b[1;33m{\u001b[0m\u001b[0mx\u001b[0m\u001b[1;33m:\u001b[0m \u001b[0mdataTest\u001b[0m\u001b[1;33m[\u001b[0m\u001b[1;34m'data'\u001b[0m\u001b[1;33m]\u001b[0m\u001b[1;33m}\u001b[0m\u001b[1;33m)\u001b[0m\u001b[1;33m\u001b[0m\u001b[0m\n\u001b[0m\u001b[0;32m    180\u001b[0m \u001b[1;33m\u001b[0m\u001b[0m\n\u001b[0;32m    181\u001b[0m         \u001b[1;32mfor\u001b[0m \u001b[0mi\u001b[0m \u001b[1;32min\u001b[0m \u001b[0mrange\u001b[0m\u001b[1;33m(\u001b[0m\u001b[0mlen\u001b[0m\u001b[1;33m(\u001b[0m\u001b[0mpredv\u001b[0m\u001b[1;33m)\u001b[0m\u001b[1;33m)\u001b[0m\u001b[1;33m:\u001b[0m\u001b[1;33m\u001b[0m\u001b[0m\n",
      "\u001b[1;31mNameError\u001b[0m: name 'pred' is not defined"
     ]
    }
   ],
   "source": [
    "mlp.test()"
   ]
  },
  {
   "cell_type": "markdown",
   "metadata": {
    "collapsed": true
   },
   "source": [
    "# Other <a id=\"o\"/>\n",
    "\n",
    "[go back](#index)\n",
    "\n"
   ]
  },
  {
   "cell_type": "code",
   "execution_count": 7,
   "metadata": {},
   "outputs": [
    {
     "name": "stdout",
     "output_type": "stream",
     "text": [
      "NETWORK\n",
      "done\n"
     ]
    }
   ],
   "source": [
    "print(\"NETWORK\") \n",
    "x = tf.placeholder(tf.float32,   shape=[None, n_input],   name=\"x\")\n",
    "y = tf.placeholder(tf.int16,     shape=[None, n_classes], name=\"cat\")\n",
    "\n",
    "weights = {\n",
    "    'h1': tf.Variable(tf.random_normal([n_input, n_hidden_1]),    name=\"Weights_1\"),\n",
    "    'h2': tf.Variable(tf.random_normal([n_hidden_1, n_hidden_2]), name=\"Weights_2\"),\n",
    "    'out': tf.Variable(tf.random_normal([n_hidden_2, n_classes]), name=\"Weights_out\"),\n",
    "}\n",
    "biases = {\n",
    "    'b1': tf.Variable(tf.random_normal([n_hidden_1]), name=\"Bias_1\"),\n",
    "    'b2': tf.Variable(tf.random_normal([n_hidden_2]), name=\"Bias_2\"),\n",
    "    'out': tf.Variable(tf.random_normal([n_classes]), name=\"Bias_out\"),\n",
    "}\n",
    "\n",
    "# Hidden layer with RELU activation\n",
    "with tf.name_scope(\"fc_1\"):\n",
    "    layer_1 = tf.add(tf.matmul(x, weights['h1']), biases['b1'])\n",
    "    layer_1 = tf.nn.relu(layer_1)\n",
    "# Hidden layer with RELU activation\n",
    "with tf.name_scope(\"fc_2\"):\n",
    "    layer_2 = tf.add(tf.matmul(layer_1, weights['h2']), biases['b2'])\n",
    "    layer_2 = tf.nn.relu(layer_2)\n",
    "# Output layer with linear activation\n",
    "with tf.name_scope(\"fc_output\"):\n",
    "    pred = tf.matmul(layer_2, weights['out']) + biases['out']\n",
    "\n",
    "# - declaration of model and global attributes \n",
    "# pred = multilayer_perceptron(x, weights, biases)\n",
    "\n",
    "softmaxT = tf.nn.softmax(pred, )\n",
    "prediction=tf.reduce_max(y,1)\n",
    "\n",
    "with tf.name_scope(\"accuracy\"):\n",
    "    correct_prediction = tf.equal(tf.argmax(pred, 1), tf.argmax(y, 1))\n",
    "    accuracy = tf.reduce_mean(tf.cast(correct_prediction, tf.float32))\n",
    "    tf.summary.scalar(\"accuracy\", accuracy)\n",
    "\n",
    "with tf.name_scope(\"xent\"):\n",
    "    cost = tf.reduce_mean(tf.nn.softmax_cross_entropy_with_logits(logits=pred, labels=y))\n",
    "    tf.summary.scalar(\"xent\", cost)\n",
    "    \n",
    "with tf.name_scope(\"train\"):\n",
    "    optimizer = tf.train.AdamOptimizer(learning_rate=learning_rate).minimize(cost)\n",
    "summ = tf.summary.merge_all()\n",
    "init = tf.global_variables_initializer()\n",
    "saver = tf.train.Saver()\n",
    "print(\"done\")"
   ]
  },
  {
   "cell_type": "code",
   "execution_count": 19,
   "metadata": {
    "collapsed": true
   },
   "outputs": [],
   "source": [
    "\n",
    "def make_hparam_string(learning_rate, no_fc):\n",
    "    return \"lr_%.0E,fc=%d\" % (learning_rate, no_fc) \n",
    "\n",
    "hparam = make_hparam_string(learning_rate, 3)"
   ]
  },
  {
   "cell_type": "markdown",
   "metadata": {},
   "source": [
    "## Record logs automatically"
   ]
  },
  {
   "cell_type": "code",
   "execution_count": 30,
   "metadata": {
    "collapsed": true
   },
   "outputs": [],
   "source": [
    "LOG        = \"../../_zfp/LOGT.txt\"\n",
    "\n",
    "def recordLogF(date ='', time='', it=1000, nn='', lr=0.01, typ='TR', DS='', AC=0, num=0, AC3=0, AC10=0, desc=''):\n",
    "    \n",
    "    if desc == '': print(\"Log not recorded\"); return \n",
    "    \n",
    "    f= open(LOG ,\"a+\") #w,a,\n",
    "    if date != '':\n",
    "        dats = date\n",
    "    else: dats = datetime.now().strftime('%d.%m.%Y') \n",
    "   \n",
    "    if time != '':\n",
    "        times = time\n",
    "    else: times = datetime.now().strftime('%H:%M:%S') \n",
    "    \n",
    "    \n",
    "    line = dats + '\\t' + times\n",
    "    line = line + '\\t' + str(it) + '\\t'+ nn +  '\\t' + str(lr)\n",
    "    line = line + '\\t' + typ \n",
    "    line = line + '\\t' + str(DS) + '\\t' + str(AC) + '\\t' + str(num) + '\\t' + str(AC3) + '\\t' +  str(AC10) + '\\t' + desc + '\\n'\n",
    "    \n",
    "    f.write(line)\n",
    "    f.close()\n",
    "    print(\"___Log recorded\")\n",
    "\n",
    "# recordLogF( it=1000, nn='100*100', lr=0.01, typ='TR', DS=DSC, AC=0.99, num=400, AC3=4, AC10=3, desc='test f1')\n",
    "# recordLogF( it=1000, nn='100*100', lr=0.01, typ='TR', DS=DSC, AC=0.99, num=400, AC3=4, AC10=3, desc='test f2')\n",
    "# recordLogF( it=1000, nn='100*100', lr=0.01, typ='TR', DS=DSC, AC=0.99, num=400, AC3=4, AC10=3, desc='test f3')\n"
   ]
  },
  {
   "cell_type": "code",
   "execution_count": 25,
   "metadata": {
    "collapsed": true
   },
   "outputs": [],
   "source": [
    "def check_perf_CN(predv, dataEv ):\n",
    "    pred_val = []\n",
    "    data_val = []\n",
    "    predvList = predv.tolist()\n",
    "    print(\"denormalization all Evaluation : {} = {}\" .format(len(predv), len(dataEv[\"label\"])))\n",
    "    for i in range(len(predv)):\n",
    "    #for i in range(100):\n",
    "        if (i % 1000==0): print(i , end=\"\")\n",
    "        pred_vali = 0; data_vali = 0;\n",
    "        try:\n",
    "            pred_vali = dataClass.deClassifN( predv.tolist()[i], np.max(predv[i]))\n",
    "            data_vali = dataClass.deClassifN( dataEv['label'][i])\n",
    "            # print(\"realVal: {} -- PP value: {}\".format(data_vali,pred_vali))\n",
    "            pred_val.append(pred_vali)\n",
    "            data_val.append(data_vali)\n",
    "        except:\n",
    "            print(\"error: i={}, pred={}, data={} -- \".format(i, pred_vali, data_vali))\n",
    "\n",
    "    l3, l15 = dataClass.check_perf(pred_val, data_val)  \n",
    "    print(\"Total: {} GT3: {}  GTM: {}\".format(len(pred_val), l3, l15)) "
   ]
  },
  {
   "cell_type": "markdown",
   "metadata": {},
   "source": [
    "# TR <a id=\"tr\"/>\n",
    "\n",
    "[go back](#index)"
   ]
  },
  {
   "cell_type": "code",
   "execution_count": 20,
   "metadata": {},
   "outputs": [
    {
     "name": "stdout",
     "output_type": "stream",
     "text": [
      "TRAINING...\n"
     ]
    }
   ],
   "source": [
    "# train\n",
    "print(\"TRAINING...\")\n",
    "model_path  = LOGDIR + \"0F2CR2/model.ckpt\"\n",
    "training_iters = 10000 #200000\n",
    "\n",
    "def train_model(hparam): \n",
    "    batch_size = 128\n",
    "    display_step = training_iters*0.1 #10%\n",
    "    record_step  = training_iters*0.05 \n",
    "    return\n",
    "    with tf.Session() as sess:\n",
    "        # Initialize variables\n",
    "        sess.run(init)\n",
    "#         writer = tf.summary.FileWriter(LOGDIR + hparam)\n",
    "#         writer.add_graph(sess.graph)\n",
    "        start = time.time()\n",
    "        for i in range(training_iters): \n",
    "\n",
    "            xtb, ytb = dataClass.next_batch(batch_size, dataTrain['data'], dataTrain['label']) \n",
    "            elapsed_time = float(time.time() - start)\n",
    "            reviews_per_second = i / elapsed_time if elapsed_time > 0 else 0\n",
    "            \n",
    "            if i % record_step == 0:\n",
    "                [train_accuracy] = sess.run([accuracy], feed_dict={x: xtb, y: ytb }) \n",
    "    #             writer.add_summary(s, i)\n",
    "\n",
    "            if i % display_step == 0:\n",
    "#                 print(\"step %d, training accracy %g \" %(i, train_accuracy))    \n",
    "                elapsed_time = float(time.time() - start)\n",
    "                reviews_per_second = i / elapsed_time if elapsed_time > 0 else 0\n",
    "                rp_s = str(reviews_per_second)[0:5]\n",
    "                tr_ac = str(train_accuracy)[:5]  \n",
    "\n",
    "                print('step {} - %Speed(it/disp_step): {} - tr_ac {}' .format(i, rp_s, tr_ac ))\n",
    "                      \n",
    "            sess.run(optimizer, feed_dict={x: xtb, y: ytb})\n",
    "\n",
    "        print(\"Optimization Finished!\")\n",
    "        save_path = saver.save(sess, model_path)\n",
    "        print(\"Model saved in file: %s\" % save_path)\n",
    "                \n",
    "train_model(hparam)"
   ]
  },
  {
   "cell_type": "code",
   "execution_count": 31,
   "metadata": {},
   "outputs": [
    {
     "name": "stdout",
     "output_type": "stream",
     "text": [
      "___Log recorded\n",
      "Ev Accuracy: \n",
      "___Log recorded\n"
     ]
    }
   ],
   "source": [
    "recordLogF( it=1000, nn=mlp.get_nns(), lr=mlp.learning_rate, typ='TR', DS=DSC, AC=tr_ac, \n",
    "           num=len(dataTrain[\"label\"]), AC3=0, AC10=0, desc='C100 - All')\n",
    "\n",
    "\n",
    "# ev_ac = str(  sess.run(accuracy, feed_dict={x: dataEv['data'], y: dataEv['label']})  )[:5]  \n",
    "\n",
    "print(\"Ev Accuracy:\", ev_ac )\n",
    "\n",
    "recordLogF( it=1000, nn=mlp.get_nns(), lr=mlp.learning_rate, typ='EV', DS=DSC, AC=tr_ac, \n",
    "           num=len(dataEv[\"label\"]), AC3=0, AC10=0, desc='C100 - All')"
   ]
  },
  {
   "cell_type": "markdown",
   "metadata": {},
   "source": [
    "# EV <a id=\"ev\"/>\n",
    "\n",
    "[go back](#index)"
   ]
  },
  {
   "cell_type": "code",
   "execution_count": 18,
   "metadata": {
    "collapsed": true
   },
   "outputs": [],
   "source": [
    "def restore_model(sess,model_path):\n",
    "#   print(model_path)\n",
    "    saver.restore(sess, model_path)\n",
    "#     saver.restore(sess, \"../../_zfp/data/my_graph/0F2CR2/model.ckpt\")"
   ]
  },
  {
   "cell_type": "code",
   "execution_count": 17,
   "metadata": {},
   "outputs": [
    {
     "name": "stdout",
     "output_type": "stream",
     "text": [
      "EVALUATION...\n"
     ]
    }
   ],
   "source": [
    "def evaluate_model():\n",
    "    print(\"EVALUATION...\")\n",
    "    model_path  = LOGDIR + \"0F2CR2/model.ckpt\"\n",
    "\n",
    "    return\n",
    "    with tf.Session() as sess:\n",
    "        print(\"Model restored from file: %s\" % model_path)\n",
    "\n",
    "        sess.run(init)\n",
    "        restore_model(sess, model_path)\n",
    "        \n",
    "\n",
    "        # test the model\n",
    "        print(\"Training   Accuracy:\", sess.run(accuracy, feed_dict={x: dataTrain['data'], y: dataTrain['label']}))\n",
    "        print(\"Evaluation Accuracy:\", sess.run(accuracy, feed_dict={x: dataEv['data'],    y: dataEv['label']}))\n",
    "\n",
    "        # xtp1.append(dataTest['data'][i]);    ytp1.append(dataTest['label'][i])\n",
    "        predv, softv = sess.run([pred, softmaxT], feed_dict={x: dataEv['data']}) \n",
    "        \n",
    "        print(\"Preview the first predictions:\")\n",
    "        for i in range(20):\n",
    "            print(\"RealVal: {}  - PP value: {}\".format( dataClass.deClassifN( dataEv['label'][i]), \n",
    "                                                       dataClass.deClassifN( predv.tolist()[i], np.max(predv[i]))  ))\n",
    "            # maxa = sess.run([prediction], feed_dict={y: predv })\n",
    "        \n",
    "        check_perf_CN(predv, dataEv )\n",
    "        \n",
    "#         pred_val = []\n",
    "#         data_val = []\n",
    "#         predvList = predv.tolist()\n",
    "#         print(\"denormalization all Evaluation : {} = {}\" .format(len(predv), len(dataEv[\"label\"])))\n",
    "#         for i in range(len(predv)):\n",
    "#         #for i in range(100):\n",
    "#             if (i % 1000==0): print(i)\n",
    "#             pred_vali = 0; data_vali = 0;\n",
    "#             try:\n",
    "#                 pred_vali = dataClass.deClassifN( predv.tolist()[i], np.max(predv[i]))\n",
    "#                 data_vali = dataClass.deClassifN( dataEv['label'][i])\n",
    "#                 # print(\"realVal: {} -- PP value: {}\".format(data_vali,pred_vali))\n",
    "#                 pred_val.append(pred_vali)\n",
    "#                 data_val.append(data_vali)\n",
    "#             except:\n",
    "#                 print(\"error: i={}, pred={}, data={} -- \".format(i, pred_vali, data_vali))\n",
    "        \n",
    "#         l3, l15 = dataClass.check_perf(pred_val, data_val)  \n",
    "#         print(\"Total: {} GT3: {}  GTM: {}\".format(len(pred_val), l3, l15))     \n",
    "\n",
    "evaluate_model()\n",
    "\n"
   ]
  },
  {
   "cell_type": "markdown",
   "metadata": {},
   "source": [
    "# TESTS! <a id=\"ts\"/>\n",
    "\n",
    "[go back](#index)"
   ]
  },
  {
   "cell_type": "code",
   "execution_count": 15,
   "metadata": {
    "scrolled": true
   },
   "outputs": [
    {
     "name": "stdout",
     "output_type": "stream",
     "text": [
      "TESTS...\n",
      "input-no=1814\n",
      "Model restored from file: ../../_zfp/data/my_graph/0F2CR2/model.ckpt\n",
      "../../_zfp/data/my_graph/0F2CR2/model.ckpt\n",
      "INFO:tensorflow:Restoring parameters from ../../_zfp/data/my_graph/0F2CR2/model.ckpt\n",
      "RealVal: 63  - PP value: 93\n",
      "RealVal: 93  - PP value: 99\n"
     ]
    }
   ],
   "source": [
    "def test_model():\n",
    "    print(\"TESTS...\")    \n",
    "    dataTest = {'label' : [] , 'data' :  [] }\n",
    "    pred_val = []\n",
    "\n",
    "    print(\"input-no={}\".format(dataClass.set_columns(COL_DS) ))\n",
    "        \n",
    "    json_str = '''[{ \"m\":\"8989\", \"c1\" :0.5 },\n",
    "    { \"m\":\"8988\", \"c3\" :0.5 , \"c4\" :0.5 }] '''\n",
    "    \n",
    "    json_data = json.loads(json_str)\n",
    "    dataTest['data'] = dataClass.feed_data(json_data) \n",
    "    dataTest['label'] = [88,99]\n",
    "    \n",
    "    with tf.Session() as sess:\n",
    "        print(\"Model restored from file: %s\" % model_path)\n",
    "\n",
    "        sess.run(init)\n",
    "        restore_model(sess)\n",
    "        predv = sess.run( pred , feed_dict={x: dataTest['data']}) \n",
    "    \n",
    "    for i in range(len(predv)):\n",
    "        print(\"RealVal: {}  - PP value: {}\".format( dataClass.deClassifN( dataEv['label'][i]), \n",
    "                                                   dataClass.deClassifN( predv.tolist()[i], np.max(predv[i]))  ))    \n",
    "    \n",
    "test_model()\n",
    "\n"
   ]
  },
  {
   "cell_type": "code",
   "execution_count": null,
   "metadata": {
    "collapsed": true
   },
   "outputs": [],
   "source": [
    "def test_model2():\n",
    "    print(\"TESTS...\")    \n",
    "    dataTest = {'label' : [] , 'data' :  [] }\n",
    "    pred_val = []\n",
    "    \n",
    "    # COMPRESS INTO GET_DATA2\n",
    "    print(\"input-no={}\".format(dataClass.set_columns(COL_DS) ))\n",
    "    dataTest['data']  = dataClass.feed_data(ALL_DSJ) \n",
    "    dataTest['label'] = [88,99]  # READ FROM FILE! \n",
    "    \n",
    "    with tf.Session() as sess:\n",
    "        print(\"Model restored from file: %s\" % model_path)\n",
    "        sess.run(init)\n",
    "        restore_model(sess)\n",
    "        predv = sess.run( pred , feed_dict={x: dataTest['data']}) \n",
    "    \n",
    "    for i in range(len(predv)):\n",
    "        print(\"RealVal: {}  - PP value: {}\".format( dataClass.deClassifN( dataEv['label'][i]), \n",
    "                                                   dataClass.deClassifN( predv.tolist()[i], np.max(predv[i]))  ))    \n",
    "    \n",
    "test_model2()\n",
    "\n"
   ]
  },
  {
   "cell_type": "code",
   "execution_count": null,
   "metadata": {
    "collapsed": true
   },
   "outputs": [],
   "source": []
  },
  {
   "cell_type": "code",
   "execution_count": null,
   "metadata": {
    "collapsed": true
   },
   "outputs": [],
   "source": []
  },
  {
   "cell_type": "code",
   "execution_count": null,
   "metadata": {
    "collapsed": true
   },
   "outputs": [],
   "source": []
  }
 ],
 "metadata": {
  "kernelspec": {
   "display_name": "Python 3",
   "language": "python",
   "name": "python3"
  },
  "language_info": {
   "codemirror_mode": {
    "name": "ipython",
    "version": 3
   },
   "file_extension": ".py",
   "mimetype": "text/x-python",
   "name": "python",
   "nbconvert_exporter": "python",
   "pygments_lexer": "ipython3",
   "version": "3.5.4"
  }
 },
 "nbformat": 4,
 "nbformat_minor": 2
}
