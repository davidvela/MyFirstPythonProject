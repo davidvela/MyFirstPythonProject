{
 "cells": [
  {
   "cell_type": "markdown",
   "metadata": {},
   "source": [
    "# Anna KaRNNa\n",
    "\n",
    "In this notebook, we'll build a character-wise RNN trained on Anna Karenina, one of my all-time favorite books. It'll be able to generate new text based on the text from the book.\n",
    "\n",
    "This network is based off of Andrej Karpathy's [post on RNNs](http://karpathy.github.io/2015/05/21/rnn-effectiveness/) and [implementation in Torch](https://github.com/karpathy/char-rnn). Also, some information [here at r2rt](http://r2rt.com/recurrent-neural-networks-in-tensorflow-ii.html) and from [Sherjil Ozair](https://github.com/sherjilozair/char-rnn-tensorflow) on GitHub. Below is the general architecture of the character-wise RNN.\n",
    "\n",
    "<img src=\"assets/charseq.jpeg\" width=\"500\">"
   ]
  },
  {
   "cell_type": "code",
   "execution_count": 1,
   "metadata": {
    "collapsed": true
   },
   "outputs": [],
   "source": [
    "import time\n",
    "from collections import namedtuple\n",
    "\n",
    "import numpy as np\n",
    "import tensorflow as tf"
   ]
  },
  {
   "cell_type": "markdown",
   "metadata": {},
   "source": [
    "First we'll load the text file and convert it into integers for our network to use. Here I'm creating a couple dictionaries to convert the characters to and from integers. Encoding the characters as integers makes it easier to use as input in the network."
   ]
  },
  {
   "cell_type": "code",
   "execution_count": 2,
   "metadata": {
    "collapsed": true
   },
   "outputs": [],
   "source": [
    "with open('anna.txt', 'r') as f:\n",
    "    text=f.read()\n",
    "vocab = sorted(set(text))\n",
    "vocab_to_int = {c: i for i, c in enumerate(vocab)}\n",
    "int_to_vocab = dict(enumerate(vocab))\n",
    "encoded = np.array([vocab_to_int[c] for c in text], dtype=np.int32)"
   ]
  },
  {
   "cell_type": "markdown",
   "metadata": {},
   "source": [
    "Let's check out the first 100 characters, make sure everything is peachy. According to the [American Book Review](http://americanbookreview.org/100bestlines.asp), this is the 6th best first line of a book ever."
   ]
  },
  {
   "cell_type": "code",
   "execution_count": 3,
   "metadata": {},
   "outputs": [
    {
     "data": {
      "text/plain": [
       "'Chapter 1\\n\\n\\nHappy families are all alike; every unhappy family is unhappy in its own\\nway.\\n\\nEverythin'"
      ]
     },
     "execution_count": 3,
     "metadata": {},
     "output_type": "execute_result"
    }
   ],
   "source": [
    "text[:100]"
   ]
  },
  {
   "cell_type": "markdown",
   "metadata": {},
   "source": [
    "And we can see the characters encoded as integers."
   ]
  },
  {
   "cell_type": "code",
   "execution_count": 4,
   "metadata": {},
   "outputs": [
    {
     "data": {
      "text/plain": [
       "array([31, 64, 57, 72, 76, 61, 74,  1, 16,  0,  0,  0, 36, 57, 72, 72, 81,\n",
       "        1, 62, 57, 69, 65, 68, 65, 61, 75,  1, 57, 74, 61,  1, 57, 68, 68,\n",
       "        1, 57, 68, 65, 67, 61, 26,  1, 61, 78, 61, 74, 81,  1, 77, 70, 64,\n",
       "       57, 72, 72, 81,  1, 62, 57, 69, 65, 68, 81,  1, 65, 75,  1, 77, 70,\n",
       "       64, 57, 72, 72, 81,  1, 65, 70,  1, 65, 76, 75,  1, 71, 79, 70,  0,\n",
       "       79, 57, 81, 13,  0,  0, 33, 78, 61, 74, 81, 76, 64, 65, 70])"
      ]
     },
     "execution_count": 4,
     "metadata": {},
     "output_type": "execute_result"
    }
   ],
   "source": [
    "encoded[:100]"
   ]
  },
  {
   "cell_type": "markdown",
   "metadata": {},
   "source": [
    "Since the network is working with individual characters, it's similar to a classification problem in which we are trying to predict the next character from the previous text.  Here's how many 'classes' our network has to pick from."
   ]
  },
  {
   "cell_type": "code",
   "execution_count": 5,
   "metadata": {},
   "outputs": [
    {
     "data": {
      "text/plain": [
       "83"
      ]
     },
     "execution_count": 5,
     "metadata": {},
     "output_type": "execute_result"
    }
   ],
   "source": [
    "len(vocab)"
   ]
  },
  {
   "cell_type": "markdown",
   "metadata": {},
   "source": [
    "## Making training mini-batches\n",
    "\n",
    "Here is where we'll make our mini-batches for training. Remember that we want our batches to be multiple sequences of some desired number of sequence steps. Considering a simple example, our batches would look like this:\n",
    "\n",
    "<img src=\"assets/sequence_batching@1x.png\" width=500px>\n",
    "\n",
    "\n",
    "<br>\n",
    "We have our text encoded as integers as one long array in `encoded`. Let's create a function that will give us an iterator for our batches. I like using [generator functions](https://jeffknupp.com/blog/2013/04/07/improve-your-python-yield-and-generators-explained/) to do this. Then we can pass `encoded` into this function and get our batch generator.\n",
    "\n",
    "The first thing we need to do is discard some of the text so we only have completely full batches. Each batch contains $N \\times M$ characters, where $N$ is the batch size (the number of sequences) and $M$ is the number of steps. Then, to get the number of batches we can make from some array `arr`, you divide the length of `arr` by the batch size. Once you know the number of batches and the batch size, you can get the total number of characters to keep.\n",
    "\n",
    "After that, we need to split `arr` into $N$ sequences. You can do this using `arr.reshape(size)` where `size` is a tuple containing the dimensions sizes of the reshaped array. We know we want $N$ sequences (`n_seqs` below), let's make that the size of the first dimension. For the second dimension, you can use `-1` as a placeholder in the size, it'll fill up the array with the appropriate data for you. After this, you should have an array that is $N \\times (M * K)$ where $K$ is the number of batches.\n",
    "\n",
    "Now that we have this array, we can iterate through it to get our batches. The idea is each batch is a $N \\times M$ window on the array. For each subsequent batch, the window moves over by `n_steps`. We also want to create both the input and target arrays. Remember that the targets are the inputs shifted over one character. You'll usually see the first input character used as the last target character, so something like this:\n",
    "```python\n",
    "y[:, :-1], y[:, -1] = x[:, 1:], x[:, 0]\n",
    "```\n",
    "where `x` is the input batch and `y` is the target batch.\n",
    "\n",
    "The way I like to do this window is use `range` to take steps of size `n_steps` from $0$ to `arr.shape[1]`, the total number of steps in each sequence. That way, the integers you get from `range` always point to the start of a batch, and each window is `n_steps` wide.\n",
    "\n",
    "> **Exercise:** Write the code for creating batches in the function below. The exercises in this notebook _will not be easy_. I've provided a notebook with solutions alongside this notebook. If you get stuck, checkout the solutions. The most important thing is that you don't copy and paste the code into here, **type out the solution code yourself.**"
   ]
  },
  {
   "cell_type": "code",
   "execution_count": 8,
   "metadata": {
    "collapsed": true
   },
   "outputs": [],
   "source": [
    "def get_batches(arr, n_seqs, n_steps):\n",
    "    '''Create a generator that returns batches of size\n",
    "       n_seqs x n_steps from arr.\n",
    "       \n",
    "       Arguments\n",
    "       ---------\n",
    "       arr: Array you want to make batches from\n",
    "       n_seqs: Batch size, the number of sequences per batch\n",
    "       n_steps: Number of sequence steps per batch\n",
    "    '''\n",
    "    # Get the number of characters per batch and number of batches we can make\n",
    "    characters_per_batch = n_seqs * n_steps \n",
    "    n_batches = len(arr)//characters_per_batch\n",
    "    \n",
    "    # Keep only enough characters to make full batches\n",
    "    arr = arr[:n_batches*characters_per_batch]\n",
    "    \n",
    "    # Reshape into n_seqs rows\n",
    "    arr = arr.reshape((n_seqs,-1))\n",
    "    for n in range(0, arr.shape[1], n_steps):\n",
    "        # The features\n",
    "        x = arr[:, n:n+n_steps]\n",
    "        # The targets, shifted by one\n",
    "        y = np.zeros_like(x)\n",
    "        y[:, :-1], y[:, -1] = x[:, 1:], x[:, 0]\n",
    "        yield x, y"
   ]
  },
  {
   "cell_type": "markdown",
   "metadata": {},
   "source": [
    "Now I'll make my data sets and we can check out what's going on here. Here I'm going to use a batch size of 10 and 50 sequence steps."
   ]
  },
  {
   "cell_type": "code",
   "execution_count": 9,
   "metadata": {
    "collapsed": true
   },
   "outputs": [],
   "source": [
    "batches = get_batches(encoded, 10, 50)\n",
    "x, y = next(batches)"
   ]
  },
  {
   "cell_type": "code",
   "execution_count": 10,
   "metadata": {},
   "outputs": [
    {
     "name": "stdout",
     "output_type": "stream",
     "text": [
      "x\n",
      " [[31 64 57 72 76 61 74  1 16  0]\n",
      " [ 1 57 69  1 70 71 76  1 63 71]\n",
      " [78 65 70 13  0  0  3 53 61 75]\n",
      " [70  1 60 77 74 65 70 63  1 64]\n",
      " [ 1 65 76  1 65 75 11  1 75 65]\n",
      " [ 1 37 76  1 79 57 75  0 71 70]\n",
      " [64 61 70  1 59 71 69 61  1 62]\n",
      " [26  1 58 77 76  1 70 71 79  1]\n",
      " [76  1 65 75 70  7 76 13  1 48]\n",
      " [ 1 75 57 65 60  1 76 71  1 64]]\n",
      "\n",
      "y\n",
      " [[64 57 72 76 61 74  1 16  0  0]\n",
      " [57 69  1 70 71 76  1 63 71 65]\n",
      " [65 70 13  0  0  3 53 61 75 11]\n",
      " [ 1 60 77 74 65 70 63  1 64 65]\n",
      " [65 76  1 65 75 11  1 75 65 74]\n",
      " [37 76  1 79 57 75  0 71 70 68]\n",
      " [61 70  1 59 71 69 61  1 62 71]\n",
      " [ 1 58 77 76  1 70 71 79  1 75]\n",
      " [ 1 65 75 70  7 76 13  1 48 64]\n",
      " [75 57 65 60  1 76 71  1 64 61]]\n"
     ]
    }
   ],
   "source": [
    "print('x\\n', x[:10, :10])\n",
    "print('\\ny\\n', y[:10, :10])"
   ]
  },
  {
   "cell_type": "markdown",
   "metadata": {},
   "source": [
    "If you implemented `get_batches` correctly, the above output should look something like \n",
    "```\n",
    "x\n",
    " [[55 63 69 22  6 76 45  5 16 35]\n",
    " [ 5 69  1  5 12 52  6  5 56 52]\n",
    " [48 29 12 61 35 35  8 64 76 78]\n",
    " [12  5 24 39 45 29 12 56  5 63]\n",
    " [ 5 29  6  5 29 78 28  5 78 29]\n",
    " [ 5 13  6  5 36 69 78 35 52 12]\n",
    " [63 76 12  5 18 52  1 76  5 58]\n",
    " [34  5 73 39  6  5 12 52 36  5]\n",
    " [ 6  5 29 78 12 79  6 61  5 59]\n",
    " [ 5 78 69 29 24  5  6 52  5 63]]\n",
    "\n",
    "y\n",
    " [[63 69 22  6 76 45  5 16 35 35]\n",
    " [69  1  5 12 52  6  5 56 52 29]\n",
    " [29 12 61 35 35  8 64 76 78 28]\n",
    " [ 5 24 39 45 29 12 56  5 63 29]\n",
    " [29  6  5 29 78 28  5 78 29 45]\n",
    " [13  6  5 36 69 78 35 52 12 43]\n",
    " [76 12  5 18 52  1 76  5 58 52]\n",
    " [ 5 73 39  6  5 12 52 36  5 78]\n",
    " [ 5 29 78 12 79  6 61  5 59 63]\n",
    " [78 69 29 24  5  6 52  5 63 76]]\n",
    " ```\n",
    " although the exact numbers will be different. Check to make sure the data is shifted over one step for `y`."
   ]
  },
  {
   "cell_type": "markdown",
   "metadata": {},
   "source": [
    "## Building the model\n",
    "\n",
    "Below is where you'll build the network. We'll break it up into parts so it's easier to reason about each bit. Then we can connect them up into the whole network.\n",
    "\n",
    "<img src=\"assets/charRNN.png\" width=500px>\n",
    "\n",
    "\n",
    "### Inputs\n",
    "\n",
    "First off we'll create our input placeholders. As usual we need placeholders for the training data and the targets. We'll also create a placeholder for dropout layers called `keep_prob`. This will be a scalar, that is a 0-D tensor. To make a scalar, you create a placeholder without giving it a size.\n",
    "\n",
    "> **Exercise:** Create the input placeholders in the function below."
   ]
  },
  {
   "cell_type": "code",
   "execution_count": 33,
   "metadata": {
    "collapsed": true
   },
   "outputs": [],
   "source": [
    "def build_inputs(batch_size, num_steps):\n",
    "    ''' Define placeholders for inputs, targets, and dropout \n",
    "    \n",
    "        Arguments\n",
    "        ---------\n",
    "        batch_size: Batch size, number of sequences per batch\n",
    "        num_steps: Number of sequence steps in a batch\n",
    "        \n",
    "    '''\n",
    "    # Declare placeholders we'll feed into the graph\n",
    "    inputs = tf.placeholder(tf.int32, [batch_size, num_steps], name=\"input\")\n",
    "    targets = tf.placeholder(tf.int32,[batch_size, num_steps], name=\"targets\")\n",
    "    \n",
    "    # Keep probability placeholder for drop out layers\n",
    "    keep_prob = tf.placeholder(tf.float32,  name='keep_prob')\n",
    "    \n",
    "    return inputs, targets, keep_prob"
   ]
  },
  {
   "cell_type": "markdown",
   "metadata": {},
   "source": [
    "### LSTM Cell\n",
    "\n",
    "Here we will create the LSTM cell we'll use in the hidden layer. We'll use this cell as a building block for the RNN. So we aren't actually defining the RNN here, just the type of cell we'll use in the hidden layer.\n",
    "\n",
    "We first create a basic LSTM cell with\n",
    "\n",
    "```python\n",
    "lstm = tf.contrib.rnn.BasicLSTMCell(num_units)\n",
    "```\n",
    "\n",
    "where `num_units` is the number of units in the hidden layers in the cell. Then we can add dropout by wrapping it with \n",
    "\n",
    "```python\n",
    "tf.contrib.rnn.DropoutWrapper(lstm, output_keep_prob=keep_prob)\n",
    "```\n",
    "You pass in a cell and it will automatically add dropout to the inputs or outputs. Finally, we can stack up the LSTM cells into layers with [`tf.contrib.rnn.MultiRNNCell`](https://www.tensorflow.org/versions/r1.0/api_docs/python/tf/contrib/rnn/MultiRNNCell). With this, you pass in a list of cells and it will send the output of one cell into the next cell. Previously with TensorFlow 1.0, you could do this\n",
    "\n",
    "```python\n",
    "tf.contrib.rnn.MultiRNNCell([cell]*num_layers)\n",
    "```\n",
    "\n",
    "This might look a little weird if you know Python well because this will create a list of the same `cell` object. However, TensorFlow 1.0 will create different weight matrices for all `cell` objects. But, starting with TensorFlow 1.1 you actually need to create new cell objects in the list. To get it to work in TensorFlow 1.1, it should look like\n",
    "\n",
    "```python\n",
    "def build_cell(num_units, keep_prob):\n",
    "    lstm = tf.contrib.rnn.BasicLSTMCell(num_units)\n",
    "    drop = tf.contrib.rnn.DropoutWrapper(lstm, output_keep_prob=keep_prob)\n",
    "    \n",
    "    return drop\n",
    "    \n",
    "tf.contrib.rnn.MultiRNNCell([build_cell(num_units, keep_prob) for _ in range(num_layers)])\n",
    "```\n",
    "\n",
    "Even though this is actually multiple LSTM cells stacked on each other, you can treat the multiple layers as one cell.\n",
    "\n",
    "We also need to create an initial cell state of all zeros. This can be done like so\n",
    "\n",
    "```python\n",
    "initial_state = cell.zero_state(batch_size, tf.float32)\n",
    "```\n",
    "\n",
    "Below, we implement the `build_lstm` function to create these LSTM cells and the initial state."
   ]
  },
  {
   "cell_type": "code",
   "execution_count": 15,
   "metadata": {},
   "outputs": [],
   "source": [
    "def build_lstm(lstm_size, num_layers, batch_size, keep_prob):\n",
    "    ''' Build LSTM cell.\n",
    "    \n",
    "        Arguments\n",
    "        ---------\n",
    "        keep_prob: Scalar tensor (tf.placeholder) for the dropout keep probability\n",
    "        lstm_size: Size of the hidden layers in the LSTM cells\n",
    "        num_layers: Number of LSTM layers\n",
    "        batch_size: Batch size\n",
    "\n",
    "    '''\n",
    "    ### Build the LSTM Cell\n",
    "    def build_cell(num_units, keep_prob):\n",
    "        # Use a basic LSTM cell\n",
    "        lstm = tf.contrib.rnn.BasicLSTMCell(num_units)\n",
    "        # Add dropout to the cell outputs\n",
    "        drop = tf.contrib.rnn.DropoutWrapper(lstm, input_keep_prob=keep_prob)\n",
    "        return drop\n",
    "    \n",
    "    # Stack up multiple LSTM layers, for deep learning\n",
    "    cell = tf.contrib.rnn.MultiRNNCell([build_cell(lstm_size, keep_prob) for _ in range(num_layers)])\n",
    "    # cell = tf.contrib.rnn.MultiRNNCell([drop]*num_layers) - copy of the same layer but uniques weights! \n",
    "    initial_state = cell.zero_state(batch_size, tf.float32)\n",
    "    \n",
    "    return cell, initial_state"
   ]
  },
  {
   "cell_type": "markdown",
   "metadata": {},
   "source": [
    "### RNN Output\n",
    "\n",
    "Here we'll create the output layer. We need to connect the output of the RNN cells to a full connected layer with a softmax output. The softmax output gives us a probability distribution we can use to predict the next character, so we want this layer to have size $C$, the number of classes/characters we have in our text.\n",
    "\n",
    "If our input has batch size $N$, number of steps $M$, and the hidden layer has $L$ hidden units, then the output is a 3D tensor with size $N \\times M \\times L$. The output of each LSTM cell has size $L$, we have $M$ of them, one for each sequence step, and we have $N$ sequences. So the total size is $N \\times M \\times L$. \n",
    "\n",
    "We are using the same fully connected layer, the same weights, for each of the outputs. Then, to make things easier, we should reshape the outputs into a 2D tensor with shape $(M * N) \\times L$. That is, one row for each sequence and step, where the values of each row are the output from the LSTM cells. We get the LSTM output as a list, `lstm_output`. First we need to concatenate this whole list into one array with [`tf.concat`](https://www.tensorflow.org/api_docs/python/tf/concat). Then, reshape it (with `tf.reshape`) to size $(M * N) \\times L$.\n",
    "\n",
    "One we have the outputs reshaped, we can do the matrix multiplication with the weights. We need to wrap the weight and bias variables in a variable scope with `tf.variable_scope(scope_name)` because there are weights being created in the LSTM cells. TensorFlow will throw an error if the weights created here have the same names as the weights created in the LSTM cells, which they will be default. To avoid this, we wrap the variables in a variable scope so we can give them unique names.\n",
    "\n",
    "> **Exercise:** Implement the output layer in the function below."
   ]
  },
  {
   "cell_type": "code",
   "execution_count": 27,
   "metadata": {
    "collapsed": true
   },
   "outputs": [],
   "source": [
    "def build_output(lstm_output, in_size, out_size):\n",
    "    ''' Build a softmax layer, return the softmax output and logits.\n",
    "    \n",
    "        Arguments\n",
    "        ---------\n",
    "        \n",
    "        lstm_output: List of output tensors from the LSTM layer\n",
    "        in_size: Size of the input tensor, for example, size of the LSTM cells\n",
    "        out_size: Size of this softmax layer\n",
    "    \n",
    "    '''\n",
    "\n",
    "    # Reshape output so it's a bunch of rows, one row for each step for each sequence.\n",
    "    # Concatenate lstm_output over axis 1 (the columns)\n",
    "    seq_output = tf.concat(lstm_output, axis=1)\n",
    "    # Reshape seq_output to a 2D tensor with lstm_size columns\n",
    "    x = tf.reshape(seq_output, [-1, in_size])\n",
    "    \n",
    "    # Connect the RNN outputs to a softmax layer\n",
    "    with tf.variable_scope('softmax'):\n",
    "        # Create the weight and bias variables here\n",
    "        softmax_w = tf.Variable(tf.truncated_normal((in_size, out_size),stddev=0.1))\n",
    "        softmax_b = tf.Variable(tf.zeros(out_size))\n",
    "    \n",
    "    # Since output is a bunch of rows of RNN cell outputs, logits will be a bunch\n",
    "    # of rows of logit outputs, one for each step and sequence\n",
    "    logits = tf.matmul(x, softmax_w) + softmax_b\n",
    "    \n",
    "    # Use softmax to get the probabilities for predicted characters\n",
    "    out = tf.nn.softmax(logits, name=\"predictions\")\n",
    "    \n",
    "    return out, logits"
   ]
  },
  {
   "cell_type": "markdown",
   "metadata": {},
   "source": [
    "### Training loss\n",
    "\n",
    "Next up is the training loss. We get the logits and targets and calculate the softmax cross-entropy loss. First we need to one-hot encode the targets, we're getting them as encoded characters. Then, reshape the one-hot targets so it's a 2D tensor with size $(M*N) \\times C$ where $C$ is the number of classes/characters we have. Remember that we reshaped the LSTM outputs and ran them through a fully connected layer with $C$ units. So our logits will also have size $(M*N) \\times C$.\n",
    "\n",
    "Then we run the logits and targets through `tf.nn.softmax_cross_entropy_with_logits` and find the mean to get the loss.\n",
    "\n",
    ">**Exercise:** Implement the loss calculation in the function below."
   ]
  },
  {
   "cell_type": "code",
   "execution_count": 28,
   "metadata": {
    "collapsed": true
   },
   "outputs": [],
   "source": [
    "def build_loss(logits, targets, lstm_size, num_classes):\n",
    "    ''' Calculate the loss from the logits and the targets.\n",
    "    \n",
    "        Arguments\n",
    "        ---------\n",
    "        logits: Logits from final fully connected layer\n",
    "        targets: Targets for supervised learning\n",
    "        lstm_size: Number of LSTM hidden units\n",
    "        num_classes: Number of classes in targets\n",
    "        \n",
    "    '''\n",
    "    \n",
    "    # One-hot encode targets and reshape to match logits, one row per sequence per step\n",
    "    y_one_hot = tf.one_hot(targets, num_classes)\n",
    "    y_reshaped = tf.reshape(y_one_hot, logits.get_shape())\n",
    "    \n",
    "    # Softmax cross entropy loss\n",
    "    loss = tf.nn.softmax_cross_entropy_with_logits(logits=logits, labels=y_reshaped)\n",
    "    loss = tf.reduce_mean(loss)\n",
    "    return loss"
   ]
  },
  {
   "cell_type": "markdown",
   "metadata": {},
   "source": [
    "### Optimizer\n",
    "\n",
    "Here we build the optimizer. Normal RNNs have have issues gradients exploding and disappearing. LSTMs fix the disappearance problem, but the gradients can still grow without bound. To fix this, we can clip the gradients above some threshold. That is, if a gradient is larger than that threshold, we set it to the threshold. This will ensure the gradients never grow overly large. Then we use an AdamOptimizer for the learning step."
   ]
  },
  {
   "cell_type": "code",
   "execution_count": 29,
   "metadata": {
    "collapsed": true
   },
   "outputs": [],
   "source": [
    "def build_optimizer(loss, learning_rate, grad_clip):\n",
    "    ''' Build optmizer for training, using gradient clipping.\n",
    "    \n",
    "        Arguments:\n",
    "        loss: Network loss\n",
    "        learning_rate: Learning rate for optimizer\n",
    "    \n",
    "    '''\n",
    "    \n",
    "    # Optimizer for training, using gradient clipping to control exploding gradients\n",
    "    tvars = tf.trainable_variables()\n",
    "    grads, _ = tf.clip_by_global_norm(tf.gradients(loss, tvars), grad_clip)\n",
    "    train_op = tf.train.AdamOptimizer(learning_rate)\n",
    "    optimizer = train_op.apply_gradients(zip(grads, tvars))\n",
    "    \n",
    "    return optimizer"
   ]
  },
  {
   "cell_type": "markdown",
   "metadata": {},
   "source": [
    "### Build the network\n",
    "\n",
    "Now we can put all the pieces together and build a class for the network. To actually run data through the LSTM cells, we will use [`tf.nn.dynamic_rnn`](https://www.tensorflow.org/versions/r1.0/api_docs/python/tf/nn/dynamic_rnn). This function will pass the hidden and cell states across LSTM cells appropriately for us. It returns the outputs for each LSTM cell at each step for each sequence in the mini-batch. It also gives us the final LSTM state. We want to save this state as `final_state` so we can pass it to the first LSTM cell in the the next mini-batch run. For `tf.nn.dynamic_rnn`, we pass in the cell and initial state we get from `build_lstm`, as well as our input sequences. Also, we need to one-hot encode the inputs before going into the RNN. \n",
    "\n",
    "> **Exercise:** Use the functions you've implemented previously and `tf.nn.dynamic_rnn` to build the network."
   ]
  },
  {
   "cell_type": "code",
   "execution_count": 34,
   "metadata": {},
   "outputs": [],
   "source": [
    "class CharRNN:\n",
    "    \n",
    "    def __init__(self, num_classes, batch_size=64, num_steps=50, \n",
    "                       lstm_size=128, num_layers=2, learning_rate=0.001, \n",
    "                       grad_clip=5, sampling=False):\n",
    "    \n",
    "        # When we're using this network for sampling later, we'll be passing in\n",
    "        # one character at a time, so providing an option for that\n",
    "        if sampling == True:\n",
    "            batch_size, num_steps = 1, 1\n",
    "        else:\n",
    "            batch_size, num_steps = batch_size, num_steps\n",
    "\n",
    "        tf.reset_default_graph()\n",
    "        \n",
    "        # Build the input placeholder tensors\n",
    "        self.inputs, self.targets, self.keep_prob = build_inputs(batch_size,num_steps)\n",
    "\n",
    "        # Build the LSTM cell\n",
    "        cell, self.initial_state = build_lstm(lstm_size,num_layers, batch_size, self.keep_prob)\n",
    "\n",
    "        ### Run the data through the RNN layers\n",
    "        # First, one-hot encode the input tokens\n",
    "        x_one_hot = tf.one_hot(self.inputs, num_classes)\n",
    "        \n",
    "        # Run each sequence step through the RNN with tf.nn.dynamic_rnn \n",
    "        outputs, state = tf.nn.dynamic_rnn(cell, x_one_hot, initial_state=self.initial_state)\n",
    "        self.final_state = state\n",
    "        \n",
    "        # Get softmax predictions and logits\n",
    "        self.prediction, self.logits = build_output(outputs, lstm_size, num_classes) \n",
    "        \n",
    "        # Loss and optimizer (with gradient clipping)\n",
    "        self.loss =  build_loss(self.logits, self.targets,lstm_size,num_classes)\n",
    "        self.optimizer = build_optimizer(self.loss,learning_rate,grad_clip)"
   ]
  },
  {
   "cell_type": "markdown",
   "metadata": {},
   "source": [
    "## Hyperparameters\n",
    "\n",
    "Here are the hyperparameters for the network.\n",
    "\n",
    "* `batch_size` - Number of sequences running through the network in one pass.\n",
    "* `num_steps` - Number of characters in the sequence the network is trained on. Larger is better typically, the network will learn more long range dependencies. But it takes longer to train. 100 is typically a good number here.\n",
    "* `lstm_size` - The number of units in the hidden layers.\n",
    "* `num_layers` - Number of hidden LSTM layers to use\n",
    "* `learning_rate` - Learning rate for training\n",
    "* `keep_prob` - The dropout keep probability when training. If you're network is overfitting, try decreasing this.\n",
    "\n",
    "Here's some good advice from Andrej Karpathy on training the network. I'm going to copy it in here for your benefit, but also link to [where it originally came from](https://github.com/karpathy/char-rnn#tips-and-tricks).\n",
    "\n",
    "> ## Tips and Tricks\n",
    "\n",
    ">### Monitoring Validation Loss vs. Training Loss\n",
    ">If you're somewhat new to Machine Learning or Neural Networks it can take a bit of expertise to get good models. The most important quantity to keep track of is the difference between your training loss (printed during training) and the validation loss (printed once in a while when the RNN is run on the validation data (by default every 1000 iterations)). In particular:\n",
    "\n",
    "> - If your training loss is much lower than validation loss then this means the network might be **overfitting**. Solutions to this are to decrease your network size, or to increase dropout. For example you could try dropout of 0.5 and so on.\n",
    "> - If your training/validation loss are about equal then your model is **underfitting**. Increase the size of your model (either number of layers or the raw number of neurons per layer)\n",
    "\n",
    "> ### Approximate number of parameters\n",
    "\n",
    "> The two most important parameters that control the model are `lstm_size` and `num_layers`. I would advise that you always use `num_layers` of either 2/3. The `lstm_size` can be adjusted based on how much data you have. The two important quantities to keep track of here are:\n",
    "\n",
    "> - The number of parameters in your model. This is printed when you start training.\n",
    "> - The size of your dataset. 1MB file is approximately 1 million characters.\n",
    "\n",
    ">These two should be about the same order of magnitude. It's a little tricky to tell. Here are some examples:\n",
    "\n",
    "> - I have a 100MB dataset and I'm using the default parameter settings (which currently print 150K parameters). My data size is significantly larger (100 mil >> 0.15 mil), so I expect to heavily underfit. I am thinking I can comfortably afford to make `lstm_size` larger.\n",
    "> - I have a 10MB dataset and running a 10 million parameter model. I'm slightly nervous and I'm carefully monitoring my validation loss. If it's larger than my training loss then I may want to try to increase dropout a bit and see if that helps the validation loss.\n",
    "\n",
    "> ### Best models strategy\n",
    "\n",
    ">The winning strategy to obtaining very good models (if you have the compute time) is to always err on making the network larger (as large as you're willing to wait for it to compute) and then try different dropout values (between 0,1). Whatever model has the best validation performance (the loss, written in the checkpoint filename, low is good) is the one you should use in the end.\n",
    "\n",
    ">It is very common in deep learning to run many different models with many different hyperparameter settings, and in the end take whatever checkpoint gave the best validation performance.\n",
    "\n",
    ">By the way, the size of your training and validation splits are also parameters. Make sure you have a decent amount of data in your validation set or otherwise the validation performance will be noisy and not very informative."
   ]
  },
  {
   "cell_type": "code",
   "execution_count": 37,
   "metadata": {
    "collapsed": true
   },
   "outputs": [],
   "source": [
    "batch_size = 128         # Sequences per batch\n",
    "num_steps = 50          # Number of sequence steps per batch\n",
    "lstm_size = 512         # Size of hidden layers in LSTMs\n",
    "num_layers = 2          # Number of LSTM layers\n",
    "learning_rate = 0.01    # Learning rate\n",
    "keep_prob = 0.5         # Dropout keep probability"
   ]
  },
  {
   "cell_type": "markdown",
   "metadata": {},
   "source": [
    "## Time for training\n",
    "\n",
    "This is typical training code, passing inputs and targets into the network, then running the optimizer. Here we also get back the final LSTM state for the mini-batch. Then, we pass that state back into the network so the next batch can continue the state from the previous batch. And every so often (set by `save_every_n`) I save a checkpoint.\n",
    "\n",
    "Here I'm saving checkpoints with the format\n",
    "\n",
    "`i{iteration number}_l{# hidden layer units}.ckpt`\n",
    "\n",
    "> **Exercise:** Set the hyperparameters above to train the network. Watch the training loss, it should be consistently dropping. Also, I highly advise running this on a GPU."
   ]
  },
  {
   "cell_type": "code",
   "execution_count": 44,
   "metadata": {
    "scrolled": true
   },
   "outputs": [
    {
     "name": "stdout",
     "output_type": "stream",
     "text": [
      "Epoch: 1/2...  Training Step: 1...  Training loss: 4.4159...  8.6885 sec/batch\n",
      "Epoch: 1/2...  Training Step: 2...  Training loss: 4.0339...  8.5315 sec/batch\n",
      "Epoch: 1/2...  Training Step: 3...  Training loss: 5.3894...  8.6145 sec/batch\n",
      "Epoch: 1/2...  Training Step: 4...  Training loss: 4.3754...  8.3565 sec/batch\n",
      "Epoch: 1/2...  Training Step: 5...  Training loss: 3.9161...  8.7985 sec/batch\n",
      "Epoch: 1/2...  Training Step: 6...  Training loss: 3.8092...  8.4505 sec/batch\n",
      "Epoch: 1/2...  Training Step: 7...  Training loss: 3.4557...  8.9695 sec/batch\n",
      "Epoch: 1/2...  Training Step: 8...  Training loss: 3.3004...  9.6426 sec/batch\n",
      "Epoch: 1/2...  Training Step: 9...  Training loss: 3.2165...  9.0015 sec/batch\n",
      "Epoch: 1/2...  Training Step: 10...  Training loss: 3.1746...  8.5475 sec/batch\n",
      "Epoch: 1/2...  Training Step: 11...  Training loss: 3.1602...  8.0122 sec/batch\n",
      "Epoch: 1/2...  Training Step: 12...  Training loss: 3.1407...  7.8551 sec/batch\n",
      "Epoch: 1/2...  Training Step: 13...  Training loss: 3.1370...  7.9213 sec/batch\n",
      "Epoch: 1/2...  Training Step: 14...  Training loss: 3.0958...  8.6295 sec/batch\n",
      "Epoch: 1/2...  Training Step: 15...  Training loss: 3.1235...  9.2563 sec/batch\n",
      "Epoch: 1/2...  Training Step: 16...  Training loss: 3.1349...  8.6185 sec/batch\n",
      "Epoch: 1/2...  Training Step: 17...  Training loss: 3.1367...  7.7022 sec/batch\n",
      "Epoch: 1/2...  Training Step: 18...  Training loss: 3.1178...  8.2088 sec/batch\n",
      "Epoch: 1/2...  Training Step: 19...  Training loss: 3.1301...  8.0894 sec/batch\n",
      "Epoch: 1/2...  Training Step: 20...  Training loss: 3.1143...  8.3861 sec/batch\n",
      "Epoch: 1/2...  Training Step: 21...  Training loss: 3.1139...  8.3797 sec/batch\n",
      "Epoch: 1/2...  Training Step: 22...  Training loss: 3.1242...  8.1915 sec/batch\n",
      "Epoch: 1/2...  Training Step: 23...  Training loss: 3.0827...  9.0565 sec/batch\n",
      "Epoch: 1/2...  Training Step: 24...  Training loss: 3.1256...  8.4825 sec/batch\n",
      "Epoch: 1/2...  Training Step: 25...  Training loss: 3.1181...  8.6455 sec/batch\n",
      "Epoch: 1/2...  Training Step: 26...  Training loss: 3.1176...  8.6895 sec/batch\n",
      "Epoch: 1/2...  Training Step: 27...  Training loss: 3.0980...  9.1755 sec/batch\n",
      "Epoch: 1/2...  Training Step: 28...  Training loss: 3.1155...  8.0065 sec/batch\n",
      "Epoch: 1/2...  Training Step: 29...  Training loss: 3.0942...  7.8305 sec/batch\n",
      "Epoch: 1/2...  Training Step: 30...  Training loss: 3.1183...  8.4125 sec/batch\n",
      "Epoch: 1/2...  Training Step: 31...  Training loss: 3.1041...  7.6327 sec/batch\n",
      "Epoch: 1/2...  Training Step: 32...  Training loss: 3.1278...  8.0392 sec/batch\n",
      "Epoch: 1/2...  Training Step: 33...  Training loss: 3.1022...  7.7214 sec/batch\n",
      "Epoch: 1/2...  Training Step: 34...  Training loss: 3.0908...  8.4289 sec/batch\n",
      "Epoch: 1/2...  Training Step: 35...  Training loss: 3.1007...  8.2778 sec/batch\n",
      "Epoch: 1/2...  Training Step: 36...  Training loss: 3.1300...  8.5150 sec/batch\n",
      "Epoch: 1/2...  Training Step: 37...  Training loss: 3.0877...  7.7388 sec/batch\n",
      "Epoch: 1/2...  Training Step: 38...  Training loss: 3.0952...  7.6700 sec/batch\n",
      "Epoch: 1/2...  Training Step: 39...  Training loss: 3.1088...  7.8437 sec/batch\n",
      "Epoch: 1/2...  Training Step: 40...  Training loss: 3.0926...  7.9245 sec/batch\n",
      "Epoch: 1/2...  Training Step: 41...  Training loss: 3.0919...  8.0565 sec/batch\n",
      "Epoch: 1/2...  Training Step: 42...  Training loss: 3.1073...  7.6709 sec/batch\n",
      "Epoch: 1/2...  Training Step: 43...  Training loss: 3.1020...  8.3289 sec/batch\n",
      "Epoch: 1/2...  Training Step: 44...  Training loss: 3.1085...  8.4310 sec/batch\n",
      "Epoch: 1/2...  Training Step: 45...  Training loss: 3.1141...  8.3705 sec/batch\n",
      "Epoch: 1/2...  Training Step: 46...  Training loss: 3.1085...  8.4770 sec/batch\n",
      "Epoch: 1/2...  Training Step: 47...  Training loss: 3.1143...  8.1647 sec/batch\n",
      "Epoch: 1/2...  Training Step: 48...  Training loss: 3.1020...  9.1177 sec/batch\n",
      "Epoch: 1/2...  Training Step: 49...  Training loss: 3.0963...  8.6606 sec/batch\n",
      "Epoch: 1/2...  Training Step: 50...  Training loss: 3.0741...  7.6738 sec/batch\n",
      "Epoch: 1/2...  Training Step: 51...  Training loss: 3.0906...  7.5316 sec/batch\n",
      "Epoch: 1/2...  Training Step: 52...  Training loss: 3.0867...  10.0266 sec/batch\n",
      "Epoch: 1/2...  Training Step: 53...  Training loss: 3.0697...  8.0712 sec/batch\n",
      "Epoch: 1/2...  Training Step: 54...  Training loss: 3.1015...  7.5942 sec/batch\n",
      "Epoch: 1/2...  Training Step: 55...  Training loss: 3.0999...  7.7059 sec/batch\n",
      "Epoch: 1/2...  Training Step: 56...  Training loss: 3.0872...  8.7826 sec/batch\n",
      "Epoch: 1/2...  Training Step: 57...  Training loss: 3.0857...  9.3745 sec/batch\n",
      "Epoch: 1/2...  Training Step: 58...  Training loss: 3.0530...  9.9426 sec/batch\n",
      "Epoch: 1/2...  Training Step: 59...  Training loss: 3.0486...  10.8586 sec/batch\n",
      "Epoch: 1/2...  Training Step: 60...  Training loss: 3.0604...  9.2015 sec/batch\n",
      "Epoch: 1/2...  Training Step: 61...  Training loss: 3.0698...  9.5605 sec/batch\n",
      "Epoch: 1/2...  Training Step: 62...  Training loss: 3.0655...  8.8435 sec/batch\n",
      "Epoch: 1/2...  Training Step: 63...  Training loss: 3.0594...  9.0955 sec/batch\n",
      "Epoch: 1/2...  Training Step: 64...  Training loss: 3.0384...  9.4155 sec/batch\n",
      "Epoch: 1/2...  Training Step: 65...  Training loss: 2.9885...  9.6776 sec/batch\n",
      "Epoch: 1/2...  Training Step: 66...  Training loss: 3.0106...  8.9135 sec/batch\n",
      "Epoch: 1/2...  Training Step: 67...  Training loss: 3.0030...  8.6255 sec/batch\n",
      "Epoch: 1/2...  Training Step: 68...  Training loss: 3.0066...  8.6655 sec/batch\n",
      "Epoch: 1/2...  Training Step: 69...  Training loss: 3.0295...  8.3915 sec/batch\n",
      "Epoch: 1/2...  Training Step: 70...  Training loss: 2.9852...  9.1685 sec/batch\n",
      "Epoch: 1/2...  Training Step: 71...  Training loss: 2.9790...  8.6005 sec/batch\n",
      "Epoch: 1/2...  Training Step: 72...  Training loss: 3.0004...  9.9196 sec/batch\n",
      "Epoch: 1/2...  Training Step: 73...  Training loss: 2.9964...  8.6635 sec/batch\n",
      "Epoch: 1/2...  Training Step: 74...  Training loss: 2.9810...  8.8315 sec/batch\n",
      "Epoch: 1/2...  Training Step: 75...  Training loss: 2.9889...  8.6615 sec/batch\n",
      "Epoch: 1/2...  Training Step: 76...  Training loss: 2.9613...  8.6735 sec/batch\n",
      "Epoch: 1/2...  Training Step: 77...  Training loss: 2.9792...  8.4322 sec/batch\n",
      "Epoch: 1/2...  Training Step: 78...  Training loss: 2.9842...  7.8819 sec/batch\n",
      "Epoch: 1/2...  Training Step: 79...  Training loss: 2.9473...  8.7856 sec/batch\n",
      "Epoch: 1/2...  Training Step: 80...  Training loss: 2.9329...  10.4767 sec/batch\n",
      "Epoch: 1/2...  Training Step: 81...  Training loss: 2.9607...  10.2185 sec/batch\n",
      "Epoch: 1/2...  Training Step: 82...  Training loss: 2.8958...  7.9306 sec/batch\n",
      "Epoch: 1/2...  Training Step: 83...  Training loss: 2.9537...  8.0161 sec/batch\n",
      "Epoch: 1/2...  Training Step: 84...  Training loss: 2.9337...  7.7833 sec/batch\n",
      "Epoch: 1/2...  Training Step: 85...  Training loss: 2.9375...  8.0651 sec/batch\n",
      "Epoch: 1/2...  Training Step: 86...  Training loss: 2.9116...  8.3200 sec/batch\n",
      "Epoch: 1/2...  Training Step: 87...  Training loss: 2.9221...  8.6705 sec/batch\n",
      "Epoch: 1/2...  Training Step: 88...  Training loss: 2.9323...  8.6585 sec/batch\n",
      "Epoch: 1/2...  Training Step: 89...  Training loss: 2.9054...  8.6905 sec/batch\n",
      "Epoch: 1/2...  Training Step: 90...  Training loss: 2.9017...  8.9045 sec/batch\n",
      "Epoch: 1/2...  Training Step: 91...  Training loss: 2.9012...  9.1405 sec/batch\n",
      "Epoch: 1/2...  Training Step: 92...  Training loss: 2.9047...  9.8016 sec/batch\n",
      "Epoch: 1/2...  Training Step: 93...  Training loss: 2.8867...  8.6785 sec/batch\n",
      "Epoch: 1/2...  Training Step: 94...  Training loss: 2.8625...  10.3366 sec/batch\n",
      "Epoch: 1/2...  Training Step: 95...  Training loss: 2.9113...  9.5835 sec/batch\n",
      "Epoch: 1/2...  Training Step: 96...  Training loss: 2.8709...  9.5125 sec/batch\n",
      "Epoch: 1/2...  Training Step: 97...  Training loss: 2.8702...  10.0496 sec/batch\n",
      "Epoch: 1/2...  Training Step: 98...  Training loss: 2.8574...  9.0915 sec/batch\n",
      "Epoch: 1/2...  Training Step: 99...  Training loss: 2.8709...  8.5385 sec/batch\n",
      "Epoch: 1/2...  Training Step: 100...  Training loss: 2.8292...  8.8015 sec/batch\n",
      "Epoch: 1/2...  Training Step: 101...  Training loss: 2.8414...  8.7185 sec/batch\n",
      "Epoch: 1/2...  Training Step: 102...  Training loss: 2.8490...  8.7915 sec/batch\n",
      "Epoch: 1/2...  Training Step: 103...  Training loss: 2.8082...  8.9155 sec/batch\n"
     ]
    },
    {
     "name": "stdout",
     "output_type": "stream",
     "text": [
      "Epoch: 1/2...  Training Step: 104...  Training loss: 2.8150...  8.6325 sec/batch\n",
      "Epoch: 1/2...  Training Step: 105...  Training loss: 2.8221...  9.0055 sec/batch\n",
      "Epoch: 1/2...  Training Step: 106...  Training loss: 2.7928...  8.8225 sec/batch\n",
      "Epoch: 1/2...  Training Step: 107...  Training loss: 2.8156...  8.8265 sec/batch\n",
      "Epoch: 1/2...  Training Step: 108...  Training loss: 2.8085...  8.7515 sec/batch\n",
      "Epoch: 1/2...  Training Step: 109...  Training loss: 2.7770...  8.8895 sec/batch\n",
      "Epoch: 1/2...  Training Step: 110...  Training loss: 2.8054...  8.3565 sec/batch\n",
      "Epoch: 1/2...  Training Step: 111...  Training loss: 2.7725...  8.9265 sec/batch\n",
      "Epoch: 1/2...  Training Step: 112...  Training loss: 2.8080...  9.8236 sec/batch\n",
      "Epoch: 1/2...  Training Step: 113...  Training loss: 2.8113...  9.3825 sec/batch\n",
      "Epoch: 1/2...  Training Step: 114...  Training loss: 2.7965...  8.9615 sec/batch\n",
      "Epoch: 1/2...  Training Step: 115...  Training loss: 2.8052...  8.2784 sec/batch\n",
      "Epoch: 1/2...  Training Step: 116...  Training loss: 2.8135...  8.0651 sec/batch\n",
      "Epoch: 1/2...  Training Step: 117...  Training loss: 2.7806...  7.9550 sec/batch\n",
      "Epoch: 1/2...  Training Step: 118...  Training loss: 2.7913...  7.6197 sec/batch\n",
      "Epoch: 1/2...  Training Step: 119...  Training loss: 2.7744...  8.0337 sec/batch\n",
      "Epoch: 1/2...  Training Step: 120...  Training loss: 2.7578...  7.8907 sec/batch\n",
      "Epoch: 1/2...  Training Step: 121...  Training loss: 2.7499...  7.6385 sec/batch\n",
      "Epoch: 1/2...  Training Step: 122...  Training loss: 2.7348...  7.8869 sec/batch\n",
      "Epoch: 1/2...  Training Step: 123...  Training loss: 2.7658...  8.0205 sec/batch\n",
      "Epoch: 1/2...  Training Step: 124...  Training loss: 2.7602...  8.0827 sec/batch\n",
      "Epoch: 1/2...  Training Step: 125...  Training loss: 2.7737...  8.8005 sec/batch\n",
      "Epoch: 1/2...  Training Step: 126...  Training loss: 2.7461...  7.7549 sec/batch\n",
      "Epoch: 1/2...  Training Step: 127...  Training loss: 2.7657...  8.9776 sec/batch\n",
      "Epoch: 1/2...  Training Step: 128...  Training loss: 2.7525...  9.0957 sec/batch\n",
      "Epoch: 1/2...  Training Step: 129...  Training loss: 2.7337...  8.6499 sec/batch\n",
      "Epoch: 1/2...  Training Step: 130...  Training loss: 2.7411...  8.7626 sec/batch\n",
      "Epoch: 1/2...  Training Step: 131...  Training loss: 2.7064...  8.7700 sec/batch\n",
      "Epoch: 1/2...  Training Step: 132...  Training loss: 2.7416...  8.5858 sec/batch\n",
      "Epoch: 1/2...  Training Step: 133...  Training loss: 2.7654...  7.8666 sec/batch\n",
      "Epoch: 1/2...  Training Step: 134...  Training loss: 2.7649...  8.5691 sec/batch\n",
      "Epoch: 1/2...  Training Step: 135...  Training loss: 2.7263...  8.1739 sec/batch\n",
      "Epoch: 1/2...  Training Step: 136...  Training loss: 2.7209...  7.3471 sec/batch\n",
      "Epoch: 1/2...  Training Step: 137...  Training loss: 2.7255...  7.8388 sec/batch\n",
      "Epoch: 1/2...  Training Step: 138...  Training loss: 2.7370...  7.9138 sec/batch\n",
      "Epoch: 1/2...  Training Step: 139...  Training loss: 2.7325...  7.9354 sec/batch\n",
      "Epoch: 1/2...  Training Step: 140...  Training loss: 2.7156...  8.7510 sec/batch\n",
      "Epoch: 1/2...  Training Step: 141...  Training loss: 2.7778...  8.6151 sec/batch\n",
      "Epoch: 1/2...  Training Step: 142...  Training loss: 2.7269...  9.1725 sec/batch\n",
      "Epoch: 1/2...  Training Step: 143...  Training loss: 2.7162...  9.8066 sec/batch\n",
      "Epoch: 1/2...  Training Step: 144...  Training loss: 2.7079...  8.3055 sec/batch\n",
      "Epoch: 1/2...  Training Step: 145...  Training loss: 2.6991...  8.6715 sec/batch\n",
      "Epoch: 1/2...  Training Step: 146...  Training loss: 2.7498...  9.2835 sec/batch\n",
      "Epoch: 1/2...  Training Step: 147...  Training loss: 2.7101...  9.1995 sec/batch\n",
      "Epoch: 1/2...  Training Step: 148...  Training loss: 2.7555...  10.4456 sec/batch\n",
      "Epoch: 1/2...  Training Step: 149...  Training loss: 2.6985...  9.0395 sec/batch\n",
      "Epoch: 1/2...  Training Step: 150...  Training loss: 2.7387...  8.6325 sec/batch\n",
      "Epoch: 1/2...  Training Step: 151...  Training loss: 2.7196...  8.9095 sec/batch\n",
      "Epoch: 1/2...  Training Step: 152...  Training loss: 2.7364...  8.6945 sec/batch\n",
      "Epoch: 1/2...  Training Step: 153...  Training loss: 2.6764...  8.9215 sec/batch\n",
      "Epoch: 1/2...  Training Step: 154...  Training loss: 2.7210...  8.8585 sec/batch\n",
      "Epoch: 1/2...  Training Step: 155...  Training loss: 2.7113...  9.5245 sec/batch\n",
      "Epoch: 1/2...  Training Step: 156...  Training loss: 2.7020...  9.5245 sec/batch\n",
      "Epoch: 1/2...  Training Step: 157...  Training loss: 2.7059...  8.6135 sec/batch\n",
      "Epoch: 1/2...  Training Step: 158...  Training loss: 2.6789...  9.3795 sec/batch\n",
      "Epoch: 1/2...  Training Step: 159...  Training loss: 2.7335...  8.4465 sec/batch\n",
      "Epoch: 1/2...  Training Step: 160...  Training loss: 2.6981...  8.6735 sec/batch\n",
      "Epoch: 1/2...  Training Step: 161...  Training loss: 2.6739...  8.2835 sec/batch\n",
      "Epoch: 1/2...  Training Step: 162...  Training loss: 2.6797...  8.7645 sec/batch\n",
      "Epoch: 1/2...  Training Step: 163...  Training loss: 2.6852...  8.3355 sec/batch\n",
      "Epoch: 1/2...  Training Step: 164...  Training loss: 2.6711...  8.9665 sec/batch\n",
      "Epoch: 1/2...  Training Step: 165...  Training loss: 2.7244...  9.4945 sec/batch\n",
      "Epoch: 1/2...  Training Step: 166...  Training loss: 2.6937...  9.4445 sec/batch\n",
      "Epoch: 1/2...  Training Step: 167...  Training loss: 2.6908...  9.9855 sec/batch\n",
      "Epoch: 1/2...  Training Step: 168...  Training loss: 2.7304...  8.6662 sec/batch\n",
      "Epoch: 1/2...  Training Step: 169...  Training loss: 2.6715...  9.0204 sec/batch\n",
      "Epoch: 1/2...  Training Step: 170...  Training loss: 2.7040...  8.2857 sec/batch\n",
      "Epoch: 1/2...  Training Step: 171...  Training loss: 2.6762...  7.8816 sec/batch\n",
      "Epoch: 1/2...  Training Step: 172...  Training loss: 2.6903...  7.1345 sec/batch\n",
      "Epoch: 1/2...  Training Step: 173...  Training loss: 2.6701...  4.8275 sec/batch\n",
      "Epoch: 1/2...  Training Step: 174...  Training loss: 2.7060...  4.8225 sec/batch\n",
      "Epoch: 1/2...  Training Step: 175...  Training loss: 2.6666...  4.5737 sec/batch\n",
      "Epoch: 1/2...  Training Step: 176...  Training loss: 2.7026...  4.6097 sec/batch\n",
      "Epoch: 1/2...  Training Step: 177...  Training loss: 2.7330...  4.6145 sec/batch\n",
      "Epoch: 1/2...  Training Step: 178...  Training loss: 2.7164...  4.9439 sec/batch\n",
      "Epoch: 1/2...  Training Step: 179...  Training loss: 2.7121...  4.3805 sec/batch\n",
      "Epoch: 1/2...  Training Step: 180...  Training loss: 2.6983...  4.4763 sec/batch\n",
      "Epoch: 1/2...  Training Step: 181...  Training loss: 2.7092...  4.6401 sec/batch\n",
      "Epoch: 1/2...  Training Step: 182...  Training loss: 2.7173...  4.4633 sec/batch\n",
      "Epoch: 1/2...  Training Step: 183...  Training loss: 2.6900...  4.4655 sec/batch\n",
      "Epoch: 1/2...  Training Step: 184...  Training loss: 2.6720...  4.5647 sec/batch\n",
      "Epoch: 1/2...  Training Step: 185...  Training loss: 2.6643...  4.4355 sec/batch\n",
      "Epoch: 1/2...  Training Step: 186...  Training loss: 2.6685...  4.9388 sec/batch\n",
      "Epoch: 1/2...  Training Step: 187...  Training loss: 2.6519...  4.8828 sec/batch\n",
      "Epoch: 1/2...  Training Step: 188...  Training loss: 2.6356...  4.8796 sec/batch\n",
      "Epoch: 1/2...  Training Step: 189...  Training loss: 2.6361...  4.9670 sec/batch\n",
      "Epoch: 1/2...  Training Step: 190...  Training loss: 2.6717...  4.2966 sec/batch\n",
      "Epoch: 1/2...  Training Step: 191...  Training loss: 2.6804...  4.4538 sec/batch\n",
      "Epoch: 1/2...  Training Step: 192...  Training loss: 2.6922...  4.3616 sec/batch\n",
      "Epoch: 1/2...  Training Step: 193...  Training loss: 2.7013...  4.3992 sec/batch\n",
      "Epoch: 1/2...  Training Step: 194...  Training loss: 2.6906...  4.3184 sec/batch\n",
      "Epoch: 1/2...  Training Step: 195...  Training loss: 2.6364...  4.4751 sec/batch\n",
      "Epoch: 1/2...  Training Step: 196...  Training loss: 2.6705...  4.4699 sec/batch\n",
      "Epoch: 1/2...  Training Step: 197...  Training loss: 2.6567...  4.3382 sec/batch\n",
      "Epoch: 1/2...  Training Step: 198...  Training loss: 2.6279...  4.5203 sec/batch\n",
      "Epoch: 1/2...  Training Step: 199...  Training loss: 2.6445...  4.6935 sec/batch\n",
      "Epoch: 1/2...  Training Step: 200...  Training loss: 2.6472...  4.8033 sec/batch\n",
      "Epoch: 1/2...  Training Step: 201...  Training loss: 2.6343...  4.8052 sec/batch\n",
      "Epoch: 1/2...  Training Step: 202...  Training loss: 2.6274...  4.8176 sec/batch\n",
      "Epoch: 1/2...  Training Step: 203...  Training loss: 2.6800...  5.1862 sec/batch\n",
      "Epoch: 1/2...  Training Step: 204...  Training loss: 2.6794...  5.2138 sec/batch\n",
      "Epoch: 1/2...  Training Step: 205...  Training loss: 2.6665...  5.4784 sec/batch\n"
     ]
    },
    {
     "name": "stdout",
     "output_type": "stream",
     "text": [
      "Epoch: 1/2...  Training Step: 206...  Training loss: 2.6203...  5.1182 sec/batch\n",
      "Epoch: 1/2...  Training Step: 207...  Training loss: 2.6284...  5.1556 sec/batch\n",
      "Epoch: 1/2...  Training Step: 208...  Training loss: 2.6570...  4.5209 sec/batch\n",
      "Epoch: 1/2...  Training Step: 209...  Training loss: 2.6271...  4.3690 sec/batch\n",
      "Epoch: 1/2...  Training Step: 210...  Training loss: 2.6358...  4.5409 sec/batch\n",
      "Epoch: 1/2...  Training Step: 211...  Training loss: 2.6187...  4.6106 sec/batch\n",
      "Epoch: 1/2...  Training Step: 212...  Training loss: 2.6534...  4.8909 sec/batch\n",
      "Epoch: 1/2...  Training Step: 213...  Training loss: 2.6325...  4.8929 sec/batch\n",
      "Epoch: 1/2...  Training Step: 214...  Training loss: 2.6362...  4.4517 sec/batch\n",
      "Epoch: 1/2...  Training Step: 215...  Training loss: 2.6322...  4.7025 sec/batch\n",
      "Epoch: 1/2...  Training Step: 216...  Training loss: 2.6474...  5.0020 sec/batch\n",
      "Epoch: 1/2...  Training Step: 217...  Training loss: 2.6366...  4.7332 sec/batch\n",
      "Epoch: 1/2...  Training Step: 218...  Training loss: 2.6466...  4.6242 sec/batch\n",
      "Epoch: 1/2...  Training Step: 219...  Training loss: 2.6371...  5.0118 sec/batch\n",
      "Epoch: 1/2...  Training Step: 220...  Training loss: 2.6364...  4.7889 sec/batch\n",
      "Epoch: 1/2...  Training Step: 221...  Training loss: 2.6041...  4.5490 sec/batch\n",
      "Epoch: 1/2...  Training Step: 222...  Training loss: 2.6075...  4.5338 sec/batch\n",
      "Epoch: 1/2...  Training Step: 223...  Training loss: 2.6527...  4.5130 sec/batch\n",
      "Epoch: 1/2...  Training Step: 224...  Training loss: 2.6059...  4.7398 sec/batch\n",
      "Epoch: 1/2...  Training Step: 225...  Training loss: 2.6098...  4.8397 sec/batch\n",
      "Epoch: 1/2...  Training Step: 226...  Training loss: 2.6495...  4.8860 sec/batch\n",
      "Epoch: 1/2...  Training Step: 227...  Training loss: 2.6176...  4.6169 sec/batch\n",
      "Epoch: 1/2...  Training Step: 228...  Training loss: 2.6249...  4.5551 sec/batch\n",
      "Epoch: 1/2...  Training Step: 229...  Training loss: 2.6243...  4.5287 sec/batch\n",
      "Epoch: 1/2...  Training Step: 230...  Training loss: 2.6090...  4.6200 sec/batch\n",
      "Epoch: 1/2...  Training Step: 231...  Training loss: 2.6187...  4.8028 sec/batch\n",
      "Epoch: 1/2...  Training Step: 232...  Training loss: 2.6296...  4.6486 sec/batch\n"
     ]
    },
    {
     "ename": "KeyboardInterrupt",
     "evalue": "",
     "output_type": "error",
     "traceback": [
      "\u001b[1;31m---------------------------------------------------------------------------\u001b[0m",
      "\u001b[1;31mKeyboardInterrupt\u001b[0m                         Traceback (most recent call last)",
      "\u001b[1;32m<ipython-input-44-48196010aa25>\u001b[0m in \u001b[0;36m<module>\u001b[1;34m()\u001b[0m\n\u001b[0;32m     28\u001b[0m                                                  \u001b[0mmodel\u001b[0m\u001b[1;33m.\u001b[0m\u001b[0mfinal_state\u001b[0m\u001b[1;33m,\u001b[0m\u001b[1;33m\u001b[0m\u001b[0m\n\u001b[0;32m     29\u001b[0m                                                  model.optimizer], \n\u001b[1;32m---> 30\u001b[1;33m                                                  feed_dict=feed)\n\u001b[0m\u001b[0;32m     31\u001b[0m \u001b[1;33m\u001b[0m\u001b[0m\n\u001b[0;32m     32\u001b[0m             \u001b[0mend\u001b[0m \u001b[1;33m=\u001b[0m \u001b[0mtime\u001b[0m\u001b[1;33m.\u001b[0m\u001b[0mtime\u001b[0m\u001b[1;33m(\u001b[0m\u001b[1;33m)\u001b[0m\u001b[1;33m\u001b[0m\u001b[0m\n",
      "\u001b[1;32mc:\\users\\a604080\\appdata\\local\\programs\\python\\python35\\lib\\site-packages\\tensorflow\\python\\client\\session.py\u001b[0m in \u001b[0;36mrun\u001b[1;34m(self, fetches, feed_dict, options, run_metadata)\u001b[0m\n\u001b[0;32m    787\u001b[0m     \u001b[1;32mtry\u001b[0m\u001b[1;33m:\u001b[0m\u001b[1;33m\u001b[0m\u001b[0m\n\u001b[0;32m    788\u001b[0m       result = self._run(None, fetches, feed_dict, options_ptr,\n\u001b[1;32m--> 789\u001b[1;33m                          run_metadata_ptr)\n\u001b[0m\u001b[0;32m    790\u001b[0m       \u001b[1;32mif\u001b[0m \u001b[0mrun_metadata\u001b[0m\u001b[1;33m:\u001b[0m\u001b[1;33m\u001b[0m\u001b[0m\n\u001b[0;32m    791\u001b[0m         \u001b[0mproto_data\u001b[0m \u001b[1;33m=\u001b[0m \u001b[0mtf_session\u001b[0m\u001b[1;33m.\u001b[0m\u001b[0mTF_GetBuffer\u001b[0m\u001b[1;33m(\u001b[0m\u001b[0mrun_metadata_ptr\u001b[0m\u001b[1;33m)\u001b[0m\u001b[1;33m\u001b[0m\u001b[0m\n",
      "\u001b[1;32mc:\\users\\a604080\\appdata\\local\\programs\\python\\python35\\lib\\site-packages\\tensorflow\\python\\client\\session.py\u001b[0m in \u001b[0;36m_run\u001b[1;34m(self, handle, fetches, feed_dict, options, run_metadata)\u001b[0m\n\u001b[0;32m    995\u001b[0m     \u001b[1;32mif\u001b[0m \u001b[0mfinal_fetches\u001b[0m \u001b[1;32mor\u001b[0m \u001b[0mfinal_targets\u001b[0m\u001b[1;33m:\u001b[0m\u001b[1;33m\u001b[0m\u001b[0m\n\u001b[0;32m    996\u001b[0m       results = self._do_run(handle, final_targets, final_fetches,\n\u001b[1;32m--> 997\u001b[1;33m                              feed_dict_string, options, run_metadata)\n\u001b[0m\u001b[0;32m    998\u001b[0m     \u001b[1;32melse\u001b[0m\u001b[1;33m:\u001b[0m\u001b[1;33m\u001b[0m\u001b[0m\n\u001b[0;32m    999\u001b[0m       \u001b[0mresults\u001b[0m \u001b[1;33m=\u001b[0m \u001b[1;33m[\u001b[0m\u001b[1;33m]\u001b[0m\u001b[1;33m\u001b[0m\u001b[0m\n",
      "\u001b[1;32mc:\\users\\a604080\\appdata\\local\\programs\\python\\python35\\lib\\site-packages\\tensorflow\\python\\client\\session.py\u001b[0m in \u001b[0;36m_do_run\u001b[1;34m(self, handle, target_list, fetch_list, feed_dict, options, run_metadata)\u001b[0m\n\u001b[0;32m   1130\u001b[0m     \u001b[1;32mif\u001b[0m \u001b[0mhandle\u001b[0m \u001b[1;32mis\u001b[0m \u001b[1;32mNone\u001b[0m\u001b[1;33m:\u001b[0m\u001b[1;33m\u001b[0m\u001b[0m\n\u001b[0;32m   1131\u001b[0m       return self._do_call(_run_fn, self._session, feed_dict, fetch_list,\n\u001b[1;32m-> 1132\u001b[1;33m                            target_list, options, run_metadata)\n\u001b[0m\u001b[0;32m   1133\u001b[0m     \u001b[1;32melse\u001b[0m\u001b[1;33m:\u001b[0m\u001b[1;33m\u001b[0m\u001b[0m\n\u001b[0;32m   1134\u001b[0m       return self._do_call(_prun_fn, self._session, handle, feed_dict,\n",
      "\u001b[1;32mc:\\users\\a604080\\appdata\\local\\programs\\python\\python35\\lib\\site-packages\\tensorflow\\python\\client\\session.py\u001b[0m in \u001b[0;36m_do_call\u001b[1;34m(self, fn, *args)\u001b[0m\n\u001b[0;32m   1137\u001b[0m   \u001b[1;32mdef\u001b[0m \u001b[0m_do_call\u001b[0m\u001b[1;33m(\u001b[0m\u001b[0mself\u001b[0m\u001b[1;33m,\u001b[0m \u001b[0mfn\u001b[0m\u001b[1;33m,\u001b[0m \u001b[1;33m*\u001b[0m\u001b[0margs\u001b[0m\u001b[1;33m)\u001b[0m\u001b[1;33m:\u001b[0m\u001b[1;33m\u001b[0m\u001b[0m\n\u001b[0;32m   1138\u001b[0m     \u001b[1;32mtry\u001b[0m\u001b[1;33m:\u001b[0m\u001b[1;33m\u001b[0m\u001b[0m\n\u001b[1;32m-> 1139\u001b[1;33m       \u001b[1;32mreturn\u001b[0m \u001b[0mfn\u001b[0m\u001b[1;33m(\u001b[0m\u001b[1;33m*\u001b[0m\u001b[0margs\u001b[0m\u001b[1;33m)\u001b[0m\u001b[1;33m\u001b[0m\u001b[0m\n\u001b[0m\u001b[0;32m   1140\u001b[0m     \u001b[1;32mexcept\u001b[0m \u001b[0merrors\u001b[0m\u001b[1;33m.\u001b[0m\u001b[0mOpError\u001b[0m \u001b[1;32mas\u001b[0m \u001b[0me\u001b[0m\u001b[1;33m:\u001b[0m\u001b[1;33m\u001b[0m\u001b[0m\n\u001b[0;32m   1141\u001b[0m       \u001b[0mmessage\u001b[0m \u001b[1;33m=\u001b[0m \u001b[0mcompat\u001b[0m\u001b[1;33m.\u001b[0m\u001b[0mas_text\u001b[0m\u001b[1;33m(\u001b[0m\u001b[0me\u001b[0m\u001b[1;33m.\u001b[0m\u001b[0mmessage\u001b[0m\u001b[1;33m)\u001b[0m\u001b[1;33m\u001b[0m\u001b[0m\n",
      "\u001b[1;32mc:\\users\\a604080\\appdata\\local\\programs\\python\\python35\\lib\\site-packages\\tensorflow\\python\\client\\session.py\u001b[0m in \u001b[0;36m_run_fn\u001b[1;34m(session, feed_dict, fetch_list, target_list, options, run_metadata)\u001b[0m\n\u001b[0;32m   1119\u001b[0m         return tf_session.TF_Run(session, options,\n\u001b[0;32m   1120\u001b[0m                                  \u001b[0mfeed_dict\u001b[0m\u001b[1;33m,\u001b[0m \u001b[0mfetch_list\u001b[0m\u001b[1;33m,\u001b[0m \u001b[0mtarget_list\u001b[0m\u001b[1;33m,\u001b[0m\u001b[1;33m\u001b[0m\u001b[0m\n\u001b[1;32m-> 1121\u001b[1;33m                                  status, run_metadata)\n\u001b[0m\u001b[0;32m   1122\u001b[0m \u001b[1;33m\u001b[0m\u001b[0m\n\u001b[0;32m   1123\u001b[0m     \u001b[1;32mdef\u001b[0m \u001b[0m_prun_fn\u001b[0m\u001b[1;33m(\u001b[0m\u001b[0msession\u001b[0m\u001b[1;33m,\u001b[0m \u001b[0mhandle\u001b[0m\u001b[1;33m,\u001b[0m \u001b[0mfeed_dict\u001b[0m\u001b[1;33m,\u001b[0m \u001b[0mfetch_list\u001b[0m\u001b[1;33m)\u001b[0m\u001b[1;33m:\u001b[0m\u001b[1;33m\u001b[0m\u001b[0m\n",
      "\u001b[1;31mKeyboardInterrupt\u001b[0m: "
     ]
    }
   ],
   "source": [
    "epochs = 2\n",
    "# Save every N iterations\n",
    "save_every_n = 200\n",
    "\n",
    "model = CharRNN(len(vocab), batch_size=batch_size, num_steps=num_steps,\n",
    "                lstm_size=lstm_size, num_layers=num_layers, \n",
    "                learning_rate=learning_rate)\n",
    "\n",
    "saver = tf.train.Saver(max_to_keep=100)\n",
    "with tf.Session() as sess:\n",
    "    sess.run(tf.global_variables_initializer())\n",
    "    \n",
    "    # Use the line below to load a checkpoint and resume training\n",
    "    #saver.restore(sess, 'checkpoints/______.ckpt')\n",
    "    counter = 0\n",
    "    for e in range(epochs):\n",
    "        # Train network\n",
    "        new_state = sess.run(model.initial_state)\n",
    "        loss = 0\n",
    "        for x, y in get_batches(encoded, batch_size, num_steps):\n",
    "            counter += 1\n",
    "            start = time.time()\n",
    "            feed = {model.inputs: x,\n",
    "                    model.targets: y,\n",
    "                    model.keep_prob: keep_prob,\n",
    "                    model.initial_state: new_state}\n",
    "            batch_loss, new_state, _ = sess.run([model.loss, \n",
    "                                                 model.final_state, \n",
    "                                                 model.optimizer], \n",
    "                                                 feed_dict=feed)\n",
    "            \n",
    "            end = time.time()\n",
    "            #if (counter % save_every_n == 0):\n",
    "            print('Epoch: {}/{}... '.format(e+1, epochs),\n",
    "                  'Training Step: {}... '.format(counter),\n",
    "                  'Training loss: {:.4f}... '.format(batch_loss),\n",
    "                  '{:.4f} sec/batch'.format((end-start)))\n",
    "        \n",
    "            if (counter % save_every_n == 0):\n",
    "                saver.save(sess, \"checkpoints/i{}_l{}.ckpt\".format(counter, lstm_size))\n",
    "    \n",
    "    saver.save(sess, \"checkpoints/i{}_l{}.ckpt\".format(counter, lstm_size))"
   ]
  },
  {
   "cell_type": "markdown",
   "metadata": {},
   "source": [
    "#### Saved checkpoints\n",
    "\n",
    "Read up on saving and loading checkpoints here: https://www.tensorflow.org/programmers_guide/variables"
   ]
  },
  {
   "cell_type": "code",
   "execution_count": 39,
   "metadata": {},
   "outputs": [
    {
     "data": {
      "text/plain": [
       "model_checkpoint_path: \"checkpoints\\\\i10600_l128.ckpt\"\n",
       "all_model_checkpoint_paths: \"checkpoints\\\\i200_l128.ckpt\"\n",
       "all_model_checkpoint_paths: \"checkpoints\\\\i400_l128.ckpt\"\n",
       "all_model_checkpoint_paths: \"checkpoints\\\\i600_l128.ckpt\"\n",
       "all_model_checkpoint_paths: \"checkpoints\\\\i800_l128.ckpt\"\n",
       "all_model_checkpoint_paths: \"checkpoints\\\\i1000_l128.ckpt\"\n",
       "all_model_checkpoint_paths: \"checkpoints\\\\i1200_l128.ckpt\"\n",
       "all_model_checkpoint_paths: \"checkpoints\\\\i1400_l128.ckpt\"\n",
       "all_model_checkpoint_paths: \"checkpoints\\\\i1600_l128.ckpt\"\n",
       "all_model_checkpoint_paths: \"checkpoints\\\\i1800_l128.ckpt\"\n",
       "all_model_checkpoint_paths: \"checkpoints\\\\i2000_l128.ckpt\"\n",
       "all_model_checkpoint_paths: \"checkpoints\\\\i2200_l128.ckpt\"\n",
       "all_model_checkpoint_paths: \"checkpoints\\\\i2400_l128.ckpt\"\n",
       "all_model_checkpoint_paths: \"checkpoints\\\\i2600_l128.ckpt\"\n",
       "all_model_checkpoint_paths: \"checkpoints\\\\i2800_l128.ckpt\"\n",
       "all_model_checkpoint_paths: \"checkpoints\\\\i3000_l128.ckpt\"\n",
       "all_model_checkpoint_paths: \"checkpoints\\\\i3200_l128.ckpt\"\n",
       "all_model_checkpoint_paths: \"checkpoints\\\\i3400_l128.ckpt\"\n",
       "all_model_checkpoint_paths: \"checkpoints\\\\i3600_l128.ckpt\"\n",
       "all_model_checkpoint_paths: \"checkpoints\\\\i3800_l128.ckpt\"\n",
       "all_model_checkpoint_paths: \"checkpoints\\\\i4000_l128.ckpt\"\n",
       "all_model_checkpoint_paths: \"checkpoints\\\\i4200_l128.ckpt\"\n",
       "all_model_checkpoint_paths: \"checkpoints\\\\i4400_l128.ckpt\"\n",
       "all_model_checkpoint_paths: \"checkpoints\\\\i4600_l128.ckpt\"\n",
       "all_model_checkpoint_paths: \"checkpoints\\\\i4800_l128.ckpt\"\n",
       "all_model_checkpoint_paths: \"checkpoints\\\\i5000_l128.ckpt\"\n",
       "all_model_checkpoint_paths: \"checkpoints\\\\i5200_l128.ckpt\"\n",
       "all_model_checkpoint_paths: \"checkpoints\\\\i5400_l128.ckpt\"\n",
       "all_model_checkpoint_paths: \"checkpoints\\\\i5600_l128.ckpt\"\n",
       "all_model_checkpoint_paths: \"checkpoints\\\\i5800_l128.ckpt\"\n",
       "all_model_checkpoint_paths: \"checkpoints\\\\i6000_l128.ckpt\"\n",
       "all_model_checkpoint_paths: \"checkpoints\\\\i6200_l128.ckpt\"\n",
       "all_model_checkpoint_paths: \"checkpoints\\\\i6400_l128.ckpt\"\n",
       "all_model_checkpoint_paths: \"checkpoints\\\\i6600_l128.ckpt\"\n",
       "all_model_checkpoint_paths: \"checkpoints\\\\i6800_l128.ckpt\"\n",
       "all_model_checkpoint_paths: \"checkpoints\\\\i7000_l128.ckpt\"\n",
       "all_model_checkpoint_paths: \"checkpoints\\\\i7200_l128.ckpt\"\n",
       "all_model_checkpoint_paths: \"checkpoints\\\\i7400_l128.ckpt\"\n",
       "all_model_checkpoint_paths: \"checkpoints\\\\i7600_l128.ckpt\"\n",
       "all_model_checkpoint_paths: \"checkpoints\\\\i7800_l128.ckpt\"\n",
       "all_model_checkpoint_paths: \"checkpoints\\\\i8000_l128.ckpt\"\n",
       "all_model_checkpoint_paths: \"checkpoints\\\\i8200_l128.ckpt\"\n",
       "all_model_checkpoint_paths: \"checkpoints\\\\i8400_l128.ckpt\"\n",
       "all_model_checkpoint_paths: \"checkpoints\\\\i8600_l128.ckpt\"\n",
       "all_model_checkpoint_paths: \"checkpoints\\\\i8800_l128.ckpt\"\n",
       "all_model_checkpoint_paths: \"checkpoints\\\\i9000_l128.ckpt\"\n",
       "all_model_checkpoint_paths: \"checkpoints\\\\i9200_l128.ckpt\"\n",
       "all_model_checkpoint_paths: \"checkpoints\\\\i9400_l128.ckpt\"\n",
       "all_model_checkpoint_paths: \"checkpoints\\\\i9600_l128.ckpt\"\n",
       "all_model_checkpoint_paths: \"checkpoints\\\\i9800_l128.ckpt\"\n",
       "all_model_checkpoint_paths: \"checkpoints\\\\i10000_l128.ckpt\"\n",
       "all_model_checkpoint_paths: \"checkpoints\\\\i10200_l128.ckpt\"\n",
       "all_model_checkpoint_paths: \"checkpoints\\\\i10400_l128.ckpt\"\n",
       "all_model_checkpoint_paths: \"checkpoints\\\\i10600_l128.ckpt\""
      ]
     },
     "execution_count": 39,
     "metadata": {},
     "output_type": "execute_result"
    }
   ],
   "source": [
    "tf.train.get_checkpoint_state('checkpoints')"
   ]
  },
  {
   "cell_type": "markdown",
   "metadata": {},
   "source": [
    "## Sampling\n",
    "\n",
    "Now that the network is trained, we'll can use it to generate new text. The idea is that we pass in a character, then the network will predict the next character. We can use the new one, to predict the next one. And we keep doing this to generate all new text. I also included some functionality to prime the network with some text by passing in a string and building up a state from that.\n",
    "\n",
    "The network gives us predictions for each character. To reduce noise and make things a little less random, I'm going to only choose a new character from the top N most likely characters.\n",
    "\n"
   ]
  },
  {
   "cell_type": "code",
   "execution_count": 40,
   "metadata": {
    "collapsed": true
   },
   "outputs": [],
   "source": [
    "def pick_top_n(preds, vocab_size, top_n=5):\n",
    "    p = np.squeeze(preds)\n",
    "    p[np.argsort(p)[:-top_n]] = 0\n",
    "    p = p / np.sum(p)\n",
    "    c = np.random.choice(vocab_size, 1, p=p)[0]\n",
    "    return c"
   ]
  },
  {
   "cell_type": "code",
   "execution_count": 41,
   "metadata": {
    "collapsed": true
   },
   "outputs": [],
   "source": [
    "def sample(checkpoint, n_samples, lstm_size, vocab_size, prime=\"The \"):\n",
    "    samples = [c for c in prime]\n",
    "    model = CharRNN(len(vocab), lstm_size=lstm_size, sampling=True)\n",
    "    saver = tf.train.Saver()\n",
    "    with tf.Session() as sess:\n",
    "        saver.restore(sess, checkpoint)\n",
    "        new_state = sess.run(model.initial_state)\n",
    "        for c in prime:\n",
    "            x = np.zeros((1, 1))\n",
    "            x[0,0] = vocab_to_int[c]\n",
    "            feed = {model.inputs: x,\n",
    "                    model.keep_prob: 1.,\n",
    "                    model.initial_state: new_state}\n",
    "            preds, new_state = sess.run([model.prediction, model.final_state], \n",
    "                                         feed_dict=feed)\n",
    "\n",
    "        c = pick_top_n(preds, len(vocab))\n",
    "        samples.append(int_to_vocab[c])\n",
    "\n",
    "        for i in range(n_samples):\n",
    "            x[0,0] = c\n",
    "            feed = {model.inputs: x,\n",
    "                    model.keep_prob: 1.,\n",
    "                    model.initial_state: new_state}\n",
    "            preds, new_state = sess.run([model.prediction, model.final_state], \n",
    "                                         feed_dict=feed)\n",
    "\n",
    "            c = pick_top_n(preds, len(vocab))\n",
    "            samples.append(int_to_vocab[c])\n",
    "        \n",
    "    return ''.join(samples)"
   ]
  },
  {
   "cell_type": "markdown",
   "metadata": {},
   "source": [
    "Here, pass in the path to a checkpoint and sample from the network."
   ]
  },
  {
   "cell_type": "code",
   "execution_count": 42,
   "metadata": {},
   "outputs": [
    {
     "data": {
      "text/plain": [
       "'checkpoints\\\\i10600_l128.ckpt'"
      ]
     },
     "execution_count": 42,
     "metadata": {},
     "output_type": "execute_result"
    }
   ],
   "source": [
    "tf.train.latest_checkpoint('checkpoints')"
   ]
  },
  {
   "cell_type": "code",
   "execution_count": 43,
   "metadata": {},
   "outputs": [
    {
     "name": "stdout",
     "output_type": "stream",
     "text": [
      "INFO:tensorflow:Restoring parameters from checkpoints\\i10600_l128.ckpt\n"
     ]
    },
    {
     "ename": "InvalidArgumentError",
     "evalue": "Assign requires shapes of both tensors to match. lhs shape= [2048] rhs shape= [512]\n\t [[Node: save/Assign_2 = Assign[T=DT_FLOAT, _class=[\"loc:@rnn/multi_rnn_cell/cell_0/basic_lstm_cell/bias\"], use_locking=true, validate_shape=true, _device=\"/job:localhost/replica:0/task:0/cpu:0\"](rnn/multi_rnn_cell/cell_0/basic_lstm_cell/bias, save/RestoreV2_2)]]\n\nCaused by op 'save/Assign_2', defined at:\n  File \"c:\\users\\a604080\\appdata\\local\\programs\\python\\python35\\lib\\runpy.py\", line 184, in _run_module_as_main\n    \"__main__\", mod_spec)\n  File \"c:\\users\\a604080\\appdata\\local\\programs\\python\\python35\\lib\\runpy.py\", line 85, in _run_code\n    exec(code, run_globals)\n  File \"c:\\users\\a604080\\appdata\\local\\programs\\python\\python35\\lib\\site-packages\\ipykernel_launcher.py\", line 16, in <module>\n    app.launch_new_instance()\n  File \"c:\\users\\a604080\\appdata\\local\\programs\\python\\python35\\lib\\site-packages\\traitlets\\config\\application.py\", line 658, in launch_instance\n    app.start()\n  File \"c:\\users\\a604080\\appdata\\local\\programs\\python\\python35\\lib\\site-packages\\ipykernel\\kernelapp.py\", line 477, in start\n    ioloop.IOLoop.instance().start()\n  File \"c:\\users\\a604080\\appdata\\local\\programs\\python\\python35\\lib\\site-packages\\zmq\\eventloop\\ioloop.py\", line 177, in start\n    super(ZMQIOLoop, self).start()\n  File \"c:\\users\\a604080\\appdata\\local\\programs\\python\\python35\\lib\\site-packages\\tornado\\ioloop.py\", line 888, in start\n    handler_func(fd_obj, events)\n  File \"c:\\users\\a604080\\appdata\\local\\programs\\python\\python35\\lib\\site-packages\\tornado\\stack_context.py\", line 277, in null_wrapper\n    return fn(*args, **kwargs)\n  File \"c:\\users\\a604080\\appdata\\local\\programs\\python\\python35\\lib\\site-packages\\zmq\\eventloop\\zmqstream.py\", line 440, in _handle_events\n    self._handle_recv()\n  File \"c:\\users\\a604080\\appdata\\local\\programs\\python\\python35\\lib\\site-packages\\zmq\\eventloop\\zmqstream.py\", line 472, in _handle_recv\n    self._run_callback(callback, msg)\n  File \"c:\\users\\a604080\\appdata\\local\\programs\\python\\python35\\lib\\site-packages\\zmq\\eventloop\\zmqstream.py\", line 414, in _run_callback\n    callback(*args, **kwargs)\n  File \"c:\\users\\a604080\\appdata\\local\\programs\\python\\python35\\lib\\site-packages\\tornado\\stack_context.py\", line 277, in null_wrapper\n    return fn(*args, **kwargs)\n  File \"c:\\users\\a604080\\appdata\\local\\programs\\python\\python35\\lib\\site-packages\\ipykernel\\kernelbase.py\", line 283, in dispatcher\n    return self.dispatch_shell(stream, msg)\n  File \"c:\\users\\a604080\\appdata\\local\\programs\\python\\python35\\lib\\site-packages\\ipykernel\\kernelbase.py\", line 235, in dispatch_shell\n    handler(stream, idents, msg)\n  File \"c:\\users\\a604080\\appdata\\local\\programs\\python\\python35\\lib\\site-packages\\ipykernel\\kernelbase.py\", line 399, in execute_request\n    user_expressions, allow_stdin)\n  File \"c:\\users\\a604080\\appdata\\local\\programs\\python\\python35\\lib\\site-packages\\ipykernel\\ipkernel.py\", line 196, in do_execute\n    res = shell.run_cell(code, store_history=store_history, silent=silent)\n  File \"c:\\users\\a604080\\appdata\\local\\programs\\python\\python35\\lib\\site-packages\\ipykernel\\zmqshell.py\", line 533, in run_cell\n    return super(ZMQInteractiveShell, self).run_cell(*args, **kwargs)\n  File \"c:\\users\\a604080\\appdata\\local\\programs\\python\\python35\\lib\\site-packages\\IPython\\core\\interactiveshell.py\", line 2698, in run_cell\n    interactivity=interactivity, compiler=compiler, result=result)\n  File \"c:\\users\\a604080\\appdata\\local\\programs\\python\\python35\\lib\\site-packages\\IPython\\core\\interactiveshell.py\", line 2802, in run_ast_nodes\n    if self.run_code(code, result):\n  File \"c:\\users\\a604080\\appdata\\local\\programs\\python\\python35\\lib\\site-packages\\IPython\\core\\interactiveshell.py\", line 2862, in run_code\n    exec(code_obj, self.user_global_ns, self.user_ns)\n  File \"<ipython-input-43-d2bfc3eaf15a>\", line 2, in <module>\n    samp = sample(checkpoint, 2000, lstm_size, len(vocab), prime=\"Far\")\n  File \"<ipython-input-41-8eb787ae9642>\", line 4, in sample\n    saver = tf.train.Saver()\n  File \"c:\\users\\a604080\\appdata\\local\\programs\\python\\python35\\lib\\site-packages\\tensorflow\\python\\training\\saver.py\", line 1139, in __init__\n    self.build()\n  File \"c:\\users\\a604080\\appdata\\local\\programs\\python\\python35\\lib\\site-packages\\tensorflow\\python\\training\\saver.py\", line 1170, in build\n    restore_sequentially=self._restore_sequentially)\n  File \"c:\\users\\a604080\\appdata\\local\\programs\\python\\python35\\lib\\site-packages\\tensorflow\\python\\training\\saver.py\", line 691, in build\n    restore_sequentially, reshape)\n  File \"c:\\users\\a604080\\appdata\\local\\programs\\python\\python35\\lib\\site-packages\\tensorflow\\python\\training\\saver.py\", line 419, in _AddRestoreOps\n    assign_ops.append(saveable.restore(tensors, shapes))\n  File \"c:\\users\\a604080\\appdata\\local\\programs\\python\\python35\\lib\\site-packages\\tensorflow\\python\\training\\saver.py\", line 155, in restore\n    self.op.get_shape().is_fully_defined())\n  File \"c:\\users\\a604080\\appdata\\local\\programs\\python\\python35\\lib\\site-packages\\tensorflow\\python\\ops\\state_ops.py\", line 271, in assign\n    validate_shape=validate_shape)\n  File \"c:\\users\\a604080\\appdata\\local\\programs\\python\\python35\\lib\\site-packages\\tensorflow\\python\\ops\\gen_state_ops.py\", line 45, in assign\n    use_locking=use_locking, name=name)\n  File \"c:\\users\\a604080\\appdata\\local\\programs\\python\\python35\\lib\\site-packages\\tensorflow\\python\\framework\\op_def_library.py\", line 767, in apply_op\n    op_def=op_def)\n  File \"c:\\users\\a604080\\appdata\\local\\programs\\python\\python35\\lib\\site-packages\\tensorflow\\python\\framework\\ops.py\", line 2506, in create_op\n    original_op=self._default_original_op, op_def=op_def)\n  File \"c:\\users\\a604080\\appdata\\local\\programs\\python\\python35\\lib\\site-packages\\tensorflow\\python\\framework\\ops.py\", line 1269, in __init__\n    self._traceback = _extract_stack()\n\nInvalidArgumentError (see above for traceback): Assign requires shapes of both tensors to match. lhs shape= [2048] rhs shape= [512]\n\t [[Node: save/Assign_2 = Assign[T=DT_FLOAT, _class=[\"loc:@rnn/multi_rnn_cell/cell_0/basic_lstm_cell/bias\"], use_locking=true, validate_shape=true, _device=\"/job:localhost/replica:0/task:0/cpu:0\"](rnn/multi_rnn_cell/cell_0/basic_lstm_cell/bias, save/RestoreV2_2)]]\n",
     "output_type": "error",
     "traceback": [
      "\u001b[1;31m---------------------------------------------------------------------------\u001b[0m",
      "\u001b[1;31mInvalidArgumentError\u001b[0m                      Traceback (most recent call last)",
      "\u001b[1;32mc:\\users\\a604080\\appdata\\local\\programs\\python\\python35\\lib\\site-packages\\tensorflow\\python\\client\\session.py\u001b[0m in \u001b[0;36m_do_call\u001b[1;34m(self, fn, *args)\u001b[0m\n\u001b[0;32m   1138\u001b[0m     \u001b[1;32mtry\u001b[0m\u001b[1;33m:\u001b[0m\u001b[1;33m\u001b[0m\u001b[0m\n\u001b[1;32m-> 1139\u001b[1;33m       \u001b[1;32mreturn\u001b[0m \u001b[0mfn\u001b[0m\u001b[1;33m(\u001b[0m\u001b[1;33m*\u001b[0m\u001b[0margs\u001b[0m\u001b[1;33m)\u001b[0m\u001b[1;33m\u001b[0m\u001b[0m\n\u001b[0m\u001b[0;32m   1140\u001b[0m     \u001b[1;32mexcept\u001b[0m \u001b[0merrors\u001b[0m\u001b[1;33m.\u001b[0m\u001b[0mOpError\u001b[0m \u001b[1;32mas\u001b[0m \u001b[0me\u001b[0m\u001b[1;33m:\u001b[0m\u001b[1;33m\u001b[0m\u001b[0m\n",
      "\u001b[1;32mc:\\users\\a604080\\appdata\\local\\programs\\python\\python35\\lib\\site-packages\\tensorflow\\python\\client\\session.py\u001b[0m in \u001b[0;36m_run_fn\u001b[1;34m(session, feed_dict, fetch_list, target_list, options, run_metadata)\u001b[0m\n\u001b[0;32m   1120\u001b[0m                                  \u001b[0mfeed_dict\u001b[0m\u001b[1;33m,\u001b[0m \u001b[0mfetch_list\u001b[0m\u001b[1;33m,\u001b[0m \u001b[0mtarget_list\u001b[0m\u001b[1;33m,\u001b[0m\u001b[1;33m\u001b[0m\u001b[0m\n\u001b[1;32m-> 1121\u001b[1;33m                                  status, run_metadata)\n\u001b[0m\u001b[0;32m   1122\u001b[0m \u001b[1;33m\u001b[0m\u001b[0m\n",
      "\u001b[1;32mc:\\users\\a604080\\appdata\\local\\programs\\python\\python35\\lib\\contextlib.py\u001b[0m in \u001b[0;36m__exit__\u001b[1;34m(self, type, value, traceback)\u001b[0m\n\u001b[0;32m     65\u001b[0m             \u001b[1;32mtry\u001b[0m\u001b[1;33m:\u001b[0m\u001b[1;33m\u001b[0m\u001b[0m\n\u001b[1;32m---> 66\u001b[1;33m                 \u001b[0mnext\u001b[0m\u001b[1;33m(\u001b[0m\u001b[0mself\u001b[0m\u001b[1;33m.\u001b[0m\u001b[0mgen\u001b[0m\u001b[1;33m)\u001b[0m\u001b[1;33m\u001b[0m\u001b[0m\n\u001b[0m\u001b[0;32m     67\u001b[0m             \u001b[1;32mexcept\u001b[0m \u001b[0mStopIteration\u001b[0m\u001b[1;33m:\u001b[0m\u001b[1;33m\u001b[0m\u001b[0m\n",
      "\u001b[1;32mc:\\users\\a604080\\appdata\\local\\programs\\python\\python35\\lib\\site-packages\\tensorflow\\python\\framework\\errors_impl.py\u001b[0m in \u001b[0;36mraise_exception_on_not_ok_status\u001b[1;34m()\u001b[0m\n\u001b[0;32m    465\u001b[0m           \u001b[0mcompat\u001b[0m\u001b[1;33m.\u001b[0m\u001b[0mas_text\u001b[0m\u001b[1;33m(\u001b[0m\u001b[0mpywrap_tensorflow\u001b[0m\u001b[1;33m.\u001b[0m\u001b[0mTF_Message\u001b[0m\u001b[1;33m(\u001b[0m\u001b[0mstatus\u001b[0m\u001b[1;33m)\u001b[0m\u001b[1;33m)\u001b[0m\u001b[1;33m,\u001b[0m\u001b[1;33m\u001b[0m\u001b[0m\n\u001b[1;32m--> 466\u001b[1;33m           pywrap_tensorflow.TF_GetCode(status))\n\u001b[0m\u001b[0;32m    467\u001b[0m   \u001b[1;32mfinally\u001b[0m\u001b[1;33m:\u001b[0m\u001b[1;33m\u001b[0m\u001b[0m\n",
      "\u001b[1;31mInvalidArgumentError\u001b[0m: Assign requires shapes of both tensors to match. lhs shape= [2048] rhs shape= [512]\n\t [[Node: save/Assign_2 = Assign[T=DT_FLOAT, _class=[\"loc:@rnn/multi_rnn_cell/cell_0/basic_lstm_cell/bias\"], use_locking=true, validate_shape=true, _device=\"/job:localhost/replica:0/task:0/cpu:0\"](rnn/multi_rnn_cell/cell_0/basic_lstm_cell/bias, save/RestoreV2_2)]]",
      "\nDuring handling of the above exception, another exception occurred:\n",
      "\u001b[1;31mInvalidArgumentError\u001b[0m                      Traceback (most recent call last)",
      "\u001b[1;32m<ipython-input-43-d2bfc3eaf15a>\u001b[0m in \u001b[0;36m<module>\u001b[1;34m()\u001b[0m\n\u001b[0;32m      1\u001b[0m \u001b[0mcheckpoint\u001b[0m \u001b[1;33m=\u001b[0m \u001b[0mtf\u001b[0m\u001b[1;33m.\u001b[0m\u001b[0mtrain\u001b[0m\u001b[1;33m.\u001b[0m\u001b[0mlatest_checkpoint\u001b[0m\u001b[1;33m(\u001b[0m\u001b[1;34m'checkpoints'\u001b[0m\u001b[1;33m)\u001b[0m\u001b[1;33m\u001b[0m\u001b[0m\n\u001b[1;32m----> 2\u001b[1;33m \u001b[0msamp\u001b[0m \u001b[1;33m=\u001b[0m \u001b[0msample\u001b[0m\u001b[1;33m(\u001b[0m\u001b[0mcheckpoint\u001b[0m\u001b[1;33m,\u001b[0m \u001b[1;36m2000\u001b[0m\u001b[1;33m,\u001b[0m \u001b[0mlstm_size\u001b[0m\u001b[1;33m,\u001b[0m \u001b[0mlen\u001b[0m\u001b[1;33m(\u001b[0m\u001b[0mvocab\u001b[0m\u001b[1;33m)\u001b[0m\u001b[1;33m,\u001b[0m \u001b[0mprime\u001b[0m\u001b[1;33m=\u001b[0m\u001b[1;34m\"Far\"\u001b[0m\u001b[1;33m)\u001b[0m\u001b[1;33m\u001b[0m\u001b[0m\n\u001b[0m\u001b[0;32m      3\u001b[0m \u001b[0mprint\u001b[0m\u001b[1;33m(\u001b[0m\u001b[0msamp\u001b[0m\u001b[1;33m)\u001b[0m\u001b[1;33m\u001b[0m\u001b[0m\n",
      "\u001b[1;32m<ipython-input-41-8eb787ae9642>\u001b[0m in \u001b[0;36msample\u001b[1;34m(checkpoint, n_samples, lstm_size, vocab_size, prime)\u001b[0m\n\u001b[0;32m      4\u001b[0m     \u001b[0msaver\u001b[0m \u001b[1;33m=\u001b[0m \u001b[0mtf\u001b[0m\u001b[1;33m.\u001b[0m\u001b[0mtrain\u001b[0m\u001b[1;33m.\u001b[0m\u001b[0mSaver\u001b[0m\u001b[1;33m(\u001b[0m\u001b[1;33m)\u001b[0m\u001b[1;33m\u001b[0m\u001b[0m\n\u001b[0;32m      5\u001b[0m     \u001b[1;32mwith\u001b[0m \u001b[0mtf\u001b[0m\u001b[1;33m.\u001b[0m\u001b[0mSession\u001b[0m\u001b[1;33m(\u001b[0m\u001b[1;33m)\u001b[0m \u001b[1;32mas\u001b[0m \u001b[0msess\u001b[0m\u001b[1;33m:\u001b[0m\u001b[1;33m\u001b[0m\u001b[0m\n\u001b[1;32m----> 6\u001b[1;33m         \u001b[0msaver\u001b[0m\u001b[1;33m.\u001b[0m\u001b[0mrestore\u001b[0m\u001b[1;33m(\u001b[0m\u001b[0msess\u001b[0m\u001b[1;33m,\u001b[0m \u001b[0mcheckpoint\u001b[0m\u001b[1;33m)\u001b[0m\u001b[1;33m\u001b[0m\u001b[0m\n\u001b[0m\u001b[0;32m      7\u001b[0m         \u001b[0mnew_state\u001b[0m \u001b[1;33m=\u001b[0m \u001b[0msess\u001b[0m\u001b[1;33m.\u001b[0m\u001b[0mrun\u001b[0m\u001b[1;33m(\u001b[0m\u001b[0mmodel\u001b[0m\u001b[1;33m.\u001b[0m\u001b[0minitial_state\u001b[0m\u001b[1;33m)\u001b[0m\u001b[1;33m\u001b[0m\u001b[0m\n\u001b[0;32m      8\u001b[0m         \u001b[1;32mfor\u001b[0m \u001b[0mc\u001b[0m \u001b[1;32min\u001b[0m \u001b[0mprime\u001b[0m\u001b[1;33m:\u001b[0m\u001b[1;33m\u001b[0m\u001b[0m\n",
      "\u001b[1;32mc:\\users\\a604080\\appdata\\local\\programs\\python\\python35\\lib\\site-packages\\tensorflow\\python\\training\\saver.py\u001b[0m in \u001b[0;36mrestore\u001b[1;34m(self, sess, save_path)\u001b[0m\n\u001b[0;32m   1546\u001b[0m     \u001b[0mlogging\u001b[0m\u001b[1;33m.\u001b[0m\u001b[0minfo\u001b[0m\u001b[1;33m(\u001b[0m\u001b[1;34m\"Restoring parameters from %s\"\u001b[0m\u001b[1;33m,\u001b[0m \u001b[0msave_path\u001b[0m\u001b[1;33m)\u001b[0m\u001b[1;33m\u001b[0m\u001b[0m\n\u001b[0;32m   1547\u001b[0m     sess.run(self.saver_def.restore_op_name,\n\u001b[1;32m-> 1548\u001b[1;33m              {self.saver_def.filename_tensor_name: save_path})\n\u001b[0m\u001b[0;32m   1549\u001b[0m \u001b[1;33m\u001b[0m\u001b[0m\n\u001b[0;32m   1550\u001b[0m   \u001b[1;33m@\u001b[0m\u001b[0mstaticmethod\u001b[0m\u001b[1;33m\u001b[0m\u001b[0m\n",
      "\u001b[1;32mc:\\users\\a604080\\appdata\\local\\programs\\python\\python35\\lib\\site-packages\\tensorflow\\python\\client\\session.py\u001b[0m in \u001b[0;36mrun\u001b[1;34m(self, fetches, feed_dict, options, run_metadata)\u001b[0m\n\u001b[0;32m    787\u001b[0m     \u001b[1;32mtry\u001b[0m\u001b[1;33m:\u001b[0m\u001b[1;33m\u001b[0m\u001b[0m\n\u001b[0;32m    788\u001b[0m       result = self._run(None, fetches, feed_dict, options_ptr,\n\u001b[1;32m--> 789\u001b[1;33m                          run_metadata_ptr)\n\u001b[0m\u001b[0;32m    790\u001b[0m       \u001b[1;32mif\u001b[0m \u001b[0mrun_metadata\u001b[0m\u001b[1;33m:\u001b[0m\u001b[1;33m\u001b[0m\u001b[0m\n\u001b[0;32m    791\u001b[0m         \u001b[0mproto_data\u001b[0m \u001b[1;33m=\u001b[0m \u001b[0mtf_session\u001b[0m\u001b[1;33m.\u001b[0m\u001b[0mTF_GetBuffer\u001b[0m\u001b[1;33m(\u001b[0m\u001b[0mrun_metadata_ptr\u001b[0m\u001b[1;33m)\u001b[0m\u001b[1;33m\u001b[0m\u001b[0m\n",
      "\u001b[1;32mc:\\users\\a604080\\appdata\\local\\programs\\python\\python35\\lib\\site-packages\\tensorflow\\python\\client\\session.py\u001b[0m in \u001b[0;36m_run\u001b[1;34m(self, handle, fetches, feed_dict, options, run_metadata)\u001b[0m\n\u001b[0;32m    995\u001b[0m     \u001b[1;32mif\u001b[0m \u001b[0mfinal_fetches\u001b[0m \u001b[1;32mor\u001b[0m \u001b[0mfinal_targets\u001b[0m\u001b[1;33m:\u001b[0m\u001b[1;33m\u001b[0m\u001b[0m\n\u001b[0;32m    996\u001b[0m       results = self._do_run(handle, final_targets, final_fetches,\n\u001b[1;32m--> 997\u001b[1;33m                              feed_dict_string, options, run_metadata)\n\u001b[0m\u001b[0;32m    998\u001b[0m     \u001b[1;32melse\u001b[0m\u001b[1;33m:\u001b[0m\u001b[1;33m\u001b[0m\u001b[0m\n\u001b[0;32m    999\u001b[0m       \u001b[0mresults\u001b[0m \u001b[1;33m=\u001b[0m \u001b[1;33m[\u001b[0m\u001b[1;33m]\u001b[0m\u001b[1;33m\u001b[0m\u001b[0m\n",
      "\u001b[1;32mc:\\users\\a604080\\appdata\\local\\programs\\python\\python35\\lib\\site-packages\\tensorflow\\python\\client\\session.py\u001b[0m in \u001b[0;36m_do_run\u001b[1;34m(self, handle, target_list, fetch_list, feed_dict, options, run_metadata)\u001b[0m\n\u001b[0;32m   1130\u001b[0m     \u001b[1;32mif\u001b[0m \u001b[0mhandle\u001b[0m \u001b[1;32mis\u001b[0m \u001b[1;32mNone\u001b[0m\u001b[1;33m:\u001b[0m\u001b[1;33m\u001b[0m\u001b[0m\n\u001b[0;32m   1131\u001b[0m       return self._do_call(_run_fn, self._session, feed_dict, fetch_list,\n\u001b[1;32m-> 1132\u001b[1;33m                            target_list, options, run_metadata)\n\u001b[0m\u001b[0;32m   1133\u001b[0m     \u001b[1;32melse\u001b[0m\u001b[1;33m:\u001b[0m\u001b[1;33m\u001b[0m\u001b[0m\n\u001b[0;32m   1134\u001b[0m       return self._do_call(_prun_fn, self._session, handle, feed_dict,\n",
      "\u001b[1;32mc:\\users\\a604080\\appdata\\local\\programs\\python\\python35\\lib\\site-packages\\tensorflow\\python\\client\\session.py\u001b[0m in \u001b[0;36m_do_call\u001b[1;34m(self, fn, *args)\u001b[0m\n\u001b[0;32m   1150\u001b[0m         \u001b[1;32mexcept\u001b[0m \u001b[0mKeyError\u001b[0m\u001b[1;33m:\u001b[0m\u001b[1;33m\u001b[0m\u001b[0m\n\u001b[0;32m   1151\u001b[0m           \u001b[1;32mpass\u001b[0m\u001b[1;33m\u001b[0m\u001b[0m\n\u001b[1;32m-> 1152\u001b[1;33m       \u001b[1;32mraise\u001b[0m \u001b[0mtype\u001b[0m\u001b[1;33m(\u001b[0m\u001b[0me\u001b[0m\u001b[1;33m)\u001b[0m\u001b[1;33m(\u001b[0m\u001b[0mnode_def\u001b[0m\u001b[1;33m,\u001b[0m \u001b[0mop\u001b[0m\u001b[1;33m,\u001b[0m \u001b[0mmessage\u001b[0m\u001b[1;33m)\u001b[0m\u001b[1;33m\u001b[0m\u001b[0m\n\u001b[0m\u001b[0;32m   1153\u001b[0m \u001b[1;33m\u001b[0m\u001b[0m\n\u001b[0;32m   1154\u001b[0m   \u001b[1;32mdef\u001b[0m \u001b[0m_extend_graph\u001b[0m\u001b[1;33m(\u001b[0m\u001b[0mself\u001b[0m\u001b[1;33m)\u001b[0m\u001b[1;33m:\u001b[0m\u001b[1;33m\u001b[0m\u001b[0m\n",
      "\u001b[1;31mInvalidArgumentError\u001b[0m: Assign requires shapes of both tensors to match. lhs shape= [2048] rhs shape= [512]\n\t [[Node: save/Assign_2 = Assign[T=DT_FLOAT, _class=[\"loc:@rnn/multi_rnn_cell/cell_0/basic_lstm_cell/bias\"], use_locking=true, validate_shape=true, _device=\"/job:localhost/replica:0/task:0/cpu:0\"](rnn/multi_rnn_cell/cell_0/basic_lstm_cell/bias, save/RestoreV2_2)]]\n\nCaused by op 'save/Assign_2', defined at:\n  File \"c:\\users\\a604080\\appdata\\local\\programs\\python\\python35\\lib\\runpy.py\", line 184, in _run_module_as_main\n    \"__main__\", mod_spec)\n  File \"c:\\users\\a604080\\appdata\\local\\programs\\python\\python35\\lib\\runpy.py\", line 85, in _run_code\n    exec(code, run_globals)\n  File \"c:\\users\\a604080\\appdata\\local\\programs\\python\\python35\\lib\\site-packages\\ipykernel_launcher.py\", line 16, in <module>\n    app.launch_new_instance()\n  File \"c:\\users\\a604080\\appdata\\local\\programs\\python\\python35\\lib\\site-packages\\traitlets\\config\\application.py\", line 658, in launch_instance\n    app.start()\n  File \"c:\\users\\a604080\\appdata\\local\\programs\\python\\python35\\lib\\site-packages\\ipykernel\\kernelapp.py\", line 477, in start\n    ioloop.IOLoop.instance().start()\n  File \"c:\\users\\a604080\\appdata\\local\\programs\\python\\python35\\lib\\site-packages\\zmq\\eventloop\\ioloop.py\", line 177, in start\n    super(ZMQIOLoop, self).start()\n  File \"c:\\users\\a604080\\appdata\\local\\programs\\python\\python35\\lib\\site-packages\\tornado\\ioloop.py\", line 888, in start\n    handler_func(fd_obj, events)\n  File \"c:\\users\\a604080\\appdata\\local\\programs\\python\\python35\\lib\\site-packages\\tornado\\stack_context.py\", line 277, in null_wrapper\n    return fn(*args, **kwargs)\n  File \"c:\\users\\a604080\\appdata\\local\\programs\\python\\python35\\lib\\site-packages\\zmq\\eventloop\\zmqstream.py\", line 440, in _handle_events\n    self._handle_recv()\n  File \"c:\\users\\a604080\\appdata\\local\\programs\\python\\python35\\lib\\site-packages\\zmq\\eventloop\\zmqstream.py\", line 472, in _handle_recv\n    self._run_callback(callback, msg)\n  File \"c:\\users\\a604080\\appdata\\local\\programs\\python\\python35\\lib\\site-packages\\zmq\\eventloop\\zmqstream.py\", line 414, in _run_callback\n    callback(*args, **kwargs)\n  File \"c:\\users\\a604080\\appdata\\local\\programs\\python\\python35\\lib\\site-packages\\tornado\\stack_context.py\", line 277, in null_wrapper\n    return fn(*args, **kwargs)\n  File \"c:\\users\\a604080\\appdata\\local\\programs\\python\\python35\\lib\\site-packages\\ipykernel\\kernelbase.py\", line 283, in dispatcher\n    return self.dispatch_shell(stream, msg)\n  File \"c:\\users\\a604080\\appdata\\local\\programs\\python\\python35\\lib\\site-packages\\ipykernel\\kernelbase.py\", line 235, in dispatch_shell\n    handler(stream, idents, msg)\n  File \"c:\\users\\a604080\\appdata\\local\\programs\\python\\python35\\lib\\site-packages\\ipykernel\\kernelbase.py\", line 399, in execute_request\n    user_expressions, allow_stdin)\n  File \"c:\\users\\a604080\\appdata\\local\\programs\\python\\python35\\lib\\site-packages\\ipykernel\\ipkernel.py\", line 196, in do_execute\n    res = shell.run_cell(code, store_history=store_history, silent=silent)\n  File \"c:\\users\\a604080\\appdata\\local\\programs\\python\\python35\\lib\\site-packages\\ipykernel\\zmqshell.py\", line 533, in run_cell\n    return super(ZMQInteractiveShell, self).run_cell(*args, **kwargs)\n  File \"c:\\users\\a604080\\appdata\\local\\programs\\python\\python35\\lib\\site-packages\\IPython\\core\\interactiveshell.py\", line 2698, in run_cell\n    interactivity=interactivity, compiler=compiler, result=result)\n  File \"c:\\users\\a604080\\appdata\\local\\programs\\python\\python35\\lib\\site-packages\\IPython\\core\\interactiveshell.py\", line 2802, in run_ast_nodes\n    if self.run_code(code, result):\n  File \"c:\\users\\a604080\\appdata\\local\\programs\\python\\python35\\lib\\site-packages\\IPython\\core\\interactiveshell.py\", line 2862, in run_code\n    exec(code_obj, self.user_global_ns, self.user_ns)\n  File \"<ipython-input-43-d2bfc3eaf15a>\", line 2, in <module>\n    samp = sample(checkpoint, 2000, lstm_size, len(vocab), prime=\"Far\")\n  File \"<ipython-input-41-8eb787ae9642>\", line 4, in sample\n    saver = tf.train.Saver()\n  File \"c:\\users\\a604080\\appdata\\local\\programs\\python\\python35\\lib\\site-packages\\tensorflow\\python\\training\\saver.py\", line 1139, in __init__\n    self.build()\n  File \"c:\\users\\a604080\\appdata\\local\\programs\\python\\python35\\lib\\site-packages\\tensorflow\\python\\training\\saver.py\", line 1170, in build\n    restore_sequentially=self._restore_sequentially)\n  File \"c:\\users\\a604080\\appdata\\local\\programs\\python\\python35\\lib\\site-packages\\tensorflow\\python\\training\\saver.py\", line 691, in build\n    restore_sequentially, reshape)\n  File \"c:\\users\\a604080\\appdata\\local\\programs\\python\\python35\\lib\\site-packages\\tensorflow\\python\\training\\saver.py\", line 419, in _AddRestoreOps\n    assign_ops.append(saveable.restore(tensors, shapes))\n  File \"c:\\users\\a604080\\appdata\\local\\programs\\python\\python35\\lib\\site-packages\\tensorflow\\python\\training\\saver.py\", line 155, in restore\n    self.op.get_shape().is_fully_defined())\n  File \"c:\\users\\a604080\\appdata\\local\\programs\\python\\python35\\lib\\site-packages\\tensorflow\\python\\ops\\state_ops.py\", line 271, in assign\n    validate_shape=validate_shape)\n  File \"c:\\users\\a604080\\appdata\\local\\programs\\python\\python35\\lib\\site-packages\\tensorflow\\python\\ops\\gen_state_ops.py\", line 45, in assign\n    use_locking=use_locking, name=name)\n  File \"c:\\users\\a604080\\appdata\\local\\programs\\python\\python35\\lib\\site-packages\\tensorflow\\python\\framework\\op_def_library.py\", line 767, in apply_op\n    op_def=op_def)\n  File \"c:\\users\\a604080\\appdata\\local\\programs\\python\\python35\\lib\\site-packages\\tensorflow\\python\\framework\\ops.py\", line 2506, in create_op\n    original_op=self._default_original_op, op_def=op_def)\n  File \"c:\\users\\a604080\\appdata\\local\\programs\\python\\python35\\lib\\site-packages\\tensorflow\\python\\framework\\ops.py\", line 1269, in __init__\n    self._traceback = _extract_stack()\n\nInvalidArgumentError (see above for traceback): Assign requires shapes of both tensors to match. lhs shape= [2048] rhs shape= [512]\n\t [[Node: save/Assign_2 = Assign[T=DT_FLOAT, _class=[\"loc:@rnn/multi_rnn_cell/cell_0/basic_lstm_cell/bias\"], use_locking=true, validate_shape=true, _device=\"/job:localhost/replica:0/task:0/cpu:0\"](rnn/multi_rnn_cell/cell_0/basic_lstm_cell/bias, save/RestoreV2_2)]]\n"
     ]
    }
   ],
   "source": [
    "checkpoint = tf.train.latest_checkpoint('checkpoints')\n",
    "samp = sample(checkpoint, 2000, lstm_size, len(vocab), prime=\"Far\")\n",
    "print(samp)"
   ]
  },
  {
   "cell_type": "code",
   "execution_count": null,
   "metadata": {
    "collapsed": true
   },
   "outputs": [],
   "source": [
    "checkpoint = 'checkpoints/i200_l512.ckpt'\n",
    "samp = sample(checkpoint, 1000, lstm_size, len(vocab), prime=\"Far\")\n",
    "print(samp)"
   ]
  },
  {
   "cell_type": "code",
   "execution_count": null,
   "metadata": {
    "collapsed": true
   },
   "outputs": [],
   "source": [
    "checkpoint = 'checkpoints/i600_l512.ckpt'\n",
    "samp = sample(checkpoint, 1000, lstm_size, len(vocab), prime=\"Far\")\n",
    "print(samp)"
   ]
  },
  {
   "cell_type": "code",
   "execution_count": null,
   "metadata": {
    "collapsed": true
   },
   "outputs": [],
   "source": [
    "checkpoint = 'checkpoints/i1200_l512.ckpt'\n",
    "samp = sample(checkpoint, 1000, lstm_size, len(vocab), prime=\"Far\")\n",
    "print(samp)"
   ]
  }
 ],
 "metadata": {
  "kernelspec": {
   "display_name": "Python 3",
   "language": "python",
   "name": "python3"
  },
  "language_info": {
   "codemirror_mode": {
    "name": "ipython",
    "version": 3
   },
   "file_extension": ".py",
   "mimetype": "text/x-python",
   "name": "python",
   "nbconvert_exporter": "python",
   "pygments_lexer": "ipython3",
   "version": "3.5.2"
  }
 },
 "nbformat": 4,
 "nbformat_minor": 2
}
